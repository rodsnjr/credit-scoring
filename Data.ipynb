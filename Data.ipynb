{
 "cells": [
  {
   "cell_type": "markdown",
   "metadata": {
    "deletable": true,
    "editable": true
   },
   "source": [
    "# Data Analysis and Evaluation"
   ]
  },
  {
   "cell_type": "code",
   "execution_count": 5,
   "metadata": {
    "collapsed": false,
    "deletable": true,
    "editable": true
   },
   "outputs": [
    {
     "data": {
      "text/html": [
       "<div>\n",
       "<style>\n",
       "    .dataframe thead tr:only-child th {\n",
       "        text-align: right;\n",
       "    }\n",
       "\n",
       "    .dataframe thead th {\n",
       "        text-align: left;\n",
       "    }\n",
       "\n",
       "    .dataframe tbody tr th {\n",
       "        vertical-align: top;\n",
       "    }\n",
       "</style>\n",
       "<table border=\"1\" class=\"dataframe\">\n",
       "  <thead>\n",
       "    <tr style=\"text-align: right;\">\n",
       "      <th></th>\n",
       "      <th>Variable Name</th>\n",
       "      <th>Description</th>\n",
       "      <th>Type</th>\n",
       "    </tr>\n",
       "  </thead>\n",
       "  <tbody>\n",
       "    <tr>\n",
       "      <th>0</th>\n",
       "      <td>SeriousDlqin2yrs</td>\n",
       "      <td>Person experienced 90 days past due delinquenc...</td>\n",
       "      <td>Y/N</td>\n",
       "    </tr>\n",
       "    <tr>\n",
       "      <th>1</th>\n",
       "      <td>RevolvingUtilizationOfUnsecuredLines</td>\n",
       "      <td>Total balance on credit cards and personal lin...</td>\n",
       "      <td>percentage</td>\n",
       "    </tr>\n",
       "    <tr>\n",
       "      <th>2</th>\n",
       "      <td>age</td>\n",
       "      <td>Age of borrower in years</td>\n",
       "      <td>integer</td>\n",
       "    </tr>\n",
       "    <tr>\n",
       "      <th>3</th>\n",
       "      <td>NumberOfTime30-59DaysPastDueNotWorse</td>\n",
       "      <td>Number of times borrower has been 30-59 days p...</td>\n",
       "      <td>integer</td>\n",
       "    </tr>\n",
       "    <tr>\n",
       "      <th>4</th>\n",
       "      <td>DebtRatio</td>\n",
       "      <td>Monthly debt payments, alimony,living costs di...</td>\n",
       "      <td>percentage</td>\n",
       "    </tr>\n",
       "    <tr>\n",
       "      <th>5</th>\n",
       "      <td>MonthlyIncome</td>\n",
       "      <td>Monthly income</td>\n",
       "      <td>real</td>\n",
       "    </tr>\n",
       "    <tr>\n",
       "      <th>6</th>\n",
       "      <td>NumberOfOpenCreditLinesAndLoans</td>\n",
       "      <td>Number of Open loans (installment like car loa...</td>\n",
       "      <td>integer</td>\n",
       "    </tr>\n",
       "    <tr>\n",
       "      <th>7</th>\n",
       "      <td>NumberOfTimes90DaysLate</td>\n",
       "      <td>Number of times borrower has been 90 days or m...</td>\n",
       "      <td>integer</td>\n",
       "    </tr>\n",
       "    <tr>\n",
       "      <th>8</th>\n",
       "      <td>NumberRealEstateLoansOrLines</td>\n",
       "      <td>Number of mortgage and real estate loans inclu...</td>\n",
       "      <td>integer</td>\n",
       "    </tr>\n",
       "    <tr>\n",
       "      <th>9</th>\n",
       "      <td>NumberOfTime60-89DaysPastDueNotWorse</td>\n",
       "      <td>Number of times borrower has been 60-89 days p...</td>\n",
       "      <td>integer</td>\n",
       "    </tr>\n",
       "    <tr>\n",
       "      <th>10</th>\n",
       "      <td>NumberOfDependents</td>\n",
       "      <td>Number of dependents in family excluding thems...</td>\n",
       "      <td>integer</td>\n",
       "    </tr>\n",
       "  </tbody>\n",
       "</table>\n",
       "</div>"
      ],
      "text/plain": [
       "                           Variable Name  \\\n",
       "0                       SeriousDlqin2yrs   \n",
       "1   RevolvingUtilizationOfUnsecuredLines   \n",
       "2                                    age   \n",
       "3   NumberOfTime30-59DaysPastDueNotWorse   \n",
       "4                              DebtRatio   \n",
       "5                          MonthlyIncome   \n",
       "6        NumberOfOpenCreditLinesAndLoans   \n",
       "7                NumberOfTimes90DaysLate   \n",
       "8           NumberRealEstateLoansOrLines   \n",
       "9   NumberOfTime60-89DaysPastDueNotWorse   \n",
       "10                    NumberOfDependents   \n",
       "\n",
       "                                          Description        Type  \n",
       "0   Person experienced 90 days past due delinquenc...         Y/N  \n",
       "1   Total balance on credit cards and personal lin...  percentage  \n",
       "2                            Age of borrower in years     integer  \n",
       "3   Number of times borrower has been 30-59 days p...     integer  \n",
       "4   Monthly debt payments, alimony,living costs di...  percentage  \n",
       "5                                      Monthly income        real  \n",
       "6   Number of Open loans (installment like car loa...     integer  \n",
       "7   Number of times borrower has been 90 days or m...     integer  \n",
       "8   Number of mortgage and real estate loans inclu...     integer  \n",
       "9   Number of times borrower has been 60-89 days p...     integer  \n",
       "10  Number of dependents in family excluding thems...     integer  "
      ]
     },
     "execution_count": 5,
     "metadata": {},
     "output_type": "execute_result"
    }
   ],
   "source": [
    "import utils\n",
    "import plots\n",
    "import pandas as pd\n",
    "\n",
    "%matplotlib inline\n",
    "\n",
    "dictionary = utils.load_dictionary()\n",
    "training = utils.load_training_set()\n",
    "testing = utils.load_test_set()\n",
    "\n",
    "# This is the description of the dataset\n",
    "dictionary.head(20)"
   ]
  },
  {
   "cell_type": "markdown",
   "metadata": {
    "deletable": true,
    "editable": true
   },
   "source": [
    "# Analysis on the Data\n",
    "\n",
    "As seen in the Dictionary, we know that the Y/label is a Y/N (binary categorical), based on the past 90 days. We have both integers, percentages, and real values on the data (which is ok).\n",
    "\n",
    "The real trouble is with the integeres values, and the MonthlyIcome, so we'll have to normalize the data.\n",
    "\n",
    "But first lets Analyse the data a little bit."
   ]
  },
  {
   "cell_type": "code",
   "execution_count": 6,
   "metadata": {
    "collapsed": false,
    "deletable": true,
    "editable": true
   },
   "outputs": [
    {
     "data": {
      "text/html": [
       "<div>\n",
       "<style>\n",
       "    .dataframe thead tr:only-child th {\n",
       "        text-align: right;\n",
       "    }\n",
       "\n",
       "    .dataframe thead th {\n",
       "        text-align: left;\n",
       "    }\n",
       "\n",
       "    .dataframe tbody tr th {\n",
       "        vertical-align: top;\n",
       "    }\n",
       "</style>\n",
       "<table border=\"1\" class=\"dataframe\">\n",
       "  <thead>\n",
       "    <tr style=\"text-align: right;\">\n",
       "      <th></th>\n",
       "      <th>SeriousDlqin2yrs</th>\n",
       "      <th>RevolvingUtilizationOfUnsecuredLines</th>\n",
       "      <th>age</th>\n",
       "      <th>NumberOfTime3059DaysPastDueNotWorse</th>\n",
       "      <th>DebtRatio</th>\n",
       "      <th>MonthlyIncome</th>\n",
       "      <th>NumberOfOpenCreditLinesAndLoans</th>\n",
       "      <th>NumberOfTimes90DaysLate</th>\n",
       "      <th>NumberRealEstateLoansOrLines</th>\n",
       "      <th>NumberOfTime6089DaysPastDueNotWorse</th>\n",
       "      <th>NumberOfDependents</th>\n",
       "    </tr>\n",
       "  </thead>\n",
       "  <tbody>\n",
       "    <tr>\n",
       "      <th>0</th>\n",
       "      <td>1</td>\n",
       "      <td>0.766127</td>\n",
       "      <td>45</td>\n",
       "      <td>2</td>\n",
       "      <td>0.802982</td>\n",
       "      <td>9120.0</td>\n",
       "      <td>13</td>\n",
       "      <td>0</td>\n",
       "      <td>6</td>\n",
       "      <td>0</td>\n",
       "      <td>2.0</td>\n",
       "    </tr>\n",
       "    <tr>\n",
       "      <th>1</th>\n",
       "      <td>0</td>\n",
       "      <td>0.957151</td>\n",
       "      <td>40</td>\n",
       "      <td>0</td>\n",
       "      <td>0.121876</td>\n",
       "      <td>2600.0</td>\n",
       "      <td>4</td>\n",
       "      <td>0</td>\n",
       "      <td>0</td>\n",
       "      <td>0</td>\n",
       "      <td>1.0</td>\n",
       "    </tr>\n",
       "    <tr>\n",
       "      <th>2</th>\n",
       "      <td>0</td>\n",
       "      <td>0.658180</td>\n",
       "      <td>38</td>\n",
       "      <td>1</td>\n",
       "      <td>0.085113</td>\n",
       "      <td>3042.0</td>\n",
       "      <td>2</td>\n",
       "      <td>1</td>\n",
       "      <td>0</td>\n",
       "      <td>0</td>\n",
       "      <td>0.0</td>\n",
       "    </tr>\n",
       "    <tr>\n",
       "      <th>3</th>\n",
       "      <td>0</td>\n",
       "      <td>0.233810</td>\n",
       "      <td>30</td>\n",
       "      <td>0</td>\n",
       "      <td>0.036050</td>\n",
       "      <td>3300.0</td>\n",
       "      <td>5</td>\n",
       "      <td>0</td>\n",
       "      <td>0</td>\n",
       "      <td>0</td>\n",
       "      <td>0.0</td>\n",
       "    </tr>\n",
       "    <tr>\n",
       "      <th>4</th>\n",
       "      <td>0</td>\n",
       "      <td>0.907239</td>\n",
       "      <td>49</td>\n",
       "      <td>1</td>\n",
       "      <td>0.024926</td>\n",
       "      <td>63588.0</td>\n",
       "      <td>7</td>\n",
       "      <td>0</td>\n",
       "      <td>1</td>\n",
       "      <td>0</td>\n",
       "      <td>0.0</td>\n",
       "    </tr>\n",
       "  </tbody>\n",
       "</table>\n",
       "</div>"
      ],
      "text/plain": [
       "   SeriousDlqin2yrs  RevolvingUtilizationOfUnsecuredLines  age  \\\n",
       "0                 1                              0.766127   45   \n",
       "1                 0                              0.957151   40   \n",
       "2                 0                              0.658180   38   \n",
       "3                 0                              0.233810   30   \n",
       "4                 0                              0.907239   49   \n",
       "\n",
       "   NumberOfTime3059DaysPastDueNotWorse  DebtRatio  MonthlyIncome  \\\n",
       "0                                    2   0.802982         9120.0   \n",
       "1                                    0   0.121876         2600.0   \n",
       "2                                    1   0.085113         3042.0   \n",
       "3                                    0   0.036050         3300.0   \n",
       "4                                    1   0.024926        63588.0   \n",
       "\n",
       "   NumberOfOpenCreditLinesAndLoans  NumberOfTimes90DaysLate  \\\n",
       "0                               13                        0   \n",
       "1                                4                        0   \n",
       "2                                2                        1   \n",
       "3                                5                        0   \n",
       "4                                7                        0   \n",
       "\n",
       "   NumberRealEstateLoansOrLines  NumberOfTime6089DaysPastDueNotWorse  \\\n",
       "0                             6                                    0   \n",
       "1                             0                                    0   \n",
       "2                             0                                    0   \n",
       "3                             0                                    0   \n",
       "4                             1                                    0   \n",
       "\n",
       "   NumberOfDependents  \n",
       "0                 2.0  \n",
       "1                 1.0  \n",
       "2                 0.0  \n",
       "3                 0.0  \n",
       "4                 0.0  "
      ]
     },
     "execution_count": 6,
     "metadata": {},
     "output_type": "execute_result"
    }
   ],
   "source": [
    "training.head()"
   ]
  },
  {
   "cell_type": "code",
   "execution_count": 7,
   "metadata": {
    "collapsed": false,
    "deletable": true,
    "editable": true
   },
   "outputs": [
    {
     "data": {
      "text/plain": [
       "SeriousDlqin2yrs                        150000\n",
       "RevolvingUtilizationOfUnsecuredLines    150000\n",
       "age                                     150000\n",
       "NumberOfTime3059DaysPastDueNotWorse     150000\n",
       "DebtRatio                               150000\n",
       "MonthlyIncome                           120269\n",
       "NumberOfOpenCreditLinesAndLoans         150000\n",
       "NumberOfTimes90DaysLate                 150000\n",
       "NumberRealEstateLoansOrLines            150000\n",
       "NumberOfTime6089DaysPastDueNotWorse     150000\n",
       "NumberOfDependents                      146076\n",
       "dtype: int64"
      ]
     },
     "execution_count": 7,
     "metadata": {},
     "output_type": "execute_result"
    }
   ],
   "source": [
    "training.count()"
   ]
  },
  {
   "cell_type": "code",
   "execution_count": 8,
   "metadata": {
    "collapsed": false,
    "deletable": true,
    "editable": true
   },
   "outputs": [
    {
     "data": {
      "text/html": [
       "<div>\n",
       "<style>\n",
       "    .dataframe thead tr:only-child th {\n",
       "        text-align: right;\n",
       "    }\n",
       "\n",
       "    .dataframe thead th {\n",
       "        text-align: left;\n",
       "    }\n",
       "\n",
       "    .dataframe tbody tr th {\n",
       "        vertical-align: top;\n",
       "    }\n",
       "</style>\n",
       "<table border=\"1\" class=\"dataframe\">\n",
       "  <thead>\n",
       "    <tr style=\"text-align: right;\">\n",
       "      <th></th>\n",
       "      <th>Id</th>\n",
       "      <th>SeriousDlqin2yrs</th>\n",
       "      <th>RevolvingUtilizationOfUnsecuredLines</th>\n",
       "      <th>age</th>\n",
       "      <th>NumberOfTime30-59DaysPastDueNotWorse</th>\n",
       "      <th>DebtRatio</th>\n",
       "      <th>MonthlyIncome</th>\n",
       "      <th>NumberOfOpenCreditLinesAndLoans</th>\n",
       "      <th>NumberOfTimes90DaysLate</th>\n",
       "      <th>NumberRealEstateLoansOrLines</th>\n",
       "      <th>NumberOfTime60-89DaysPastDueNotWorse</th>\n",
       "      <th>NumberOfDependents</th>\n",
       "    </tr>\n",
       "  </thead>\n",
       "  <tbody>\n",
       "    <tr>\n",
       "      <th>0</th>\n",
       "      <td>1</td>\n",
       "      <td>NaN</td>\n",
       "      <td>0.885519</td>\n",
       "      <td>43</td>\n",
       "      <td>0</td>\n",
       "      <td>0.177513</td>\n",
       "      <td>5700.0</td>\n",
       "      <td>4</td>\n",
       "      <td>0</td>\n",
       "      <td>0</td>\n",
       "      <td>0</td>\n",
       "      <td>0.0</td>\n",
       "    </tr>\n",
       "    <tr>\n",
       "      <th>1</th>\n",
       "      <td>2</td>\n",
       "      <td>NaN</td>\n",
       "      <td>0.463295</td>\n",
       "      <td>57</td>\n",
       "      <td>0</td>\n",
       "      <td>0.527237</td>\n",
       "      <td>9141.0</td>\n",
       "      <td>15</td>\n",
       "      <td>0</td>\n",
       "      <td>4</td>\n",
       "      <td>0</td>\n",
       "      <td>2.0</td>\n",
       "    </tr>\n",
       "    <tr>\n",
       "      <th>2</th>\n",
       "      <td>3</td>\n",
       "      <td>NaN</td>\n",
       "      <td>0.043275</td>\n",
       "      <td>59</td>\n",
       "      <td>0</td>\n",
       "      <td>0.687648</td>\n",
       "      <td>5083.0</td>\n",
       "      <td>12</td>\n",
       "      <td>0</td>\n",
       "      <td>1</td>\n",
       "      <td>0</td>\n",
       "      <td>2.0</td>\n",
       "    </tr>\n",
       "    <tr>\n",
       "      <th>3</th>\n",
       "      <td>4</td>\n",
       "      <td>NaN</td>\n",
       "      <td>0.280308</td>\n",
       "      <td>38</td>\n",
       "      <td>1</td>\n",
       "      <td>0.925961</td>\n",
       "      <td>3200.0</td>\n",
       "      <td>7</td>\n",
       "      <td>0</td>\n",
       "      <td>2</td>\n",
       "      <td>0</td>\n",
       "      <td>0.0</td>\n",
       "    </tr>\n",
       "    <tr>\n",
       "      <th>4</th>\n",
       "      <td>5</td>\n",
       "      <td>NaN</td>\n",
       "      <td>1.000000</td>\n",
       "      <td>27</td>\n",
       "      <td>0</td>\n",
       "      <td>0.019917</td>\n",
       "      <td>3865.0</td>\n",
       "      <td>4</td>\n",
       "      <td>0</td>\n",
       "      <td>0</td>\n",
       "      <td>0</td>\n",
       "      <td>1.0</td>\n",
       "    </tr>\n",
       "  </tbody>\n",
       "</table>\n",
       "</div>"
      ],
      "text/plain": [
       "   Id  SeriousDlqin2yrs  RevolvingUtilizationOfUnsecuredLines  age  \\\n",
       "0   1               NaN                              0.885519   43   \n",
       "1   2               NaN                              0.463295   57   \n",
       "2   3               NaN                              0.043275   59   \n",
       "3   4               NaN                              0.280308   38   \n",
       "4   5               NaN                              1.000000   27   \n",
       "\n",
       "   NumberOfTime30-59DaysPastDueNotWorse  DebtRatio  MonthlyIncome  \\\n",
       "0                                     0   0.177513         5700.0   \n",
       "1                                     0   0.527237         9141.0   \n",
       "2                                     0   0.687648         5083.0   \n",
       "3                                     1   0.925961         3200.0   \n",
       "4                                     0   0.019917         3865.0   \n",
       "\n",
       "   NumberOfOpenCreditLinesAndLoans  NumberOfTimes90DaysLate  \\\n",
       "0                                4                        0   \n",
       "1                               15                        0   \n",
       "2                               12                        0   \n",
       "3                                7                        0   \n",
       "4                                4                        0   \n",
       "\n",
       "   NumberRealEstateLoansOrLines  NumberOfTime60-89DaysPastDueNotWorse  \\\n",
       "0                             0                                     0   \n",
       "1                             4                                     0   \n",
       "2                             1                                     0   \n",
       "3                             2                                     0   \n",
       "4                             0                                     0   \n",
       "\n",
       "   NumberOfDependents  \n",
       "0                 0.0  \n",
       "1                 2.0  \n",
       "2                 2.0  \n",
       "3                 0.0  \n",
       "4                 1.0  "
      ]
     },
     "execution_count": 8,
     "metadata": {},
     "output_type": "execute_result"
    }
   ],
   "source": [
    "testing.head()"
   ]
  },
  {
   "cell_type": "code",
   "execution_count": 9,
   "metadata": {
    "collapsed": false,
    "deletable": true,
    "editable": true
   },
   "outputs": [
    {
     "data": {
      "text/plain": [
       "Id                                      101503\n",
       "SeriousDlqin2yrs                             0\n",
       "RevolvingUtilizationOfUnsecuredLines    101503\n",
       "age                                     101503\n",
       "NumberOfTime30-59DaysPastDueNotWorse    101503\n",
       "DebtRatio                               101503\n",
       "MonthlyIncome                            81400\n",
       "NumberOfOpenCreditLinesAndLoans         101503\n",
       "NumberOfTimes90DaysLate                 101503\n",
       "NumberRealEstateLoansOrLines            101503\n",
       "NumberOfTime60-89DaysPastDueNotWorse    101503\n",
       "NumberOfDependents                       98877\n",
       "dtype: int64"
      ]
     },
     "execution_count": 9,
     "metadata": {},
     "output_type": "execute_result"
    }
   ],
   "source": [
    "testing.count()"
   ]
  },
  {
   "cell_type": "code",
   "execution_count": 10,
   "metadata": {
    "collapsed": false,
    "deletable": true,
    "editable": true
   },
   "outputs": [
    {
     "data": {
      "text/html": [
       "<div>\n",
       "<style>\n",
       "    .dataframe thead tr:only-child th {\n",
       "        text-align: right;\n",
       "    }\n",
       "\n",
       "    .dataframe thead th {\n",
       "        text-align: left;\n",
       "    }\n",
       "\n",
       "    .dataframe tbody tr th {\n",
       "        vertical-align: top;\n",
       "    }\n",
       "</style>\n",
       "<table border=\"1\" class=\"dataframe\">\n",
       "  <thead>\n",
       "    <tr style=\"text-align: right;\">\n",
       "      <th></th>\n",
       "      <th>NumberOfOpenCreditLinesAndLoans</th>\n",
       "      <th>NumberRealEstateLoansOrLines</th>\n",
       "      <th>age</th>\n",
       "      <th>NumberOfTime6089DaysPastDueNotWorse</th>\n",
       "      <th>DebtRatio</th>\n",
       "      <th>NumberOfDependents</th>\n",
       "      <th>MonthlyIncome</th>\n",
       "      <th>SeriousDlqin2yrs</th>\n",
       "      <th>RevolvingUtilizationOfUnsecuredLines</th>\n",
       "      <th>NumberOfTime3059DaysPastDueNotWorse</th>\n",
       "      <th>NumberOfTimes90DaysLate</th>\n",
       "    </tr>\n",
       "  </thead>\n",
       "  <tbody>\n",
       "    <tr>\n",
       "      <th>% of missing</th>\n",
       "      <td>0</td>\n",
       "      <td>0</td>\n",
       "      <td>0</td>\n",
       "      <td>0</td>\n",
       "      <td>0</td>\n",
       "      <td>2</td>\n",
       "      <td>19</td>\n",
       "      <td>0</td>\n",
       "      <td>0</td>\n",
       "      <td>0</td>\n",
       "      <td>0</td>\n",
       "    </tr>\n",
       "  </tbody>\n",
       "</table>\n",
       "</div>"
      ],
      "text/plain": [
       "              NumberOfOpenCreditLinesAndLoans  NumberRealEstateLoansOrLines  \\\n",
       "% of missing                                0                             0   \n",
       "\n",
       "              age  NumberOfTime6089DaysPastDueNotWorse  DebtRatio  \\\n",
       "% of missing    0                                    0          0   \n",
       "\n",
       "              NumberOfDependents  MonthlyIncome  SeriousDlqin2yrs  \\\n",
       "% of missing                   2             19                 0   \n",
       "\n",
       "              RevolvingUtilizationOfUnsecuredLines  \\\n",
       "% of missing                                     0   \n",
       "\n",
       "              NumberOfTime3059DaysPastDueNotWorse  NumberOfTimes90DaysLate  \n",
       "% of missing                                    0                        0  "
      ]
     },
     "execution_count": 10,
     "metadata": {},
     "output_type": "execute_result"
    }
   ],
   "source": [
    "utils.percentage_missin(training)"
   ]
  },
  {
   "cell_type": "code",
   "execution_count": 11,
   "metadata": {
    "collapsed": false,
    "deletable": true,
    "editable": true
   },
   "outputs": [
    {
     "data": {
      "text/html": [
       "<div>\n",
       "<style>\n",
       "    .dataframe thead tr:only-child th {\n",
       "        text-align: right;\n",
       "    }\n",
       "\n",
       "    .dataframe thead th {\n",
       "        text-align: left;\n",
       "    }\n",
       "\n",
       "    .dataframe tbody tr th {\n",
       "        vertical-align: top;\n",
       "    }\n",
       "</style>\n",
       "<table border=\"1\" class=\"dataframe\">\n",
       "  <thead>\n",
       "    <tr style=\"text-align: right;\">\n",
       "      <th></th>\n",
       "      <th>NumberOfOpenCreditLinesAndLoans</th>\n",
       "      <th>NumberRealEstateLoansOrLines</th>\n",
       "      <th>age</th>\n",
       "      <th>NumberOfTime60-89DaysPastDueNotWorse</th>\n",
       "      <th>DebtRatio</th>\n",
       "      <th>NumberOfDependents</th>\n",
       "      <th>MonthlyIncome</th>\n",
       "      <th>SeriousDlqin2yrs</th>\n",
       "      <th>RevolvingUtilizationOfUnsecuredLines</th>\n",
       "      <th>NumberOfTimes90DaysLate</th>\n",
       "      <th>Id</th>\n",
       "      <th>NumberOfTime30-59DaysPastDueNotWorse</th>\n",
       "    </tr>\n",
       "  </thead>\n",
       "  <tbody>\n",
       "    <tr>\n",
       "      <th>% of missing</th>\n",
       "      <td>0</td>\n",
       "      <td>0</td>\n",
       "      <td>0</td>\n",
       "      <td>0</td>\n",
       "      <td>0</td>\n",
       "      <td>2</td>\n",
       "      <td>19</td>\n",
       "      <td>100</td>\n",
       "      <td>0</td>\n",
       "      <td>0</td>\n",
       "      <td>0</td>\n",
       "      <td>0</td>\n",
       "    </tr>\n",
       "  </tbody>\n",
       "</table>\n",
       "</div>"
      ],
      "text/plain": [
       "              NumberOfOpenCreditLinesAndLoans  NumberRealEstateLoansOrLines  \\\n",
       "% of missing                                0                             0   \n",
       "\n",
       "              age  NumberOfTime60-89DaysPastDueNotWorse  DebtRatio  \\\n",
       "% of missing    0                                     0          0   \n",
       "\n",
       "              NumberOfDependents  MonthlyIncome  SeriousDlqin2yrs  \\\n",
       "% of missing                   2             19               100   \n",
       "\n",
       "              RevolvingUtilizationOfUnsecuredLines  NumberOfTimes90DaysLate  \\\n",
       "% of missing                                     0                        0   \n",
       "\n",
       "              Id  NumberOfTime30-59DaysPastDueNotWorse  \n",
       "% of missing   0                                     0  "
      ]
     },
     "execution_count": 11,
     "metadata": {},
     "output_type": "execute_result"
    }
   ],
   "source": [
    "utils.percentage_missin(testing)"
   ]
  },
  {
   "cell_type": "code",
   "execution_count": 15,
   "metadata": {
    "collapsed": false
   },
   "outputs": [
    {
     "data": {
      "text/html": [
       "<div>\n",
       "<style>\n",
       "    .dataframe thead tr:only-child th {\n",
       "        text-align: right;\n",
       "    }\n",
       "\n",
       "    .dataframe thead th {\n",
       "        text-align: left;\n",
       "    }\n",
       "\n",
       "    .dataframe tbody tr th {\n",
       "        vertical-align: top;\n",
       "    }\n",
       "</style>\n",
       "<table border=\"1\" class=\"dataframe\">\n",
       "  <thead>\n",
       "    <tr style=\"text-align: right;\">\n",
       "      <th></th>\n",
       "      <th>Id</th>\n",
       "      <th>SeriousDlqin2yrs</th>\n",
       "      <th>RevolvingUtilizationOfUnsecuredLines</th>\n",
       "      <th>age</th>\n",
       "      <th>NumberOfTime30-59DaysPastDueNotWorse</th>\n",
       "      <th>DebtRatio</th>\n",
       "      <th>MonthlyIncome</th>\n",
       "      <th>NumberOfOpenCreditLinesAndLoans</th>\n",
       "      <th>NumberOfTimes90DaysLate</th>\n",
       "      <th>NumberRealEstateLoansOrLines</th>\n",
       "      <th>NumberOfTime60-89DaysPastDueNotWorse</th>\n",
       "      <th>NumberOfDependents</th>\n",
       "    </tr>\n",
       "  </thead>\n",
       "  <tbody>\n",
       "    <tr>\n",
       "      <th>0</th>\n",
       "      <td>1</td>\n",
       "      <td>0.0</td>\n",
       "      <td>0.885519</td>\n",
       "      <td>43</td>\n",
       "      <td>0</td>\n",
       "      <td>0.177513</td>\n",
       "      <td>5700.0</td>\n",
       "      <td>4</td>\n",
       "      <td>0</td>\n",
       "      <td>0</td>\n",
       "      <td>0</td>\n",
       "      <td>0.0</td>\n",
       "    </tr>\n",
       "    <tr>\n",
       "      <th>1</th>\n",
       "      <td>2</td>\n",
       "      <td>0.0</td>\n",
       "      <td>0.463295</td>\n",
       "      <td>57</td>\n",
       "      <td>0</td>\n",
       "      <td>0.527237</td>\n",
       "      <td>9141.0</td>\n",
       "      <td>15</td>\n",
       "      <td>0</td>\n",
       "      <td>4</td>\n",
       "      <td>0</td>\n",
       "      <td>2.0</td>\n",
       "    </tr>\n",
       "    <tr>\n",
       "      <th>2</th>\n",
       "      <td>3</td>\n",
       "      <td>0.0</td>\n",
       "      <td>0.043275</td>\n",
       "      <td>59</td>\n",
       "      <td>0</td>\n",
       "      <td>0.687648</td>\n",
       "      <td>5083.0</td>\n",
       "      <td>12</td>\n",
       "      <td>0</td>\n",
       "      <td>1</td>\n",
       "      <td>0</td>\n",
       "      <td>2.0</td>\n",
       "    </tr>\n",
       "    <tr>\n",
       "      <th>3</th>\n",
       "      <td>4</td>\n",
       "      <td>0.0</td>\n",
       "      <td>0.280308</td>\n",
       "      <td>38</td>\n",
       "      <td>1</td>\n",
       "      <td>0.925961</td>\n",
       "      <td>3200.0</td>\n",
       "      <td>7</td>\n",
       "      <td>0</td>\n",
       "      <td>2</td>\n",
       "      <td>0</td>\n",
       "      <td>0.0</td>\n",
       "    </tr>\n",
       "    <tr>\n",
       "      <th>4</th>\n",
       "      <td>5</td>\n",
       "      <td>0.0</td>\n",
       "      <td>1.000000</td>\n",
       "      <td>27</td>\n",
       "      <td>0</td>\n",
       "      <td>0.019917</td>\n",
       "      <td>3865.0</td>\n",
       "      <td>4</td>\n",
       "      <td>0</td>\n",
       "      <td>0</td>\n",
       "      <td>0</td>\n",
       "      <td>1.0</td>\n",
       "    </tr>\n",
       "    <tr>\n",
       "      <th>5</th>\n",
       "      <td>6</td>\n",
       "      <td>0.0</td>\n",
       "      <td>0.509791</td>\n",
       "      <td>63</td>\n",
       "      <td>0</td>\n",
       "      <td>0.342429</td>\n",
       "      <td>4140.0</td>\n",
       "      <td>4</td>\n",
       "      <td>0</td>\n",
       "      <td>0</td>\n",
       "      <td>0</td>\n",
       "      <td>1.0</td>\n",
       "    </tr>\n",
       "    <tr>\n",
       "      <th>6</th>\n",
       "      <td>7</td>\n",
       "      <td>0.0</td>\n",
       "      <td>0.587778</td>\n",
       "      <td>50</td>\n",
       "      <td>0</td>\n",
       "      <td>1048.000000</td>\n",
       "      <td>0.0</td>\n",
       "      <td>5</td>\n",
       "      <td>0</td>\n",
       "      <td>0</td>\n",
       "      <td>0</td>\n",
       "      <td>3.0</td>\n",
       "    </tr>\n",
       "    <tr>\n",
       "      <th>7</th>\n",
       "      <td>8</td>\n",
       "      <td>0.0</td>\n",
       "      <td>0.046149</td>\n",
       "      <td>79</td>\n",
       "      <td>1</td>\n",
       "      <td>0.369170</td>\n",
       "      <td>3301.0</td>\n",
       "      <td>8</td>\n",
       "      <td>0</td>\n",
       "      <td>1</td>\n",
       "      <td>0</td>\n",
       "      <td>1.0</td>\n",
       "    </tr>\n",
       "    <tr>\n",
       "      <th>8</th>\n",
       "      <td>9</td>\n",
       "      <td>0.0</td>\n",
       "      <td>0.013527</td>\n",
       "      <td>68</td>\n",
       "      <td>0</td>\n",
       "      <td>2024.000000</td>\n",
       "      <td>0.0</td>\n",
       "      <td>4</td>\n",
       "      <td>0</td>\n",
       "      <td>1</td>\n",
       "      <td>0</td>\n",
       "      <td>0.0</td>\n",
       "    </tr>\n",
       "    <tr>\n",
       "      <th>9</th>\n",
       "      <td>10</td>\n",
       "      <td>0.0</td>\n",
       "      <td>1.000000</td>\n",
       "      <td>23</td>\n",
       "      <td>98</td>\n",
       "      <td>0.000000</td>\n",
       "      <td>0.0</td>\n",
       "      <td>0</td>\n",
       "      <td>98</td>\n",
       "      <td>0</td>\n",
       "      <td>98</td>\n",
       "      <td>0.0</td>\n",
       "    </tr>\n",
       "    <tr>\n",
       "      <th>10</th>\n",
       "      <td>11</td>\n",
       "      <td>0.0</td>\n",
       "      <td>0.028485</td>\n",
       "      <td>37</td>\n",
       "      <td>0</td>\n",
       "      <td>0.319687</td>\n",
       "      <td>7400.0</td>\n",
       "      <td>8</td>\n",
       "      <td>0</td>\n",
       "      <td>1</td>\n",
       "      <td>0</td>\n",
       "      <td>1.0</td>\n",
       "    </tr>\n",
       "    <tr>\n",
       "      <th>11</th>\n",
       "      <td>12</td>\n",
       "      <td>0.0</td>\n",
       "      <td>0.085077</td>\n",
       "      <td>52</td>\n",
       "      <td>0</td>\n",
       "      <td>0.903552</td>\n",
       "      <td>4250.0</td>\n",
       "      <td>6</td>\n",
       "      <td>0</td>\n",
       "      <td>2</td>\n",
       "      <td>0</td>\n",
       "      <td>0.0</td>\n",
       "    </tr>\n",
       "    <tr>\n",
       "      <th>12</th>\n",
       "      <td>13</td>\n",
       "      <td>0.0</td>\n",
       "      <td>0.010596</td>\n",
       "      <td>68</td>\n",
       "      <td>0</td>\n",
       "      <td>0.007782</td>\n",
       "      <td>3854.0</td>\n",
       "      <td>16</td>\n",
       "      <td>0</td>\n",
       "      <td>0</td>\n",
       "      <td>0</td>\n",
       "      <td>0.0</td>\n",
       "    </tr>\n",
       "    <tr>\n",
       "      <th>13</th>\n",
       "      <td>14</td>\n",
       "      <td>0.0</td>\n",
       "      <td>0.380679</td>\n",
       "      <td>30</td>\n",
       "      <td>0</td>\n",
       "      <td>0.377449</td>\n",
       "      <td>2500.0</td>\n",
       "      <td>12</td>\n",
       "      <td>0</td>\n",
       "      <td>0</td>\n",
       "      <td>0</td>\n",
       "      <td>1.0</td>\n",
       "    </tr>\n",
       "    <tr>\n",
       "      <th>14</th>\n",
       "      <td>15</td>\n",
       "      <td>0.0</td>\n",
       "      <td>0.556894</td>\n",
       "      <td>56</td>\n",
       "      <td>0</td>\n",
       "      <td>0.697347</td>\n",
       "      <td>6822.0</td>\n",
       "      <td>14</td>\n",
       "      <td>0</td>\n",
       "      <td>1</td>\n",
       "      <td>0</td>\n",
       "      <td>1.0</td>\n",
       "    </tr>\n",
       "    <tr>\n",
       "      <th>15</th>\n",
       "      <td>16</td>\n",
       "      <td>0.0</td>\n",
       "      <td>0.079056</td>\n",
       "      <td>28</td>\n",
       "      <td>0</td>\n",
       "      <td>0.105831</td>\n",
       "      <td>7133.0</td>\n",
       "      <td>8</td>\n",
       "      <td>0</td>\n",
       "      <td>0</td>\n",
       "      <td>0</td>\n",
       "      <td>0.0</td>\n",
       "    </tr>\n",
       "    <tr>\n",
       "      <th>16</th>\n",
       "      <td>17</td>\n",
       "      <td>0.0</td>\n",
       "      <td>0.543013</td>\n",
       "      <td>72</td>\n",
       "      <td>0</td>\n",
       "      <td>0.461786</td>\n",
       "      <td>5900.0</td>\n",
       "      <td>10</td>\n",
       "      <td>0</td>\n",
       "      <td>2</td>\n",
       "      <td>0</td>\n",
       "      <td>1.0</td>\n",
       "    </tr>\n",
       "    <tr>\n",
       "      <th>17</th>\n",
       "      <td>18</td>\n",
       "      <td>0.0</td>\n",
       "      <td>0.112346</td>\n",
       "      <td>37</td>\n",
       "      <td>0</td>\n",
       "      <td>0.144326</td>\n",
       "      <td>2916.0</td>\n",
       "      <td>7</td>\n",
       "      <td>0</td>\n",
       "      <td>0</td>\n",
       "      <td>0</td>\n",
       "      <td>0.0</td>\n",
       "    </tr>\n",
       "    <tr>\n",
       "      <th>18</th>\n",
       "      <td>19</td>\n",
       "      <td>0.0</td>\n",
       "      <td>0.648285</td>\n",
       "      <td>29</td>\n",
       "      <td>0</td>\n",
       "      <td>0.174850</td>\n",
       "      <td>4500.0</td>\n",
       "      <td>4</td>\n",
       "      <td>0</td>\n",
       "      <td>0</td>\n",
       "      <td>1</td>\n",
       "      <td>1.0</td>\n",
       "    </tr>\n",
       "    <tr>\n",
       "      <th>19</th>\n",
       "      <td>20</td>\n",
       "      <td>0.0</td>\n",
       "      <td>0.686406</td>\n",
       "      <td>43</td>\n",
       "      <td>0</td>\n",
       "      <td>487.000000</td>\n",
       "      <td>0.0</td>\n",
       "      <td>10</td>\n",
       "      <td>0</td>\n",
       "      <td>0</td>\n",
       "      <td>0</td>\n",
       "      <td>1.0</td>\n",
       "    </tr>\n",
       "    <tr>\n",
       "      <th>20</th>\n",
       "      <td>21</td>\n",
       "      <td>0.0</td>\n",
       "      <td>0.085910</td>\n",
       "      <td>48</td>\n",
       "      <td>0</td>\n",
       "      <td>0.196156</td>\n",
       "      <td>8844.0</td>\n",
       "      <td>8</td>\n",
       "      <td>0</td>\n",
       "      <td>1</td>\n",
       "      <td>0</td>\n",
       "      <td>1.0</td>\n",
       "    </tr>\n",
       "    <tr>\n",
       "      <th>21</th>\n",
       "      <td>22</td>\n",
       "      <td>0.0</td>\n",
       "      <td>0.158549</td>\n",
       "      <td>61</td>\n",
       "      <td>0</td>\n",
       "      <td>0.353158</td>\n",
       "      <td>11920.0</td>\n",
       "      <td>13</td>\n",
       "      <td>0</td>\n",
       "      <td>1</td>\n",
       "      <td>0</td>\n",
       "      <td>0.0</td>\n",
       "    </tr>\n",
       "    <tr>\n",
       "      <th>22</th>\n",
       "      <td>23</td>\n",
       "      <td>0.0</td>\n",
       "      <td>0.009303</td>\n",
       "      <td>69</td>\n",
       "      <td>0</td>\n",
       "      <td>0.384451</td>\n",
       "      <td>6083.0</td>\n",
       "      <td>4</td>\n",
       "      <td>0</td>\n",
       "      <td>2</td>\n",
       "      <td>0</td>\n",
       "      <td>0.0</td>\n",
       "    </tr>\n",
       "    <tr>\n",
       "      <th>23</th>\n",
       "      <td>24</td>\n",
       "      <td>0.0</td>\n",
       "      <td>0.957442</td>\n",
       "      <td>69</td>\n",
       "      <td>2</td>\n",
       "      <td>0.666338</td>\n",
       "      <td>3041.0</td>\n",
       "      <td>8</td>\n",
       "      <td>1</td>\n",
       "      <td>1</td>\n",
       "      <td>1</td>\n",
       "      <td>1.0</td>\n",
       "    </tr>\n",
       "    <tr>\n",
       "      <th>24</th>\n",
       "      <td>25</td>\n",
       "      <td>0.0</td>\n",
       "      <td>0.442489</td>\n",
       "      <td>50</td>\n",
       "      <td>1</td>\n",
       "      <td>0.286555</td>\n",
       "      <td>8500.0</td>\n",
       "      <td>17</td>\n",
       "      <td>0</td>\n",
       "      <td>1</td>\n",
       "      <td>0</td>\n",
       "      <td>2.0</td>\n",
       "    </tr>\n",
       "    <tr>\n",
       "      <th>25</th>\n",
       "      <td>26</td>\n",
       "      <td>0.0</td>\n",
       "      <td>0.125267</td>\n",
       "      <td>51</td>\n",
       "      <td>0</td>\n",
       "      <td>3825.000000</td>\n",
       "      <td>0.0</td>\n",
       "      <td>10</td>\n",
       "      <td>0</td>\n",
       "      <td>2</td>\n",
       "      <td>0</td>\n",
       "      <td>0.0</td>\n",
       "    </tr>\n",
       "    <tr>\n",
       "      <th>26</th>\n",
       "      <td>27</td>\n",
       "      <td>0.0</td>\n",
       "      <td>1.000000</td>\n",
       "      <td>45</td>\n",
       "      <td>0</td>\n",
       "      <td>0.000000</td>\n",
       "      <td>4750.0</td>\n",
       "      <td>1</td>\n",
       "      <td>0</td>\n",
       "      <td>0</td>\n",
       "      <td>0</td>\n",
       "      <td>1.0</td>\n",
       "    </tr>\n",
       "    <tr>\n",
       "      <th>27</th>\n",
       "      <td>28</td>\n",
       "      <td>0.0</td>\n",
       "      <td>0.181481</td>\n",
       "      <td>67</td>\n",
       "      <td>0</td>\n",
       "      <td>1509.000000</td>\n",
       "      <td>0.0</td>\n",
       "      <td>12</td>\n",
       "      <td>0</td>\n",
       "      <td>1</td>\n",
       "      <td>0</td>\n",
       "      <td>0.0</td>\n",
       "    </tr>\n",
       "    <tr>\n",
       "      <th>28</th>\n",
       "      <td>29</td>\n",
       "      <td>0.0</td>\n",
       "      <td>0.729397</td>\n",
       "      <td>34</td>\n",
       "      <td>0</td>\n",
       "      <td>0.335555</td>\n",
       "      <td>7500.0</td>\n",
       "      <td>6</td>\n",
       "      <td>0</td>\n",
       "      <td>2</td>\n",
       "      <td>0</td>\n",
       "      <td>1.0</td>\n",
       "    </tr>\n",
       "    <tr>\n",
       "      <th>29</th>\n",
       "      <td>30</td>\n",
       "      <td>0.0</td>\n",
       "      <td>0.024445</td>\n",
       "      <td>47</td>\n",
       "      <td>0</td>\n",
       "      <td>5810.000000</td>\n",
       "      <td>0.0</td>\n",
       "      <td>20</td>\n",
       "      <td>0</td>\n",
       "      <td>2</td>\n",
       "      <td>0</td>\n",
       "      <td>2.0</td>\n",
       "    </tr>\n",
       "    <tr>\n",
       "      <th>...</th>\n",
       "      <td>...</td>\n",
       "      <td>...</td>\n",
       "      <td>...</td>\n",
       "      <td>...</td>\n",
       "      <td>...</td>\n",
       "      <td>...</td>\n",
       "      <td>...</td>\n",
       "      <td>...</td>\n",
       "      <td>...</td>\n",
       "      <td>...</td>\n",
       "      <td>...</td>\n",
       "      <td>...</td>\n",
       "    </tr>\n",
       "    <tr>\n",
       "      <th>101473</th>\n",
       "      <td>101474</td>\n",
       "      <td>0.0</td>\n",
       "      <td>0.662634</td>\n",
       "      <td>73</td>\n",
       "      <td>0</td>\n",
       "      <td>0.277090</td>\n",
       "      <td>5333.0</td>\n",
       "      <td>10</td>\n",
       "      <td>0</td>\n",
       "      <td>0</td>\n",
       "      <td>0</td>\n",
       "      <td>0.0</td>\n",
       "    </tr>\n",
       "    <tr>\n",
       "      <th>101474</th>\n",
       "      <td>101475</td>\n",
       "      <td>0.0</td>\n",
       "      <td>1.032484</td>\n",
       "      <td>47</td>\n",
       "      <td>0</td>\n",
       "      <td>0.365243</td>\n",
       "      <td>2036.0</td>\n",
       "      <td>2</td>\n",
       "      <td>0</td>\n",
       "      <td>0</td>\n",
       "      <td>1</td>\n",
       "      <td>0.0</td>\n",
       "    </tr>\n",
       "    <tr>\n",
       "      <th>101475</th>\n",
       "      <td>101476</td>\n",
       "      <td>0.0</td>\n",
       "      <td>1.000000</td>\n",
       "      <td>35</td>\n",
       "      <td>0</td>\n",
       "      <td>0.240467</td>\n",
       "      <td>1284.0</td>\n",
       "      <td>1</td>\n",
       "      <td>0</td>\n",
       "      <td>0</td>\n",
       "      <td>0</td>\n",
       "      <td>2.0</td>\n",
       "    </tr>\n",
       "    <tr>\n",
       "      <th>101476</th>\n",
       "      <td>101477</td>\n",
       "      <td>0.0</td>\n",
       "      <td>0.015908</td>\n",
       "      <td>68</td>\n",
       "      <td>0</td>\n",
       "      <td>0.217593</td>\n",
       "      <td>8400.0</td>\n",
       "      <td>11</td>\n",
       "      <td>0</td>\n",
       "      <td>2</td>\n",
       "      <td>0</td>\n",
       "      <td>1.0</td>\n",
       "    </tr>\n",
       "    <tr>\n",
       "      <th>101477</th>\n",
       "      <td>101478</td>\n",
       "      <td>0.0</td>\n",
       "      <td>0.096295</td>\n",
       "      <td>69</td>\n",
       "      <td>0</td>\n",
       "      <td>0.052316</td>\n",
       "      <td>3000.0</td>\n",
       "      <td>4</td>\n",
       "      <td>0</td>\n",
       "      <td>0</td>\n",
       "      <td>0</td>\n",
       "      <td>0.0</td>\n",
       "    </tr>\n",
       "    <tr>\n",
       "      <th>101478</th>\n",
       "      <td>101479</td>\n",
       "      <td>0.0</td>\n",
       "      <td>0.000000</td>\n",
       "      <td>43</td>\n",
       "      <td>0</td>\n",
       "      <td>0.095303</td>\n",
       "      <td>5833.0</td>\n",
       "      <td>6</td>\n",
       "      <td>0</td>\n",
       "      <td>1</td>\n",
       "      <td>0</td>\n",
       "      <td>2.0</td>\n",
       "    </tr>\n",
       "    <tr>\n",
       "      <th>101479</th>\n",
       "      <td>101480</td>\n",
       "      <td>0.0</td>\n",
       "      <td>0.024788</td>\n",
       "      <td>71</td>\n",
       "      <td>0</td>\n",
       "      <td>0.361319</td>\n",
       "      <td>3608.0</td>\n",
       "      <td>22</td>\n",
       "      <td>1</td>\n",
       "      <td>2</td>\n",
       "      <td>0</td>\n",
       "      <td>0.0</td>\n",
       "    </tr>\n",
       "    <tr>\n",
       "      <th>101480</th>\n",
       "      <td>101481</td>\n",
       "      <td>0.0</td>\n",
       "      <td>0.217134</td>\n",
       "      <td>48</td>\n",
       "      <td>0</td>\n",
       "      <td>0.602701</td>\n",
       "      <td>5257.0</td>\n",
       "      <td>15</td>\n",
       "      <td>0</td>\n",
       "      <td>1</td>\n",
       "      <td>0</td>\n",
       "      <td>0.0</td>\n",
       "    </tr>\n",
       "    <tr>\n",
       "      <th>101481</th>\n",
       "      <td>101482</td>\n",
       "      <td>0.0</td>\n",
       "      <td>0.048971</td>\n",
       "      <td>51</td>\n",
       "      <td>0</td>\n",
       "      <td>0.339154</td>\n",
       "      <td>7043.0</td>\n",
       "      <td>14</td>\n",
       "      <td>0</td>\n",
       "      <td>1</td>\n",
       "      <td>0</td>\n",
       "      <td>2.0</td>\n",
       "    </tr>\n",
       "    <tr>\n",
       "      <th>101482</th>\n",
       "      <td>101483</td>\n",
       "      <td>0.0</td>\n",
       "      <td>1.000000</td>\n",
       "      <td>33</td>\n",
       "      <td>98</td>\n",
       "      <td>0.000000</td>\n",
       "      <td>2000.0</td>\n",
       "      <td>0</td>\n",
       "      <td>98</td>\n",
       "      <td>0</td>\n",
       "      <td>98</td>\n",
       "      <td>3.0</td>\n",
       "    </tr>\n",
       "    <tr>\n",
       "      <th>101483</th>\n",
       "      <td>101484</td>\n",
       "      <td>0.0</td>\n",
       "      <td>0.124484</td>\n",
       "      <td>82</td>\n",
       "      <td>0</td>\n",
       "      <td>0.003797</td>\n",
       "      <td>7636.0</td>\n",
       "      <td>2</td>\n",
       "      <td>0</td>\n",
       "      <td>0</td>\n",
       "      <td>0</td>\n",
       "      <td>0.0</td>\n",
       "    </tr>\n",
       "    <tr>\n",
       "      <th>101484</th>\n",
       "      <td>101485</td>\n",
       "      <td>0.0</td>\n",
       "      <td>0.065636</td>\n",
       "      <td>60</td>\n",
       "      <td>0</td>\n",
       "      <td>0.306759</td>\n",
       "      <td>7500.0</td>\n",
       "      <td>10</td>\n",
       "      <td>0</td>\n",
       "      <td>3</td>\n",
       "      <td>0</td>\n",
       "      <td>1.0</td>\n",
       "    </tr>\n",
       "    <tr>\n",
       "      <th>101485</th>\n",
       "      <td>101486</td>\n",
       "      <td>0.0</td>\n",
       "      <td>0.043139</td>\n",
       "      <td>81</td>\n",
       "      <td>0</td>\n",
       "      <td>0.014548</td>\n",
       "      <td>3917.0</td>\n",
       "      <td>4</td>\n",
       "      <td>0</td>\n",
       "      <td>0</td>\n",
       "      <td>0</td>\n",
       "      <td>0.0</td>\n",
       "    </tr>\n",
       "    <tr>\n",
       "      <th>101486</th>\n",
       "      <td>101487</td>\n",
       "      <td>0.0</td>\n",
       "      <td>0.078280</td>\n",
       "      <td>55</td>\n",
       "      <td>0</td>\n",
       "      <td>0.495979</td>\n",
       "      <td>2983.0</td>\n",
       "      <td>16</td>\n",
       "      <td>0</td>\n",
       "      <td>2</td>\n",
       "      <td>0</td>\n",
       "      <td>1.0</td>\n",
       "    </tr>\n",
       "    <tr>\n",
       "      <th>101487</th>\n",
       "      <td>101488</td>\n",
       "      <td>0.0</td>\n",
       "      <td>0.000961</td>\n",
       "      <td>64</td>\n",
       "      <td>0</td>\n",
       "      <td>2.000000</td>\n",
       "      <td>0.0</td>\n",
       "      <td>5</td>\n",
       "      <td>0</td>\n",
       "      <td>0</td>\n",
       "      <td>0</td>\n",
       "      <td>0.0</td>\n",
       "    </tr>\n",
       "    <tr>\n",
       "      <th>101488</th>\n",
       "      <td>101489</td>\n",
       "      <td>0.0</td>\n",
       "      <td>0.179587</td>\n",
       "      <td>68</td>\n",
       "      <td>0</td>\n",
       "      <td>0.268839</td>\n",
       "      <td>7550.0</td>\n",
       "      <td>8</td>\n",
       "      <td>0</td>\n",
       "      <td>1</td>\n",
       "      <td>0</td>\n",
       "      <td>0.0</td>\n",
       "    </tr>\n",
       "    <tr>\n",
       "      <th>101489</th>\n",
       "      <td>101490</td>\n",
       "      <td>0.0</td>\n",
       "      <td>1.031359</td>\n",
       "      <td>34</td>\n",
       "      <td>0</td>\n",
       "      <td>0.305339</td>\n",
       "      <td>3333.0</td>\n",
       "      <td>6</td>\n",
       "      <td>0</td>\n",
       "      <td>0</td>\n",
       "      <td>0</td>\n",
       "      <td>1.0</td>\n",
       "    </tr>\n",
       "    <tr>\n",
       "      <th>101490</th>\n",
       "      <td>101491</td>\n",
       "      <td>0.0</td>\n",
       "      <td>0.875649</td>\n",
       "      <td>43</td>\n",
       "      <td>2</td>\n",
       "      <td>0.512893</td>\n",
       "      <td>9500.0</td>\n",
       "      <td>8</td>\n",
       "      <td>0</td>\n",
       "      <td>5</td>\n",
       "      <td>0</td>\n",
       "      <td>2.0</td>\n",
       "    </tr>\n",
       "    <tr>\n",
       "      <th>101491</th>\n",
       "      <td>101492</td>\n",
       "      <td>0.0</td>\n",
       "      <td>0.228665</td>\n",
       "      <td>44</td>\n",
       "      <td>1</td>\n",
       "      <td>0.080143</td>\n",
       "      <td>8958.0</td>\n",
       "      <td>6</td>\n",
       "      <td>0</td>\n",
       "      <td>0</td>\n",
       "      <td>0</td>\n",
       "      <td>0.0</td>\n",
       "    </tr>\n",
       "    <tr>\n",
       "      <th>101492</th>\n",
       "      <td>101493</td>\n",
       "      <td>0.0</td>\n",
       "      <td>0.139191</td>\n",
       "      <td>58</td>\n",
       "      <td>1</td>\n",
       "      <td>3.183267</td>\n",
       "      <td>501.0</td>\n",
       "      <td>11</td>\n",
       "      <td>0</td>\n",
       "      <td>1</td>\n",
       "      <td>0</td>\n",
       "      <td>3.0</td>\n",
       "    </tr>\n",
       "    <tr>\n",
       "      <th>101493</th>\n",
       "      <td>101494</td>\n",
       "      <td>0.0</td>\n",
       "      <td>0.035549</td>\n",
       "      <td>58</td>\n",
       "      <td>0</td>\n",
       "      <td>0.290323</td>\n",
       "      <td>11128.0</td>\n",
       "      <td>7</td>\n",
       "      <td>0</td>\n",
       "      <td>2</td>\n",
       "      <td>0</td>\n",
       "      <td>2.0</td>\n",
       "    </tr>\n",
       "    <tr>\n",
       "      <th>101494</th>\n",
       "      <td>101495</td>\n",
       "      <td>0.0</td>\n",
       "      <td>0.218356</td>\n",
       "      <td>56</td>\n",
       "      <td>0</td>\n",
       "      <td>0.295803</td>\n",
       "      <td>1500.0</td>\n",
       "      <td>3</td>\n",
       "      <td>0</td>\n",
       "      <td>0</td>\n",
       "      <td>0</td>\n",
       "      <td>0.0</td>\n",
       "    </tr>\n",
       "    <tr>\n",
       "      <th>101495</th>\n",
       "      <td>101496</td>\n",
       "      <td>0.0</td>\n",
       "      <td>0.718874</td>\n",
       "      <td>35</td>\n",
       "      <td>1</td>\n",
       "      <td>0.308047</td>\n",
       "      <td>4125.0</td>\n",
       "      <td>8</td>\n",
       "      <td>0</td>\n",
       "      <td>0</td>\n",
       "      <td>1</td>\n",
       "      <td>2.0</td>\n",
       "    </tr>\n",
       "    <tr>\n",
       "      <th>101496</th>\n",
       "      <td>101497</td>\n",
       "      <td>0.0</td>\n",
       "      <td>0.021654</td>\n",
       "      <td>78</td>\n",
       "      <td>0</td>\n",
       "      <td>18.000000</td>\n",
       "      <td>0.0</td>\n",
       "      <td>8</td>\n",
       "      <td>0</td>\n",
       "      <td>0</td>\n",
       "      <td>0</td>\n",
       "      <td>0.0</td>\n",
       "    </tr>\n",
       "    <tr>\n",
       "      <th>101497</th>\n",
       "      <td>101498</td>\n",
       "      <td>0.0</td>\n",
       "      <td>0.045230</td>\n",
       "      <td>67</td>\n",
       "      <td>0</td>\n",
       "      <td>0.012198</td>\n",
       "      <td>5000.0</td>\n",
       "      <td>4</td>\n",
       "      <td>0</td>\n",
       "      <td>0</td>\n",
       "      <td>0</td>\n",
       "      <td>0.0</td>\n",
       "    </tr>\n",
       "    <tr>\n",
       "      <th>101498</th>\n",
       "      <td>101499</td>\n",
       "      <td>0.0</td>\n",
       "      <td>0.282653</td>\n",
       "      <td>24</td>\n",
       "      <td>0</td>\n",
       "      <td>0.068522</td>\n",
       "      <td>1400.0</td>\n",
       "      <td>5</td>\n",
       "      <td>0</td>\n",
       "      <td>0</td>\n",
       "      <td>0</td>\n",
       "      <td>0.0</td>\n",
       "    </tr>\n",
       "    <tr>\n",
       "      <th>101499</th>\n",
       "      <td>101500</td>\n",
       "      <td>0.0</td>\n",
       "      <td>0.922156</td>\n",
       "      <td>36</td>\n",
       "      <td>3</td>\n",
       "      <td>0.934217</td>\n",
       "      <td>7615.0</td>\n",
       "      <td>8</td>\n",
       "      <td>0</td>\n",
       "      <td>2</td>\n",
       "      <td>0</td>\n",
       "      <td>4.0</td>\n",
       "    </tr>\n",
       "    <tr>\n",
       "      <th>101500</th>\n",
       "      <td>101501</td>\n",
       "      <td>0.0</td>\n",
       "      <td>0.081596</td>\n",
       "      <td>70</td>\n",
       "      <td>0</td>\n",
       "      <td>836.000000</td>\n",
       "      <td>0.0</td>\n",
       "      <td>3</td>\n",
       "      <td>0</td>\n",
       "      <td>0</td>\n",
       "      <td>0</td>\n",
       "      <td>0.0</td>\n",
       "    </tr>\n",
       "    <tr>\n",
       "      <th>101501</th>\n",
       "      <td>101502</td>\n",
       "      <td>0.0</td>\n",
       "      <td>0.335457</td>\n",
       "      <td>56</td>\n",
       "      <td>0</td>\n",
       "      <td>3568.000000</td>\n",
       "      <td>0.0</td>\n",
       "      <td>8</td>\n",
       "      <td>0</td>\n",
       "      <td>2</td>\n",
       "      <td>1</td>\n",
       "      <td>3.0</td>\n",
       "    </tr>\n",
       "    <tr>\n",
       "      <th>101502</th>\n",
       "      <td>101503</td>\n",
       "      <td>0.0</td>\n",
       "      <td>0.441842</td>\n",
       "      <td>29</td>\n",
       "      <td>0</td>\n",
       "      <td>0.198918</td>\n",
       "      <td>5916.0</td>\n",
       "      <td>12</td>\n",
       "      <td>0</td>\n",
       "      <td>0</td>\n",
       "      <td>0</td>\n",
       "      <td>0.0</td>\n",
       "    </tr>\n",
       "  </tbody>\n",
       "</table>\n",
       "<p>101503 rows × 12 columns</p>\n",
       "</div>"
      ],
      "text/plain": [
       "            Id  SeriousDlqin2yrs  RevolvingUtilizationOfUnsecuredLines  age  \\\n",
       "0            1               0.0                              0.885519   43   \n",
       "1            2               0.0                              0.463295   57   \n",
       "2            3               0.0                              0.043275   59   \n",
       "3            4               0.0                              0.280308   38   \n",
       "4            5               0.0                              1.000000   27   \n",
       "5            6               0.0                              0.509791   63   \n",
       "6            7               0.0                              0.587778   50   \n",
       "7            8               0.0                              0.046149   79   \n",
       "8            9               0.0                              0.013527   68   \n",
       "9           10               0.0                              1.000000   23   \n",
       "10          11               0.0                              0.028485   37   \n",
       "11          12               0.0                              0.085077   52   \n",
       "12          13               0.0                              0.010596   68   \n",
       "13          14               0.0                              0.380679   30   \n",
       "14          15               0.0                              0.556894   56   \n",
       "15          16               0.0                              0.079056   28   \n",
       "16          17               0.0                              0.543013   72   \n",
       "17          18               0.0                              0.112346   37   \n",
       "18          19               0.0                              0.648285   29   \n",
       "19          20               0.0                              0.686406   43   \n",
       "20          21               0.0                              0.085910   48   \n",
       "21          22               0.0                              0.158549   61   \n",
       "22          23               0.0                              0.009303   69   \n",
       "23          24               0.0                              0.957442   69   \n",
       "24          25               0.0                              0.442489   50   \n",
       "25          26               0.0                              0.125267   51   \n",
       "26          27               0.0                              1.000000   45   \n",
       "27          28               0.0                              0.181481   67   \n",
       "28          29               0.0                              0.729397   34   \n",
       "29          30               0.0                              0.024445   47   \n",
       "...        ...               ...                                   ...  ...   \n",
       "101473  101474               0.0                              0.662634   73   \n",
       "101474  101475               0.0                              1.032484   47   \n",
       "101475  101476               0.0                              1.000000   35   \n",
       "101476  101477               0.0                              0.015908   68   \n",
       "101477  101478               0.0                              0.096295   69   \n",
       "101478  101479               0.0                              0.000000   43   \n",
       "101479  101480               0.0                              0.024788   71   \n",
       "101480  101481               0.0                              0.217134   48   \n",
       "101481  101482               0.0                              0.048971   51   \n",
       "101482  101483               0.0                              1.000000   33   \n",
       "101483  101484               0.0                              0.124484   82   \n",
       "101484  101485               0.0                              0.065636   60   \n",
       "101485  101486               0.0                              0.043139   81   \n",
       "101486  101487               0.0                              0.078280   55   \n",
       "101487  101488               0.0                              0.000961   64   \n",
       "101488  101489               0.0                              0.179587   68   \n",
       "101489  101490               0.0                              1.031359   34   \n",
       "101490  101491               0.0                              0.875649   43   \n",
       "101491  101492               0.0                              0.228665   44   \n",
       "101492  101493               0.0                              0.139191   58   \n",
       "101493  101494               0.0                              0.035549   58   \n",
       "101494  101495               0.0                              0.218356   56   \n",
       "101495  101496               0.0                              0.718874   35   \n",
       "101496  101497               0.0                              0.021654   78   \n",
       "101497  101498               0.0                              0.045230   67   \n",
       "101498  101499               0.0                              0.282653   24   \n",
       "101499  101500               0.0                              0.922156   36   \n",
       "101500  101501               0.0                              0.081596   70   \n",
       "101501  101502               0.0                              0.335457   56   \n",
       "101502  101503               0.0                              0.441842   29   \n",
       "\n",
       "        NumberOfTime30-59DaysPastDueNotWorse    DebtRatio  MonthlyIncome  \\\n",
       "0                                          0     0.177513         5700.0   \n",
       "1                                          0     0.527237         9141.0   \n",
       "2                                          0     0.687648         5083.0   \n",
       "3                                          1     0.925961         3200.0   \n",
       "4                                          0     0.019917         3865.0   \n",
       "5                                          0     0.342429         4140.0   \n",
       "6                                          0  1048.000000            0.0   \n",
       "7                                          1     0.369170         3301.0   \n",
       "8                                          0  2024.000000            0.0   \n",
       "9                                         98     0.000000            0.0   \n",
       "10                                         0     0.319687         7400.0   \n",
       "11                                         0     0.903552         4250.0   \n",
       "12                                         0     0.007782         3854.0   \n",
       "13                                         0     0.377449         2500.0   \n",
       "14                                         0     0.697347         6822.0   \n",
       "15                                         0     0.105831         7133.0   \n",
       "16                                         0     0.461786         5900.0   \n",
       "17                                         0     0.144326         2916.0   \n",
       "18                                         0     0.174850         4500.0   \n",
       "19                                         0   487.000000            0.0   \n",
       "20                                         0     0.196156         8844.0   \n",
       "21                                         0     0.353158        11920.0   \n",
       "22                                         0     0.384451         6083.0   \n",
       "23                                         2     0.666338         3041.0   \n",
       "24                                         1     0.286555         8500.0   \n",
       "25                                         0  3825.000000            0.0   \n",
       "26                                         0     0.000000         4750.0   \n",
       "27                                         0  1509.000000            0.0   \n",
       "28                                         0     0.335555         7500.0   \n",
       "29                                         0  5810.000000            0.0   \n",
       "...                                      ...          ...            ...   \n",
       "101473                                     0     0.277090         5333.0   \n",
       "101474                                     0     0.365243         2036.0   \n",
       "101475                                     0     0.240467         1284.0   \n",
       "101476                                     0     0.217593         8400.0   \n",
       "101477                                     0     0.052316         3000.0   \n",
       "101478                                     0     0.095303         5833.0   \n",
       "101479                                     0     0.361319         3608.0   \n",
       "101480                                     0     0.602701         5257.0   \n",
       "101481                                     0     0.339154         7043.0   \n",
       "101482                                    98     0.000000         2000.0   \n",
       "101483                                     0     0.003797         7636.0   \n",
       "101484                                     0     0.306759         7500.0   \n",
       "101485                                     0     0.014548         3917.0   \n",
       "101486                                     0     0.495979         2983.0   \n",
       "101487                                     0     2.000000            0.0   \n",
       "101488                                     0     0.268839         7550.0   \n",
       "101489                                     0     0.305339         3333.0   \n",
       "101490                                     2     0.512893         9500.0   \n",
       "101491                                     1     0.080143         8958.0   \n",
       "101492                                     1     3.183267          501.0   \n",
       "101493                                     0     0.290323        11128.0   \n",
       "101494                                     0     0.295803         1500.0   \n",
       "101495                                     1     0.308047         4125.0   \n",
       "101496                                     0    18.000000            0.0   \n",
       "101497                                     0     0.012198         5000.0   \n",
       "101498                                     0     0.068522         1400.0   \n",
       "101499                                     3     0.934217         7615.0   \n",
       "101500                                     0   836.000000            0.0   \n",
       "101501                                     0  3568.000000            0.0   \n",
       "101502                                     0     0.198918         5916.0   \n",
       "\n",
       "        NumberOfOpenCreditLinesAndLoans  NumberOfTimes90DaysLate  \\\n",
       "0                                     4                        0   \n",
       "1                                    15                        0   \n",
       "2                                    12                        0   \n",
       "3                                     7                        0   \n",
       "4                                     4                        0   \n",
       "5                                     4                        0   \n",
       "6                                     5                        0   \n",
       "7                                     8                        0   \n",
       "8                                     4                        0   \n",
       "9                                     0                       98   \n",
       "10                                    8                        0   \n",
       "11                                    6                        0   \n",
       "12                                   16                        0   \n",
       "13                                   12                        0   \n",
       "14                                   14                        0   \n",
       "15                                    8                        0   \n",
       "16                                   10                        0   \n",
       "17                                    7                        0   \n",
       "18                                    4                        0   \n",
       "19                                   10                        0   \n",
       "20                                    8                        0   \n",
       "21                                   13                        0   \n",
       "22                                    4                        0   \n",
       "23                                    8                        1   \n",
       "24                                   17                        0   \n",
       "25                                   10                        0   \n",
       "26                                    1                        0   \n",
       "27                                   12                        0   \n",
       "28                                    6                        0   \n",
       "29                                   20                        0   \n",
       "...                                 ...                      ...   \n",
       "101473                               10                        0   \n",
       "101474                                2                        0   \n",
       "101475                                1                        0   \n",
       "101476                               11                        0   \n",
       "101477                                4                        0   \n",
       "101478                                6                        0   \n",
       "101479                               22                        1   \n",
       "101480                               15                        0   \n",
       "101481                               14                        0   \n",
       "101482                                0                       98   \n",
       "101483                                2                        0   \n",
       "101484                               10                        0   \n",
       "101485                                4                        0   \n",
       "101486                               16                        0   \n",
       "101487                                5                        0   \n",
       "101488                                8                        0   \n",
       "101489                                6                        0   \n",
       "101490                                8                        0   \n",
       "101491                                6                        0   \n",
       "101492                               11                        0   \n",
       "101493                                7                        0   \n",
       "101494                                3                        0   \n",
       "101495                                8                        0   \n",
       "101496                                8                        0   \n",
       "101497                                4                        0   \n",
       "101498                                5                        0   \n",
       "101499                                8                        0   \n",
       "101500                                3                        0   \n",
       "101501                                8                        0   \n",
       "101502                               12                        0   \n",
       "\n",
       "        NumberRealEstateLoansOrLines  NumberOfTime60-89DaysPastDueNotWorse  \\\n",
       "0                                  0                                     0   \n",
       "1                                  4                                     0   \n",
       "2                                  1                                     0   \n",
       "3                                  2                                     0   \n",
       "4                                  0                                     0   \n",
       "5                                  0                                     0   \n",
       "6                                  0                                     0   \n",
       "7                                  1                                     0   \n",
       "8                                  1                                     0   \n",
       "9                                  0                                    98   \n",
       "10                                 1                                     0   \n",
       "11                                 2                                     0   \n",
       "12                                 0                                     0   \n",
       "13                                 0                                     0   \n",
       "14                                 1                                     0   \n",
       "15                                 0                                     0   \n",
       "16                                 2                                     0   \n",
       "17                                 0                                     0   \n",
       "18                                 0                                     1   \n",
       "19                                 0                                     0   \n",
       "20                                 1                                     0   \n",
       "21                                 1                                     0   \n",
       "22                                 2                                     0   \n",
       "23                                 1                                     1   \n",
       "24                                 1                                     0   \n",
       "25                                 2                                     0   \n",
       "26                                 0                                     0   \n",
       "27                                 1                                     0   \n",
       "28                                 2                                     0   \n",
       "29                                 2                                     0   \n",
       "...                              ...                                   ...   \n",
       "101473                             0                                     0   \n",
       "101474                             0                                     1   \n",
       "101475                             0                                     0   \n",
       "101476                             2                                     0   \n",
       "101477                             0                                     0   \n",
       "101478                             1                                     0   \n",
       "101479                             2                                     0   \n",
       "101480                             1                                     0   \n",
       "101481                             1                                     0   \n",
       "101482                             0                                    98   \n",
       "101483                             0                                     0   \n",
       "101484                             3                                     0   \n",
       "101485                             0                                     0   \n",
       "101486                             2                                     0   \n",
       "101487                             0                                     0   \n",
       "101488                             1                                     0   \n",
       "101489                             0                                     0   \n",
       "101490                             5                                     0   \n",
       "101491                             0                                     0   \n",
       "101492                             1                                     0   \n",
       "101493                             2                                     0   \n",
       "101494                             0                                     0   \n",
       "101495                             0                                     1   \n",
       "101496                             0                                     0   \n",
       "101497                             0                                     0   \n",
       "101498                             0                                     0   \n",
       "101499                             2                                     0   \n",
       "101500                             0                                     0   \n",
       "101501                             2                                     1   \n",
       "101502                             0                                     0   \n",
       "\n",
       "        NumberOfDependents  \n",
       "0                      0.0  \n",
       "1                      2.0  \n",
       "2                      2.0  \n",
       "3                      0.0  \n",
       "4                      1.0  \n",
       "5                      1.0  \n",
       "6                      3.0  \n",
       "7                      1.0  \n",
       "8                      0.0  \n",
       "9                      0.0  \n",
       "10                     1.0  \n",
       "11                     0.0  \n",
       "12                     0.0  \n",
       "13                     1.0  \n",
       "14                     1.0  \n",
       "15                     0.0  \n",
       "16                     1.0  \n",
       "17                     0.0  \n",
       "18                     1.0  \n",
       "19                     1.0  \n",
       "20                     1.0  \n",
       "21                     0.0  \n",
       "22                     0.0  \n",
       "23                     1.0  \n",
       "24                     2.0  \n",
       "25                     0.0  \n",
       "26                     1.0  \n",
       "27                     0.0  \n",
       "28                     1.0  \n",
       "29                     2.0  \n",
       "...                    ...  \n",
       "101473                 0.0  \n",
       "101474                 0.0  \n",
       "101475                 2.0  \n",
       "101476                 1.0  \n",
       "101477                 0.0  \n",
       "101478                 2.0  \n",
       "101479                 0.0  \n",
       "101480                 0.0  \n",
       "101481                 2.0  \n",
       "101482                 3.0  \n",
       "101483                 0.0  \n",
       "101484                 1.0  \n",
       "101485                 0.0  \n",
       "101486                 1.0  \n",
       "101487                 0.0  \n",
       "101488                 0.0  \n",
       "101489                 1.0  \n",
       "101490                 2.0  \n",
       "101491                 0.0  \n",
       "101492                 3.0  \n",
       "101493                 2.0  \n",
       "101494                 0.0  \n",
       "101495                 2.0  \n",
       "101496                 0.0  \n",
       "101497                 0.0  \n",
       "101498                 0.0  \n",
       "101499                 4.0  \n",
       "101500                 0.0  \n",
       "101501                 3.0  \n",
       "101502                 0.0  \n",
       "\n",
       "[101503 rows x 12 columns]"
      ]
     },
     "execution_count": 15,
     "metadata": {},
     "output_type": "execute_result"
    }
   ],
   "source": [
    "import numpy as np\n",
    "from sklearn import preprocessing\n",
    "\n",
    "testing = testing.replace([np.inf, -np.inf], np.nan)\n",
    "testing = testing.fillna(0)\n",
    "x = .as_matrix()\n",
    "    \n",
    "x = preprocessing.scale(x)"
   ]
  },
  {
   "cell_type": "markdown",
   "metadata": {
    "deletable": true,
    "editable": true
   },
   "source": [
    "The testing set does not contain any data to effectively test our algorithm.\n",
    "\n",
    "So a K-Fold Split on the Training Set is mandatory.\n",
    "\n",
    "The Sample Entry CSV File contains the submission file to the event and it's ordered with the percentage predictions like this:"
   ]
  },
  {
   "cell_type": "code",
   "execution_count": 10,
   "metadata": {
    "collapsed": false,
    "deletable": true,
    "editable": true
   },
   "outputs": [
    {
     "data": {
      "text/html": [
       "<div>\n",
       "<style>\n",
       "    .dataframe thead tr:only-child th {\n",
       "        text-align: right;\n",
       "    }\n",
       "\n",
       "    .dataframe thead th {\n",
       "        text-align: left;\n",
       "    }\n",
       "\n",
       "    .dataframe tbody tr th {\n",
       "        vertical-align: top;\n",
       "    }\n",
       "</style>\n",
       "<table border=\"1\" class=\"dataframe\">\n",
       "  <thead>\n",
       "    <tr style=\"text-align: right;\">\n",
       "      <th></th>\n",
       "      <th>Id</th>\n",
       "      <th>Probability</th>\n",
       "    </tr>\n",
       "  </thead>\n",
       "  <tbody>\n",
       "    <tr>\n",
       "      <th>0</th>\n",
       "      <td>1</td>\n",
       "      <td>0.080807</td>\n",
       "    </tr>\n",
       "    <tr>\n",
       "      <th>1</th>\n",
       "      <td>2</td>\n",
       "      <td>0.040719</td>\n",
       "    </tr>\n",
       "    <tr>\n",
       "      <th>2</th>\n",
       "      <td>3</td>\n",
       "      <td>0.011968</td>\n",
       "    </tr>\n",
       "    <tr>\n",
       "      <th>3</th>\n",
       "      <td>4</td>\n",
       "      <td>0.067640</td>\n",
       "    </tr>\n",
       "    <tr>\n",
       "      <th>4</th>\n",
       "      <td>5</td>\n",
       "      <td>0.108264</td>\n",
       "    </tr>\n",
       "  </tbody>\n",
       "</table>\n",
       "</div>"
      ],
      "text/plain": [
       "   Id  Probability\n",
       "0   1     0.080807\n",
       "1   2     0.040719\n",
       "2   3     0.011968\n",
       "3   4     0.067640\n",
       "4   5     0.108264"
      ]
     },
     "execution_count": 10,
     "metadata": {},
     "output_type": "execute_result"
    }
   ],
   "source": [
    "# ID of the Entry, and the Probability class value\n",
    "utils.load_sample().head()"
   ]
  },
  {
   "cell_type": "markdown",
   "metadata": {
    "deletable": true,
    "editable": true
   },
   "source": [
    "# Data Plotting and Description\n",
    "\n",
    "Lets explore the training data set"
   ]
  },
  {
   "cell_type": "code",
   "execution_count": 11,
   "metadata": {
    "collapsed": false,
    "deletable": true,
    "editable": true
   },
   "outputs": [
    {
     "name": "stdout",
     "output_type": "stream",
     "text": [
      "Total Number of persons in the set 150000\n",
      "Total Number number of persons with delinquency 139974\n",
      "Total Number number of persons without delinquency 10026\n"
     ]
    },
    {
     "data": {
      "image/png": "[encoded data removed]",
      "text/plain": [
       "<matplotlib.figure.Figure at 0x7f6d7c7d2290>"
      ]
     },
     "metadata": {},
     "output_type": "display_data"
    }
   ],
   "source": [
    "utils.basic_exploration(training)\n",
    "plots.balance_outcome(training)"
   ]
  },
  {
   "cell_type": "markdown",
   "metadata": {
    "deletable": true,
    "editable": true
   },
   "source": [
    "There is 90 % difference between both classes, and there are only a yes/no classes on the dataset.\n",
    "\n",
    "A simple accuracy evaluation won't be good in this case, that's why they use a AUC on the competition."
   ]
  },
  {
   "cell_type": "markdown",
   "metadata": {
    "deletable": true,
    "editable": true
   },
   "source": [
    "### Age Analysis"
   ]
  },
  {
   "cell_type": "code",
   "execution_count": 12,
   "metadata": {
    "collapsed": false,
    "deletable": true,
    "editable": true
   },
   "outputs": [
    {
     "data": {
      "text/plain": [
       "<matplotlib.axes._subplots.AxesSubplot at 0x7f6d47966950>"
      ]
     },
     "execution_count": 12,
     "metadata": {},
     "output_type": "execute_result"
    },
    {
     "data": {
      "image/png": "[encoded data removed]",
      "text/plain": [
       "<matplotlib.figure.Figure at 0x7f6d47971f90>"
      ]
     },
     "metadata": {},
     "output_type": "display_data"
    }
   ],
   "source": [
    "training['age'].plot.box()"
   ]
  },
  {
   "cell_type": "code",
   "execution_count": 13,
   "metadata": {
    "collapsed": false,
    "deletable": true,
    "editable": true
   },
   "outputs": [
    {
     "data": {
      "text/plain": [
       "<matplotlib.axes._subplots.AxesSubplot at 0x7f6d47246c90>"
      ]
     },
     "execution_count": 13,
     "metadata": {},
     "output_type": "execute_result"
    },
    {
     "data": {
      "image/png": "[encoded data removed]",
      "text/plain": [
       "<matplotlib.figure.Figure at 0x7f6d47950b50>"
      ]
     },
     "metadata": {},
     "output_type": "display_data"
    }
   ],
   "source": [
    "ages = utils.describe_ages(training, min_age=21, max_age=40)\n",
    "ages.plot.bar()"
   ]
  },
  {
   "cell_type": "code",
   "execution_count": 14,
   "metadata": {
    "collapsed": false,
    "deletable": true,
    "editable": true
   },
   "outputs": [
    {
     "name": "stdout",
     "output_type": "stream",
     "text": [
      "7786\n",
      "1035\n"
     ]
    }
   ],
   "source": [
    "# Looking at the age there is a lot of people older in the data\n",
    "print training.query('age < 30 and SeriousDlqin2yrs == 0')['age'].count()\n",
    "print training.query('age < 30 and SeriousDlqin2yrs == 1')['age'].count()"
   ]
  },
  {
   "cell_type": "code",
   "execution_count": 15,
   "metadata": {
    "collapsed": false,
    "deletable": true,
    "editable": true
   },
   "outputs": [
    {
     "name": "stdout",
     "output_type": "stream",
     "text": [
      "130460\n",
      "8782\n"
     ]
    }
   ],
   "source": [
    "print training.query('age > 30 and SeriousDlqin2yrs == 0')['age'].count()\n",
    "print training.query('age > 30 and SeriousDlqin2yrs == 1')['age'].count()"
   ]
  },
  {
   "cell_type": "code",
   "execution_count": 16,
   "metadata": {
    "collapsed": false,
    "deletable": true,
    "editable": true
   },
   "outputs": [
    {
     "data": {
      "text/html": [
       "<div>\n",
       "<style>\n",
       "    .dataframe thead tr:only-child th {\n",
       "        text-align: right;\n",
       "    }\n",
       "\n",
       "    .dataframe thead th {\n",
       "        text-align: left;\n",
       "    }\n",
       "\n",
       "    .dataframe tbody tr th {\n",
       "        vertical-align: top;\n",
       "    }\n",
       "</style>\n",
       "<table border=\"1\" class=\"dataframe\">\n",
       "  <thead>\n",
       "    <tr style=\"text-align: right;\">\n",
       "      <th></th>\n",
       "      <th>Value</th>\n",
       "      <th>Count</th>\n",
       "    </tr>\n",
       "  </thead>\n",
       "  <tbody>\n",
       "    <tr>\n",
       "      <th>0</th>\n",
       "      <td>0</td>\n",
       "      <td>126018</td>\n",
       "    </tr>\n",
       "    <tr>\n",
       "      <th>1</th>\n",
       "      <td>1</td>\n",
       "      <td>16033</td>\n",
       "    </tr>\n",
       "    <tr>\n",
       "      <th>2</th>\n",
       "      <td>2</td>\n",
       "      <td>4598</td>\n",
       "    </tr>\n",
       "    <tr>\n",
       "      <th>3</th>\n",
       "      <td>3</td>\n",
       "      <td>1754</td>\n",
       "    </tr>\n",
       "    <tr>\n",
       "      <th>4</th>\n",
       "      <td>4</td>\n",
       "      <td>747</td>\n",
       "    </tr>\n",
       "    <tr>\n",
       "      <th>5</th>\n",
       "      <td>5</td>\n",
       "      <td>342</td>\n",
       "    </tr>\n",
       "    <tr>\n",
       "      <th>6</th>\n",
       "      <td>6</td>\n",
       "      <td>140</td>\n",
       "    </tr>\n",
       "    <tr>\n",
       "      <th>7</th>\n",
       "      <td>7</td>\n",
       "      <td>54</td>\n",
       "    </tr>\n",
       "    <tr>\n",
       "      <th>8</th>\n",
       "      <td>8</td>\n",
       "      <td>25</td>\n",
       "    </tr>\n",
       "    <tr>\n",
       "      <th>9</th>\n",
       "      <td>9</td>\n",
       "      <td>12</td>\n",
       "    </tr>\n",
       "    <tr>\n",
       "      <th>10</th>\n",
       "      <td>10</td>\n",
       "      <td>4</td>\n",
       "    </tr>\n",
       "    <tr>\n",
       "      <th>11</th>\n",
       "      <td>11</td>\n",
       "      <td>1</td>\n",
       "    </tr>\n",
       "    <tr>\n",
       "      <th>12</th>\n",
       "      <td>12</td>\n",
       "      <td>2</td>\n",
       "    </tr>\n",
       "    <tr>\n",
       "      <th>13</th>\n",
       "      <td>98</td>\n",
       "      <td>264</td>\n",
       "    </tr>\n",
       "    <tr>\n",
       "      <th>14</th>\n",
       "      <td>96</td>\n",
       "      <td>5</td>\n",
       "    </tr>\n",
       "    <tr>\n",
       "      <th>15</th>\n",
       "      <td>13</td>\n",
       "      <td>1</td>\n",
       "    </tr>\n",
       "  </tbody>\n",
       "</table>\n",
       "</div>"
      ],
      "text/plain": [
       "    Value   Count\n",
       "0       0  126018\n",
       "1       1   16033\n",
       "2       2    4598\n",
       "3       3    1754\n",
       "4       4     747\n",
       "5       5     342\n",
       "6       6     140\n",
       "7       7      54\n",
       "8       8      25\n",
       "9       9      12\n",
       "10     10       4\n",
       "11     11       1\n",
       "12     12       2\n",
       "13     98     264\n",
       "14     96       5\n",
       "15     13       1"
      ]
     },
     "execution_count": 16,
     "metadata": {},
     "output_type": "execute_result"
    }
   ],
   "source": [
    "from collections import Counter\n",
    "\n",
    "count = pd.DataFrame(Counter(training['NumberOfTime3059DaysPastDueNotWorse']).items(), \n",
    "                     columns=['Value', 'Count'])\n",
    "count.sort_values(by=['Count'])\n",
    "count.head(30)"
   ]
  },
  {
   "cell_type": "code",
   "execution_count": 17,
   "metadata": {
    "collapsed": false,
    "deletable": true,
    "editable": true
   },
   "outputs": [
    {
     "data": {
      "text/plain": [
       "<matplotlib.axes._subplots.AxesSubplot at 0x7f6d477bdc10>"
      ]
     },
     "execution_count": 17,
     "metadata": {},
     "output_type": "execute_result"
    },
    {
     "data": {
      "image/png": "[encoded data removed]",
      "text/plain": [
       "<matplotlib.figure.Figure at 0x7f6d477d2350>"
      ]
     },
     "metadata": {},
     "output_type": "display_data"
    }
   ],
   "source": [
    "count.plot.bar()"
   ]
  },
  {
   "cell_type": "code",
   "execution_count": 18,
   "metadata": {
    "collapsed": false,
    "deletable": true,
    "editable": true
   },
   "outputs": [
    {
     "data": {
      "text/plain": [
       "SeriousDlqin2yrs                        273\n",
       "RevolvingUtilizationOfUnsecuredLines    273\n",
       "age                                     273\n",
       "NumberOfTime3059DaysPastDueNotWorse     273\n",
       "DebtRatio                               273\n",
       "MonthlyIncome                           152\n",
       "NumberOfOpenCreditLinesAndLoans         273\n",
       "NumberOfTimes90DaysLate                 273\n",
       "NumberRealEstateLoansOrLines            273\n",
       "NumberOfTime6089DaysPastDueNotWorse     273\n",
       "NumberOfDependents                      242\n",
       "dtype: int64"
      ]
     },
     "execution_count": 18,
     "metadata": {},
     "output_type": "execute_result"
    }
   ],
   "source": [
    "training.query('NumberOfTime3059DaysPastDueNotWorse > 10')\\\n",
    "    .count()"
   ]
  },
  {
   "cell_type": "markdown",
   "metadata": {
    "deletable": true,
    "editable": true
   },
   "source": [
    "There is a lot of 0's, probably the 98/96 which are the highest value would be a positive in the delinquence behavior."
   ]
  },
  {
   "cell_type": "code",
   "execution_count": 19,
   "metadata": {
    "collapsed": false,
    "deletable": true,
    "editable": true
   },
   "outputs": [
    {
     "data": {
      "text/plain": [
       "SeriousDlqin2yrs                        150\n",
       "RevolvingUtilizationOfUnsecuredLines    150\n",
       "age                                     150\n",
       "NumberOfTime3059DaysPastDueNotWorse     150\n",
       "DebtRatio                               150\n",
       "MonthlyIncome                            87\n",
       "NumberOfOpenCreditLinesAndLoans         150\n",
       "NumberOfTimes90DaysLate                 150\n",
       "NumberRealEstateLoansOrLines            150\n",
       "NumberOfTime6089DaysPastDueNotWorse     150\n",
       "NumberOfDependents                      138\n",
       "dtype: int64"
      ]
     },
     "execution_count": 19,
     "metadata": {},
     "output_type": "execute_result"
    }
   ],
   "source": [
    "training.query('SeriousDlqin2yrs == 1' + \\\n",
    "               'and NumberOfTime3059DaysPastDueNotWorse > 10').count()"
   ]
  },
  {
   "cell_type": "code",
   "execution_count": 20,
   "metadata": {
    "collapsed": false,
    "deletable": true,
    "editable": true
   },
   "outputs": [
    {
     "data": {
      "text/plain": [
       "SeriousDlqin2yrs                        123\n",
       "RevolvingUtilizationOfUnsecuredLines    123\n",
       "age                                     123\n",
       "NumberOfTime3059DaysPastDueNotWorse     123\n",
       "DebtRatio                               123\n",
       "MonthlyIncome                            65\n",
       "NumberOfOpenCreditLinesAndLoans         123\n",
       "NumberOfTimes90DaysLate                 123\n",
       "NumberRealEstateLoansOrLines            123\n",
       "NumberOfTime6089DaysPastDueNotWorse     123\n",
       "NumberOfDependents                      104\n",
       "dtype: int64"
      ]
     },
     "execution_count": 20,
     "metadata": {},
     "output_type": "execute_result"
    }
   ],
   "source": [
    "training.query('SeriousDlqin2yrs == 0' + \\\n",
    "               'and NumberOfTime3059DaysPastDueNotWorse > 10').count()"
   ]
  },
  {
   "cell_type": "markdown",
   "metadata": {
    "deletable": true,
    "editable": true
   },
   "source": [
    "Looking at the data like this, it seems nearly half for both, not much of a change."
   ]
  },
  {
   "cell_type": "code",
   "execution_count": 21,
   "metadata": {
    "collapsed": false,
    "deletable": true,
    "editable": true
   },
   "outputs": [
    {
     "data": {
      "text/plain": [
       "0     9120.0\n",
       "1     2600.0\n",
       "2     3042.0\n",
       "3     3300.0\n",
       "4    63588.0\n",
       "Name: MonthlyIncome, dtype: float64"
      ]
     },
     "execution_count": 21,
     "metadata": {},
     "output_type": "execute_result"
    }
   ],
   "source": [
    "income = training.MonthlyIncome\n",
    "# income = income.dropna()\n",
    "\n",
    "income.head()"
   ]
  },
  {
   "cell_type": "code",
   "execution_count": 22,
   "metadata": {
    "collapsed": false,
    "deletable": true,
    "editable": true
   },
   "outputs": [
    {
     "data": {
      "text/plain": [
       "3008750.0"
      ]
     },
     "execution_count": 22,
     "metadata": {},
     "output_type": "execute_result"
    }
   ],
   "source": [
    "income.max()"
   ]
  },
  {
   "cell_type": "code",
   "execution_count": 23,
   "metadata": {
    "collapsed": false,
    "deletable": true,
    "editable": true
   },
   "outputs": [
    {
     "data": {
      "text/plain": [
       "0.0"
      ]
     },
     "execution_count": 23,
     "metadata": {},
     "output_type": "execute_result"
    }
   ],
   "source": [
    "income.min()"
   ]
  },
  {
   "cell_type": "code",
   "execution_count": 24,
   "metadata": {
    "collapsed": false,
    "deletable": true,
    "editable": true
   },
   "outputs": [
    {
     "data": {
      "text/html": [
       "<div>\n",
       "<style>\n",
       "    .dataframe thead tr:only-child th {\n",
       "        text-align: right;\n",
       "    }\n",
       "\n",
       "    .dataframe thead th {\n",
       "        text-align: left;\n",
       "    }\n",
       "\n",
       "    .dataframe tbody tr th {\n",
       "        vertical-align: top;\n",
       "    }\n",
       "</style>\n",
       "<table border=\"1\" class=\"dataframe\">\n",
       "  <thead>\n",
       "    <tr style=\"text-align: right;\">\n",
       "      <th></th>\n",
       "      <th>SeriousDlqin2yrs</th>\n",
       "      <th>MonthlyIncome</th>\n",
       "      <th>MonthlyIncomeClass</th>\n",
       "    </tr>\n",
       "  </thead>\n",
       "  <tbody>\n",
       "    <tr>\n",
       "      <th>0</th>\n",
       "      <td>1</td>\n",
       "      <td>9120.0</td>\n",
       "      <td>0.0</td>\n",
       "    </tr>\n",
       "    <tr>\n",
       "      <th>1</th>\n",
       "      <td>0</td>\n",
       "      <td>2600.0</td>\n",
       "      <td>0.0</td>\n",
       "    </tr>\n",
       "    <tr>\n",
       "      <th>2</th>\n",
       "      <td>0</td>\n",
       "      <td>3042.0</td>\n",
       "      <td>0.0</td>\n",
       "    </tr>\n",
       "    <tr>\n",
       "      <th>3</th>\n",
       "      <td>0</td>\n",
       "      <td>3300.0</td>\n",
       "      <td>0.0</td>\n",
       "    </tr>\n",
       "    <tr>\n",
       "      <th>4</th>\n",
       "      <td>0</td>\n",
       "      <td>63588.0</td>\n",
       "      <td>0.0</td>\n",
       "    </tr>\n",
       "  </tbody>\n",
       "</table>\n",
       "</div>"
      ],
      "text/plain": [
       "   SeriousDlqin2yrs  MonthlyIncome  MonthlyIncomeClass\n",
       "0                 1         9120.0                 0.0\n",
       "1                 0         2600.0                 0.0\n",
       "2                 0         3042.0                 0.0\n",
       "3                 0         3300.0                 0.0\n",
       "4                 0        63588.0                 0.0"
      ]
     },
     "execution_count": 24,
     "metadata": {},
     "output_type": "execute_result"
    }
   ],
   "source": [
    "import numpy as np\n",
    "\n",
    "income_classes = pd.Series(np.zeros(len(income)), name='MonthlyIncomeClass')\n",
    "income_frame = pd.concat([training.SeriousDlqin2yrs, income, income_classes], axis=1)\n",
    "income_frame.head()"
   ]
  },
  {
   "cell_type": "code",
   "execution_count": 25,
   "metadata": {
    "collapsed": false,
    "deletable": true,
    "editable": true
   },
   "outputs": [
    {
     "name": "stdout",
     "output_type": "stream",
     "text": [
      "[0, 3000, 5000, 10000, 20000, 100000]\n"
     ]
    },
    {
     "data": {
      "text/html": [
       "<div>\n",
       "<style>\n",
       "    .dataframe thead tr:only-child th {\n",
       "        text-align: right;\n",
       "    }\n",
       "\n",
       "    .dataframe thead th {\n",
       "        text-align: left;\n",
       "    }\n",
       "\n",
       "    .dataframe tbody tr th {\n",
       "        vertical-align: top;\n",
       "    }\n",
       "</style>\n",
       "<table border=\"1\" class=\"dataframe\">\n",
       "  <thead>\n",
       "    <tr style=\"text-align: right;\">\n",
       "      <th></th>\n",
       "      <th>SeriousDlqin2yrs</th>\n",
       "      <th>MonthlyIncome</th>\n",
       "      <th>MonthlyIncomeClass</th>\n",
       "    </tr>\n",
       "  </thead>\n",
       "  <tbody>\n",
       "    <tr>\n",
       "      <th>0</th>\n",
       "      <td>1</td>\n",
       "      <td>9120.0</td>\n",
       "      <td>2</td>\n",
       "    </tr>\n",
       "    <tr>\n",
       "      <th>1</th>\n",
       "      <td>0</td>\n",
       "      <td>2600.0</td>\n",
       "      <td>0</td>\n",
       "    </tr>\n",
       "    <tr>\n",
       "      <th>2</th>\n",
       "      <td>0</td>\n",
       "      <td>3042.0</td>\n",
       "      <td>1</td>\n",
       "    </tr>\n",
       "    <tr>\n",
       "      <th>3</th>\n",
       "      <td>0</td>\n",
       "      <td>3300.0</td>\n",
       "      <td>1</td>\n",
       "    </tr>\n",
       "    <tr>\n",
       "      <th>4</th>\n",
       "      <td>0</td>\n",
       "      <td>63588.0</td>\n",
       "      <td>4</td>\n",
       "    </tr>\n",
       "  </tbody>\n",
       "</table>\n",
       "</div>"
      ],
      "text/plain": [
       "   SeriousDlqin2yrs  MonthlyIncome MonthlyIncomeClass\n",
       "0                 1         9120.0                  2\n",
       "1                 0         2600.0                  0\n",
       "2                 0         3042.0                  1\n",
       "3                 0         3300.0                  1\n",
       "4                 0        63588.0                  4"
      ]
     },
     "execution_count": 25,
     "metadata": {},
     "output_type": "execute_result"
    }
   ],
   "source": [
    "max_income = income.max()\n",
    "range_classes = [0, 3000, 5000, 10000, 20000, 100000]\n",
    "# range_classes = [max_income // i for i in range(2, 7)]\n",
    "# range_classes.insert(0, 0)\n",
    "# range_classes = sorted(range_classes)\n",
    "\n",
    "print(range_classes)\n",
    "\n",
    "income_frame['MonthlyIncomeClass'] = pd.cut(income_frame.MonthlyIncome, \n",
    "                                            bins=range_classes,\n",
    "                                            labels=[i for i in range(len(range_classes) -1)],\n",
    "                                            include_lowest=True)\n",
    "\n",
    "income_frame.head()"
   ]
  },
  {
   "cell_type": "code",
   "execution_count": 26,
   "metadata": {
    "collapsed": false,
    "deletable": true,
    "editable": true
   },
   "outputs": [
    {
     "name": "stdout",
     "output_type": "stream",
     "text": [
      "SeriousDlqin2yrs      25084\n",
      "MonthlyIncome         25084\n",
      "MonthlyIncomeClass    25084\n",
      "dtype: int64\n",
      "SeriousDlqin2yrs      150000\n",
      "MonthlyIncome         120269\n",
      "MonthlyIncomeClass    120199\n",
      "dtype: int64\n"
     ]
    }
   ],
   "source": [
    "print income_frame[income_frame.MonthlyIncomeClass == 0].count()\n",
    "print income_frame.count()"
   ]
  },
  {
   "cell_type": "code",
   "execution_count": 27,
   "metadata": {
    "collapsed": false,
    "deletable": true,
    "editable": true
   },
   "outputs": [
    {
     "data": {
      "text/plain": [
       "<matplotlib.axes._subplots.AxesSubplot at 0x7f6d7c7c5f90>"
      ]
     },
     "execution_count": 27,
     "metadata": {},
     "output_type": "execute_result"
    },
    {
     "data": {
      "image/png": "[encoded data removed]",
      "text/plain": [
       "<matplotlib.figure.Figure at 0x7f6d44c71110>"
      ]
     },
     "metadata": {},
     "output_type": "display_data"
    }
   ],
   "source": [
    "income_frame.MonthlyIncomeClass.value_counts().plot(kind='bar')"
   ]
  },
  {
   "cell_type": "code",
   "execution_count": 28,
   "metadata": {
    "collapsed": false,
    "deletable": true,
    "editable": true
   },
   "outputs": [
    {
     "data": {
      "text/plain": [
       "<matplotlib.axes._subplots.AxesSubplot at 0x7f6d477d2510>"
      ]
     },
     "execution_count": 28,
     "metadata": {},
     "output_type": "execute_result"
    },
    {
     "data": {
      "image/png": "[encoded data removed]",
      "text/plain": [
       "<matplotlib.figure.Figure at 0x7f6d47a00ed0>"
      ]
     },
     "metadata": {},
     "output_type": "display_data"
    }
   ],
   "source": [
    "income_frame.MonthlyIncomeClass.value_counts()\\\n",
    "    .plot(kind='pie', autopct='%1.1f%%', shadow=True)"
   ]
  },
  {
   "cell_type": "code",
   "execution_count": 29,
   "metadata": {
    "collapsed": false,
    "deletable": true,
    "editable": true
   },
   "outputs": [
    {
     "data": {
      "text/plain": [
       "<matplotlib.axes._subplots.AxesSubplot at 0x7f6d479939d0>"
      ]
     },
     "execution_count": 29,
     "metadata": {},
     "output_type": "execute_result"
    },
    {
     "data": {
      "image/png": "[encoded data removed]",
      "text/plain": [
       "<matplotlib.figure.Figure at 0x7f6d47a00f90>"
      ]
     },
     "metadata": {},
     "output_type": "display_data"
    }
   ],
   "source": [
    "income_frame.query('SeriousDlqin2yrs == 0')\\\n",
    "    .MonthlyIncomeClass\\\n",
    "    .value_counts()\\\n",
    "    .plot(kind='pie', autopct='%1.1f%%', shadow=True)"
   ]
  },
  {
   "cell_type": "code",
   "execution_count": 30,
   "metadata": {
    "collapsed": false,
    "deletable": true,
    "editable": true
   },
   "outputs": [
    {
     "data": {
      "text/plain": [
       "<matplotlib.axes._subplots.AxesSubplot at 0x7f6d4753c210>"
      ]
     },
     "execution_count": 30,
     "metadata": {},
     "output_type": "execute_result"
    },
    {
     "data": {
      "image/png": "[encoded data removed]",
      "text/plain": [
       "<matplotlib.figure.Figure at 0x7f6d4752de90>"
      ]
     },
     "metadata": {},
     "output_type": "display_data"
    }
   ],
   "source": [
    "income_frame.query('SeriousDlqin2yrs == 1')\\\n",
    "    .MonthlyIncomeClass\\\n",
    "    .value_counts().plot(kind='pie', autopct='%1.1f%%', shadow=True)"
   ]
  },
  {
   "cell_type": "markdown",
   "metadata": {
    "deletable": true,
    "editable": true
   },
   "source": [
    "The difference is not that big on nearly all the MonthlyIncome categories we selected.\n",
    "\n",
    "But the lowest one, < 3000, is clearly the one with the big changes.\n",
    "\n",
    "We should relate the Income with  the Debt Ratio, since both are related in a way"
   ]
  },
  {
   "cell_type": "code",
   "execution_count": 31,
   "metadata": {
    "collapsed": false,
    "deletable": true,
    "editable": true
   },
   "outputs": [
    {
     "name": "stdout",
     "output_type": "stream",
     "text": [
      "[0, 0.2, 0.4, 0.6, 0.8, 1]\n"
     ]
    },
    {
     "data": {
      "text/html": [
       "<div>\n",
       "<style>\n",
       "    .dataframe thead tr:only-child th {\n",
       "        text-align: right;\n",
       "    }\n",
       "\n",
       "    .dataframe thead th {\n",
       "        text-align: left;\n",
       "    }\n",
       "\n",
       "    .dataframe tbody tr th {\n",
       "        vertical-align: top;\n",
       "    }\n",
       "</style>\n",
       "<table border=\"1\" class=\"dataframe\">\n",
       "  <thead>\n",
       "    <tr style=\"text-align: right;\">\n",
       "      <th></th>\n",
       "      <th>SeriousDlqin2yrs</th>\n",
       "      <th>MonthlyIncome</th>\n",
       "      <th>MonthlyIncomeClass</th>\n",
       "      <th>DebtRatio</th>\n",
       "      <th>DebtRatioClass</th>\n",
       "    </tr>\n",
       "  </thead>\n",
       "  <tbody>\n",
       "    <tr>\n",
       "      <th>0</th>\n",
       "      <td>1</td>\n",
       "      <td>9120.0</td>\n",
       "      <td>2</td>\n",
       "      <td>0.802982</td>\n",
       "      <td>4</td>\n",
       "    </tr>\n",
       "    <tr>\n",
       "      <th>1</th>\n",
       "      <td>0</td>\n",
       "      <td>2600.0</td>\n",
       "      <td>0</td>\n",
       "      <td>0.121876</td>\n",
       "      <td>0</td>\n",
       "    </tr>\n",
       "    <tr>\n",
       "      <th>2</th>\n",
       "      <td>0</td>\n",
       "      <td>3042.0</td>\n",
       "      <td>1</td>\n",
       "      <td>0.085113</td>\n",
       "      <td>0</td>\n",
       "    </tr>\n",
       "    <tr>\n",
       "      <th>3</th>\n",
       "      <td>0</td>\n",
       "      <td>3300.0</td>\n",
       "      <td>1</td>\n",
       "      <td>0.036050</td>\n",
       "      <td>0</td>\n",
       "    </tr>\n",
       "    <tr>\n",
       "      <th>4</th>\n",
       "      <td>0</td>\n",
       "      <td>63588.0</td>\n",
       "      <td>4</td>\n",
       "      <td>0.024926</td>\n",
       "      <td>0</td>\n",
       "    </tr>\n",
       "  </tbody>\n",
       "</table>\n",
       "</div>"
      ],
      "text/plain": [
       "   SeriousDlqin2yrs  MonthlyIncome MonthlyIncomeClass  DebtRatio  \\\n",
       "0                 1         9120.0                  2   0.802982   \n",
       "1                 0         2600.0                  0   0.121876   \n",
       "2                 0         3042.0                  1   0.085113   \n",
       "3                 0         3300.0                  1   0.036050   \n",
       "4                 0        63588.0                  4   0.024926   \n",
       "\n",
       "  DebtRatioClass  \n",
       "0              4  \n",
       "1              0  \n",
       "2              0  \n",
       "3              0  \n",
       "4              0  "
      ]
     },
     "execution_count": 31,
     "metadata": {},
     "output_type": "execute_result"
    }
   ],
   "source": [
    "income_frame['DebtRatio'] = training.DebtRatio\n",
    "\n",
    "range_classes = [0, 0.20, 0.40, 0.60, 0.80, 1]\n",
    "\n",
    "print(range_classes)\n",
    "\n",
    "income_frame['DebtRatioClass']  = pd.cut(income_frame.DebtRatio, \n",
    "                                            bins=range_classes,\n",
    "                                            labels=[i for i in range(len(range_classes) -1)],\n",
    "                                            include_lowest=True)\n",
    "\n",
    "income_frame.head()"
   ]
  },
  {
   "cell_type": "code",
   "execution_count": 32,
   "metadata": {
    "collapsed": false,
    "deletable": true,
    "editable": true
   },
   "outputs": [
    {
     "data": {
      "text/plain": [
       "<matplotlib.axes._subplots.AxesSubplot at 0x7f6d47553850>"
      ]
     },
     "execution_count": 32,
     "metadata": {},
     "output_type": "execute_result"
    },
    {
     "data": {
      "image/png": "[encoded data removed]",
      "text/plain": [
       "<matplotlib.figure.Figure at 0x7f6d47971d50>"
      ]
     },
     "metadata": {},
     "output_type": "display_data"
    }
   ],
   "source": [
    "income_frame.query('SeriousDlqin2yrs == 1')\\\n",
    "    .DebtRatioClass\\\n",
    "    .value_counts().plot(kind='pie', autopct='%1.1f%%', shadow=True)"
   ]
  },
  {
   "cell_type": "code",
   "execution_count": 33,
   "metadata": {
    "collapsed": false,
    "deletable": true,
    "editable": true
   },
   "outputs": [
    {
     "data": {
      "text/plain": [
       "<matplotlib.axes._subplots.AxesSubplot at 0x7f6d4736d0d0>"
      ]
     },
     "execution_count": 33,
     "metadata": {},
     "output_type": "execute_result"
    },
    {
     "data": {
      "image/png": "[encoded data removed]",
      "text/plain": [
       "<matplotlib.figure.Figure at 0x7f6d473812d0>"
      ]
     },
     "metadata": {},
     "output_type": "display_data"
    }
   ],
   "source": [
    "income_frame.query('SeriousDlqin2yrs == 0')\\\n",
    "    .DebtRatioClass\\\n",
    "    .value_counts().plot(kind='pie', autopct='%1.1f%%', shadow=True)"
   ]
  },
  {
   "cell_type": "code",
   "execution_count": 34,
   "metadata": {
    "collapsed": false,
    "deletable": true,
    "editable": true
   },
   "outputs": [
    {
     "name": "stdout",
     "output_type": "stream",
     "text": [
      "MonthlyIncomeClass 0\n"
     ]
    },
    {
     "data": {
      "image/png": "[encoded data removed]",
      "text/plain": [
       "<matplotlib.figure.Figure at 0x7f6d47a141d0>"
      ]
     },
     "metadata": {},
     "output_type": "display_data"
    },
    {
     "name": "stdout",
     "output_type": "stream",
     "text": [
      "MonthlyIncomeClass 1\n"
     ]
    },
    {
     "data": {
      "image/png": "[encoded data removed]",
      "text/plain": [
       "<matplotlib.figure.Figure at 0x7f6d45078810>"
      ]
     },
     "metadata": {},
     "output_type": "display_data"
    },
    {
     "name": "stdout",
     "output_type": "stream",
     "text": [
      "MonthlyIncomeClass 2\n"
     ]
    },
    {
     "data": {
      "image/png": "[encoded data removed]",
      "text/plain": [
       "<matplotlib.figure.Figure at 0x7f6d45046390>"
      ]
     },
     "metadata": {},
     "output_type": "display_data"
    },
    {
     "name": "stdout",
     "output_type": "stream",
     "text": [
      "MonthlyIncomeClass 3\n"
     ]
    },
    {
     "data": {
      "image/png": "[encoded data removed]",
      "text/plain": [
       "<matplotlib.figure.Figure at 0x7f6d44ea6cd0>"
      ]
     },
     "metadata": {},
     "output_type": "display_data"
    },
    {
     "name": "stdout",
     "output_type": "stream",
     "text": [
      "MonthlyIncomeClass 4\n"
     ]
    },
    {
     "data": {
      "image/png": "[encoded data removed]",
      "text/plain": [
       "<matplotlib.figure.Figure at 0x7f6d44dfdb90>"
      ]
     },
     "metadata": {},
     "output_type": "display_data"
    }
   ],
   "source": [
    "import matplotlib.pyplot as plt\n",
    "\n",
    "for i in range(5):\n",
    "    print 'MonthlyIncomeClass %s' % i\n",
    "    income_frame.query('SeriousDlqin2yrs == 0 and MonthlyIncomeClass == %s' % i)\\\n",
    "        .DebtRatioClass\\\n",
    "        .value_counts().plot(kind='pie', autopct='%1.1f%%', shadow=True)\n",
    "    plt.show()"
   ]
  },
  {
   "cell_type": "code",
   "execution_count": 35,
   "metadata": {
    "collapsed": false,
    "deletable": true,
    "editable": true
   },
   "outputs": [
    {
     "name": "stdout",
     "output_type": "stream",
     "text": [
      "MonthlyIncomeClass 0\n"
     ]
    },
    {
     "data": {
      "image/png": "[encoded data removed]",
      "text/plain": [
       "<matplotlib.figure.Figure at 0x7f6d47a04410>"
      ]
     },
     "metadata": {},
     "output_type": "display_data"
    },
    {
     "name": "stdout",
     "output_type": "stream",
     "text": [
      "MonthlyIncomeClass 1\n"
     ]
    },
    {
     "data": {
      "image/png": "[encoded data removed]",
      "text/plain": [
       "<matplotlib.figure.Figure at 0x7f6d476e2250>"
      ]
     },
     "metadata": {},
     "output_type": "display_data"
    },
    {
     "name": "stdout",
     "output_type": "stream",
     "text": [
      "MonthlyIncomeClass 2\n"
     ]
    },
    {
     "data": {
      "image/png": "[encoded data removed]",
      "text/plain": [
       "<matplotlib.figure.Figure at 0x7f6d44fa1190>"
      ]
     },
     "metadata": {},
     "output_type": "display_data"
    },
    {
     "name": "stdout",
     "output_type": "stream",
     "text": [
      "MonthlyIncomeClass 3\n"
     ]
    },
    {
     "data": {
      "image/png": "[encoded data removed]",
      "text/plain": [
       "<matplotlib.figure.Figure at 0x7f6d4502aa90>"
      ]
     },
     "metadata": {},
     "output_type": "display_data"
    },
    {
     "name": "stdout",
     "output_type": "stream",
     "text": [
      "MonthlyIncomeClass 4\n"
     ]
    },
    {
     "data": {
      "image/png": "[encoded data removed]",
      "text/plain": [
       "<matplotlib.figure.Figure at 0x7f6d44f7ca90>"
      ]
     },
     "metadata": {},
     "output_type": "display_data"
    }
   ],
   "source": [
    "for i in range(5):\n",
    "    print 'MonthlyIncomeClass %s' % i\n",
    "    income_frame.query('SeriousDlqin2yrs == 1 and MonthlyIncomeClass == %s' % i)\\\n",
    "        .DebtRatioClass\\\n",
    "        .value_counts().plot(kind='pie', autopct='%1.1f%%', shadow=True)\n",
    "    plt.show()"
   ]
  },
  {
   "cell_type": "markdown",
   "metadata": {
    "deletable": true,
    "editable": true
   },
   "source": [
    "It does not seem that there is anything wierd in the data behavior.\n",
    "\n",
    "The Highger the MonthlyIncome usually the lower would be the DebtRatio."
   ]
  },
  {
   "cell_type": "markdown",
   "metadata": {
    "deletable": true,
    "editable": true
   },
   "source": [
    "# Outlier Detections"
   ]
  },
  {
   "cell_type": "code",
   "execution_count": 4,
   "metadata": {
    "collapsed": false,
    "deletable": true,
    "editable": true
   },
   "outputs": [
    {
     "data": {
      "image/png": "[encoded data removed]",
      "text/plain": [
       "<matplotlib.figure.Figure at 0x7f9251177210>"
      ]
     },
     "metadata": {},
     "output_type": "display_data"
    }
   ],
   "source": [
    "plots.outliers(training.RevolvingUtilizationOfUnsecuredLines.sample(5000))"
   ]
  }
 ],
 "metadata": {
  "kernelspec": {
   "display_name": "Python [conda env:udacity-ml]",
   "language": "python",
   "name": "conda-env-udacity-ml-py"
  },
  "language_info": {
   "codemirror_mode": {
    "name": "ipython",
    "version": 2
   },
   "file_extension": ".py",
   "mimetype": "text/x-python",
   "name": "python",
   "nbconvert_exporter": "python",
   "pygments_lexer": "ipython2",
   "version": "2.7.13"
  }
 },
 "nbformat": 4,
 "nbformat_minor": 2
}
