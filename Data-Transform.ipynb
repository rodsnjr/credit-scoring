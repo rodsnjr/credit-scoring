{
 "cells": [
  {
   "cell_type": "code",
   "execution_count": 77,
   "metadata": {
    "collapsed": false
   },
   "outputs": [],
   "source": [
    "import utils\n",
    "import plots\n",
    "import pandas as pd\n",
    "import numpy as np\n",
    "\n",
    "%matplotlib inline\n",
    "\n",
    "training = utils.load_training_set()"
   ]
  },
  {
   "cell_type": "code",
   "execution_count": 102,
   "metadata": {
    "collapsed": false
   },
   "outputs": [
    {
     "name": "stdout",
     "output_type": "stream",
     "text": [
      "Incomes in No Income 605\n"
     ]
    }
   ],
   "source": [
    "training['UnknownNumberOfDependents'] = (training.NumberOfDependents.isnull() * 1)\n",
    "training['UnknownMonthlyIncome'] = (training.MonthlyIncome.isnull() * 1)\n",
    "\n",
    "training['NoDependents'] = training.NumberOfDependents[training.NumberOfDependents == 0]\n",
    "training.loc[training.NumberOfDependents.isnull(), 'NoDependents'] = 0\n",
    "\n",
    "training.loc[training.UnknownNumberOfDependents == 1, 'NumberOfDependents'] = 0\n",
    "\n",
    "training.NoIncome = training.MonthlyIncome\n",
    "training.loc[training.MonthlyIncome != 0, 'NoIncome'] = 0\n",
    "training.loc[training.MonthlyIncome == 0, 'NoIncome'] = 1\n",
    "training.NoIncome.fillna(0)\n",
    "\n",
    "print('Incomes in No Income %s' % training.NoIncome[training.NoIncome == 1].count())\n",
    "\n",
    "training.loc[training.UnknownMonthlyIncome == 1, 'MonthlyIncome'] = 0"
   ]
  },
  {
   "cell_type": "code",
   "execution_count": 107,
   "metadata": {
    "collapsed": false
   },
   "outputs": [
    {
     "name": "stdout",
     "output_type": "stream",
     "text": [
      "Zero Debt Ratios 32222\n",
      "UnkMonthlyIncDebtRatio 150000\n"
     ]
    }
   ],
   "source": [
    "training['ZeroDebtRatio'] = training.DebtRatio\n",
    "training.loc[training.DebtRatio == 0, 'ZeroDebtRatio'] = 1\n",
    "training.loc[training.DebtRatio != 0, 'ZeroDebtRatio'] = 0\n",
    "\n",
    "print('Zero Debt Ratios %s' % training.ZeroDebtRatio[training.ZeroDebtRatio == 1].count())\n",
    "\n",
    "training['UnknownIncomeDebtRatio'] = training.DebtRatio\n",
    "training.loc[training.UnknownMonthlyIncome == 0, 'UnknownIncomeDebtRatio'] = 0\n",
    "training.loc[training.UnknownMonthlyIncome == 1, 'DebtRatio'] = 0\n",
    "\n",
    "print('UnkMonthlyIncDebtRatio %s' \\\n",
    "      % training.UnknownIncomeDebtRatio[training.UnknownIncomeDebtRatio == 0].count())"
   ]
  },
  {
   "cell_type": "code",
   "execution_count": 110,
   "metadata": {
    "collapsed": false
   },
   "outputs": [
    {
     "name": "stderr",
     "output_type": "stream",
     "text": [
      "/media/rodsnjr/Files/miniconda3/envs/udacity-ml/lib/python2.7/site-packages/ipykernel/__main__.py:2: RuntimeWarning: divide by zero encountered in log\n",
      "  from ipykernel import kernelapp as app\n",
      "/media/rodsnjr/Files/miniconda3/envs/udacity-ml/lib/python2.7/site-packages/ipykernel/__main__.py:5: RuntimeWarning: divide by zero encountered in log\n",
      "/media/rodsnjr/Files/miniconda3/envs/udacity-ml/lib/python2.7/site-packages/ipykernel/__main__.py:7: RuntimeWarning: divide by zero encountered in log\n"
     ]
    }
   ],
   "source": [
    "training['WeirdRevolvingUtilization'] = training.RevolvingUtilizationOfUnsecuredLines\n",
    "training.loc[np.log(training.RevolvingUtilizationOfUnsecuredLines) > 3, 'WeirdRevolvingUtilization'] = 0\n",
    "  \n",
    "training.loc[training.RevolvingUtilizationOfUnsecuredLines == 0, 'ZeroRevolvingUtilization'] = 0\n",
    "training.loc[np.log(training.RevolvingUtilizationOfUnsecuredLines) > 3, \\\n",
    "             'RevolvingUtilizationOfUnsecuredLines'] = 0\n",
    "\n",
    "training['LogDebt'] = np.log(np.maximum(training.MonthlyIncome, np.ones(len(training.MonthlyIncome))) \\\n",
    "                             * training.DebtRatio)\n",
    "training.loc[np.isfinite(training.LogDebt), 'LogDebt'] = 0"
   ]
  },
  {
   "cell_type": "code",
   "execution_count": 111,
   "metadata": {
    "collapsed": true
   },
   "outputs": [],
   "source": [
    "training['RevolvingLines'] = training.NumberOfOpenCreditLinesAndLoans - training.NumberRealEstateLoansOrLines\n",
    "\n",
    "training['HasRevolvingLines'] = (training.RevolvingLines[training.RevolvingLines > 0] * 1)\n",
    "training['HasRealEstateLoans'] = (training.NumberRealEstateLoansOrLines[training\\\n",
    "                                                                        .NumberRealEstateLoansOrLines > 0] * 1)"
   ]
  },
  {
   "cell_type": "code",
   "execution_count": 115,
   "metadata": {
    "collapsed": false
   },
   "outputs": [],
   "source": [
    "training['EligibleSS'] = training.age[training.age > 60].astype(int)\n",
    "training['DTIOver33'] = training.NoIncome[(training.NoIncome == 0) & (training.DebtRatio > 0.33)].astype(int)\n",
    "training['DTIOver43'] = training.NoIncome[(training.NoIncome == 0) & (training.DebtRatio > 0.43)].astype(int)\n",
    "training['DisposableIncome'] = (1 - training.DebtRatio) * training.MonthlyIncome\n",
    "training.loc[training.NoIncome == 1, 'DisposableIncome'] = 0\n",
    "\n",
    "training['RevolvingToRealEstate'] = training.RevolvingLines / (1 + training.NumberRealEstateLoansOrLines)"
   ]
  },
  {
   "cell_type": "code",
   "execution_count": 117,
   "metadata": {
    "collapsed": false
   },
   "outputs": [
    {
     "name": "stdout",
     "output_type": "stream",
     "text": [
      "TODO\n"
     ]
    }
   ],
   "source": [
    "\"\"\" R\n",
    "\n",
    "x$NumberOfTime30.59DaysPastDueNotWorseLarge <- as.integer(x$NumberOfTime30.59DaysPastDueNotWorse > 90)\n",
    "x$NumberOfTime30.59DaysPastDueNotWorse96 <- as.integer(x$NumberOfTime30.59DaysPastDueNotWorse == 96)\n",
    "x$NumberOfTime30.59DaysPastDueNotWorse98 <- as.integer(x$NumberOfTime30.59DaysPastDueNotWorse == 98)\n",
    "x$Never30.59DaysPastDueNotWorse <- as.integer(x$NumberOfTime30.59DaysPastDueNotWorse == 0)\n",
    "x$NumberOfTime30.59DaysPastDueNotWorse[x$NumberOfTime30.59DaysPastDueNotWorse > 90] <- 0\n",
    "\n",
    "\"\"\"\n",
    "\n",
    "print 'TODO'"
   ]
  },
  {
   "cell_type": "code",
   "execution_count": 120,
   "metadata": {
    "collapsed": false
   },
   "outputs": [
    {
     "name": "stdout",
     "output_type": "stream",
     "text": [
      "TODO\n"
     ]
    }
   ],
   "source": [
    "\"\"\" R\n",
    "  x$NumberOfTime60.89DaysPastDueNotWorseLarge <- as.integer(x$NumberOfTime60.89DaysPastDueNotWorse > 90)\n",
    "  x$NumberOfTime60.89DaysPastDueNotWorse96 <- as.integer(x$NumberOfTime60.89DaysPastDueNotWorse == 96)\n",
    "  x$NumberOfTime60.89DaysPastDueNotWorse98 <- as.integer(x$NumberOfTime60.89DaysPastDueNotWorse == 98)\n",
    "  x$Never60.89DaysPastDueNotWorse <- as.integer(x$NumberOfTime60.89DaysPastDueNotWorse == 0)\n",
    "  x$NumberOfTime60.89DaysPastDueNotWorse[x$NumberOfTime60.89DaysPastDueNotWorse > 90] <- 0\n",
    "\"\"\"\n",
    "\n",
    "print 'TODO'"
   ]
  },
  {
   "cell_type": "code",
   "execution_count": 121,
   "metadata": {
    "collapsed": false
   },
   "outputs": [
    {
     "name": "stdout",
     "output_type": "stream",
     "text": [
      "TODO\n"
     ]
    }
   ],
   "source": [
    "\"\"\" R\n",
    "  x$NumberOfTimes90DaysLateLarge <- as.integer(x$NumberOfTimes90DaysLate > 90)\n",
    "  x$NumberOfTimes90DaysLate96 <- as.integer(x$NumberOfTimes90DaysLate == 96)\n",
    "  x$NumberOfTimes90DaysLate98 <- as.integer(x$NumberOfTimes90DaysLate == 98)\n",
    "  x$Never90DaysLate <- as.integer(x$NumberOfTimes90DaysLate == 0)\n",
    "  x$NumberOfTimes90DaysLate[x$NumberOfTimes90DaysLate > 90] <- 0\n",
    "\"\"\"\n",
    "\n",
    "print 'TODO'"
   ]
  },
  {
   "cell_type": "code",
   "execution_count": 122,
   "metadata": {
    "collapsed": false
   },
   "outputs": [
    {
     "name": "stdout",
     "output_type": "stream",
     "text": [
      "TODO\n"
     ]
    }
   ],
   "source": [
    "\"\"\" R\n",
    "\n",
    "  x$IncomeDivBy10 <- as.integer(x$MonthlyIncome %% 10 == 0)\n",
    "  x$IncomeDivBy100 <- as.integer(x$MonthlyIncome %% 100 == 0)\n",
    "  x$IncomeDivBy1000 <- as.integer(x$MonthlyIncome %% 1000 == 0)\n",
    "  x$IncomeDivBy5000 <- as.integer(x$MonthlyIncome %% 5000 == 0)\n",
    "\n",
    "\"\"\"\n",
    "\n",
    "print 'TODO'"
   ]
  },
  {
   "cell_type": "code",
   "execution_count": 123,
   "metadata": {
    "collapsed": false
   },
   "outputs": [
    {
     "name": "stdout",
     "output_type": "stream",
     "text": [
      "TODO\n"
     ]
    }
   ],
   "source": [
    "\"\"\" R\n",
    "\n",
    "  x$Weird0999Utilization <- as.integer(x$RevolvingUtilizationOfUnsecuredLines == 0.9999999)\n",
    "  x$FullUtilization <- as.integer(x$RevolvingUtilizationOfUnsecuredLines == 1)\n",
    "  x$ExcessUtilization <- as.integer(x$RevolvingUtilizationOfUnsecuredLines > 1)\n",
    "\n",
    "\n",
    "\"\"\"\n",
    "\n",
    "print 'TODO'"
   ]
  },
  {
   "cell_type": "code",
   "execution_count": 124,
   "metadata": {
    "collapsed": false
   },
   "outputs": [
    {
     "name": "stdout",
     "output_type": "stream",
     "text": [
      "TODO\n"
     ]
    }
   ],
   "source": [
    "\"\"\" R\n",
    "\n",
    "\n",
    "  x$NumberOfTime30.89DaysPastDueNotWorse <- x$NumberOfTime30.59DaysPastDueNotWorse + x$NumberOfTime60.89DaysPastDueNotWorse\n",
    "  x$Never30.89DaysPastDueNotWorse <- x$Never60.89DaysPastDueNotWorse * x$Never30.59DaysPastDueNotWorse\n",
    "\n",
    "\"\"\"\n",
    "\n",
    "print 'TODO'"
   ]
  },
  {
   "cell_type": "code",
   "execution_count": 125,
   "metadata": {
    "collapsed": false
   },
   "outputs": [
    {
     "name": "stdout",
     "output_type": "stream",
     "text": [
      "TODO\n"
     ]
    }
   ],
   "source": [
    "\"\"\" R\n",
    "\n",
    "  x$NumberOfTimesPastDue <- x$NumberOfTime30.59DaysPastDueNotWorse + x$NumberOfTime60.89DaysPastDueNotWorse + x$NumberOfTimes90DaysLate\n",
    "  x$NeverPastDue <- x$Never90DaysLate * x$Never60.89DaysPastDueNotWorse * x$Never30.59DaysPastDueNotWorse\n",
    "  x$Log.RevolvingUtilizationTimesLines <- log1p(x$RevolvingLines * x$RevolvingUtilizationOfUnsecuredLines)\n",
    "\n",
    "\"\"\"\n",
    "\n",
    "print 'TODO'"
   ]
  },
  {
   "cell_type": "code",
   "execution_count": 126,
   "metadata": {
    "collapsed": false
   },
   "outputs": [
    {
     "name": "stdout",
     "output_type": "stream",
     "text": [
      "TODO\n"
     ]
    }
   ],
   "source": [
    "\"\"\" R\n",
    "\n",
    "  x$Log.RevolvingUtilizationOfUnsecuredLines <- log(x$RevolvingUtilizationOfUnsecuredLines)\n",
    "  x$Log.RevolvingUtilizationOfUnsecuredLines[is.na(x$Log.RevolvingUtilizationOfUnsecuredLines)] <- 0\n",
    "  x$Log.RevolvingUtilizationOfUnsecuredLines[!is.finite(x$Log.RevolvingUtilizationOfUnsecuredLines)] <- 0\n",
    "  x$RevolvingUtilizationOfUnsecuredLines <- NULL\n",
    "\n",
    "\n",
    "\"\"\"\n",
    "\n",
    "print 'TODO'"
   ]
  },
  {
   "cell_type": "code",
   "execution_count": 127,
   "metadata": {
    "collapsed": false
   },
   "outputs": [
    {
     "name": "stdout",
     "output_type": "stream",
     "text": [
      "TODO\n"
     ]
    }
   ],
   "source": [
    "\"\"\" R\n",
    "\n",
    "  x$DelinquenciesPerLine <- x$NumberOfTimesPastDue / x$NumberOfOpenCreditLinesAndLoans\n",
    "  x$DelinquenciesPerLine[x$NumberOfOpenCreditLinesAndLoans == 0] <- 0\n",
    "  x$MajorDelinquenciesPerLine <- x$NumberOfTimes90DaysLate / x$NumberOfOpenCreditLinesAndLoans\n",
    "  x$MajorDelinquenciesPerLine[x$NumberOfOpenCreditLinesAndLoans == 0] <- 0\n",
    "  x$MinorDelinquenciesPerLine <- x$NumberOfTime30.89DaysPastDueNotWorse / x$NumberOfOpenCreditLinesAndLoans\n",
    "  x$MinorDelinquenciesPerLine[x$NumberOfOpenCreditLinesAndLoans == 0] <- 0\n",
    "\n",
    "\"\"\"\n",
    "\n",
    "print 'TODO'"
   ]
  },
  {
   "cell_type": "code",
   "execution_count": 128,
   "metadata": {
    "collapsed": false
   },
   "outputs": [
    {
     "name": "stdout",
     "output_type": "stream",
     "text": [
      "TODO\n"
     ]
    }
   ],
   "source": [
    "\"\"\" R\n",
    "\n",
    "  x$DelinquenciesPerRevolvingLine <- x$NumberOfTimesPastDue / x$RevolvingLines\n",
    "  x$DelinquenciesPerRevolvingLine[x$RevolvingLines == 0] <- 0\n",
    "  x$MajorDelinquenciesPerRevolvingLine <- x$NumberOfTimes90DaysLate / x$RevolvingLines\n",
    "  x$MajorDelinquenciesPerRevolvingLine[x$RevolvingLines == 0] <- 0\n",
    "  x$MinorDelinquenciesPerRevolvingLine <- x$NumberOfTime30.89DaysPastDueNotWorse / x$RevolvingLines\n",
    "  x$MinorDelinquenciesPerRevolvingLine[x$RevolvingLines == 0] <- 0\n",
    "\n",
    "\"\"\"\n",
    "\n",
    "print 'TODO'"
   ]
  },
  {
   "cell_type": "code",
   "execution_count": 129,
   "metadata": {
    "collapsed": false
   },
   "outputs": [
    {
     "name": "stdout",
     "output_type": "stream",
     "text": [
      "TODO\n"
     ]
    }
   ],
   "source": [
    "\"\"\" R\n",
    "\n",
    "  x$Log.DebtPerLine <- x$Log.Debt - log1p(x$NumberOfOpenCreditLinesAndLoans)\n",
    "  x$Log.DebtPerRealEstateLine <- x$Log.Debt - log1p(x$NumberRealEstateLoansOrLines)\n",
    "  x$Log.DebtPerPerson <- x$Log.Debt - log1p(x$NumberOfDependents)\n",
    "  x$RevolvingLinesPerPerson <- x$RevolvingLines / (1 + x$NumberOfDependents)\n",
    "  x$RealEstateLoansPerPerson <- x$NumberRealEstateLoansOrLines / (1 + x$NumberOfDependents)\n",
    "  x$UnknownNumberOfDependents <- as.integer(x$UnknownNumberOfDependents)\n",
    "  x$YearsOfAgePerDependent <- x$age / (1 + x$NumberOfDependents)\n",
    "\n",
    "\n",
    "\"\"\"\n",
    "\n",
    "print 'TODO'"
   ]
  },
  {
   "cell_type": "code",
   "execution_count": 130,
   "metadata": {
    "collapsed": false
   },
   "outputs": [
    {
     "name": "stdout",
     "output_type": "stream",
     "text": [
      "TODO\n"
     ]
    }
   ],
   "source": [
    "\"\"\" R\n",
    "\n",
    "  x$Log.MonthlyIncome <- log(x$MonthlyIncome)\n",
    "  x$Log.MonthlyIncome[!is.finite(x$Log.MonthlyIncome)|is.na(x$Log.MonthlyIncome)] <- 0\n",
    "  x$MonthlyIncome <- NULL\n",
    "  x$Log.IncomePerPerson <- x$Log.MonthlyIncome - log1p(x$NumberOfDependents)\n",
    "  x$Log.IncomeAge <- x$Log.MonthlyIncome - log1p(x$age)\n",
    "\n",
    "\"\"\"\n",
    "\n",
    "print 'TODO'"
   ]
  },
  {
   "cell_type": "code",
   "execution_count": 131,
   "metadata": {
    "collapsed": false
   },
   "outputs": [
    {
     "name": "stdout",
     "output_type": "stream",
     "text": [
      "TODO\n"
     ]
    }
   ],
   "source": [
    "\"\"\"\n",
    "\n",
    "  x$Log.NumberOfTimesPastDue <- log(x$NumberOfTimesPastDue)\n",
    "  x$Log.NumberOfTimesPastDue[!is.finite(x$Log.NumberOfTimesPastDue)] <- 0\n",
    "\n",
    "\"\"\"\n",
    "\n",
    "print 'TODO'"
   ]
  },
  {
   "cell_type": "code",
   "execution_count": 132,
   "metadata": {
    "collapsed": false
   },
   "outputs": [
    {
     "name": "stdout",
     "output_type": "stream",
     "text": [
      "TODO\n"
     ]
    }
   ],
   "source": [
    "\"\"\"\n",
    "  x$Log.NumberOfTimes90DaysLate <- log(x$NumberOfTimes90DaysLate)\n",
    "  x$Log.NumberOfTimes90DaysLate[!is.finite(x$Log.NumberOfTimes90DaysLate)] <- 0\n",
    "\n",
    "\"\"\"\n",
    "\n",
    "print 'TODO'"
   ]
  },
  {
   "cell_type": "code",
   "execution_count": 133,
   "metadata": {
    "collapsed": false
   },
   "outputs": [
    {
     "name": "stdout",
     "output_type": "stream",
     "text": [
      "TODO\n"
     ]
    }
   ],
   "source": [
    "\"\"\"\n",
    "\n",
    "  x$Log.NumberOfTime30.59DaysPastDueNotWorse <- log(x$NumberOfTime30.59DaysPastDueNotWorse)\n",
    "  x$Log.NumberOfTime30.59DaysPastDueNotWorse[!is.finite(x$Log.NumberOfTime30.59DaysPastDueNotWorse)] <- 0\n",
    "\n",
    "\"\"\"\n",
    "\n",
    "print 'TODO'"
   ]
  },
  {
   "cell_type": "code",
   "execution_count": 134,
   "metadata": {
    "collapsed": false
   },
   "outputs": [
    {
     "name": "stdout",
     "output_type": "stream",
     "text": [
      "TODO\n"
     ]
    }
   ],
   "source": [
    "\"\"\"\n",
    "\n",
    "  x$Log.NumberOfTime60.89DaysPastDueNotWorse <- log(x$NumberOfTime60.89DaysPastDueNotWorse)\n",
    "  x$Log.NumberOfTime60.89DaysPastDueNotWorse[!is.finite(x$Log.NumberOfTime60.89DaysPastDueNotWorse)] <- 0\n",
    "\n",
    "\"\"\"\n",
    "\n",
    "print 'TODO'"
   ]
  },
  {
   "cell_type": "code",
   "execution_count": 135,
   "metadata": {
    "collapsed": false
   },
   "outputs": [
    {
     "name": "stdout",
     "output_type": "stream",
     "text": [
      "TODO\n"
     ]
    }
   ],
   "source": [
    "\"\"\"\n",
    "\n",
    "  x$Log.Ratio90to30.59DaysLate <- x$Log.NumberOfTimes90DaysLate - x$Log.NumberOfTime30.59DaysPastDueNotWorse\n",
    "  x$Log.Ratio90to60.89DaysLate <- x$Log.NumberOfTimes90DaysLate - x$Log.NumberOfTime60.89DaysPastDueNotWorse\n",
    "\n",
    "\"\"\"\n",
    "\n",
    "print 'TODO'"
   ]
  },
  {
   "cell_type": "code",
   "execution_count": 136,
   "metadata": {
    "collapsed": false
   },
   "outputs": [
    {
     "name": "stdout",
     "output_type": "stream",
     "text": [
      "TODO\n"
     ]
    }
   ],
   "source": [
    "\"\"\"\n",
    "\n",
    "  x$AnyOpenCreditLinesOrLoans <- as.integer(x$NumberOfOpenCreditLinesAndLoans > 0)\n",
    "  x$Log.NumberOfOpenCreditLinesAndLoans <- log(x$NumberOfOpenCreditLinesAndLoans)\n",
    "  x$Log.NumberOfOpenCreditLinesAndLoans[!is.finite(x$Log.NumberOfOpenCreditLinesAndLoans)] <- 0\n",
    "  x$Log.NumberOfOpenCreditLinesAndLoansPerPerson <- x$Log.NumberOfOpenCreditLinesAndLoans - log1p(x$NumberOfDependents)\n",
    "\n",
    "\n",
    "\"\"\"\n",
    "\n",
    "print 'TODO'"
   ]
  },
  {
   "cell_type": "code",
   "execution_count": 137,
   "metadata": {
    "collapsed": false
   },
   "outputs": [
    {
     "name": "stdout",
     "output_type": "stream",
     "text": [
      "TODO\n"
     ]
    }
   ],
   "source": [
    "\"\"\"\n",
    "\n",
    "  x$Has.Dependents <- as.integer(x$NumberOfDependents > 0)\n",
    "  x$Log.HouseholdSize <- log1p(x$NumberOfDependents)\n",
    "  x$NumberOfDependents <- NULL\n",
    "\n",
    "\"\"\"\n",
    "\n",
    "print 'TODO'"
   ]
  },
  {
   "cell_type": "code",
   "execution_count": 138,
   "metadata": {
    "collapsed": false
   },
   "outputs": [
    {
     "name": "stdout",
     "output_type": "stream",
     "text": [
      "TODO\n"
     ]
    }
   ],
   "source": [
    "\"\"\"\n",
    "\n",
    "  x$Log.DebtRatio <- log(x$DebtRatio)\n",
    "  x$Log.DebtRatio[!is.finite(x$Log.DebtRatio)] <- 0\n",
    "  x$DebtRatio <- NULL\n",
    "\n",
    "\"\"\"\n",
    "\n",
    "print 'TODO'"
   ]
  },
  {
   "cell_type": "code",
   "execution_count": 139,
   "metadata": {
    "collapsed": false
   },
   "outputs": [
    {
     "name": "stdout",
     "output_type": "stream",
     "text": [
      "TODO\n"
     ]
    }
   ],
   "source": [
    "\"\"\"\n",
    "  x$Log.DebtPerDelinquency <- x$Log.Debt - log1p(x$NumberOfTimesPastDue)\n",
    "  x$Log.DebtPer90DaysLate <- x$Log.Debt - log1p(x$NumberOfTimes90DaysLate)\n",
    "\"\"\"\n",
    "\n",
    "print 'TODO'"
   ]
  },
  {
   "cell_type": "code",
   "execution_count": 140,
   "metadata": {
    "collapsed": false
   },
   "outputs": [
    {
     "name": "stdout",
     "output_type": "stream",
     "text": [
      "TODO\n"
     ]
    }
   ],
   "source": [
    "\"\"\"\n",
    "  x$Log.UnknownIncomeDebtRatio <- log(x$UnknownIncomeDebtRatio)\n",
    "  x$Log.UnknownIncomeDebtRatio[!is.finite(x$Log.UnknownIncomeDebtRatio)] <- 0\n",
    "  x$IntegralDebtRatio <- NULL\n",
    "  x$Log.UnknownIncomeDebtRatioPerPerson <- x$Log.UnknownIncomeDebtRatio - x$Log.HouseholdSize\n",
    "  x$Log.UnknownIncomeDebtRatioPerLine <- x$Log.UnknownIncomeDebtRatio - log1p(x$NumberOfOpenCreditLinesAndLoans)\n",
    "  x$Log.UnknownIncomeDebtRatioPerRealEstateLine <- x$Log.UnknownIncomeDebtRatio - log1p(x$NumberRealEstateLoansOrLines)\n",
    "  x$Log.UnknownIncomeDebtRatioPerDelinquency <- x$Log.UnknownIncomeDebtRatio - log1p(x$NumberOfTimesPastDue)\n",
    "  x$Log.UnknownIncomeDebtRatioPer90DaysLate <- x$Log.UnknownIncomeDebtRatio - log1p(x$NumberOfTimes90DaysLate)\n",
    "\n",
    "\"\"\"\n",
    "print 'TODO'"
   ]
  },
  {
   "cell_type": "code",
   "execution_count": 141,
   "metadata": {
    "collapsed": false
   },
   "outputs": [
    {
     "name": "stdout",
     "output_type": "stream",
     "text": [
      "TODO\n"
     ]
    }
   ],
   "source": [
    "\"\"\"\n",
    "  x$Log.NumberRealEstateLoansOrLines <- log(x$NumberRealEstateLoansOrLines)\n",
    "  x$Log.NumberRealEstateLoansOrLines[!is.finite(x$Log.NumberRealEstateLoansOrLines)] <- 0\n",
    "  x$NumberRealEstateLoansOrLines <- NULL\n",
    "\"\"\"\n",
    "\n",
    "print 'TODO'"
   ]
  },
  {
   "cell_type": "code",
   "execution_count": 142,
   "metadata": {
    "collapsed": false
   },
   "outputs": [
    {
     "name": "stdout",
     "output_type": "stream",
     "text": [
      "TODO\n"
     ]
    }
   ],
   "source": [
    "\"\"\"\n",
    "  x$NumberOfOpenCreditLinesAndLoans <- NULL\n",
    "  \n",
    "  x$NumberOfTimesPastDue <- NULL\n",
    "  x$NumberOfTimes90DaysLate <- NULL\n",
    "  x$NumberOfTime30.59DaysPastDueNotWorse <- NULL\n",
    "  x$NumberOfTime60.89DaysPastDueNotWorse <- NULL\n",
    "\"\"\"\n",
    "\n",
    "print 'TODO'"
   ]
  },
  {
   "cell_type": "code",
   "execution_count": 143,
   "metadata": {
    "collapsed": false
   },
   "outputs": [
    {
     "name": "stdout",
     "output_type": "stream",
     "text": [
      "TODO\n"
     ]
    }
   ],
   "source": [
    "\"\"\"\n",
    "  x$LowAge <- as.integer(x$age < 18)\n",
    "  x$Log.age <- log(x$age - 17)\n",
    "  x$Log.age[x$LowAge == 1] <- 0\n",
    "  x$age <- NULL\n",
    "\"\"\"\n",
    "\n",
    "print 'TODO'"
   ]
  }
 ],
 "metadata": {
  "kernelspec": {
   "display_name": "Python [conda env:udacity-ml]",
   "language": "python",
   "name": "conda-env-udacity-ml-py"
  },
  "language_info": {
   "codemirror_mode": {
    "name": "ipython",
    "version": 2
   },
   "file_extension": ".py",
   "mimetype": "text/x-python",
   "name": "python",
   "nbconvert_exporter": "python",
   "pygments_lexer": "ipython2",
   "version": "2.7.13"
  }
 },
 "nbformat": 4,
 "nbformat_minor": 2
}
