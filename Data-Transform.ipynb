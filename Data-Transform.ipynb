{
 "cells": [
  {
   "cell_type": "code",
   "execution_count": 1,
   "metadata": {
    "collapsed": false,
    "deletable": true,
    "editable": true
   },
   "outputs": [
    {
     "name": "stderr",
     "output_type": "stream",
     "text": [
      "/media/rodsnjr/Files/miniconda3/envs/udacity-ml/lib/python2.7/site-packages/sklearn/cross_validation.py:41: DeprecationWarning: This module was deprecated in version 0.18 in favor of the model_selection module into which all the refactored classes and functions are moved. Also note that the interface of the new CV iterators are different from that of this module. This module will be removed in 0.20.\n",
      "  \"This module will be removed in 0.20.\", DeprecationWarning)\n"
     ]
    }
   ],
   "source": [
    "import utils\n",
    "import plots\n",
    "import pandas as pd\n",
    "import numpy as np\n",
    "\n",
    "%matplotlib inline\n",
    "\n",
    "training = utils.load_training_set()"
   ]
  },
  {
   "cell_type": "markdown",
   "metadata": {
    "deletable": true,
    "editable": true
   },
   "source": [
    "We start by separating the Income, and Number of Dependents into different set of binary classes.\n",
    "\n"
   ]
  },
  {
   "cell_type": "code",
   "execution_count": 2,
   "metadata": {
    "collapsed": false,
    "deletable": true,
    "editable": true
   },
   "outputs": [
    {
     "name": "stdout",
     "output_type": "stream",
     "text": [
      "Incomes in No Income 605\n",
      "Amount of No Dependents 90826\n"
     ]
    }
   ],
   "source": [
    "training['UnknownNumberOfDependents'] = (training.NumberOfDependents.isnull() * 1)\n",
    "training['UnknownMonthlyIncome'] = (training.MonthlyIncome.isnull() * 1)\n",
    "\n",
    "training['NoDependents'] = training.NumberOfDependents[training.NumberOfDependents == 0]\n",
    "training.loc[training.NumberOfDependents.isnull(), 'NoDependents'] = 0\n",
    "\n",
    "training.loc[training.UnknownNumberOfDependents == 1, 'NumberOfDependents'] = 0\n",
    "\n",
    "training.NoIncome = training.MonthlyIncome\n",
    "training.loc[training.MonthlyIncome != 0, 'NoIncome'] = 0\n",
    "training.loc[training.MonthlyIncome == 0, 'NoIncome'] = 1\n",
    "training.NoIncome.fillna(0)\n",
    "\n",
    "training.loc[training.UnknownMonthlyIncome == 1, 'MonthlyIncome'] = 0\n",
    "\n",
    "print('Incomes in No Income %s' % training.NoIncome[training.NoIncome == 1].count())\n",
    "print('Amount of No Dependents %s' % training.query('NoDependents == 0').NoDependents.count())"
   ]
  },
  {
   "cell_type": "markdown",
   "metadata": {
    "deletable": true,
    "editable": true
   },
   "source": [
    "We find the ratios of the income and debt and fill them in their column"
   ]
  },
  {
   "cell_type": "code",
   "execution_count": 3,
   "metadata": {
    "collapsed": false,
    "deletable": true,
    "editable": true
   },
   "outputs": [
    {
     "name": "stdout",
     "output_type": "stream",
     "text": [
      "Zero Debt Ratios 4113\n",
      "UnknownIncomeDebtRatio 121891\n"
     ]
    }
   ],
   "source": [
    "training['ZeroDebtRatio'] = training.DebtRatio\n",
    "training.loc[training.DebtRatio == 0, 'ZeroDebtRatio'] = 1\n",
    "training.loc[training.DebtRatio != 0, 'ZeroDebtRatio'] = 0\n",
    "\n",
    "print('Zero Debt Ratios %s' % training.ZeroDebtRatio[training.ZeroDebtRatio == 1].count())\n",
    "\n",
    "training['UnknownIncomeDebtRatio'] = training.DebtRatio\n",
    "training.loc[training.UnknownMonthlyIncome == 0, 'UnknownIncomeDebtRatio'] = 0\n",
    "training.loc[training.UnknownMonthlyIncome == 1, 'DebtRatio'] = 0\n",
    "\n",
    "print('UnknownIncomeDebtRatio %s' \\\n",
    "      % training.UnknownIncomeDebtRatio[training.UnknownIncomeDebtRatio == 0].count())"
   ]
  },
  {
   "cell_type": "markdown",
   "metadata": {
    "deletable": true,
    "editable": true
   },
   "source": [
    "RevolvingUtilizationOfUnsecuredLines is a percentage type for:\n",
    "\n",
    "> Total balance on credit cards and personal lines of credit except real estate and no installment debt like car loans divided by the sum of credit limits\n",
    "\n",
    "We query a Log to find weird behaviors in this column and set them to 0, in both a different column, and the old one."
   ]
  },
  {
   "cell_type": "code",
   "execution_count": 4,
   "metadata": {
    "collapsed": false,
    "deletable": true,
    "editable": true
   },
   "outputs": [
    {
     "name": "stdout",
     "output_type": "stream",
     "text": [
      "Amount of WeirdRevolvingUtilization 11112\n"
     ]
    }
   ],
   "source": [
    "training['WeirdRevolvingUtilization'] = training.RevolvingUtilizationOfUnsecuredLines\n",
    "training.loc[np.log1p(training.RevolvingUtilizationOfUnsecuredLines) > 3, 'WeirdRevolvingUtilization'] = 0\n",
    "  \n",
    "training.loc[training.RevolvingUtilizationOfUnsecuredLines == 0, 'ZeroRevolvingUtilization'] = 0\n",
    "training.loc[np.log1p(training.RevolvingUtilizationOfUnsecuredLines) > 3, \\\n",
    "             'RevolvingUtilizationOfUnsecuredLines'] = 0\n",
    "\n",
    "print('Amount of WeirdRevolvingUtilization %s' % \n",
    "      training.query('WeirdRevolvingUtilization == 0').WeirdRevolvingUtilization.count())"
   ]
  },
  {
   "cell_type": "markdown",
   "metadata": {
    "deletable": true,
    "editable": true
   },
   "source": [
    "We generate a Log value for the Debt cross referenced with the Debt Ratio"
   ]
  },
  {
   "cell_type": "code",
   "execution_count": 5,
   "metadata": {
    "collapsed": false,
    "deletable": true,
    "editable": true
   },
   "outputs": [
    {
     "data": {
      "text/plain": [
       "0    8.898939\n",
       "1    5.761668\n",
       "2    5.560354\n",
       "3    4.787191\n",
       "4    7.368955\n",
       "Name: LogDebt, dtype: float64"
      ]
     },
     "execution_count": 5,
     "metadata": {},
     "output_type": "execute_result"
    }
   ],
   "source": [
    "training['LogDebt'] = np.log1p(np.maximum(training.MonthlyIncome, np.ones(len(training.MonthlyIncome))) \\\n",
    "                             * training.DebtRatio)\n",
    "training.loc[np.isinf(training.LogDebt), 'LogDebt'] = 0\n",
    "\n",
    "training.query('LogDebt > 0').LogDebt.head()"
   ]
  },
  {
   "cell_type": "markdown",
   "metadata": {
    "deletable": true,
    "editable": true
   },
   "source": [
    "We calculate the amount of open credits and real state loans to create e Revolving Lines Column, and three binary columns to check if the user Has any of them."
   ]
  },
  {
   "cell_type": "code",
   "execution_count": 6,
   "metadata": {
    "collapsed": false,
    "deletable": true,
    "editable": true
   },
   "outputs": [
    {
     "name": "stdout",
     "output_type": "stream",
     "text": [
      "Number of Revolving Lines 5783\n",
      "Number of Real Estate Loans 52338 \n",
      "Number of Multiple Real Estate Loans 0\n"
     ]
    }
   ],
   "source": [
    "training['RevolvingLines'] = training.NumberOfOpenCreditLinesAndLoans - training.NumberRealEstateLoansOrLines\n",
    "\n",
    "training['HasRevolvingLines'] = training.RevolvingLines[training.RevolvingLines > 0].astype(int)\n",
    "training['HasRealEstateLoans'] = training.NumberRealEstateLoansOrLines[training\\\n",
    "                                                                    .NumberRealEstateLoansOrLines > 0].astype(int)\n",
    "training['HasMultipleRealEstateLoans'] = training.NumberRealEstateLoansOrLines\\\n",
    "                                            [training.NumberRealEstateLoansOrLines > 2].astype(int)\n",
    "    \n",
    "print('Number of Revolving Lines % s' % training.query('HasRevolvingLines == 1').HasRevolvingLines.count())\n",
    "print('Number of Real Estate Loans %s ' % training.query('HasRealEstateLoans == 1').HasRealEstateLoans.count())\n",
    "print('Number of Multiple Real Estate Loans % s' %  \n",
    "      training.query('HasMultipleRealEstateLoans == 1').HasMultipleRealEstateLoans.count())"
   ]
  },
  {
   "cell_type": "markdown",
   "metadata": {
    "deletable": true,
    "editable": true
   },
   "source": [
    "We separate the DTI (Debt to income ratio) from over 43, and 33, and also the person eligibility to social securty, and the amount of disposable income.\n",
    "\n",
    "And also cross reference the real estate to the resolving lines"
   ]
  },
  {
   "cell_type": "code",
   "execution_count": 7,
   "metadata": {
    "collapsed": false,
    "deletable": true,
    "editable": true
   },
   "outputs": [],
   "source": [
    "training['EligibleSS'] = training.age[training.age > 60].astype(int)\n",
    "training['DTIOver33'] = training.NoIncome[(training.NoIncome == 0) & (training.DebtRatio > 0.33)].astype(int)\n",
    "training['DTIOver43'] = training.NoIncome[(training.NoIncome == 0) & (training.DebtRatio > 0.43)].astype(int)\n",
    "training['DisposableIncome'] = (1 - training.DebtRatio) * training.MonthlyIncome\n",
    "training.loc[training.NoIncome == 1, 'DisposableIncome'] = 0\n",
    "\n",
    "training['RevolvingToRealEstate'] = training.RevolvingLines / (1 + training.NumberRealEstateLoansOrLines)"
   ]
  },
  {
   "cell_type": "markdown",
   "metadata": {
    "deletable": true,
    "editable": true
   },
   "source": [
    "There are some really worse for the number of times to 3059 days and 6089, the numbers above 90/98/96.\n",
    "\n",
    "We separate those in differente binary columns"
   ]
  },
  {
   "cell_type": "code",
   "execution_count": 8,
   "metadata": {
    "collapsed": false,
    "deletable": true,
    "editable": true
   },
   "outputs": [],
   "source": [
    "training['NumberOfTime3059DaysPastDueNotWorseLarge'] = training.NumberOfTime3059DaysPastDueNotWorse\\\n",
    "                                            [training.NumberOfTime3059DaysPastDueNotWorse > 90].astype(int)\n",
    "training['NumberOfTime3059DaysPastDueNotWorse96'] = training.NumberOfTime3059DaysPastDueNotWorse\\\n",
    "                                                [training.NumberOfTime3059DaysPastDueNotWorse == 96].astype(int)\n",
    "training['NumberOfTime3059DaysPastDueNotWorse98'] = training.NumberOfTime3059DaysPastDueNotWorse\\\n",
    "                                                [training.NumberOfTime3059DaysPastDueNotWorse == 98].astype(int)\n",
    "training['Never3059DaysPastDueNotWorse'] = training.NumberOfTime3059DaysPastDueNotWorse\\\n",
    "                                                [training.NumberOfTime3059DaysPastDueNotWorse == 0].astype(int)\n",
    "training.loc[training.NumberOfTime3059DaysPastDueNotWorse > 90, 'NumberOfTime3059DaysPastDueNotWorse'] = 0"
   ]
  },
  {
   "cell_type": "code",
   "execution_count": 9,
   "metadata": {
    "collapsed": false,
    "deletable": true,
    "editable": true
   },
   "outputs": [],
   "source": [
    "training['NumberOfTime6089DaysPastDueNotWorseLarge'] = training.NumberOfTime6089DaysPastDueNotWorse\\\n",
    "                                            [training.NumberOfTime6089DaysPastDueNotWorse > 90].astype(int)\n",
    "\n",
    "training['NumberOfTime6089DaysPastDueNotWorse96'] = training.NumberOfTime6089DaysPastDueNotWorse\\\n",
    "                                            [training.NumberOfTime6089DaysPastDueNotWorse == 96].astype(int)\n",
    "\n",
    "training['NumberOfTime6089DaysPastDueNotWorse98'] = training.NumberOfTime6089DaysPastDueNotWorse\\\n",
    "                                            [training.NumberOfTime6089DaysPastDueNotWorse == 98].astype(int)\n",
    "\n",
    "training['Never6089DaysPastDueNotWorse'] = training.NumberOfTime6089DaysPastDueNotWorse\\\n",
    "                                            [training.NumberOfTime6089DaysPastDueNotWorse == 0].astype(int)\n",
    "    \n",
    "training.loc[training.NumberOfTime6089DaysPastDueNotWorse > 90, 'NumberOfTime6089DaysPastDueNotWorse'] = 0"
   ]
  },
  {
   "cell_type": "markdown",
   "metadata": {
    "deletable": true,
    "editable": true
   },
   "source": [
    "The same for the number of days late"
   ]
  },
  {
   "cell_type": "code",
   "execution_count": 10,
   "metadata": {
    "collapsed": false,
    "deletable": true,
    "editable": true
   },
   "outputs": [],
   "source": [
    "training['NumberOfTimes90DaysLateLarge'] = training.NumberOfTimes90DaysLate\\\n",
    "                                            [training.NumberOfTimes90DaysLate > 90].astype(int)\n",
    "training['NumberOfTimes90DaysLate96'] = training.NumberOfTimes90DaysLate\\\n",
    "                                            [training.NumberOfTimes90DaysLate == 96].astype(int)\n",
    "training['NumberOfTimes90DaysLate98'] = training.NumberOfTimes90DaysLate\\\n",
    "                                            [training.NumberOfTimes90DaysLate == 98].astype(int)\n",
    "training['Never90DaysLate'] = training.NumberOfTimes90DaysLate\\\n",
    "                                            [training.NumberOfTimes90DaysLate == 0].astype(int)\n",
    "    \n",
    "training.loc[training.NumberOfTimes90DaysLate > 90, 'NumberOfTimes90DaysLate'] = 0"
   ]
  },
  {
   "cell_type": "code",
   "execution_count": 11,
   "metadata": {
    "collapsed": false,
    "deletable": true,
    "editable": true
   },
   "outputs": [],
   "source": [
    "training['IncomeDivBy10'] = training.MonthlyIncome[training.MonthlyIncome % 10 == 0].astype(int)\n",
    "training['IncomeDivBy100'] = training.MonthlyIncome[training.MonthlyIncome % 100 == 0].astype(int)\n",
    "training['IncomeDivBy1000'] = training.MonthlyIncome[training.MonthlyIncome % 1000 == 0].astype(int)\n",
    "training['IncomeDivBy5000'] = training.MonthlyIncome[training.MonthlyIncome % 5000 == 0].astype(int)"
   ]
  },
  {
   "cell_type": "code",
   "execution_count": 12,
   "metadata": {
    "collapsed": false,
    "deletable": true,
    "editable": true
   },
   "outputs": [],
   "source": [
    "training['Weird0999Utilization'] = training.RevolvingUtilizationOfUnsecuredLines\\\n",
    "                                    [training.RevolvingUtilizationOfUnsecuredLines == 0.9999999].astype(int)\n",
    "\n",
    "training['FullUtilization'] = training.RevolvingUtilizationOfUnsecuredLines\\\n",
    "                                    [training.RevolvingUtilizationOfUnsecuredLines == 1].astype(int)\n",
    "\n",
    "training['ExcessUtilization'] = training.RevolvingUtilizationOfUnsecuredLines\\\n",
    "                                    [training.RevolvingUtilizationOfUnsecuredLines > 1].astype(int)"
   ]
  },
  {
   "cell_type": "code",
   "execution_count": 13,
   "metadata": {
    "collapsed": false,
    "deletable": true,
    "editable": true
   },
   "outputs": [],
   "source": [
    "training['NumberOfTime3089DaysPastDueNotWorse'] = (training.NumberOfTime3059DaysPastDueNotWorse +\n",
    "                                                   training.NumberOfTime6089DaysPastDueNotWorse)\n",
    "training['Never3089DaysPastDueNotWorse'] = (training.Never6089DaysPastDueNotWorse *\n",
    "                                            training.Never3059DaysPastDueNotWorse)"
   ]
  },
  {
   "cell_type": "code",
   "execution_count": 14,
   "metadata": {
    "collapsed": false,
    "deletable": true,
    "editable": true
   },
   "outputs": [],
   "source": [
    "training['NumberOfTimesPastDue'] = (training.NumberOfTime3059DaysPastDueNotWorse + \n",
    "                                    training.NumberOfTime6089DaysPastDueNotWorse +\n",
    "                                    training.NumberOfTimes90DaysLate)\n",
    "training['NeverPastDue'] = (training.Never90DaysLate * \n",
    "                            training.Never6089DaysPastDueNotWorse * \n",
    "                            training.Never3059DaysPastDueNotWorse)\n",
    "\n",
    "training['LogRevolvingUtilizationTimesLines'] = np.log1p(training.RevolvingLines * \n",
    "                                                       training.RevolvingUtilizationOfUnsecuredLines)"
   ]
  },
  {
   "cell_type": "code",
   "execution_count": 15,
   "metadata": {
    "collapsed": false,
    "deletable": true,
    "editable": true
   },
   "outputs": [
    {
     "name": "stderr",
     "output_type": "stream",
     "text": [
      "/media/rodsnjr/Files/miniconda3/envs/udacity-ml/lib/python2.7/site-packages/ipykernel/__main__.py:1: RuntimeWarning: divide by zero encountered in log\n",
      "  if __name__ == '__main__':\n"
     ]
    }
   ],
   "source": [
    "training['LogRevolvingUtilizationOfUnsecuredLines'] = np.log(training.RevolvingUtilizationOfUnsecuredLines)\n",
    "training.LogRevolvingUtilizationOfUnsecuredLines = training\\\n",
    "                                            .LogRevolvingUtilizationOfUnsecuredLines\\\n",
    "                                            .replace([np.inf], np.NAN)\n",
    "\n",
    "training.LogRevolvingUtilizationOfUnsecuredLines.fillna(0)\n",
    "\n",
    "training = training.drop(['RevolvingUtilizationOfUnsecuredLines'], axis=1)"
   ]
  },
  {
   "cell_type": "code",
   "execution_count": 16,
   "metadata": {
    "collapsed": false,
    "deletable": true,
    "editable": true
   },
   "outputs": [],
   "source": [
    "training['DelinquenciesPerLine'] = training.NumberOfTimesPastDue / training.NumberOfOpenCreditLinesAndLoans\n",
    "training.loc[(training.NumberOfOpenCreditLinesAndLoans == 0), 'DelinquenciesPerLine'] = 0\n",
    "\n",
    "training['MajorDelinquenciesPerLine'] = training.NumberOfTimes90DaysLate / training.NumberOfOpenCreditLinesAndLoans\n",
    "training.loc[(training.NumberOfOpenCreditLinesAndLoans == 0), 'MajorDelinquenciesPerLine'] = 0\n",
    "\n",
    "training['MinorDelinquenciesPerLine'] = (training.NumberOfTime3089DaysPastDueNotWorse / \n",
    "                                        training.NumberOfOpenCreditLinesAndLoans)\n",
    "training.loc[(training.NumberOfOpenCreditLinesAndLoans == 0), 'MinorDelinquenciesPerLine'] = 0"
   ]
  },
  {
   "cell_type": "code",
   "execution_count": 17,
   "metadata": {
    "collapsed": false,
    "deletable": true,
    "editable": true
   },
   "outputs": [],
   "source": [
    "training['DelinquenciesPerRevolvingLine'] = training.NumberOfTimesPastDue / training.RevolvingLines\n",
    "training.loc[training.DelinquenciesPerRevolvingLine == 0, 'RevolvingLines'] = 0\n",
    "\n",
    "training['MajorDelinquenciesPerRevolvingLine'] = training.NumberOfTimes90DaysLate / training.RevolvingLines\n",
    "training.loc[training.RevolvingLines == 0, 'MajorDelinquenciesPerRevolvingLine'] = 0\n",
    "\n",
    "training['MinorDelinquenciesPerRevolvingLine'] = (training.NumberOfTime3089DaysPastDueNotWorse / \n",
    "                                                  training.RevolvingLines)\n",
    "training.loc[training.RevolvingLines == 0, 'MinorDelinquenciesPerRevolvingLine'] = 0"
   ]
  },
  {
   "cell_type": "code",
   "execution_count": 18,
   "metadata": {
    "collapsed": false,
    "deletable": true,
    "editable": true
   },
   "outputs": [],
   "source": [
    "training['LogDebtPerLine'] = training.LogDebt - np.log1p(training.NumberRealEstateLoansOrLines)\n",
    "training['LogDebtPerRealEstateLine'] = training.LogDebt - np.log1p(training.NumberRealEstateLoansOrLines)\n",
    "training['LogDebtPerPerson'] = training.LogDebt - np.log1p(training.NumberOfDependents)\n",
    "\n",
    "training['RevolvingLinesPerPerson'] = training.RevolvingLines / (1+ training.NumberOfDependents)\n",
    "\n",
    "training['RealEstateLoansPerPerson'] = training.NumberRealEstateLoansOrLines / (1 + training.NumberOfDependents)\n",
    "\n",
    "training['UnknownNumberOfDependents'] = training.UnknownNumberOfDependents.astype(int)\n",
    "\n",
    "training['YearsOfAgePerDependent'] = training.age / (1 + training.NumberOfDependents)"
   ]
  },
  {
   "cell_type": "code",
   "execution_count": 19,
   "metadata": {
    "collapsed": false,
    "deletable": true,
    "editable": true
   },
   "outputs": [
    {
     "name": "stderr",
     "output_type": "stream",
     "text": [
      "/media/rodsnjr/Files/miniconda3/envs/udacity-ml/lib/python2.7/site-packages/ipykernel/__main__.py:1: RuntimeWarning: divide by zero encountered in log\n",
      "  if __name__ == '__main__':\n"
     ]
    }
   ],
   "source": [
    "training['LogMonthlyIncome'] = np.log(training.MonthlyIncome)\n",
    "\n",
    "training.LogMonthlyIncome = training.LogMonthlyIncome.replace([np.inf], np.NAN)\n",
    "training.LogMonthlyIncome.fillna(0)\n",
    "\n",
    "training = training.drop(['MonthlyIncome'], axis=1)\n",
    "\n",
    "training['LogIncomePerPerson'] = training.LogMonthlyIncome - np.log1p(training.NumberOfDependents)\n",
    "training['LogIncomeAge'] = training['LogMonthlyIncome'] - np.log1p(training.age)"
   ]
  },
  {
   "cell_type": "code",
   "execution_count": 20,
   "metadata": {
    "collapsed": false,
    "deletable": true,
    "editable": true
   },
   "outputs": [
    {
     "name": "stderr",
     "output_type": "stream",
     "text": [
      "/media/rodsnjr/Files/miniconda3/envs/udacity-ml/lib/python2.7/site-packages/ipykernel/__main__.py:1: RuntimeWarning: divide by zero encountered in log\n",
      "  if __name__ == '__main__':\n"
     ]
    }
   ],
   "source": [
    "training['LogNumberOfTimesPastDue'] = np.log(training.NumberOfTimesPastDue)\n",
    "training.LogNumberOfTimesPastDue = training.LogNumberOfTimesPastDue.replace([np.inf, -np.inf], 0)"
   ]
  },
  {
   "cell_type": "code",
   "execution_count": 21,
   "metadata": {
    "collapsed": false,
    "deletable": true,
    "editable": true
   },
   "outputs": [
    {
     "name": "stderr",
     "output_type": "stream",
     "text": [
      "/media/rodsnjr/Files/miniconda3/envs/udacity-ml/lib/python2.7/site-packages/ipykernel/__main__.py:1: RuntimeWarning: divide by zero encountered in log\n",
      "  if __name__ == '__main__':\n"
     ]
    }
   ],
   "source": [
    "training['LogNumberOfTimes90DaysLate'] = np.log(training.NumberOfTimesPastDue)\n",
    "training.LogNumberOfTimes90DaysLate = training.LogNumberOfTimes90DaysLate.replace([np.inf, -np.inf], 0)"
   ]
  },
  {
   "cell_type": "code",
   "execution_count": 22,
   "metadata": {
    "collapsed": false,
    "deletable": true,
    "editable": true
   },
   "outputs": [
    {
     "name": "stderr",
     "output_type": "stream",
     "text": [
      "/media/rodsnjr/Files/miniconda3/envs/udacity-ml/lib/python2.7/site-packages/ipykernel/__main__.py:1: RuntimeWarning: divide by zero encountered in log\n",
      "  if __name__ == '__main__':\n"
     ]
    }
   ],
   "source": [
    "training['LogNumberOfTime3059DaysPastDueNotWorse'] = np.log(training.NumberOfTime3059DaysPastDueNotWorse)\n",
    "training.NumberOfTime3059DaysPastDueNotWorse = training.NumberOfTime3059DaysPastDueNotWorse\\\n",
    "                                                .replace([np.inf, -np.inf], 0)"
   ]
  },
  {
   "cell_type": "code",
   "execution_count": 23,
   "metadata": {
    "collapsed": false,
    "deletable": true,
    "editable": true
   },
   "outputs": [
    {
     "name": "stderr",
     "output_type": "stream",
     "text": [
      "/media/rodsnjr/Files/miniconda3/envs/udacity-ml/lib/python2.7/site-packages/ipykernel/__main__.py:1: RuntimeWarning: divide by zero encountered in log\n",
      "  if __name__ == '__main__':\n"
     ]
    }
   ],
   "source": [
    "training['LogNumberOfTime6089DaysPastDueNotWorse'] = np.log(training.NumberOfTime6089DaysPastDueNotWorse)\n",
    "training.LogNumberOfTime6089DaysPastDueNotWorse = training.LogNumberOfTime6089DaysPastDueNotWorse\\\n",
    "                                                .replace([np.inf, -np.inf], 0)"
   ]
  },
  {
   "cell_type": "code",
   "execution_count": 24,
   "metadata": {
    "collapsed": false,
    "deletable": true,
    "editable": true
   },
   "outputs": [],
   "source": [
    "training['LogRatio90to3059DaysLate'] = (training.LogNumberOfTimes90DaysLate - \n",
    "                                        training.NumberOfTime3059DaysPastDueNotWorse)\n",
    "\n",
    "training['LogRatio90to6089DaysLate'] = (training.LogNumberOfTimes90DaysLate - \n",
    "                                        training.LogNumberOfTime6089DaysPastDueNotWorse)"
   ]
  },
  {
   "cell_type": "code",
   "execution_count": 25,
   "metadata": {
    "collapsed": false,
    "deletable": true,
    "editable": true
   },
   "outputs": [
    {
     "name": "stderr",
     "output_type": "stream",
     "text": [
      "/media/rodsnjr/Files/miniconda3/envs/udacity-ml/lib/python2.7/site-packages/ipykernel/__main__.py:3: RuntimeWarning: divide by zero encountered in log\n",
      "  app.launch_new_instance()\n"
     ]
    }
   ],
   "source": [
    "training['AnyOpenCreditLinesOrLoans'] = training.NumberOfOpenCreditLinesAndLoans\\\n",
    "                                        [training.NumberOfOpenCreditLinesAndLoans > 0].astype(int)\n",
    "    \n",
    "training['LogNumberOfOpenCreditLinesAndLoans'] = np.log(training.NumberOfOpenCreditLinesAndLoans)\n",
    "\n",
    "training.NumberOfOpenCreditLinesAndLoans = training.NumberOfOpenCreditLinesAndLoans\\\n",
    "                                                .replace([np.inf], 0)\n",
    "\n",
    "training['LogNumberOfOpenCreditLinesAndLoansPerPerson'] = (training.LogNumberOfOpenCreditLinesAndLoans - \n",
    "                                                          np.log1p(training.NumberOfDependents))"
   ]
  },
  {
   "cell_type": "code",
   "execution_count": 26,
   "metadata": {
    "collapsed": false,
    "deletable": true,
    "editable": true
   },
   "outputs": [],
   "source": [
    "training['HasDependents'] = training.NumberOfDependents[training.NumberOfDependents > 0].astype(int)\n",
    "\n",
    "training['LogHouseholdSize'] = np.log1p(training.NumberOfDependents)\n",
    "\n",
    "training = training.drop(['NumberOfDependents'], axis=1)"
   ]
  },
  {
   "cell_type": "code",
   "execution_count": 27,
   "metadata": {
    "collapsed": false,
    "deletable": true,
    "editable": true
   },
   "outputs": [
    {
     "name": "stderr",
     "output_type": "stream",
     "text": [
      "/media/rodsnjr/Files/miniconda3/envs/udacity-ml/lib/python2.7/site-packages/ipykernel/__main__.py:1: RuntimeWarning: divide by zero encountered in log\n",
      "  if __name__ == '__main__':\n"
     ]
    }
   ],
   "source": [
    "training['LogDebtRatio'] = np.log(training.DebtRatio)\n",
    "training.LogDebtRatio = training.LogDebtRatio.replace([np.inf], 0)\n",
    "training = training.drop(['DebtRatio'], axis=1)"
   ]
  },
  {
   "cell_type": "code",
   "execution_count": 28,
   "metadata": {
    "collapsed": false,
    "deletable": true,
    "editable": true
   },
   "outputs": [],
   "source": [
    "training['LogDebtPerDelinquency'] = training.LogDebt - np.log1p(training.NumberOfTimesPastDue)\n",
    "training['LogDebtPer90DaysLate'] = training.LogDebt - np.log1p(training.NumberOfTimes90DaysLate)"
   ]
  },
  {
   "cell_type": "code",
   "execution_count": 29,
   "metadata": {
    "collapsed": false,
    "deletable": true,
    "editable": true
   },
   "outputs": [
    {
     "name": "stderr",
     "output_type": "stream",
     "text": [
      "/media/rodsnjr/Files/miniconda3/envs/udacity-ml/lib/python2.7/site-packages/ipykernel/__main__.py:1: RuntimeWarning: divide by zero encountered in log\n",
      "  if __name__ == '__main__':\n"
     ]
    }
   ],
   "source": [
    "training['LogUnknownIncomeDebtRatio'] = np.log(training.UnknownIncomeDebtRatio)\n",
    "training.LogUnknownIncomeDebtRatio = training.LogUnknownIncomeDebtRatio.replace([np.inf], 0)\n",
    "\n",
    "training['LogUnknownIncomeDebtRatioPerPerson'] = training.LogUnknownIncomeDebtRatio - training.LogHouseholdSize\n",
    "training['LogUnknownIncomeDebtRatioPerLine'] = (training.LogUnknownIncomeDebtRatio - \n",
    "                                            np.log1p(training.NumberOfOpenCreditLinesAndLoans))\n",
    "\n",
    "training['LogUnknownIncomeDebtRatioPerRealEstateLine'] = (training['LogUnknownIncomeDebtRatio'] - \n",
    "                                                        np.log1p(training.NumberOfTimesPastDue))\n",
    "\n",
    "training['LogUnknownIncomeDebtRatioPerDelinquency'] = (training.LogUnknownIncomeDebtRatio - \n",
    "                                                    np.log1p(training.NumberOfTimesPastDue))\n",
    "\n",
    "training['LogUnknownIncomeDebtRatioPer90DaysLate'] = (training.LogUnknownIncomeDebtRatio - \n",
    "                                                      np.log1p(training.NumberOfTimes90DaysLate))"
   ]
  },
  {
   "cell_type": "code",
   "execution_count": 30,
   "metadata": {
    "collapsed": false,
    "deletable": true,
    "editable": true
   },
   "outputs": [
    {
     "name": "stderr",
     "output_type": "stream",
     "text": [
      "/media/rodsnjr/Files/miniconda3/envs/udacity-ml/lib/python2.7/site-packages/ipykernel/__main__.py:1: RuntimeWarning: divide by zero encountered in log\n",
      "  if __name__ == '__main__':\n"
     ]
    }
   ],
   "source": [
    "training['LogNumberRealEstateLoansOrLines'] = np.log(training.NumberRealEstateLoansOrLines)\n",
    "training.LogNumberRealEstateLoansOrLines = training.LogNumberRealEstateLoansOrLines.replace([np.inf], 0)\n",
    "\n",
    "training = training.drop(['NumberRealEstateLoansOrLines'], axis=1)"
   ]
  },
  {
   "cell_type": "code",
   "execution_count": 31,
   "metadata": {
    "collapsed": false,
    "deletable": true,
    "editable": true
   },
   "outputs": [],
   "source": [
    "training = training.drop(['NumberOfOpenCreditLinesAndLoans',\n",
    "                         'NumberOfTimesPastDue',\n",
    "                         'NumberOfTimes90DaysLate',\n",
    "                         'NumberOfTime3059DaysPastDueNotWorse',\n",
    "                         'NumberOfTime6089DaysPastDueNotWorse'], axis=1)"
   ]
  },
  {
   "cell_type": "code",
   "execution_count": 32,
   "metadata": {
    "collapsed": false,
    "deletable": true,
    "editable": true
   },
   "outputs": [
    {
     "name": "stderr",
     "output_type": "stream",
     "text": [
      "/media/rodsnjr/Files/miniconda3/envs/udacity-ml/lib/python2.7/site-packages/ipykernel/__main__.py:9: RuntimeWarning: invalid value encountered in log\n"
     ]
    },
    {
     "data": {
      "text/html": [
       "<div>\n",
       "<style>\n",
       "    .dataframe thead tr:only-child th {\n",
       "        text-align: right;\n",
       "    }\n",
       "\n",
       "    .dataframe thead th {\n",
       "        text-align: left;\n",
       "    }\n",
       "\n",
       "    .dataframe tbody tr th {\n",
       "        vertical-align: top;\n",
       "    }\n",
       "</style>\n",
       "<table border=\"1\" class=\"dataframe\">\n",
       "  <thead>\n",
       "    <tr style=\"text-align: right;\">\n",
       "      <th></th>\n",
       "      <th>SeriousDlqin2yrs</th>\n",
       "      <th>UnknownNumberOfDependents</th>\n",
       "      <th>UnknownMonthlyIncome</th>\n",
       "      <th>NoDependents</th>\n",
       "      <th>NoIncome</th>\n",
       "      <th>ZeroDebtRatio</th>\n",
       "      <th>UnknownIncomeDebtRatio</th>\n",
       "      <th>WeirdRevolvingUtilization</th>\n",
       "      <th>ZeroRevolvingUtilization</th>\n",
       "      <th>LogDebt</th>\n",
       "      <th>...</th>\n",
       "      <th>LogDebtPer90DaysLate</th>\n",
       "      <th>LogUnknownIncomeDebtRatio</th>\n",
       "      <th>LogUnknownIncomeDebtRatioPerPerson</th>\n",
       "      <th>LogUnknownIncomeDebtRatioPerLine</th>\n",
       "      <th>LogUnknownIncomeDebtRatioPerRealEstateLine</th>\n",
       "      <th>LogUnknownIncomeDebtRatioPerDelinquency</th>\n",
       "      <th>LogUnknownIncomeDebtRatioPer90DaysLate</th>\n",
       "      <th>LogNumberRealEstateLoansOrLines</th>\n",
       "      <th>LowAge</th>\n",
       "      <th>Logage</th>\n",
       "    </tr>\n",
       "  </thead>\n",
       "  <tbody>\n",
       "    <tr>\n",
       "      <th>0</th>\n",
       "      <td>1</td>\n",
       "      <td>0</td>\n",
       "      <td>0</td>\n",
       "      <td>NaN</td>\n",
       "      <td>0.0</td>\n",
       "      <td>0.0</td>\n",
       "      <td>0.0</td>\n",
       "      <td>0.766127</td>\n",
       "      <td>NaN</td>\n",
       "      <td>8.898939</td>\n",
       "      <td>...</td>\n",
       "      <td>8.898939</td>\n",
       "      <td>-inf</td>\n",
       "      <td>-inf</td>\n",
       "      <td>-inf</td>\n",
       "      <td>-inf</td>\n",
       "      <td>-inf</td>\n",
       "      <td>-inf</td>\n",
       "      <td>1.791759</td>\n",
       "      <td>NaN</td>\n",
       "      <td>3.332205</td>\n",
       "    </tr>\n",
       "    <tr>\n",
       "      <th>1</th>\n",
       "      <td>0</td>\n",
       "      <td>0</td>\n",
       "      <td>0</td>\n",
       "      <td>NaN</td>\n",
       "      <td>0.0</td>\n",
       "      <td>0.0</td>\n",
       "      <td>0.0</td>\n",
       "      <td>0.957151</td>\n",
       "      <td>NaN</td>\n",
       "      <td>5.761668</td>\n",
       "      <td>...</td>\n",
       "      <td>5.761668</td>\n",
       "      <td>-inf</td>\n",
       "      <td>-inf</td>\n",
       "      <td>-inf</td>\n",
       "      <td>-inf</td>\n",
       "      <td>-inf</td>\n",
       "      <td>-inf</td>\n",
       "      <td>-inf</td>\n",
       "      <td>NaN</td>\n",
       "      <td>3.135494</td>\n",
       "    </tr>\n",
       "    <tr>\n",
       "      <th>2</th>\n",
       "      <td>0</td>\n",
       "      <td>0</td>\n",
       "      <td>0</td>\n",
       "      <td>0.0</td>\n",
       "      <td>0.0</td>\n",
       "      <td>0.0</td>\n",
       "      <td>0.0</td>\n",
       "      <td>0.658180</td>\n",
       "      <td>NaN</td>\n",
       "      <td>5.560354</td>\n",
       "      <td>...</td>\n",
       "      <td>4.867207</td>\n",
       "      <td>-inf</td>\n",
       "      <td>-inf</td>\n",
       "      <td>-inf</td>\n",
       "      <td>-inf</td>\n",
       "      <td>-inf</td>\n",
       "      <td>-inf</td>\n",
       "      <td>-inf</td>\n",
       "      <td>NaN</td>\n",
       "      <td>3.044522</td>\n",
       "    </tr>\n",
       "    <tr>\n",
       "      <th>3</th>\n",
       "      <td>0</td>\n",
       "      <td>0</td>\n",
       "      <td>0</td>\n",
       "      <td>0.0</td>\n",
       "      <td>0.0</td>\n",
       "      <td>0.0</td>\n",
       "      <td>0.0</td>\n",
       "      <td>0.233810</td>\n",
       "      <td>NaN</td>\n",
       "      <td>4.787191</td>\n",
       "      <td>...</td>\n",
       "      <td>4.787191</td>\n",
       "      <td>-inf</td>\n",
       "      <td>-inf</td>\n",
       "      <td>-inf</td>\n",
       "      <td>-inf</td>\n",
       "      <td>-inf</td>\n",
       "      <td>-inf</td>\n",
       "      <td>-inf</td>\n",
       "      <td>NaN</td>\n",
       "      <td>2.564949</td>\n",
       "    </tr>\n",
       "    <tr>\n",
       "      <th>4</th>\n",
       "      <td>0</td>\n",
       "      <td>0</td>\n",
       "      <td>0</td>\n",
       "      <td>0.0</td>\n",
       "      <td>0.0</td>\n",
       "      <td>0.0</td>\n",
       "      <td>0.0</td>\n",
       "      <td>0.907239</td>\n",
       "      <td>NaN</td>\n",
       "      <td>7.368955</td>\n",
       "      <td>...</td>\n",
       "      <td>7.368955</td>\n",
       "      <td>-inf</td>\n",
       "      <td>-inf</td>\n",
       "      <td>-inf</td>\n",
       "      <td>-inf</td>\n",
       "      <td>-inf</td>\n",
       "      <td>-inf</td>\n",
       "      <td>0.000000</td>\n",
       "      <td>NaN</td>\n",
       "      <td>3.465736</td>\n",
       "    </tr>\n",
       "    <tr>\n",
       "      <th>5</th>\n",
       "      <td>0</td>\n",
       "      <td>0</td>\n",
       "      <td>0</td>\n",
       "      <td>NaN</td>\n",
       "      <td>0.0</td>\n",
       "      <td>0.0</td>\n",
       "      <td>0.0</td>\n",
       "      <td>0.213179</td>\n",
       "      <td>NaN</td>\n",
       "      <td>7.182067</td>\n",
       "      <td>...</td>\n",
       "      <td>7.182067</td>\n",
       "      <td>-inf</td>\n",
       "      <td>-inf</td>\n",
       "      <td>-inf</td>\n",
       "      <td>-inf</td>\n",
       "      <td>-inf</td>\n",
       "      <td>-inf</td>\n",
       "      <td>0.000000</td>\n",
       "      <td>NaN</td>\n",
       "      <td>4.043051</td>\n",
       "    </tr>\n",
       "    <tr>\n",
       "      <th>6</th>\n",
       "      <td>0</td>\n",
       "      <td>0</td>\n",
       "      <td>1</td>\n",
       "      <td>0.0</td>\n",
       "      <td>0.0</td>\n",
       "      <td>0.0</td>\n",
       "      <td>5710.0</td>\n",
       "      <td>0.305682</td>\n",
       "      <td>NaN</td>\n",
       "      <td>0.000000</td>\n",
       "      <td>...</td>\n",
       "      <td>0.000000</td>\n",
       "      <td>8.649974</td>\n",
       "      <td>8.649974</td>\n",
       "      <td>6.452750</td>\n",
       "      <td>8.649974</td>\n",
       "      <td>8.649974</td>\n",
       "      <td>8.649974</td>\n",
       "      <td>1.098612</td>\n",
       "      <td>NaN</td>\n",
       "      <td>3.688879</td>\n",
       "    </tr>\n",
       "    <tr>\n",
       "      <th>7</th>\n",
       "      <td>0</td>\n",
       "      <td>0</td>\n",
       "      <td>0</td>\n",
       "      <td>0.0</td>\n",
       "      <td>0.0</td>\n",
       "      <td>0.0</td>\n",
       "      <td>0.0</td>\n",
       "      <td>0.754464</td>\n",
       "      <td>NaN</td>\n",
       "      <td>6.600945</td>\n",
       "      <td>...</td>\n",
       "      <td>6.600945</td>\n",
       "      <td>-inf</td>\n",
       "      <td>-inf</td>\n",
       "      <td>-inf</td>\n",
       "      <td>-inf</td>\n",
       "      <td>-inf</td>\n",
       "      <td>-inf</td>\n",
       "      <td>-inf</td>\n",
       "      <td>NaN</td>\n",
       "      <td>3.091042</td>\n",
       "    </tr>\n",
       "    <tr>\n",
       "      <th>8</th>\n",
       "      <td>0</td>\n",
       "      <td>1</td>\n",
       "      <td>1</td>\n",
       "      <td>0.0</td>\n",
       "      <td>0.0</td>\n",
       "      <td>0.0</td>\n",
       "      <td>46.0</td>\n",
       "      <td>0.116951</td>\n",
       "      <td>NaN</td>\n",
       "      <td>0.000000</td>\n",
       "      <td>...</td>\n",
       "      <td>0.000000</td>\n",
       "      <td>3.828641</td>\n",
       "      <td>3.828641</td>\n",
       "      <td>2.730029</td>\n",
       "      <td>3.828641</td>\n",
       "      <td>3.828641</td>\n",
       "      <td>3.828641</td>\n",
       "      <td>-inf</td>\n",
       "      <td>NaN</td>\n",
       "      <td>2.302585</td>\n",
       "    </tr>\n",
       "    <tr>\n",
       "      <th>9</th>\n",
       "      <td>0</td>\n",
       "      <td>0</td>\n",
       "      <td>0</td>\n",
       "      <td>NaN</td>\n",
       "      <td>0.0</td>\n",
       "      <td>0.0</td>\n",
       "      <td>0.0</td>\n",
       "      <td>0.189169</td>\n",
       "      <td>NaN</td>\n",
       "      <td>9.572229</td>\n",
       "      <td>...</td>\n",
       "      <td>9.572229</td>\n",
       "      <td>-inf</td>\n",
       "      <td>-inf</td>\n",
       "      <td>-inf</td>\n",
       "      <td>-inf</td>\n",
       "      <td>-inf</td>\n",
       "      <td>-inf</td>\n",
       "      <td>1.386294</td>\n",
       "      <td>NaN</td>\n",
       "      <td>3.688879</td>\n",
       "    </tr>\n",
       "  </tbody>\n",
       "</table>\n",
       "<p>10 rows × 81 columns</p>\n",
       "</div>"
      ],
      "text/plain": [
       "   SeriousDlqin2yrs  UnknownNumberOfDependents  UnknownMonthlyIncome  \\\n",
       "0                 1                          0                     0   \n",
       "1                 0                          0                     0   \n",
       "2                 0                          0                     0   \n",
       "3                 0                          0                     0   \n",
       "4                 0                          0                     0   \n",
       "5                 0                          0                     0   \n",
       "6                 0                          0                     1   \n",
       "7                 0                          0                     0   \n",
       "8                 0                          1                     1   \n",
       "9                 0                          0                     0   \n",
       "\n",
       "   NoDependents  NoIncome  ZeroDebtRatio  UnknownIncomeDebtRatio  \\\n",
       "0           NaN       0.0            0.0                     0.0   \n",
       "1           NaN       0.0            0.0                     0.0   \n",
       "2           0.0       0.0            0.0                     0.0   \n",
       "3           0.0       0.0            0.0                     0.0   \n",
       "4           0.0       0.0            0.0                     0.0   \n",
       "5           NaN       0.0            0.0                     0.0   \n",
       "6           0.0       0.0            0.0                  5710.0   \n",
       "7           0.0       0.0            0.0                     0.0   \n",
       "8           0.0       0.0            0.0                    46.0   \n",
       "9           NaN       0.0            0.0                     0.0   \n",
       "\n",
       "   WeirdRevolvingUtilization  ZeroRevolvingUtilization   LogDebt    ...     \\\n",
       "0                   0.766127                       NaN  8.898939    ...      \n",
       "1                   0.957151                       NaN  5.761668    ...      \n",
       "2                   0.658180                       NaN  5.560354    ...      \n",
       "3                   0.233810                       NaN  4.787191    ...      \n",
       "4                   0.907239                       NaN  7.368955    ...      \n",
       "5                   0.213179                       NaN  7.182067    ...      \n",
       "6                   0.305682                       NaN  0.000000    ...      \n",
       "7                   0.754464                       NaN  6.600945    ...      \n",
       "8                   0.116951                       NaN  0.000000    ...      \n",
       "9                   0.189169                       NaN  9.572229    ...      \n",
       "\n",
       "   LogDebtPer90DaysLate  LogUnknownIncomeDebtRatio  \\\n",
       "0              8.898939                       -inf   \n",
       "1              5.761668                       -inf   \n",
       "2              4.867207                       -inf   \n",
       "3              4.787191                       -inf   \n",
       "4              7.368955                       -inf   \n",
       "5              7.182067                       -inf   \n",
       "6              0.000000                   8.649974   \n",
       "7              6.600945                       -inf   \n",
       "8              0.000000                   3.828641   \n",
       "9              9.572229                       -inf   \n",
       "\n",
       "   LogUnknownIncomeDebtRatioPerPerson  LogUnknownIncomeDebtRatioPerLine  \\\n",
       "0                                -inf                              -inf   \n",
       "1                                -inf                              -inf   \n",
       "2                                -inf                              -inf   \n",
       "3                                -inf                              -inf   \n",
       "4                                -inf                              -inf   \n",
       "5                                -inf                              -inf   \n",
       "6                            8.649974                          6.452750   \n",
       "7                                -inf                              -inf   \n",
       "8                            3.828641                          2.730029   \n",
       "9                                -inf                              -inf   \n",
       "\n",
       "   LogUnknownIncomeDebtRatioPerRealEstateLine  \\\n",
       "0                                        -inf   \n",
       "1                                        -inf   \n",
       "2                                        -inf   \n",
       "3                                        -inf   \n",
       "4                                        -inf   \n",
       "5                                        -inf   \n",
       "6                                    8.649974   \n",
       "7                                        -inf   \n",
       "8                                    3.828641   \n",
       "9                                        -inf   \n",
       "\n",
       "   LogUnknownIncomeDebtRatioPerDelinquency  \\\n",
       "0                                     -inf   \n",
       "1                                     -inf   \n",
       "2                                     -inf   \n",
       "3                                     -inf   \n",
       "4                                     -inf   \n",
       "5                                     -inf   \n",
       "6                                 8.649974   \n",
       "7                                     -inf   \n",
       "8                                 3.828641   \n",
       "9                                     -inf   \n",
       "\n",
       "   LogUnknownIncomeDebtRatioPer90DaysLate  LogNumberRealEstateLoansOrLines  \\\n",
       "0                                    -inf                         1.791759   \n",
       "1                                    -inf                             -inf   \n",
       "2                                    -inf                             -inf   \n",
       "3                                    -inf                             -inf   \n",
       "4                                    -inf                         0.000000   \n",
       "5                                    -inf                         0.000000   \n",
       "6                                8.649974                         1.098612   \n",
       "7                                    -inf                             -inf   \n",
       "8                                3.828641                             -inf   \n",
       "9                                    -inf                         1.386294   \n",
       "\n",
       "   LowAge    Logage  \n",
       "0     NaN  3.332205  \n",
       "1     NaN  3.135494  \n",
       "2     NaN  3.044522  \n",
       "3     NaN  2.564949  \n",
       "4     NaN  3.465736  \n",
       "5     NaN  4.043051  \n",
       "6     NaN  3.688879  \n",
       "7     NaN  3.091042  \n",
       "8     NaN  2.302585  \n",
       "9     NaN  3.688879  \n",
       "\n",
       "[10 rows x 81 columns]"
      ]
     },
     "execution_count": 32,
     "metadata": {},
     "output_type": "execute_result"
    }
   ],
   "source": [
    "training['LowAge'] = training.age[training.age < 18].astype(int)\n",
    "training['Logage'] = np.log(training.age - 17)\n",
    "training.loc[training.LowAge == 1, 'Logage'] = 0\n",
    "\n",
    "training = training.drop(['age'], axis=1)\n",
    "\n",
    "training.head(10)"
   ]
  },
  {
   "cell_type": "code",
   "execution_count": 33,
   "metadata": {
    "collapsed": false,
    "deletable": true,
    "editable": true
   },
   "outputs": [
    {
     "data": {
      "text/plain": [
       "['SeriousDlqin2yrs',\n",
       " 'UnknownNumberOfDependents',\n",
       " 'UnknownMonthlyIncome',\n",
       " 'NoDependents',\n",
       " 'NoIncome',\n",
       " 'ZeroDebtRatio',\n",
       " 'UnknownIncomeDebtRatio',\n",
       " 'WeirdRevolvingUtilization',\n",
       " 'ZeroRevolvingUtilization',\n",
       " 'LogDebt',\n",
       " 'RevolvingLines',\n",
       " 'HasRevolvingLines',\n",
       " 'HasRealEstateLoans',\n",
       " 'HasMultipleRealEstateLoans',\n",
       " 'EligibleSS',\n",
       " 'DTIOver33',\n",
       " 'DTIOver43',\n",
       " 'DisposableIncome',\n",
       " 'RevolvingToRealEstate',\n",
       " 'NumberOfTime3059DaysPastDueNotWorseLarge',\n",
       " 'NumberOfTime3059DaysPastDueNotWorse96',\n",
       " 'NumberOfTime3059DaysPastDueNotWorse98',\n",
       " 'Never3059DaysPastDueNotWorse',\n",
       " 'NumberOfTime6089DaysPastDueNotWorseLarge',\n",
       " 'NumberOfTime6089DaysPastDueNotWorse96',\n",
       " 'NumberOfTime6089DaysPastDueNotWorse98',\n",
       " 'Never6089DaysPastDueNotWorse',\n",
       " 'NumberOfTimes90DaysLateLarge',\n",
       " 'NumberOfTimes90DaysLate96',\n",
       " 'NumberOfTimes90DaysLate98',\n",
       " 'Never90DaysLate',\n",
       " 'IncomeDivBy10',\n",
       " 'IncomeDivBy100',\n",
       " 'IncomeDivBy1000',\n",
       " 'IncomeDivBy5000',\n",
       " 'Weird0999Utilization',\n",
       " 'FullUtilization',\n",
       " 'ExcessUtilization',\n",
       " 'NumberOfTime3089DaysPastDueNotWorse',\n",
       " 'Never3089DaysPastDueNotWorse',\n",
       " 'NeverPastDue',\n",
       " 'LogRevolvingUtilizationTimesLines',\n",
       " 'LogRevolvingUtilizationOfUnsecuredLines',\n",
       " 'DelinquenciesPerLine',\n",
       " 'MajorDelinquenciesPerLine',\n",
       " 'MinorDelinquenciesPerLine',\n",
       " 'DelinquenciesPerRevolvingLine',\n",
       " 'MajorDelinquenciesPerRevolvingLine',\n",
       " 'MinorDelinquenciesPerRevolvingLine',\n",
       " 'LogDebtPerLine',\n",
       " 'LogDebtPerRealEstateLine',\n",
       " 'LogDebtPerPerson',\n",
       " 'RevolvingLinesPerPerson',\n",
       " 'RealEstateLoansPerPerson',\n",
       " 'YearsOfAgePerDependent',\n",
       " 'LogMonthlyIncome',\n",
       " 'LogIncomePerPerson',\n",
       " 'LogIncomeAge',\n",
       " 'LogNumberOfTimesPastDue',\n",
       " 'LogNumberOfTimes90DaysLate',\n",
       " 'LogNumberOfTime3059DaysPastDueNotWorse',\n",
       " 'LogNumberOfTime6089DaysPastDueNotWorse',\n",
       " 'LogRatio90to3059DaysLate',\n",
       " 'LogRatio90to6089DaysLate',\n",
       " 'AnyOpenCreditLinesOrLoans',\n",
       " 'LogNumberOfOpenCreditLinesAndLoans',\n",
       " 'LogNumberOfOpenCreditLinesAndLoansPerPerson',\n",
       " 'HasDependents',\n",
       " 'LogHouseholdSize',\n",
       " 'LogDebtRatio',\n",
       " 'LogDebtPerDelinquency',\n",
       " 'LogDebtPer90DaysLate',\n",
       " 'LogUnknownIncomeDebtRatio',\n",
       " 'LogUnknownIncomeDebtRatioPerPerson',\n",
       " 'LogUnknownIncomeDebtRatioPerLine',\n",
       " 'LogUnknownIncomeDebtRatioPerRealEstateLine',\n",
       " 'LogUnknownIncomeDebtRatioPerDelinquency',\n",
       " 'LogUnknownIncomeDebtRatioPer90DaysLate',\n",
       " 'LogNumberRealEstateLoansOrLines',\n",
       " 'LowAge',\n",
       " 'Logage']"
      ]
     },
     "execution_count": 33,
     "metadata": {},
     "output_type": "execute_result"
    }
   ],
   "source": [
    "columns = training.columns.tolist()\n",
    "\n",
    "columns"
   ]
  },
  {
   "cell_type": "code",
   "execution_count": 34,
   "metadata": {
    "collapsed": false,
    "deletable": true,
    "editable": true
   },
   "outputs": [
    {
     "data": {
      "text/plain": [
       "['SeriousDlqin2yrs',\n",
       " 'UnknownNumberOfDependents',\n",
       " 'UnknownMonthlyIncome',\n",
       " 'NoDependents',\n",
       " 'NoIncome',\n",
       " 'ZeroDebtRatio',\n",
       " 'UnknownIncomeDebtRatio',\n",
       " 'WeirdRevolvingUtilization',\n",
       " 'ZeroRevolvingUtilization',\n",
       " 'LogDebt',\n",
       " 'RevolvingLines',\n",
       " 'HasRevolvingLines',\n",
       " 'HasRealEstateLoans',\n",
       " 'HasMultipleRealEstateLoans',\n",
       " 'EligibleSS',\n",
       " 'DTIOver33',\n",
       " 'DTIOver43',\n",
       " 'DisposableIncome',\n",
       " 'RevolvingToRealEstate',\n",
       " 'NumberOfTime3059DaysPastDueNotWorseLarge',\n",
       " 'NumberOfTime3059DaysPastDueNotWorse96',\n",
       " 'NumberOfTime3059DaysPastDueNotWorse98',\n",
       " 'Never3059DaysPastDueNotWorse',\n",
       " 'NumberOfTime6089DaysPastDueNotWorseLarge',\n",
       " 'NumberOfTime6089DaysPastDueNotWorse96',\n",
       " 'NumberOfTime6089DaysPastDueNotWorse98',\n",
       " 'Never6089DaysPastDueNotWorse',\n",
       " 'NumberOfTimes90DaysLateLarge',\n",
       " 'NumberOfTimes90DaysLate96',\n",
       " 'NumberOfTimes90DaysLate98',\n",
       " 'Never90DaysLate',\n",
       " 'IncomeDivBy10',\n",
       " 'IncomeDivBy100',\n",
       " 'IncomeDivBy1000',\n",
       " 'IncomeDivBy5000',\n",
       " 'Weird0999Utilization',\n",
       " 'FullUtilization',\n",
       " 'ExcessUtilization',\n",
       " 'NumberOfTime3089DaysPastDueNotWorse',\n",
       " 'Never3089DaysPastDueNotWorse',\n",
       " 'NeverPastDue',\n",
       " 'LogRevolvingUtilizationTimesLines',\n",
       " 'LogRevolvingUtilizationOfUnsecuredLines',\n",
       " 'DelinquenciesPerLine',\n",
       " 'MajorDelinquenciesPerLine',\n",
       " 'MinorDelinquenciesPerLine',\n",
       " 'DelinquenciesPerRevolvingLine',\n",
       " 'MajorDelinquenciesPerRevolvingLine',\n",
       " 'MinorDelinquenciesPerRevolvingLine',\n",
       " 'LogDebtPerLine',\n",
       " 'LogDebtPerRealEstateLine',\n",
       " 'LogDebtPerPerson',\n",
       " 'RevolvingLinesPerPerson',\n",
       " 'RealEstateLoansPerPerson',\n",
       " 'YearsOfAgePerDependent',\n",
       " 'LogMonthlyIncome',\n",
       " 'LogIncomePerPerson',\n",
       " 'LogIncomeAge',\n",
       " 'LogNumberOfTimesPastDue',\n",
       " 'LogNumberOfTimes90DaysLate',\n",
       " 'LogNumberOfTime3059DaysPastDueNotWorse',\n",
       " 'LogNumberOfTime6089DaysPastDueNotWorse',\n",
       " 'LogRatio90to3059DaysLate',\n",
       " 'LogRatio90to6089DaysLate',\n",
       " 'AnyOpenCreditLinesOrLoans',\n",
       " 'LogNumberOfOpenCreditLinesAndLoans',\n",
       " 'LogNumberOfOpenCreditLinesAndLoansPerPerson',\n",
       " 'HasDependents',\n",
       " 'LogHouseholdSize',\n",
       " 'LogDebtRatio',\n",
       " 'LogDebtPerDelinquency',\n",
       " 'LogDebtPer90DaysLate',\n",
       " 'LogUnknownIncomeDebtRatio',\n",
       " 'LogUnknownIncomeDebtRatioPerPerson',\n",
       " 'LogUnknownIncomeDebtRatioPerLine',\n",
       " 'LogUnknownIncomeDebtRatioPerRealEstateLine',\n",
       " 'LogUnknownIncomeDebtRatioPerDelinquency',\n",
       " 'LogUnknownIncomeDebtRatioPer90DaysLate',\n",
       " 'LogNumberRealEstateLoansOrLines',\n",
       " 'LowAge',\n",
       " 'Logage']"
      ]
     },
     "execution_count": 34,
     "metadata": {},
     "output_type": "execute_result"
    }
   ],
   "source": [
    "# load the created from the R script\n",
    "import utils\n",
    "\n",
    "columns_r = utils.load_features_set().columns.tolist()\n",
    "\n",
    "columns_r"
   ]
  },
  {
   "cell_type": "code",
   "execution_count": 35,
   "metadata": {
    "collapsed": false,
    "deletable": true,
    "editable": true
   },
   "outputs": [
    {
     "data": {
      "text/plain": [
       "[]"
      ]
     },
     "execution_count": 35,
     "metadata": {},
     "output_type": "execute_result"
    }
   ],
   "source": [
    "list(set(columns_r) - set(columns))"
   ]
  },
  {
   "cell_type": "code",
   "execution_count": null,
   "metadata": {
    "collapsed": false,
    "deletable": true,
    "editable": true
   },
   "outputs": [],
   "source": [
    "training.to_csv(utils.os.path.join(utils.DIR, 'dataset', 'cs-training-features.csv'),\n",
    "                      index=False)"
   ]
  }
 ],
 "metadata": {
  "kernelspec": {
   "display_name": "Python [conda env:udacity-ml]",
   "language": "python",
   "name": "conda-env-udacity-ml-py"
  },
  "language_info": {
   "codemirror_mode": {
    "name": "ipython",
    "version": 2
   },
   "file_extension": ".py",
   "mimetype": "text/x-python",
   "name": "python",
   "nbconvert_exporter": "python",
   "pygments_lexer": "ipython2",
   "version": "2.7.13"
  }
 },
 "nbformat": 4,
 "nbformat_minor": 2
}
