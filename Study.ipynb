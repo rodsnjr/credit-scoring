{
 "cells": [
  {
   "cell_type": "markdown",
   "metadata": {
    "deletable": true,
    "editable": true
   },
   "source": [
    "# Capstone Study"
   ]
  },
  {
   "cell_type": "code",
   "execution_count": 30,
   "metadata": {
    "collapsed": false,
    "deletable": true,
    "editable": true
   },
   "outputs": [],
   "source": [
    "import utils\n",
    "import plots\n",
    "import classifiers as clfs\n",
    "\n",
    "%matplotlib inline"
   ]
  },
  {
   "cell_type": "code",
   "execution_count": 31,
   "metadata": {
    "collapsed": true,
    "deletable": true,
    "editable": true
   },
   "outputs": [],
   "source": [
    "from sklearn import model_selection\n",
    "from sklearn import preprocessing\n",
    "from sklearn.metrics import roc_auc_score, accuracy_score\n",
    "\n",
    "import numpy as np\n",
    "\n",
    "def test_multiple_cv(classifiers, k, x, y, metric='roc_auc'):\n",
    "    print('%s-fold cross validation:\\n' % k)\n",
    "\n",
    "    for clf in classifiers:\n",
    "        scores = model_selection.cross_val_score(clf, x, y, \n",
    "                                                cv=k, scoring=metric)\n",
    "        print(\"%s: %0.2f (+/- %0.2f) [%s]\" \n",
    "            % (metric.upper(), scores.mean(), scores.std(), clf.__class__.__name__))\n",
    "\n",
    "def test_multiple(classifiers, x, y, test_x, test_y, metric=roc_auc_score):\n",
    "    for clf in classifiers:\n",
    "        clf.fit(x, y)\n",
    "        target = clf.predict(test_x)\n",
    "        score = metric(target, test_y)\n",
    "        print(\"%s: %0.2f - [%s]\" % (metric.__name__.upper(), score, clf.__class__.__name__))\n",
    "        \n",
    "def build_submission_skl(classifier):\n",
    "    testing = utils.load_test_set()\n",
    "    \n",
    "    testing = testing.replace([np.inf, -np.inf], np.nan)\n",
    "    testing = testing.fillna(0)\n",
    "    \n",
    "    x = testing.drop(['SeriousDlqin2yrs', 'Id'], axis=1).as_matrix()\n",
    "    x = preprocessing.scale(x)\n",
    "    \n",
    "    y_predicts = classifier.predict(x)\n",
    "    y_probs = classifier.predict_proba(x)\n",
    "    \n",
    "    testing.SeriousDlqin2yrs = y_predicts\n",
    "    testing['Probability'] = y_probs[:,:1]\n",
    "    \n",
    "    return testing"
   ]
  },
  {
   "cell_type": "markdown",
   "metadata": {
    "deletable": true,
    "editable": true
   },
   "source": [
    "## Unormalized Data\n",
    "\n",
    "We'll test the same classifiers on the raw data."
   ]
  },
  {
   "cell_type": "code",
   "execution_count": 3,
   "metadata": {
    "collapsed": false,
    "deletable": true,
    "editable": true
   },
   "outputs": [],
   "source": [
    "training_set = utils.load_training_set()"
   ]
  },
  {
   "cell_type": "code",
   "execution_count": 4,
   "metadata": {
    "collapsed": false,
    "deletable": true,
    "editable": true
   },
   "outputs": [
    {
     "data": {
      "text/html": [
       "<div>\n",
       "<style>\n",
       "    .dataframe thead tr:only-child th {\n",
       "        text-align: right;\n",
       "    }\n",
       "\n",
       "    .dataframe thead th {\n",
       "        text-align: left;\n",
       "    }\n",
       "\n",
       "    .dataframe tbody tr th {\n",
       "        vertical-align: top;\n",
       "    }\n",
       "</style>\n",
       "<table border=\"1\" class=\"dataframe\">\n",
       "  <thead>\n",
       "    <tr style=\"text-align: right;\">\n",
       "      <th></th>\n",
       "      <th>NumberOfOpenCreditLinesAndLoans</th>\n",
       "      <th>NumberRealEstateLoansOrLines</th>\n",
       "      <th>age</th>\n",
       "      <th>NumberOfTime6089DaysPastDueNotWorse</th>\n",
       "      <th>DebtRatio</th>\n",
       "      <th>NumberOfDependents</th>\n",
       "      <th>MonthlyIncome</th>\n",
       "      <th>SeriousDlqin2yrs</th>\n",
       "      <th>RevolvingUtilizationOfUnsecuredLines</th>\n",
       "      <th>NumberOfTime3059DaysPastDueNotWorse</th>\n",
       "      <th>NumberOfTimes90DaysLate</th>\n",
       "    </tr>\n",
       "  </thead>\n",
       "  <tbody>\n",
       "    <tr>\n",
       "      <th>% of missing</th>\n",
       "      <td>0</td>\n",
       "      <td>0</td>\n",
       "      <td>0</td>\n",
       "      <td>0</td>\n",
       "      <td>0</td>\n",
       "      <td>2</td>\n",
       "      <td>19</td>\n",
       "      <td>0</td>\n",
       "      <td>0</td>\n",
       "      <td>0</td>\n",
       "      <td>0</td>\n",
       "    </tr>\n",
       "  </tbody>\n",
       "</table>\n",
       "</div>"
      ],
      "text/plain": [
       "              NumberOfOpenCreditLinesAndLoans  NumberRealEstateLoansOrLines  \\\n",
       "% of missing                                0                             0   \n",
       "\n",
       "              age  NumberOfTime6089DaysPastDueNotWorse  DebtRatio  \\\n",
       "% of missing    0                                    0          0   \n",
       "\n",
       "              NumberOfDependents  MonthlyIncome  SeriousDlqin2yrs  \\\n",
       "% of missing                   2             19                 0   \n",
       "\n",
       "              RevolvingUtilizationOfUnsecuredLines  \\\n",
       "% of missing                                     0   \n",
       "\n",
       "              NumberOfTime3059DaysPastDueNotWorse  NumberOfTimes90DaysLate  \n",
       "% of missing                                    0                        0  "
      ]
     },
     "execution_count": 4,
     "metadata": {},
     "output_type": "execute_result"
    }
   ],
   "source": [
    "utils.percentage_missin(training_set)"
   ]
  },
  {
   "cell_type": "code",
   "execution_count": 5,
   "metadata": {
    "collapsed": false,
    "deletable": true,
    "editable": true
   },
   "outputs": [
    {
     "data": {
      "text/html": [
       "<div>\n",
       "<style>\n",
       "    .dataframe thead tr:only-child th {\n",
       "        text-align: right;\n",
       "    }\n",
       "\n",
       "    .dataframe thead th {\n",
       "        text-align: left;\n",
       "    }\n",
       "\n",
       "    .dataframe tbody tr th {\n",
       "        vertical-align: top;\n",
       "    }\n",
       "</style>\n",
       "<table border=\"1\" class=\"dataframe\">\n",
       "  <thead>\n",
       "    <tr style=\"text-align: right;\">\n",
       "      <th></th>\n",
       "      <th>SeriousDlqin2yrs</th>\n",
       "      <th>RevolvingUtilizationOfUnsecuredLines</th>\n",
       "      <th>age</th>\n",
       "      <th>NumberOfTime3059DaysPastDueNotWorse</th>\n",
       "      <th>DebtRatio</th>\n",
       "      <th>MonthlyIncome</th>\n",
       "      <th>NumberOfOpenCreditLinesAndLoans</th>\n",
       "      <th>NumberOfTimes90DaysLate</th>\n",
       "      <th>NumberRealEstateLoansOrLines</th>\n",
       "      <th>NumberOfTime6089DaysPastDueNotWorse</th>\n",
       "      <th>NumberOfDependents</th>\n",
       "    </tr>\n",
       "  </thead>\n",
       "  <tbody>\n",
       "    <tr>\n",
       "      <th>0</th>\n",
       "      <td>1</td>\n",
       "      <td>0.766127</td>\n",
       "      <td>45</td>\n",
       "      <td>2</td>\n",
       "      <td>0.802982</td>\n",
       "      <td>9120.0</td>\n",
       "      <td>13</td>\n",
       "      <td>0</td>\n",
       "      <td>6</td>\n",
       "      <td>0</td>\n",
       "      <td>2.0</td>\n",
       "    </tr>\n",
       "    <tr>\n",
       "      <th>1</th>\n",
       "      <td>0</td>\n",
       "      <td>0.957151</td>\n",
       "      <td>40</td>\n",
       "      <td>0</td>\n",
       "      <td>0.121876</td>\n",
       "      <td>2600.0</td>\n",
       "      <td>4</td>\n",
       "      <td>0</td>\n",
       "      <td>0</td>\n",
       "      <td>0</td>\n",
       "      <td>1.0</td>\n",
       "    </tr>\n",
       "    <tr>\n",
       "      <th>2</th>\n",
       "      <td>0</td>\n",
       "      <td>0.658180</td>\n",
       "      <td>38</td>\n",
       "      <td>1</td>\n",
       "      <td>0.085113</td>\n",
       "      <td>3042.0</td>\n",
       "      <td>2</td>\n",
       "      <td>1</td>\n",
       "      <td>0</td>\n",
       "      <td>0</td>\n",
       "      <td>0.0</td>\n",
       "    </tr>\n",
       "    <tr>\n",
       "      <th>3</th>\n",
       "      <td>0</td>\n",
       "      <td>0.233810</td>\n",
       "      <td>30</td>\n",
       "      <td>0</td>\n",
       "      <td>0.036050</td>\n",
       "      <td>3300.0</td>\n",
       "      <td>5</td>\n",
       "      <td>0</td>\n",
       "      <td>0</td>\n",
       "      <td>0</td>\n",
       "      <td>0.0</td>\n",
       "    </tr>\n",
       "    <tr>\n",
       "      <th>4</th>\n",
       "      <td>0</td>\n",
       "      <td>0.907239</td>\n",
       "      <td>49</td>\n",
       "      <td>1</td>\n",
       "      <td>0.024926</td>\n",
       "      <td>63588.0</td>\n",
       "      <td>7</td>\n",
       "      <td>0</td>\n",
       "      <td>1</td>\n",
       "      <td>0</td>\n",
       "      <td>0.0</td>\n",
       "    </tr>\n",
       "  </tbody>\n",
       "</table>\n",
       "</div>"
      ],
      "text/plain": [
       "   SeriousDlqin2yrs  RevolvingUtilizationOfUnsecuredLines  age  \\\n",
       "0                 1                              0.766127   45   \n",
       "1                 0                              0.957151   40   \n",
       "2                 0                              0.658180   38   \n",
       "3                 0                              0.233810   30   \n",
       "4                 0                              0.907239   49   \n",
       "\n",
       "   NumberOfTime3059DaysPastDueNotWorse  DebtRatio  MonthlyIncome  \\\n",
       "0                                    2   0.802982         9120.0   \n",
       "1                                    0   0.121876         2600.0   \n",
       "2                                    1   0.085113         3042.0   \n",
       "3                                    0   0.036050         3300.0   \n",
       "4                                    1   0.024926        63588.0   \n",
       "\n",
       "   NumberOfOpenCreditLinesAndLoans  NumberOfTimes90DaysLate  \\\n",
       "0                               13                        0   \n",
       "1                                4                        0   \n",
       "2                                2                        1   \n",
       "3                                5                        0   \n",
       "4                                7                        0   \n",
       "\n",
       "   NumberRealEstateLoansOrLines  NumberOfTime6089DaysPastDueNotWorse  \\\n",
       "0                             6                                    0   \n",
       "1                             0                                    0   \n",
       "2                             0                                    0   \n",
       "3                             0                                    0   \n",
       "4                             1                                    0   \n",
       "\n",
       "   NumberOfDependents  \n",
       "0                 2.0  \n",
       "1                 1.0  \n",
       "2                 0.0  \n",
       "3                 0.0  \n",
       "4                 0.0  "
      ]
     },
     "execution_count": 5,
     "metadata": {},
     "output_type": "execute_result"
    }
   ],
   "source": [
    "# There are a percentage of missing values we'll fill with 0's\n",
    "training_set = training_set.fillna(0)\n",
    "training_set.head()"
   ]
  },
  {
   "cell_type": "code",
   "execution_count": 6,
   "metadata": {
    "collapsed": false,
    "deletable": true,
    "editable": true
   },
   "outputs": [
    {
     "data": {
      "text/html": [
       "<div>\n",
       "<style>\n",
       "    .dataframe thead tr:only-child th {\n",
       "        text-align: right;\n",
       "    }\n",
       "\n",
       "    .dataframe thead th {\n",
       "        text-align: left;\n",
       "    }\n",
       "\n",
       "    .dataframe tbody tr th {\n",
       "        vertical-align: top;\n",
       "    }\n",
       "</style>\n",
       "<table border=\"1\" class=\"dataframe\">\n",
       "  <thead>\n",
       "    <tr style=\"text-align: right;\">\n",
       "      <th></th>\n",
       "      <th>NumberOfOpenCreditLinesAndLoans</th>\n",
       "      <th>NumberRealEstateLoansOrLines</th>\n",
       "      <th>age</th>\n",
       "      <th>NumberOfTime6089DaysPastDueNotWorse</th>\n",
       "      <th>DebtRatio</th>\n",
       "      <th>NumberOfDependents</th>\n",
       "      <th>MonthlyIncome</th>\n",
       "      <th>SeriousDlqin2yrs</th>\n",
       "      <th>RevolvingUtilizationOfUnsecuredLines</th>\n",
       "      <th>NumberOfTime3059DaysPastDueNotWorse</th>\n",
       "      <th>NumberOfTimes90DaysLate</th>\n",
       "    </tr>\n",
       "  </thead>\n",
       "  <tbody>\n",
       "    <tr>\n",
       "      <th>% of missing</th>\n",
       "      <td>0</td>\n",
       "      <td>0</td>\n",
       "      <td>0</td>\n",
       "      <td>0</td>\n",
       "      <td>0</td>\n",
       "      <td>0</td>\n",
       "      <td>0</td>\n",
       "      <td>0</td>\n",
       "      <td>0</td>\n",
       "      <td>0</td>\n",
       "      <td>0</td>\n",
       "    </tr>\n",
       "  </tbody>\n",
       "</table>\n",
       "</div>"
      ],
      "text/plain": [
       "              NumberOfOpenCreditLinesAndLoans  NumberRealEstateLoansOrLines  \\\n",
       "% of missing                                0                             0   \n",
       "\n",
       "              age  NumberOfTime6089DaysPastDueNotWorse  DebtRatio  \\\n",
       "% of missing    0                                    0          0   \n",
       "\n",
       "              NumberOfDependents  MonthlyIncome  SeriousDlqin2yrs  \\\n",
       "% of missing                   0              0                 0   \n",
       "\n",
       "              RevolvingUtilizationOfUnsecuredLines  \\\n",
       "% of missing                                     0   \n",
       "\n",
       "              NumberOfTime3059DaysPastDueNotWorse  NumberOfTimes90DaysLate  \n",
       "% of missing                                    0                        0  "
      ]
     },
     "execution_count": 6,
     "metadata": {},
     "output_type": "execute_result"
    }
   ],
   "source": [
    "utils.percentage_missin(training_set)"
   ]
  },
  {
   "cell_type": "code",
   "execution_count": 7,
   "metadata": {
    "collapsed": false,
    "deletable": true,
    "editable": true
   },
   "outputs": [],
   "source": [
    "from sklearn import preprocessing\n",
    "\n",
    "y = training_set['SeriousDlqin2yrs'].as_matrix()\n",
    "x = training_set.drop(['SeriousDlqin2yrs'], axis=1).as_matrix()\n",
    "# Basic scaling\n",
    "x = preprocessing.scale(x)"
   ]
  },
  {
   "cell_type": "code",
   "execution_count": 8,
   "metadata": {
    "collapsed": false,
    "deletable": true,
    "editable": true
   },
   "outputs": [
    {
     "name": "stdout",
     "output_type": "stream",
     "text": [
      "Dataset splitted from: \n",
      "\tx=(150000, 10), y=(150000,)\n",
      "To: \n",
      "Train Set\n",
      "\tx=(100500, 10), y=(100500,)\n",
      "Test Set\n",
      "\tx=(49500, 10), y=(49500,)\n"
     ]
    }
   ],
   "source": [
    "x_train, x_test, y_train, y_test = utils.split_dataset(x, y)"
   ]
  },
  {
   "cell_type": "markdown",
   "metadata": {
    "deletable": true,
    "editable": true
   },
   "source": [
    "## Algorithm Selection and Validation Selection\n",
    "\n",
    "According to the Survey on the Competition Forum the Algorithms used were:\n",
    "\n",
    "* [XGBooost](https://www.kaggle.com/c/GiveMeSomeCredit/discussion/31514)\n",
    "* [AdaBoost, GradBoost, KNN, Logistic, and RandomForest](https://www.kaggle.com/c/GiveMeSomeCredit/discussion/23179)\n",
    "\n",
    "The validation would be a simple Strat-K-FoldCV, and then use them on the test set, about 10% of the training set.\n",
    "\n",
    "My selection of classifiers goes according to my Survey on the Forums, and my Proposal initial ideas.\n",
    "\n",
    "> I've ordered them on this list according to the Proposal, with simpler models first, and other ideas."
   ]
  },
  {
   "cell_type": "code",
   "execution_count": 9,
   "metadata": {
    "collapsed": true,
    "deletable": true,
    "editable": true
   },
   "outputs": [],
   "source": [
    "from sklearn.naive_bayes import GaussianNB\n",
    "from sklearn.ensemble import (AdaBoostClassifier, RandomForestClassifier,\n",
    "                              GradientBoostingClassifier, BaggingClassifier)\n",
    "from sklearn.linear_model import LogisticRegression\n",
    "from sklearn.tree import DecisionTreeClassifier\n",
    "from sklearn.neural_network import MLPClassifier\n",
    "from xgboost import XGBClassifier\n",
    "# Credits to: https://www.kaggle.com/c/GiveMeSomeCredit/discussion/31514\n",
    "best_xgb = XGBClassifier(\n",
    "    **{'min_child_weight': 10.0,\n",
    "    'objective': 'binary:logistic',\n",
    "    'max_depth': 5,\n",
    "    'max_delta_step': 1.8,\n",
    "    'colsample_bytree': 0.4,\n",
    "    'subsample': 0.8,\n",
    "    'gamma': 0.65,\n",
    "    'n_estimators' : 391\n",
    "    }\n",
    ")\n",
    "ann = MLPClassifier(solver='lbfgs', alpha=1e-5,\n",
    "                     hidden_layer_sizes=(5, 2), random_state=1)\n",
    "\n",
    "classifiers = [GaussianNB(), \n",
    "               DecisionTreeClassifier(),\n",
    "               LogisticRegression(),\n",
    "               ann,\n",
    "               # Ensembles\n",
    "               AdaBoostClassifier(), \n",
    "               RandomForestClassifier(), \n",
    "               GradientBoostingClassifier(),\n",
    "               BaggingClassifier(),\n",
    "               best_xgb]"
   ]
  },
  {
   "cell_type": "code",
   "execution_count": 10,
   "metadata": {
    "collapsed": false,
    "deletable": true,
    "editable": true,
    "scrolled": true
   },
   "outputs": [
    {
     "name": "stdout",
     "output_type": "stream",
     "text": [
      "10-fold cross validation:\n",
      "\n",
      "ROC_AUC: 0.71 (+/- 0.01) [GaussianNB]\n",
      "ROC_AUC: 0.61 (+/- 0.01) [DecisionTreeClassifier]\n",
      "ROC_AUC: 0.70 (+/- 0.01) [LogisticRegression]\n",
      "ROC_AUC: 0.83 (+/- 0.01) [MLPClassifier]\n",
      "ROC_AUC: 0.86 (+/- 0.01) [AdaBoostClassifier]\n",
      "ROC_AUC: 0.78 (+/- 0.01) [RandomForestClassifier]\n",
      "ROC_AUC: 0.86 (+/- 0.01) [GradientBoostingClassifier]\n",
      "ROC_AUC: 0.78 (+/- 0.01) [BaggingClassifier]\n",
      "ROC_AUC: 0.86 (+/- 0.01) [XGBClassifier]\n"
     ]
    }
   ],
   "source": [
    "test_multiple_cv(classifiers, 10, x_train, y_train)"
   ]
  },
  {
   "cell_type": "code",
   "execution_count": 11,
   "metadata": {
    "collapsed": false,
    "deletable": true,
    "editable": true
   },
   "outputs": [
    {
     "name": "stdout",
     "output_type": "stream",
     "text": [
      "10-fold cross validation:\n",
      "\n",
      "ACCURACY: 0.93 (+/- 0.00) [GaussianNB]\n",
      "ACCURACY: 0.90 (+/- 0.00) [DecisionTreeClassifier]\n",
      "ACCURACY: 0.93 (+/- 0.00) [LogisticRegression]\n",
      "ACCURACY: 0.93 (+/- 0.00) [MLPClassifier]\n",
      "ACCURACY: 0.94 (+/- 0.00) [AdaBoostClassifier]\n",
      "ACCURACY: 0.93 (+/- 0.00) [RandomForestClassifier]\n",
      "ACCURACY: 0.94 (+/- 0.00) [GradientBoostingClassifier]\n",
      "ACCURACY: 0.93 (+/- 0.00) [BaggingClassifier]\n",
      "ACCURACY: 0.94 (+/- 0.00) [XGBClassifier]\n"
     ]
    }
   ],
   "source": [
    "test_multiple_cv(classifiers, 10, x_train, y_train, metric='accuracy')"
   ]
  },
  {
   "cell_type": "markdown",
   "metadata": {
    "deletable": true,
    "editable": true
   },
   "source": [
    "**The accuracy is quite useless for this case/dataset**, even lower AUC [GaussianNB] get a good Accuracy.\n",
    "\n",
    "We should test them in the test set to be sure."
   ]
  },
  {
   "cell_type": "code",
   "execution_count": 12,
   "metadata": {
    "collapsed": false,
    "deletable": true,
    "editable": true
   },
   "outputs": [
    {
     "name": "stdout",
     "output_type": "stream",
     "text": [
      "ROC_AUC_SCORE: 0.67 - [GaussianNB]\n",
      "ROC_AUC_SCORE: 0.60 - [DecisionTreeClassifier]\n",
      "ROC_AUC_SCORE: 0.74 - [LogisticRegression]\n",
      "ROC_AUC_SCORE: 0.74 - [MLPClassifier]\n",
      "ROC_AUC_SCORE: 0.75 - [AdaBoostClassifier]\n",
      "ROC_AUC_SCORE: 0.72 - [RandomForestClassifier]\n",
      "ROC_AUC_SCORE: 0.77 - [GradientBoostingClassifier]\n",
      "ROC_AUC_SCORE: 0.71 - [BaggingClassifier]\n",
      "ROC_AUC_SCORE: 0.76 - [XGBClassifier]\n"
     ]
    }
   ],
   "source": [
    "test_multiple(classifiers, x_train, y_train, x_test, y_test)"
   ]
  },
  {
   "cell_type": "code",
   "execution_count": 32,
   "metadata": {
    "collapsed": false,
    "deletable": true,
    "editable": true
   },
   "outputs": [],
   "source": [
    "# We'll select the GBC with 0.77 to submit in this feature set\n",
    "from sklearn.ensemble import GradientBoostingClassifier\n",
    "\n",
    "clf = GradientBoostingClassifier()\n",
    "\n",
    "clf.fit(x_train, y_train)\n",
    "submission_set = build_submission_skl(clf)\n",
    "\n",
    "submission_set.to_csv(utils.os.path.join(utils.DIR, 'dataset', 'first_submission_gb.csv'),\n",
    "                      index=False, \n",
    "                      columns=['Id', 'Probability'])"
   ]
  },
  {
   "cell_type": "markdown",
   "metadata": {
    "deletable": true,
    "editable": true
   },
   "source": [
    "> We have very bad values compared to the AUCs from the Competition on this simple test.\n",
    "\n",
    "![](images/first_submission.png)\n",
    "\n",
    "We'll need to find better feature sets before messing with the classifiers"
   ]
  },
  {
   "cell_type": "markdown",
   "metadata": {
    "deletable": true,
    "editable": true
   },
   "source": [
    "## Features\n",
    "\n",
    "These features are based on the [Winners Features](https://www.kaggle.com/c/GiveMeSomeCredit/discussion/1166#7269).\n",
    "\n",
    "There are results around .8 > with these set of features, it's a good start.\n",
    "\n",
    "Compared to the dataset feature set (10 features), there are 80 features, a lot more to work on."
   ]
  },
  {
   "cell_type": "code",
   "execution_count": 10,
   "metadata": {
    "collapsed": false,
    "deletable": true,
    "editable": true
   },
   "outputs": [
    {
     "data": {
      "text/html": [
       "<div>\n",
       "<style>\n",
       "    .dataframe thead tr:only-child th {\n",
       "        text-align: right;\n",
       "    }\n",
       "\n",
       "    .dataframe thead th {\n",
       "        text-align: left;\n",
       "    }\n",
       "\n",
       "    .dataframe tbody tr th {\n",
       "        vertical-align: top;\n",
       "    }\n",
       "</style>\n",
       "<table border=\"1\" class=\"dataframe\">\n",
       "  <thead>\n",
       "    <tr style=\"text-align: right;\">\n",
       "      <th></th>\n",
       "      <th>SeriousDlqin2yrs</th>\n",
       "      <th>UnknownNumberOfDependents</th>\n",
       "      <th>UnknownMonthlyIncome</th>\n",
       "      <th>NoDependents</th>\n",
       "      <th>NoIncome</th>\n",
       "      <th>ZeroDebtRatio</th>\n",
       "      <th>UnknownIncomeDebtRatio</th>\n",
       "      <th>WeirdRevolvingUtilization</th>\n",
       "      <th>ZeroRevolvingUtilization</th>\n",
       "      <th>LogDebt</th>\n",
       "      <th>...</th>\n",
       "      <th>LogDebtPer90DaysLate</th>\n",
       "      <th>LogUnknownIncomeDebtRatio</th>\n",
       "      <th>LogUnknownIncomeDebtRatioPerPerson</th>\n",
       "      <th>LogUnknownIncomeDebtRatioPerLine</th>\n",
       "      <th>LogUnknownIncomeDebtRatioPerRealEstateLine</th>\n",
       "      <th>LogUnknownIncomeDebtRatioPerDelinquency</th>\n",
       "      <th>LogUnknownIncomeDebtRatioPer90DaysLate</th>\n",
       "      <th>LogNumberRealEstateLoansOrLines</th>\n",
       "      <th>LowAge</th>\n",
       "      <th>Logage</th>\n",
       "    </tr>\n",
       "  </thead>\n",
       "  <tbody>\n",
       "    <tr>\n",
       "      <th>0</th>\n",
       "      <td>1</td>\n",
       "      <td>0</td>\n",
       "      <td>0</td>\n",
       "      <td>0</td>\n",
       "      <td>0</td>\n",
       "      <td>0</td>\n",
       "      <td>0</td>\n",
       "      <td>0.0</td>\n",
       "      <td>0</td>\n",
       "      <td>8.898802</td>\n",
       "      <td>...</td>\n",
       "      <td>8.898802</td>\n",
       "      <td>0.0</td>\n",
       "      <td>-1.098612</td>\n",
       "      <td>-2.639057</td>\n",
       "      <td>-1.945910</td>\n",
       "      <td>-1.098612</td>\n",
       "      <td>0.000000</td>\n",
       "      <td>1.791759</td>\n",
       "      <td>0</td>\n",
       "      <td>3.332205</td>\n",
       "    </tr>\n",
       "    <tr>\n",
       "      <th>1</th>\n",
       "      <td>0</td>\n",
       "      <td>0</td>\n",
       "      <td>0</td>\n",
       "      <td>0</td>\n",
       "      <td>0</td>\n",
       "      <td>0</td>\n",
       "      <td>0</td>\n",
       "      <td>0.0</td>\n",
       "      <td>0</td>\n",
       "      <td>5.758517</td>\n",
       "      <td>...</td>\n",
       "      <td>5.758517</td>\n",
       "      <td>0.0</td>\n",
       "      <td>-0.693147</td>\n",
       "      <td>-1.609438</td>\n",
       "      <td>0.000000</td>\n",
       "      <td>0.000000</td>\n",
       "      <td>0.000000</td>\n",
       "      <td>0.000000</td>\n",
       "      <td>0</td>\n",
       "      <td>3.135494</td>\n",
       "    </tr>\n",
       "    <tr>\n",
       "      <th>2</th>\n",
       "      <td>0</td>\n",
       "      <td>0</td>\n",
       "      <td>0</td>\n",
       "      <td>1</td>\n",
       "      <td>0</td>\n",
       "      <td>0</td>\n",
       "      <td>0</td>\n",
       "      <td>0.0</td>\n",
       "      <td>0</td>\n",
       "      <td>5.556499</td>\n",
       "      <td>...</td>\n",
       "      <td>4.863352</td>\n",
       "      <td>0.0</td>\n",
       "      <td>0.000000</td>\n",
       "      <td>-1.098612</td>\n",
       "      <td>0.000000</td>\n",
       "      <td>-1.098612</td>\n",
       "      <td>-0.693147</td>\n",
       "      <td>0.000000</td>\n",
       "      <td>0</td>\n",
       "      <td>3.044522</td>\n",
       "    </tr>\n",
       "    <tr>\n",
       "      <th>3</th>\n",
       "      <td>0</td>\n",
       "      <td>0</td>\n",
       "      <td>0</td>\n",
       "      <td>1</td>\n",
       "      <td>0</td>\n",
       "      <td>0</td>\n",
       "      <td>0</td>\n",
       "      <td>0.0</td>\n",
       "      <td>0</td>\n",
       "      <td>4.778821</td>\n",
       "      <td>...</td>\n",
       "      <td>4.778821</td>\n",
       "      <td>0.0</td>\n",
       "      <td>0.000000</td>\n",
       "      <td>-1.791759</td>\n",
       "      <td>0.000000</td>\n",
       "      <td>0.000000</td>\n",
       "      <td>0.000000</td>\n",
       "      <td>0.000000</td>\n",
       "      <td>0</td>\n",
       "      <td>2.564949</td>\n",
       "    </tr>\n",
       "    <tr>\n",
       "      <th>4</th>\n",
       "      <td>0</td>\n",
       "      <td>0</td>\n",
       "      <td>0</td>\n",
       "      <td>1</td>\n",
       "      <td>0</td>\n",
       "      <td>0</td>\n",
       "      <td>0</td>\n",
       "      <td>0.0</td>\n",
       "      <td>0</td>\n",
       "      <td>7.368324</td>\n",
       "      <td>...</td>\n",
       "      <td>7.368324</td>\n",
       "      <td>0.0</td>\n",
       "      <td>0.000000</td>\n",
       "      <td>-2.079442</td>\n",
       "      <td>-0.693147</td>\n",
       "      <td>-0.693147</td>\n",
       "      <td>0.000000</td>\n",
       "      <td>0.000000</td>\n",
       "      <td>0</td>\n",
       "      <td>3.465736</td>\n",
       "    </tr>\n",
       "  </tbody>\n",
       "</table>\n",
       "<p>5 rows × 81 columns</p>\n",
       "</div>"
      ],
      "text/plain": [
       "   SeriousDlqin2yrs  UnknownNumberOfDependents  UnknownMonthlyIncome  \\\n",
       "0                 1                          0                     0   \n",
       "1                 0                          0                     0   \n",
       "2                 0                          0                     0   \n",
       "3                 0                          0                     0   \n",
       "4                 0                          0                     0   \n",
       "\n",
       "   NoDependents  NoIncome  ZeroDebtRatio  UnknownIncomeDebtRatio  \\\n",
       "0             0         0              0                       0   \n",
       "1             0         0              0                       0   \n",
       "2             1         0              0                       0   \n",
       "3             1         0              0                       0   \n",
       "4             1         0              0                       0   \n",
       "\n",
       "   WeirdRevolvingUtilization  ZeroRevolvingUtilization   LogDebt    ...     \\\n",
       "0                        0.0                         0  8.898802    ...      \n",
       "1                        0.0                         0  5.758517    ...      \n",
       "2                        0.0                         0  5.556499    ...      \n",
       "3                        0.0                         0  4.778821    ...      \n",
       "4                        0.0                         0  7.368324    ...      \n",
       "\n",
       "   LogDebtPer90DaysLate  LogUnknownIncomeDebtRatio  \\\n",
       "0              8.898802                        0.0   \n",
       "1              5.758517                        0.0   \n",
       "2              4.863352                        0.0   \n",
       "3              4.778821                        0.0   \n",
       "4              7.368324                        0.0   \n",
       "\n",
       "   LogUnknownIncomeDebtRatioPerPerson  LogUnknownIncomeDebtRatioPerLine  \\\n",
       "0                           -1.098612                         -2.639057   \n",
       "1                           -0.693147                         -1.609438   \n",
       "2                            0.000000                         -1.098612   \n",
       "3                            0.000000                         -1.791759   \n",
       "4                            0.000000                         -2.079442   \n",
       "\n",
       "   LogUnknownIncomeDebtRatioPerRealEstateLine  \\\n",
       "0                                   -1.945910   \n",
       "1                                    0.000000   \n",
       "2                                    0.000000   \n",
       "3                                    0.000000   \n",
       "4                                   -0.693147   \n",
       "\n",
       "   LogUnknownIncomeDebtRatioPerDelinquency  \\\n",
       "0                                -1.098612   \n",
       "1                                 0.000000   \n",
       "2                                -1.098612   \n",
       "3                                 0.000000   \n",
       "4                                -0.693147   \n",
       "\n",
       "   LogUnknownIncomeDebtRatioPer90DaysLate  LogNumberRealEstateLoansOrLines  \\\n",
       "0                                0.000000                         1.791759   \n",
       "1                                0.000000                         0.000000   \n",
       "2                               -0.693147                         0.000000   \n",
       "3                                0.000000                         0.000000   \n",
       "4                                0.000000                         0.000000   \n",
       "\n",
       "   LowAge    Logage  \n",
       "0       0  3.332205  \n",
       "1       0  3.135494  \n",
       "2       0  3.044522  \n",
       "3       0  2.564949  \n",
       "4       0  3.465736  \n",
       "\n",
       "[5 rows x 81 columns]"
      ]
     },
     "execution_count": 10,
     "metadata": {},
     "output_type": "execute_result"
    }
   ],
   "source": [
    "features_set = utils.load_features_set()\n",
    "features_set.head()"
   ]
  },
  {
   "cell_type": "code",
   "execution_count": 11,
   "metadata": {
    "collapsed": false,
    "deletable": true,
    "editable": true
   },
   "outputs": [],
   "source": [
    "y = features_set['SeriousDlqin2yrs'].as_matrix()\n",
    "x = features_set.drop(['SeriousDlqin2yrs'], axis=1).as_matrix()"
   ]
  },
  {
   "cell_type": "code",
   "execution_count": 12,
   "metadata": {
    "collapsed": false,
    "deletable": true,
    "editable": true
   },
   "outputs": [
    {
     "name": "stdout",
     "output_type": "stream",
     "text": [
      "Dataset splitted from: \n",
      "\tx=(150000, 80), y=(150000,)\n",
      "To: \n",
      "Train Set\n",
      "\tx=(100500, 80), y=(100500,)\n",
      "Test Set\n",
      "\tx=(49500, 80), y=(49500,)\n"
     ]
    }
   ],
   "source": [
    "x_train_f, x_test_f, y_train_f, y_test_f = utils.split_dataset(x, y)"
   ]
  },
  {
   "cell_type": "code",
   "execution_count": 16,
   "metadata": {
    "collapsed": false,
    "deletable": true,
    "editable": true
   },
   "outputs": [
    {
     "name": "stdout",
     "output_type": "stream",
     "text": [
      "10-fold cross validation:\n",
      "\n",
      "ROC_AUC: 0.83 (+/- 0.01) [GaussianNB]\n",
      "ROC_AUC: 0.61 (+/- 0.00) [DecisionTreeClassifier]\n",
      "ROC_AUC: 0.86 (+/- 0.01) [LogisticRegression]\n",
      "ROC_AUC: 0.58 (+/- 0.02) [MLPClassifier]\n",
      "ROC_AUC: 0.86 (+/- 0.01) [AdaBoostClassifier]\n",
      "ROC_AUC: 0.78 (+/- 0.01) [RandomForestClassifier]\n",
      "ROC_AUC: 0.86 (+/- 0.01) [GradientBoostingClassifier]\n",
      "ROC_AUC: 0.78 (+/- 0.01) [BaggingClassifier]\n",
      "ROC_AUC: 0.86 (+/- 0.01) [XGBClassifier]\n"
     ]
    }
   ],
   "source": [
    "test_multiple_cv(classifiers, 10, x_train_f, y_train_f)"
   ]
  },
  {
   "cell_type": "code",
   "execution_count": 17,
   "metadata": {
    "collapsed": false,
    "deletable": true,
    "editable": true
   },
   "outputs": [
    {
     "name": "stdout",
     "output_type": "stream",
     "text": [
      "ROC_AUC_SCORE: 0.67 - [GaussianNB]\n",
      "ROC_AUC_SCORE: 0.60 - [DecisionTreeClassifier]\n",
      "ROC_AUC_SCORE: 0.77 - [LogisticRegression]\n",
      "ROC_AUC_SCORE: 0.47 - [MLPClassifier]\n",
      "ROC_AUC_SCORE: 0.75 - [AdaBoostClassifier]\n",
      "ROC_AUC_SCORE: 0.72 - [RandomForestClassifier]\n",
      "ROC_AUC_SCORE: 0.77 - [GradientBoostingClassifier]\n",
      "ROC_AUC_SCORE: 0.71 - [BaggingClassifier]\n",
      "ROC_AUC_SCORE: 0.76 - [XGBClassifier]\n"
     ]
    }
   ],
   "source": [
    "test_multiple(classifiers, x_train_f, y_train_f, x_test_f, y_test_f)"
   ]
  },
  {
   "cell_type": "markdown",
   "metadata": {
    "deletable": true,
    "editable": true
   },
   "source": [
    "> Seems like a good start, yet there were results with .8 AUC in the Test Set on the Competition.\n",
    "\n",
    "** The MLP is too simple for this Feature set of 80 features**, it should be bigger"
   ]
  },
  {
   "cell_type": "code",
   "execution_count": 19,
   "metadata": {
    "collapsed": false,
    "deletable": true,
    "editable": true
   },
   "outputs": [
    {
     "name": "stdout",
     "output_type": "stream",
     "text": [
      "ROC_AUC_SCORE: 0.50 - [MLPClassifier]\n"
     ]
    }
   ],
   "source": [
    "# It will take a long time to train\n",
    "ann = MLPClassifier(solver='lbfgs', alpha=1e-5,\n",
    "                     hidden_layer_sizes=(40, 6), random_state=1)\n",
    "\n",
    "test_multiple([ann], x_train_f, y_train_f, x_test_f, y_test_f)"
   ]
  },
  {
   "cell_type": "markdown",
   "metadata": {
    "deletable": true,
    "editable": true
   },
   "source": [
    "A simple MLP might not be that good, let's build a bigger one with Keras."
   ]
  },
  {
   "cell_type": "code",
   "execution_count": 50,
   "metadata": {
    "collapsed": false,
    "deletable": true,
    "editable": true
   },
   "outputs": [
    {
     "name": "stderr",
     "output_type": "stream",
     "text": [
      "Training:   0%|          | 0/10 [00:00<?, ?it/s]\n",
      "Epoch: 0:   0%|          | 0/100500 [00:00<?, ?it/s]\u001b[A\n",
      "Epoch: 0 - loss: 0.308, acc: 0.254:   4%|▍         | 4096/100500 [00:00<00:12, 7524.30it/s]\u001b[A\n",
      "Epoch: 0 - loss: 0.121, acc: 0.810:  29%|██▊       | 28672/100500 [00:00<00:06, 10603.48it/s]\u001b[A\n",
      "Epoch: 0 - loss: 0.102, acc: 0.852:  49%|████▉     | 49152/100500 [00:00<00:03, 14755.28it/s]\u001b[A\n",
      "Epoch: 0 - loss: 0.093, acc: 0.872:  65%|██████▌   | 65536/100500 [00:00<00:01, 20233.43it/s]\u001b[A\n",
      "Epoch: 0 - loss: 0.087, acc: 0.886:  86%|████████▌ | 86016/100500 [00:01<00:00, 27421.79it/s]\u001b[A\n",
      "Epoch: 0 - loss: 0.084, acc: 0.892, val_loss: 0.065, val_acc: 0.931: 100%|██████████| 100500/100500 [00:01<00:00, 33953.05it/s]\u001b[A\n",
      "Training:  10%|█         | 1/10 [00:01<00:10,  1.20s/it]\n",
      "Epoch: 1:   0%|          | 0/100500 [00:00<?, ?it/s]\u001b[A\n",
      "Epoch: 1 - loss: 0.066, acc: 0.930:  20%|██        | 20480/100500 [00:00<00:00, 197156.58it/s]\u001b[A\n",
      "Epoch: 1 - loss: 0.065, acc: 0.931:  45%|████▍     | 45056/100500 [00:00<00:00, 205868.39it/s]\u001b[A\n",
      "Epoch: 1 - loss: 0.064, acc: 0.932:  69%|██████▉   | 69632/100500 [00:00<00:00, 214832.77it/s]\u001b[A\n",
      "Epoch: 1 - loss: 0.064, acc: 0.932:  94%|█████████▎| 94208/100500 [00:00<00:00, 219086.14it/s]\u001b[A\n",
      "Epoch: 1 - loss: 0.064, acc: 0.931, val_loss: 0.062, val_acc: 0.933: 100%|██████████| 100500/100500 [00:00<00:00, 78759.26it/s]\u001b[A\n",
      "Training:  20%|██        | 2/10 [00:01<00:08,  1.03s/it]\n",
      "Epoch: 2:   0%|          | 0/100500 [00:00<?, ?it/s]\u001b[A\n",
      "Epoch: 2 - loss: 0.064, acc: 0.931:  16%|█▋        | 16384/100500 [00:00<00:00, 161791.48it/s]\u001b[A\n",
      "Epoch: 2 - loss: 0.064, acc: 0.931:  33%|███▎      | 32768/100500 [00:00<00:00, 155740.52it/s]\u001b[A\n",
      "Epoch: 2 - loss: 0.063, acc: 0.932:  49%|████▉     | 49152/100500 [00:00<00:00, 154057.34it/s]\u001b[A\n",
      "Epoch: 2 - loss: 0.063, acc: 0.932:  69%|██████▉   | 69632/100500 [00:00<00:00, 163828.64it/s]\u001b[A\n",
      "Epoch: 2 - loss: 0.064, acc: 0.931:  94%|█████████▎| 94208/100500 [00:00<00:00, 175086.72it/s]\u001b[A\n",
      "Epoch: 2 - loss: 0.064, acc: 0.931, val_loss: 0.070, val_acc: 0.916: 100%|██████████| 100500/100500 [00:00<00:00, 95347.80it/s]\u001b[A\n",
      "Training:  30%|███       | 3/10 [00:02<00:06,  1.08it/s]\n",
      "Epoch: 3:   0%|          | 0/100500 [00:00<?, ?it/s]\u001b[A\n",
      "Epoch: 3 - loss: 0.064, acc: 0.929:  20%|██        | 20480/100500 [00:00<00:00, 175647.84it/s]\u001b[A\n",
      "Epoch: 3 - loss: 0.063, acc: 0.931:  41%|████      | 40960/100500 [00:00<00:00, 177383.98it/s]\u001b[A\n",
      "Epoch: 3 - loss: 0.063, acc: 0.931:  61%|██████    | 61440/100500 [00:00<00:00, 176129.45it/s]\u001b[A\n",
      "Epoch: 3 - loss: 0.063, acc: 0.931:  82%|████████▏ | 81920/100500 [00:00<00:00, 176195.97it/s]\u001b[A\n",
      "Epoch: 3 - loss: 0.063, acc: 0.931, val_loss: 0.064, val_acc: 0.930: 100%|██████████| 100500/100500 [00:00<00:00, 159572.28it/s]\u001b[A\n",
      "Training:  40%|████      | 4/10 [00:03<00:05,  1.20it/s]\n",
      "Epoch: 4:   0%|          | 0/100500 [00:00<?, ?it/s]\u001b[A\n",
      "Epoch: 4 - loss: 0.064, acc: 0.931:  29%|██▊       | 28672/100500 [00:00<00:00, 243998.56it/s]\u001b[A\n",
      "Epoch: 4 - loss: 0.063, acc: 0.932:  53%|█████▎    | 53248/100500 [00:00<00:00, 244024.78it/s]\u001b[A\n",
      "Epoch: 4 - loss: 0.063, acc: 0.931:  82%|████████▏ | 81920/100500 [00:00<00:00, 249823.11it/s]\u001b[A\n",
      "Epoch: 4 - loss: 0.062, acc: 0.932, val_loss: 0.060, val_acc: 0.934: 100%|██████████| 100500/100500 [00:00<00:00, 197110.49it/s]\u001b[A\n",
      "Training:  50%|█████     | 5/10 [00:03<00:03,  1.38it/s]\n",
      "Epoch: 5:   0%|          | 0/100500 [00:00<?, ?it/s]\u001b[A\n",
      "Epoch: 5 - loss: 0.064, acc: 0.930:  29%|██▊       | 28672/100500 [00:00<00:00, 233977.10it/s]\u001b[A\n",
      "Epoch: 5 - loss: 0.063, acc: 0.931:  49%|████▉     | 49152/100500 [00:00<00:00, 213644.09it/s]\u001b[A\n",
      "Epoch: 5 - loss: 0.062, acc: 0.932:  69%|██████▉   | 69632/100500 [00:00<00:00, 203935.57it/s]\u001b[A\n",
      "Epoch: 5 - loss: 0.062, acc: 0.932:  90%|████████▉ | 90112/100500 [00:00<00:00, 197110.85it/s]\u001b[A\n",
      "Epoch: 5 - loss: 0.062, acc: 0.932, val_loss: 0.060, val_acc: 0.934: 100%|██████████| 100500/100500 [00:00<00:00, 109106.83it/s]\u001b[A\n",
      "Training:  60%|██████    | 6/10 [00:04<00:02,  1.41it/s]\n",
      "Epoch: 6:   0%|          | 0/100500 [00:00<?, ?it/s]\u001b[A\n",
      "Epoch: 6 - loss: 0.061, acc: 0.934:  20%|██        | 20480/100500 [00:00<00:00, 200163.92it/s]\u001b[A\n",
      "Epoch: 6 - loss: 0.062, acc: 0.933:  41%|████      | 40960/100500 [00:00<00:00, 200353.14it/s]\u001b[A\n",
      "Epoch: 6 - loss: 0.063, acc: 0.931:  61%|██████    | 61440/100500 [00:00<00:00, 197089.36it/s]\u001b[A\n",
      "Epoch: 6 - loss: 0.062, acc: 0.932:  90%|████████▉ | 90112/100500 [00:00<00:00, 213150.76it/s]\u001b[A\n",
      "Epoch: 6 - loss: 0.062, acc: 0.932, val_loss: 0.058, val_acc: 0.933: 100%|██████████| 100500/100500 [00:00<00:00, 147840.04it/s]\u001b[A\n",
      "Training:  70%|███████   | 7/10 [00:04<00:01,  1.51it/s]\n",
      "Epoch: 7:   0%|          | 0/100500 [00:00<?, ?it/s]\u001b[A\n",
      "Epoch: 7 - loss: 0.062, acc: 0.930:  24%|██▍       | 24576/100500 [00:00<00:00, 226198.24it/s]\u001b[A\n",
      "Epoch: 7 - loss: 0.062, acc: 0.931:  45%|████▍     | 45056/100500 [00:00<00:00, 211825.99it/s]\u001b[A\n",
      "Epoch: 7 - loss: 0.061, acc: 0.932:  69%|██████▉   | 69632/100500 [00:00<00:00, 210233.13it/s]\u001b[A\n",
      "Epoch: 7 - loss: 0.062, acc: 0.932:  90%|████████▉ | 90112/100500 [00:00<00:00, 200946.72it/s]\u001b[A\n",
      "Epoch: 7 - loss: 0.062, acc: 0.932, val_loss: 0.059, val_acc: 0.934: 100%|██████████| 100500/100500 [00:00<00:00, 114588.27it/s]\u001b[A\n",
      "Training:  80%|████████  | 8/10 [00:05<00:01,  1.52it/s]\n",
      "Epoch: 8:   0%|          | 0/100500 [00:00<?, ?it/s]\u001b[A\n",
      "Epoch: 8 - loss: 0.062, acc: 0.931:  24%|██▍       | 24576/100500 [00:00<00:00, 226329.35it/s]\u001b[A\n",
      "Epoch: 8 - loss: 0.061, acc: 0.932:  45%|████▍     | 45056/100500 [00:00<00:00, 212150.14it/s]\u001b[A\n",
      "Epoch: 8 - loss: 0.061, acc: 0.931:  65%|██████▌   | 65536/100500 [00:00<00:00, 209628.66it/s]\u001b[A\n",
      "Epoch: 8 - loss: 0.061, acc: 0.932:  86%|████████▌ | 86016/100500 [00:00<00:00, 206054.13it/s]\u001b[A\n",
      "Epoch: 8 - loss: 0.061, acc: 0.932, val_loss: 0.057, val_acc: 0.934: 100%|██████████| 100500/100500 [00:00<00:00, 164222.08it/s]\u001b[A\n",
      "Training:  90%|█████████ | 9/10 [00:06<00:00,  1.59it/s]\n",
      "Epoch: 9:   0%|          | 0/100500 [00:00<?, ?it/s]\u001b[A\n",
      "Epoch: 9 - loss: 0.061, acc: 0.932:  33%|███▎      | 32768/100500 [00:00<00:00, 279848.58it/s]\u001b[A\n",
      "Epoch: 9 - loss: 0.061, acc: 0.932:  57%|█████▋    | 57344/100500 [00:00<00:00, 259560.07it/s]\u001b[A\n",
      "Epoch: 9 - loss: 0.060, acc: 0.932:  86%|████████▌ | 86016/100500 [00:00<00:00, 252301.55it/s]\u001b[A\n",
      "Epoch: 9 - loss: 0.060, acc: 0.932, val_loss: 0.059, val_acc: 0.934: 100%|██████████| 100500/100500 [00:00<00:00, 148965.10it/s]\u001b[A\n",
      "                                                         \r"
     ]
    },
    {
     "name": "stdout",
     "output_type": "stream",
     "text": [
      "ROC_AUC_SCORE: 0.79 - [Keras MLP]\n"
     ]
    }
   ],
   "source": [
    "from keras.models import Sequential\n",
    "from keras.layers import Dense, Dropout\n",
    "from sklearn.metrics import roc_auc_score\n",
    "from keras_tqdm import TQDMCallback\n",
    "from keras.callbacks import EarlyStopping\n",
    "\n",
    "batch_size = 4096\n",
    "early = EarlyStopping(monitor='val_acc', min_delta=0, patience=10, verbose=1, mode='auto')\n",
    "progress = TQDMCallback(leave_outer=False)\n",
    "\n",
    "model = Sequential()\n",
    "model.add(Dense(160, activation='tanh', input_shape=(80,)))\n",
    "model.add(Dense(80, activation='tanh'))\n",
    "model.add(Dense(40, activation='tanh'))\n",
    "model.add(Dense(20, activation='tanh'))\n",
    "model.add(Dense(10, activation='tanh'))\n",
    "model.add(Dense(1, activation='sigmoid'))\n",
    "\n",
    "# try using different optimizers and different optimizer configs\n",
    "model.compile(loss='mean_squared_error',\n",
    "              optimizer='rmsprop',\n",
    "              metrics=['accuracy'])\n",
    "\n",
    "model.fit(x_train_f, y_train_f,\n",
    "          batch_size=batch_size,\n",
    "          epochs=10, verbose=0,\n",
    "          validation_data=(x_test_f, y_test_f),\n",
    "          callbacks = [early, progress])\n",
    "\n",
    "model.save('credit_scoring.h5')\n",
    "\n",
    "y_pred = model.predict_classes(x_test_f)\n",
    "\n",
    "print(\"%s: %0.2f - [%s]\" % (roc_auc_score.__name__.upper(), roc_auc_score(y_pred, y_test_f), 'Keras MLP'))"
   ]
  },
  {
   "cell_type": "markdown",
   "metadata": {
    "deletable": true,
    "editable": true
   },
   "source": [
    "**Tahn in the middle layers, and sigmoid in the last layers shows us a good result.**\n",
    "\n",
    "> ROC_AUC_SCORE: 0.79 - [Keras MLP] VS ROC_AUC_SCORE: 0.77 - [GradientBoostingClassifier] in our Test Set\n",
    "\n",
    "With random Initializations I've managed between a 0.78 - 0.90 ROC_AUC_SCORE, so a NNET will be optimized with about 3 to 4 tanh hidden layers, and a sigmoid input/output layer.\n",
    "\n",
    "Lets check the submission with this network model."
   ]
  },
  {
   "cell_type": "code",
   "execution_count": 3,
   "metadata": {
    "collapsed": false,
    "deletable": true,
    "editable": true
   },
   "outputs": [
    {
     "data": {
      "text/html": [
       "<div>\n",
       "<style>\n",
       "    .dataframe thead tr:only-child th {\n",
       "        text-align: right;\n",
       "    }\n",
       "\n",
       "    .dataframe thead th {\n",
       "        text-align: left;\n",
       "    }\n",
       "\n",
       "    .dataframe tbody tr th {\n",
       "        vertical-align: top;\n",
       "    }\n",
       "</style>\n",
       "<table border=\"1\" class=\"dataframe\">\n",
       "  <thead>\n",
       "    <tr style=\"text-align: right;\">\n",
       "      <th></th>\n",
       "      <th>Id</th>\n",
       "      <th>SeriousDlqin2yrs</th>\n",
       "      <th>RevolvingUtilizationOfUnsecuredLines</th>\n",
       "      <th>age</th>\n",
       "      <th>NumberOfTime30-59DaysPastDueNotWorse</th>\n",
       "      <th>DebtRatio</th>\n",
       "      <th>MonthlyIncome</th>\n",
       "      <th>NumberOfOpenCreditLinesAndLoans</th>\n",
       "      <th>NumberOfTimes90DaysLate</th>\n",
       "      <th>NumberRealEstateLoansOrLines</th>\n",
       "      <th>NumberOfTime60-89DaysPastDueNotWorse</th>\n",
       "      <th>NumberOfDependents</th>\n",
       "    </tr>\n",
       "  </thead>\n",
       "  <tbody>\n",
       "    <tr>\n",
       "      <th>0</th>\n",
       "      <td>1</td>\n",
       "      <td>NaN</td>\n",
       "      <td>0.885519</td>\n",
       "      <td>43</td>\n",
       "      <td>0</td>\n",
       "      <td>0.177513</td>\n",
       "      <td>5700.0</td>\n",
       "      <td>4</td>\n",
       "      <td>0</td>\n",
       "      <td>0</td>\n",
       "      <td>0</td>\n",
       "      <td>0.0</td>\n",
       "    </tr>\n",
       "    <tr>\n",
       "      <th>1</th>\n",
       "      <td>2</td>\n",
       "      <td>NaN</td>\n",
       "      <td>0.463295</td>\n",
       "      <td>57</td>\n",
       "      <td>0</td>\n",
       "      <td>0.527237</td>\n",
       "      <td>9141.0</td>\n",
       "      <td>15</td>\n",
       "      <td>0</td>\n",
       "      <td>4</td>\n",
       "      <td>0</td>\n",
       "      <td>2.0</td>\n",
       "    </tr>\n",
       "    <tr>\n",
       "      <th>2</th>\n",
       "      <td>3</td>\n",
       "      <td>NaN</td>\n",
       "      <td>0.043275</td>\n",
       "      <td>59</td>\n",
       "      <td>0</td>\n",
       "      <td>0.687648</td>\n",
       "      <td>5083.0</td>\n",
       "      <td>12</td>\n",
       "      <td>0</td>\n",
       "      <td>1</td>\n",
       "      <td>0</td>\n",
       "      <td>2.0</td>\n",
       "    </tr>\n",
       "    <tr>\n",
       "      <th>3</th>\n",
       "      <td>4</td>\n",
       "      <td>NaN</td>\n",
       "      <td>0.280308</td>\n",
       "      <td>38</td>\n",
       "      <td>1</td>\n",
       "      <td>0.925961</td>\n",
       "      <td>3200.0</td>\n",
       "      <td>7</td>\n",
       "      <td>0</td>\n",
       "      <td>2</td>\n",
       "      <td>0</td>\n",
       "      <td>0.0</td>\n",
       "    </tr>\n",
       "    <tr>\n",
       "      <th>4</th>\n",
       "      <td>5</td>\n",
       "      <td>NaN</td>\n",
       "      <td>1.000000</td>\n",
       "      <td>27</td>\n",
       "      <td>0</td>\n",
       "      <td>0.019917</td>\n",
       "      <td>3865.0</td>\n",
       "      <td>4</td>\n",
       "      <td>0</td>\n",
       "      <td>0</td>\n",
       "      <td>0</td>\n",
       "      <td>1.0</td>\n",
       "    </tr>\n",
       "  </tbody>\n",
       "</table>\n",
       "</div>"
      ],
      "text/plain": [
       "   Id  SeriousDlqin2yrs  RevolvingUtilizationOfUnsecuredLines  age  \\\n",
       "0   1               NaN                              0.885519   43   \n",
       "1   2               NaN                              0.463295   57   \n",
       "2   3               NaN                              0.043275   59   \n",
       "3   4               NaN                              0.280308   38   \n",
       "4   5               NaN                              1.000000   27   \n",
       "\n",
       "   NumberOfTime30-59DaysPastDueNotWorse  DebtRatio  MonthlyIncome  \\\n",
       "0                                     0   0.177513         5700.0   \n",
       "1                                     0   0.527237         9141.0   \n",
       "2                                     0   0.687648         5083.0   \n",
       "3                                     1   0.925961         3200.0   \n",
       "4                                     0   0.019917         3865.0   \n",
       "\n",
       "   NumberOfOpenCreditLinesAndLoans  NumberOfTimes90DaysLate  \\\n",
       "0                                4                        0   \n",
       "1                               15                        0   \n",
       "2                               12                        0   \n",
       "3                                7                        0   \n",
       "4                                4                        0   \n",
       "\n",
       "   NumberRealEstateLoansOrLines  NumberOfTime60-89DaysPastDueNotWorse  \\\n",
       "0                             0                                     0   \n",
       "1                             4                                     0   \n",
       "2                             1                                     0   \n",
       "3                             2                                     0   \n",
       "4                             0                                     0   \n",
       "\n",
       "   NumberOfDependents  \n",
       "0                 0.0  \n",
       "1                 2.0  \n",
       "2                 2.0  \n",
       "3                 0.0  \n",
       "4                 1.0  "
      ]
     },
     "execution_count": 3,
     "metadata": {},
     "output_type": "execute_result"
    }
   ],
   "source": [
    "submission_set = utils.load_test_set()\n",
    "submission_set.head()"
   ]
  },
  {
   "cell_type": "code",
   "execution_count": 4,
   "metadata": {
    "collapsed": false,
    "deletable": true,
    "editable": true
   },
   "outputs": [
    {
     "data": {
      "text/html": [
       "<div>\n",
       "<style>\n",
       "    .dataframe thead tr:only-child th {\n",
       "        text-align: right;\n",
       "    }\n",
       "\n",
       "    .dataframe thead th {\n",
       "        text-align: left;\n",
       "    }\n",
       "\n",
       "    .dataframe tbody tr th {\n",
       "        vertical-align: top;\n",
       "    }\n",
       "</style>\n",
       "<table border=\"1\" class=\"dataframe\">\n",
       "  <thead>\n",
       "    <tr style=\"text-align: right;\">\n",
       "      <th></th>\n",
       "      <th>UnknownNumberOfDependents</th>\n",
       "      <th>UnknownMonthlyIncome</th>\n",
       "      <th>NoDependents</th>\n",
       "      <th>NoIncome</th>\n",
       "      <th>ZeroDebtRatio</th>\n",
       "      <th>UnknownIncomeDebtRatio</th>\n",
       "      <th>WeirdRevolvingUtilization</th>\n",
       "      <th>ZeroRevolvingUtilization</th>\n",
       "      <th>LogDebt</th>\n",
       "      <th>RevolvingLines</th>\n",
       "      <th>...</th>\n",
       "      <th>LogDebtPer90DaysLate</th>\n",
       "      <th>LogUnknownIncomeDebtRatio</th>\n",
       "      <th>LogUnknownIncomeDebtRatioPerPerson</th>\n",
       "      <th>LogUnknownIncomeDebtRatioPerLine</th>\n",
       "      <th>LogUnknownIncomeDebtRatioPerRealEstateLine</th>\n",
       "      <th>LogUnknownIncomeDebtRatioPerDelinquency</th>\n",
       "      <th>LogUnknownIncomeDebtRatioPer90DaysLate</th>\n",
       "      <th>LogNumberRealEstateLoansOrLines</th>\n",
       "      <th>LowAge</th>\n",
       "      <th>Logage</th>\n",
       "    </tr>\n",
       "  </thead>\n",
       "  <tbody>\n",
       "    <tr>\n",
       "      <th>0</th>\n",
       "      <td>0</td>\n",
       "      <td>0</td>\n",
       "      <td>1</td>\n",
       "      <td>0</td>\n",
       "      <td>0</td>\n",
       "      <td>0</td>\n",
       "      <td>0.0</td>\n",
       "      <td>0</td>\n",
       "      <td>6.919508</td>\n",
       "      <td>4</td>\n",
       "      <td>...</td>\n",
       "      <td>6.919508</td>\n",
       "      <td>0.0</td>\n",
       "      <td>0.000000</td>\n",
       "      <td>-1.609438</td>\n",
       "      <td>0.000000</td>\n",
       "      <td>0.000000</td>\n",
       "      <td>0.0</td>\n",
       "      <td>0.000000</td>\n",
       "      <td>0</td>\n",
       "      <td>3.258097</td>\n",
       "    </tr>\n",
       "    <tr>\n",
       "      <th>1</th>\n",
       "      <td>0</td>\n",
       "      <td>0</td>\n",
       "      <td>0</td>\n",
       "      <td>0</td>\n",
       "      <td>0</td>\n",
       "      <td>0</td>\n",
       "      <td>0.0</td>\n",
       "      <td>0</td>\n",
       "      <td>8.480420</td>\n",
       "      <td>11</td>\n",
       "      <td>...</td>\n",
       "      <td>8.480420</td>\n",
       "      <td>0.0</td>\n",
       "      <td>-1.098612</td>\n",
       "      <td>-2.772589</td>\n",
       "      <td>-1.609438</td>\n",
       "      <td>0.000000</td>\n",
       "      <td>0.0</td>\n",
       "      <td>1.386294</td>\n",
       "      <td>0</td>\n",
       "      <td>3.688879</td>\n",
       "    </tr>\n",
       "    <tr>\n",
       "      <th>2</th>\n",
       "      <td>0</td>\n",
       "      <td>0</td>\n",
       "      <td>0</td>\n",
       "      <td>0</td>\n",
       "      <td>0</td>\n",
       "      <td>0</td>\n",
       "      <td>0.0</td>\n",
       "      <td>0</td>\n",
       "      <td>8.159178</td>\n",
       "      <td>11</td>\n",
       "      <td>...</td>\n",
       "      <td>8.159178</td>\n",
       "      <td>0.0</td>\n",
       "      <td>-1.098612</td>\n",
       "      <td>-2.564949</td>\n",
       "      <td>-0.693147</td>\n",
       "      <td>0.000000</td>\n",
       "      <td>0.0</td>\n",
       "      <td>0.000000</td>\n",
       "      <td>0</td>\n",
       "      <td>3.737670</td>\n",
       "    </tr>\n",
       "    <tr>\n",
       "      <th>3</th>\n",
       "      <td>0</td>\n",
       "      <td>0</td>\n",
       "      <td>1</td>\n",
       "      <td>0</td>\n",
       "      <td>0</td>\n",
       "      <td>0</td>\n",
       "      <td>0.0</td>\n",
       "      <td>0</td>\n",
       "      <td>7.993983</td>\n",
       "      <td>5</td>\n",
       "      <td>...</td>\n",
       "      <td>7.993983</td>\n",
       "      <td>0.0</td>\n",
       "      <td>0.000000</td>\n",
       "      <td>-2.079442</td>\n",
       "      <td>-1.098612</td>\n",
       "      <td>-0.693147</td>\n",
       "      <td>0.0</td>\n",
       "      <td>0.693147</td>\n",
       "      <td>0</td>\n",
       "      <td>3.044522</td>\n",
       "    </tr>\n",
       "    <tr>\n",
       "      <th>4</th>\n",
       "      <td>0</td>\n",
       "      <td>0</td>\n",
       "      <td>0</td>\n",
       "      <td>0</td>\n",
       "      <td>0</td>\n",
       "      <td>0</td>\n",
       "      <td>0.0</td>\n",
       "      <td>0</td>\n",
       "      <td>4.343547</td>\n",
       "      <td>4</td>\n",
       "      <td>...</td>\n",
       "      <td>4.343547</td>\n",
       "      <td>0.0</td>\n",
       "      <td>-0.693147</td>\n",
       "      <td>-1.609438</td>\n",
       "      <td>0.000000</td>\n",
       "      <td>0.000000</td>\n",
       "      <td>0.0</td>\n",
       "      <td>0.000000</td>\n",
       "      <td>0</td>\n",
       "      <td>2.302585</td>\n",
       "    </tr>\n",
       "  </tbody>\n",
       "</table>\n",
       "<p>5 rows × 80 columns</p>\n",
       "</div>"
      ],
      "text/plain": [
       "   UnknownNumberOfDependents  UnknownMonthlyIncome  NoDependents  NoIncome  \\\n",
       "0                          0                     0             1         0   \n",
       "1                          0                     0             0         0   \n",
       "2                          0                     0             0         0   \n",
       "3                          0                     0             1         0   \n",
       "4                          0                     0             0         0   \n",
       "\n",
       "   ZeroDebtRatio  UnknownIncomeDebtRatio  WeirdRevolvingUtilization  \\\n",
       "0              0                       0                        0.0   \n",
       "1              0                       0                        0.0   \n",
       "2              0                       0                        0.0   \n",
       "3              0                       0                        0.0   \n",
       "4              0                       0                        0.0   \n",
       "\n",
       "   ZeroRevolvingUtilization   LogDebt  RevolvingLines    ...     \\\n",
       "0                         0  6.919508               4    ...      \n",
       "1                         0  8.480420              11    ...      \n",
       "2                         0  8.159178              11    ...      \n",
       "3                         0  7.993983               5    ...      \n",
       "4                         0  4.343547               4    ...      \n",
       "\n",
       "   LogDebtPer90DaysLate  LogUnknownIncomeDebtRatio  \\\n",
       "0              6.919508                        0.0   \n",
       "1              8.480420                        0.0   \n",
       "2              8.159178                        0.0   \n",
       "3              7.993983                        0.0   \n",
       "4              4.343547                        0.0   \n",
       "\n",
       "   LogUnknownIncomeDebtRatioPerPerson  LogUnknownIncomeDebtRatioPerLine  \\\n",
       "0                            0.000000                         -1.609438   \n",
       "1                           -1.098612                         -2.772589   \n",
       "2                           -1.098612                         -2.564949   \n",
       "3                            0.000000                         -2.079442   \n",
       "4                           -0.693147                         -1.609438   \n",
       "\n",
       "   LogUnknownIncomeDebtRatioPerRealEstateLine  \\\n",
       "0                                    0.000000   \n",
       "1                                   -1.609438   \n",
       "2                                   -0.693147   \n",
       "3                                   -1.098612   \n",
       "4                                    0.000000   \n",
       "\n",
       "   LogUnknownIncomeDebtRatioPerDelinquency  \\\n",
       "0                                 0.000000   \n",
       "1                                 0.000000   \n",
       "2                                 0.000000   \n",
       "3                                -0.693147   \n",
       "4                                 0.000000   \n",
       "\n",
       "   LogUnknownIncomeDebtRatioPer90DaysLate  LogNumberRealEstateLoansOrLines  \\\n",
       "0                                     0.0                         0.000000   \n",
       "1                                     0.0                         1.386294   \n",
       "2                                     0.0                         0.000000   \n",
       "3                                     0.0                         0.693147   \n",
       "4                                     0.0                         0.000000   \n",
       "\n",
       "   LowAge    Logage  \n",
       "0       0  3.258097  \n",
       "1       0  3.688879  \n",
       "2       0  3.737670  \n",
       "3       0  3.044522  \n",
       "4       0  2.302585  \n",
       "\n",
       "[5 rows x 80 columns]"
      ]
     },
     "execution_count": 4,
     "metadata": {},
     "output_type": "execute_result"
    }
   ],
   "source": [
    "submission_feature_set = utils.load_test_feature_set()\n",
    "submission_feature_set = submission_feature_set.drop(['SeriousDlqin2yrs'], axis=1)\n",
    "submission_feature_set.head()"
   ]
  },
  {
   "cell_type": "code",
   "execution_count": 9,
   "metadata": {
    "collapsed": false,
    "deletable": true,
    "editable": true
   },
   "outputs": [
    {
     "data": {
      "text/html": [
       "<div>\n",
       "<style>\n",
       "    .dataframe thead tr:only-child th {\n",
       "        text-align: right;\n",
       "    }\n",
       "\n",
       "    .dataframe thead th {\n",
       "        text-align: left;\n",
       "    }\n",
       "\n",
       "    .dataframe tbody tr th {\n",
       "        vertical-align: top;\n",
       "    }\n",
       "</style>\n",
       "<table border=\"1\" class=\"dataframe\">\n",
       "  <thead>\n",
       "    <tr style=\"text-align: right;\">\n",
       "      <th></th>\n",
       "      <th>Id</th>\n",
       "      <th>SeriousDlqin2yrs</th>\n",
       "      <th>RevolvingUtilizationOfUnsecuredLines</th>\n",
       "      <th>age</th>\n",
       "      <th>NumberOfTime30-59DaysPastDueNotWorse</th>\n",
       "      <th>DebtRatio</th>\n",
       "      <th>MonthlyIncome</th>\n",
       "      <th>NumberOfOpenCreditLinesAndLoans</th>\n",
       "      <th>NumberOfTimes90DaysLate</th>\n",
       "      <th>NumberRealEstateLoansOrLines</th>\n",
       "      <th>NumberOfTime60-89DaysPastDueNotWorse</th>\n",
       "      <th>NumberOfDependents</th>\n",
       "      <th>Probability</th>\n",
       "    </tr>\n",
       "  </thead>\n",
       "  <tbody>\n",
       "    <tr>\n",
       "      <th>0</th>\n",
       "      <td>1</td>\n",
       "      <td>0</td>\n",
       "      <td>0.885519</td>\n",
       "      <td>43</td>\n",
       "      <td>0</td>\n",
       "      <td>0.177513</td>\n",
       "      <td>5700.0</td>\n",
       "      <td>4</td>\n",
       "      <td>0</td>\n",
       "      <td>0</td>\n",
       "      <td>0</td>\n",
       "      <td>0.0</td>\n",
       "      <td>0.078274</td>\n",
       "    </tr>\n",
       "    <tr>\n",
       "      <th>1</th>\n",
       "      <td>2</td>\n",
       "      <td>0</td>\n",
       "      <td>0.463295</td>\n",
       "      <td>57</td>\n",
       "      <td>0</td>\n",
       "      <td>0.527237</td>\n",
       "      <td>9141.0</td>\n",
       "      <td>15</td>\n",
       "      <td>0</td>\n",
       "      <td>4</td>\n",
       "      <td>0</td>\n",
       "      <td>2.0</td>\n",
       "      <td>0.121120</td>\n",
       "    </tr>\n",
       "    <tr>\n",
       "      <th>2</th>\n",
       "      <td>3</td>\n",
       "      <td>0</td>\n",
       "      <td>0.043275</td>\n",
       "      <td>59</td>\n",
       "      <td>0</td>\n",
       "      <td>0.687648</td>\n",
       "      <td>5083.0</td>\n",
       "      <td>12</td>\n",
       "      <td>0</td>\n",
       "      <td>1</td>\n",
       "      <td>0</td>\n",
       "      <td>2.0</td>\n",
       "      <td>0.048864</td>\n",
       "    </tr>\n",
       "    <tr>\n",
       "      <th>3</th>\n",
       "      <td>4</td>\n",
       "      <td>0</td>\n",
       "      <td>0.280308</td>\n",
       "      <td>38</td>\n",
       "      <td>1</td>\n",
       "      <td>0.925961</td>\n",
       "      <td>3200.0</td>\n",
       "      <td>7</td>\n",
       "      <td>0</td>\n",
       "      <td>2</td>\n",
       "      <td>0</td>\n",
       "      <td>0.0</td>\n",
       "      <td>0.105179</td>\n",
       "    </tr>\n",
       "    <tr>\n",
       "      <th>4</th>\n",
       "      <td>5</td>\n",
       "      <td>0</td>\n",
       "      <td>1.000000</td>\n",
       "      <td>27</td>\n",
       "      <td>0</td>\n",
       "      <td>0.019917</td>\n",
       "      <td>3865.0</td>\n",
       "      <td>4</td>\n",
       "      <td>0</td>\n",
       "      <td>0</td>\n",
       "      <td>0</td>\n",
       "      <td>1.0</td>\n",
       "      <td>0.126238</td>\n",
       "    </tr>\n",
       "  </tbody>\n",
       "</table>\n",
       "</div>"
      ],
      "text/plain": [
       "   Id  SeriousDlqin2yrs  RevolvingUtilizationOfUnsecuredLines  age  \\\n",
       "0   1                 0                              0.885519   43   \n",
       "1   2                 0                              0.463295   57   \n",
       "2   3                 0                              0.043275   59   \n",
       "3   4                 0                              0.280308   38   \n",
       "4   5                 0                              1.000000   27   \n",
       "\n",
       "   NumberOfTime30-59DaysPastDueNotWorse  DebtRatio  MonthlyIncome  \\\n",
       "0                                     0   0.177513         5700.0   \n",
       "1                                     0   0.527237         9141.0   \n",
       "2                                     0   0.687648         5083.0   \n",
       "3                                     1   0.925961         3200.0   \n",
       "4                                     0   0.019917         3865.0   \n",
       "\n",
       "   NumberOfOpenCreditLinesAndLoans  NumberOfTimes90DaysLate  \\\n",
       "0                                4                        0   \n",
       "1                               15                        0   \n",
       "2                               12                        0   \n",
       "3                                7                        0   \n",
       "4                                4                        0   \n",
       "\n",
       "   NumberRealEstateLoansOrLines  NumberOfTime60-89DaysPastDueNotWorse  \\\n",
       "0                             0                                     0   \n",
       "1                             4                                     0   \n",
       "2                             1                                     0   \n",
       "3                             2                                     0   \n",
       "4                             0                                     0   \n",
       "\n",
       "   NumberOfDependents  Probability  \n",
       "0                 0.0     0.078274  \n",
       "1                 2.0     0.121120  \n",
       "2                 2.0     0.048864  \n",
       "3                 0.0     0.105179  \n",
       "4                 1.0     0.126238  "
      ]
     },
     "execution_count": 9,
     "metadata": {},
     "output_type": "execute_result"
    }
   ],
   "source": [
    "from keras.models import load_model\n",
    "# load the keras model\n",
    "model = load_model('credit_scoring.h5')\n",
    "\n",
    "x = submission_feature_set.as_matrix()\n",
    "\n",
    "y_predicts = model.predict_classes(x)\n",
    "y_probs = model.predict(x)\n",
    "\n",
    "submission_set.SeriousDlqin2yrs = y_predicts\n",
    "submission_set['Probability'] = y_probs\n",
    "\n",
    "submission_set.head()"
   ]
  },
  {
   "cell_type": "code",
   "execution_count": 14,
   "metadata": {
    "collapsed": false,
    "deletable": true,
    "editable": true
   },
   "outputs": [
    {
     "data": {
      "text/plain": [
       "Id                                      101503\n",
       "SeriousDlqin2yrs                        101503\n",
       "RevolvingUtilizationOfUnsecuredLines    101503\n",
       "age                                     101503\n",
       "NumberOfTime30-59DaysPastDueNotWorse    101503\n",
       "DebtRatio                               101503\n",
       "MonthlyIncome                            81400\n",
       "NumberOfOpenCreditLinesAndLoans         101503\n",
       "NumberOfTimes90DaysLate                 101503\n",
       "NumberRealEstateLoansOrLines            101503\n",
       "NumberOfTime60-89DaysPastDueNotWorse    101503\n",
       "NumberOfDependents                       98877\n",
       "Probability                             101503\n",
       "dtype: int64"
      ]
     },
     "execution_count": 14,
     "metadata": {},
     "output_type": "execute_result"
    }
   ],
   "source": [
    "submission_set.count()\n",
    "# We expect the solution file to have 101503 prediction rows."
   ]
  },
  {
   "cell_type": "markdown",
   "metadata": {
    "deletable": true,
    "editable": true
   },
   "source": [
    "** Lets count the predictions of each class, check if it's ok (not just full one class or anything) **"
   ]
  },
  {
   "cell_type": "code",
   "execution_count": 10,
   "metadata": {
    "collapsed": false,
    "deletable": true,
    "editable": true
   },
   "outputs": [
    {
     "data": {
      "text/plain": [
       "Id                                      101467\n",
       "SeriousDlqin2yrs                        101467\n",
       "RevolvingUtilizationOfUnsecuredLines    101467\n",
       "age                                     101467\n",
       "NumberOfTime30-59DaysPastDueNotWorse    101467\n",
       "DebtRatio                               101467\n",
       "MonthlyIncome                            81369\n",
       "NumberOfOpenCreditLinesAndLoans         101467\n",
       "NumberOfTimes90DaysLate                 101467\n",
       "NumberRealEstateLoansOrLines            101467\n",
       "NumberOfTime60-89DaysPastDueNotWorse    101467\n",
       "NumberOfDependents                       98841\n",
       "Probability                             101467\n",
       "dtype: int64"
      ]
     },
     "execution_count": 10,
     "metadata": {},
     "output_type": "execute_result"
    }
   ],
   "source": [
    "submission_set.query('SeriousDlqin2yrs == 0').count()"
   ]
  },
  {
   "cell_type": "code",
   "execution_count": 11,
   "metadata": {
    "collapsed": false,
    "deletable": true,
    "editable": true
   },
   "outputs": [
    {
     "data": {
      "text/plain": [
       "Id                                      36\n",
       "SeriousDlqin2yrs                        36\n",
       "RevolvingUtilizationOfUnsecuredLines    36\n",
       "age                                     36\n",
       "NumberOfTime30-59DaysPastDueNotWorse    36\n",
       "DebtRatio                               36\n",
       "MonthlyIncome                           31\n",
       "NumberOfOpenCreditLinesAndLoans         36\n",
       "NumberOfTimes90DaysLate                 36\n",
       "NumberRealEstateLoansOrLines            36\n",
       "NumberOfTime60-89DaysPastDueNotWorse    36\n",
       "NumberOfDependents                      36\n",
       "Probability                             36\n",
       "dtype: int64"
      ]
     },
     "execution_count": 11,
     "metadata": {},
     "output_type": "execute_result"
    }
   ],
   "source": [
    "submission_set.query('SeriousDlqin2yrs == 1').count()"
   ]
  },
  {
   "cell_type": "code",
   "execution_count": 15,
   "metadata": {
    "collapsed": false,
    "deletable": true,
    "editable": true
   },
   "outputs": [],
   "source": [
    "# Submission must be prob and id:\n",
    "import pandas as pd\n",
    "submission_set.to_csv(utils.os.path.join(utils.DIR, 'dataset', 'submission.csv'),\n",
    "                      index=False, \n",
    "                      columns=['Id', 'Probability'])"
   ]
  },
  {
   "cell_type": "markdown",
   "metadata": {
    "deletable": true,
    "editable": true
   },
   "source": [
    "** First submission was bad **:\n",
    "![](images/first_submission.png)\n",
    "\n",
    "Training the classifier with this set of data might not be ok, we need to split it better.\n",
    "And we also need to compute the ROC_AUC_SCORE at the end of each epoch on the validation set.\n",
    "We might do that using a Callback function.\n",
    "\n",
    "## Checkpoint\n",
    "\n",
    "Second try, using a smaller dataset split only"
   ]
  },
  {
   "cell_type": "code",
   "execution_count": 1,
   "metadata": {
    "collapsed": true,
    "deletable": true,
    "editable": true
   },
   "outputs": [],
   "source": [
    "def build_submission_keras(model):\n",
    "    submission_feature_set = utils.load_test_feature_set()\n",
    "    submission_feature_set = submission_feature_set.drop(['SeriousDlqin2yrs'], axis=1)\n",
    "    x = submission_feature_set.as_matrix()\n",
    "\n",
    "    y_predicts = model.predict_classes(x)\n",
    "    y_probs = model.predict(x)\n",
    "    \n",
    "    submission_set = utils.load_test_set()\n",
    "    submission_set .SeriousDlqin2yrs = y_predicts\n",
    "    submission_set ['Probability'] = y_probs\n",
    "    \n",
    "    return submission_set"
   ]
  },
  {
   "cell_type": "code",
   "execution_count": 2,
   "metadata": {
    "collapsed": false,
    "deletable": true,
    "editable": true
   },
   "outputs": [
    {
     "name": "stderr",
     "output_type": "stream",
     "text": [
      "/media/rodsnjr/Files/miniconda3/envs/udacity-ml/lib/python2.7/site-packages/sklearn/cross_validation.py:41: DeprecationWarning: This module was deprecated in version 0.18 in favor of the model_selection module into which all the refactored classes and functions are moved. Also note that the interface of the new CV iterators are different from that of this module. This module will be removed in 0.20.\n",
      "  \"This module will be removed in 0.20.\", DeprecationWarning)\n"
     ]
    },
    {
     "name": "stdout",
     "output_type": "stream",
     "text": [
      "Dataset splitted from: \n",
      "\tx=(150000, 80), y=(150000,)\n",
      "To: \n",
      "Train Set\n",
      "\tx=(135000, 80), y=(135000,)\n",
      "Test Set\n",
      "\tx=(15000, 80), y=(15000,)\n"
     ]
    }
   ],
   "source": [
    "import utils\n",
    "features_set = utils.load_features_set()\n",
    "y = features_set['SeriousDlqin2yrs'].as_matrix()\n",
    "x = features_set.drop(['SeriousDlqin2yrs'], axis=1).as_matrix()\n",
    "x_train_f, x_test_f, y_train_f, y_test_f = utils.split_dataset(x, y, portion=0.10)"
   ]
  },
  {
   "cell_type": "code",
   "execution_count": 3,
   "metadata": {
    "collapsed": false,
    "deletable": true,
    "editable": true
   },
   "outputs": [
    {
     "name": "stderr",
     "output_type": "stream",
     "text": [
      "Using TensorFlow backend.\n"
     ]
    },
    {
     "name": "stdout",
     "output_type": "stream",
     "text": [
      "_________________________________________________________________\n",
      "Layer (type)                 Output Shape              Param #   \n",
      "=================================================================\n",
      "dense_1 (Dense)              (None, 80)                6480      \n",
      "_________________________________________________________________\n",
      "dense_2 (Dense)              (None, 40)                3240      \n",
      "_________________________________________________________________\n",
      "dense_3 (Dense)              (None, 20)                820       \n",
      "_________________________________________________________________\n",
      "dense_4 (Dense)              (None, 1)                 21        \n",
      "=================================================================\n",
      "Total params: 10,561\n",
      "Trainable params: 10,561\n",
      "Non-trainable params: 0\n",
      "_________________________________________________________________\n"
     ]
    }
   ],
   "source": [
    "from keras.models import Sequential\n",
    "from keras.layers import Dense, Dropout\n",
    "from sklearn.metrics import roc_auc_score\n",
    "from keras_tqdm import TQDMCallback\n",
    "from keras.callbacks import EarlyStopping, LambdaCallback\n",
    "\n",
    "def roc_callback(epochs, logs):\n",
    "    try:\n",
    "        print 'EPOCH %s ROC_AUC_SCORE %s' % (epochs, roc_auc_score(model.predict_classes(x_test_f), y_test_f))\n",
    "    except ValueError:\n",
    "        print 'ROC_AUC_SCORE is 0, only one class present in the predictions'\n",
    "\n",
    "batch_size = 4096\n",
    "early = EarlyStopping(monitor='loss', min_delta=0, patience=10, verbose=1, mode='auto')\n",
    "roc_scoring = LambdaCallback(on_epoch_end=lambda epochs, logs: roc_callback(epochs, logs))\n",
    "progress = TQDMCallback(leave_outer=False)\n",
    "\n",
    "model = Sequential()\n",
    "model.add(Dense(80, activation='sigmoid', input_shape=(80,)))\n",
    "model.add(Dense(40, activation='sigmoid'))\n",
    "model.add(Dense(20, activation='sigmoid'))\n",
    "model.add(Dense(1, activation='sigmoid'))\n",
    "\n",
    "model.summary()"
   ]
  },
  {
   "cell_type": "code",
   "execution_count": 4,
   "metadata": {
    "collapsed": false,
    "deletable": true,
    "editable": true
   },
   "outputs": [
    {
     "name": "stderr",
     "output_type": "stream",
     "text": [
      "Training:   0%|          | 0/30 [00:00<?, ?it/s]\n",
      "Epoch: 0:   0%|          | 0/135000 [00:00<?, ?it/s]\u001b[A\n",
      "Epoch: 0 - loss: 0.092, acc: 0.935:   3%|▎         | 4096/135000 [00:05<02:48, 774.82it/s]\u001b[A\n",
      "Epoch: 0 - loss: 0.084, acc: 0.930:  27%|██▋       | 36864/135000 [00:05<01:28, 1105.74it/s]\u001b[A\n",
      "Epoch: 0 - loss: 0.077, acc: 0.932:  55%|█████▍    | 73728/135000 [00:05<00:38, 1577.49it/s]\u001b[A\n",
      "Epoch: 0 - loss: 0.073, acc: 0.932:  82%|████████▏ | 110592/135000 [00:05<00:10, 2249.39it/s]\u001b[A\n",
      "Epoch: 0 - loss: 0.070, acc: 0.933, val_loss: 0.060, val_acc: 0.936: 100%|██████████| 135000/135000 [00:05<00:00, 3201.86it/s]\u001b[A\n",
      "Training:   3%|▎         | 1/30 [00:05<02:45,  5.69s/it]\n",
      "Epoch: 1:   0%|          | 0/135000 [00:00<?, ?it/s]\u001b[A\n",
      "Epoch: 1 - loss: 0.063, acc: 0.933:  21%|██        | 28672/135000 [00:00<00:00, 279917.71it/s]\u001b[A"
     ]
    },
    {
     "name": "stdout",
     "output_type": "stream",
     "text": [
      "ROC_AUC_SCORE is 0, only one class present in the predictions\n"
     ]
    },
    {
     "name": "stderr",
     "output_type": "stream",
     "text": [
      "\n",
      "Epoch: 1 - loss: 0.063, acc: 0.933:  49%|████▊     | 65536/135000 [00:00<00:00, 297486.23it/s]\u001b[A\n",
      "Epoch: 1 - loss: 0.062, acc: 0.933:  67%|██████▋   | 90112/135000 [00:00<00:00, 279691.77it/s]\u001b[A\n",
      "Epoch: 1 - loss: 0.063, acc: 0.933:  94%|█████████▍| 126976/135000 [00:00<00:00, 296236.62it/s]\u001b[A\n",
      "Epoch: 1 - loss: 0.063, acc: 0.933, val_loss: 0.060, val_acc: 0.936: 100%|██████████| 135000/135000 [00:00<00:00, 223237.16it/s]\u001b[A\n",
      "Training:   7%|▋         | 2/30 [00:06<01:57,  4.21s/it]\n",
      "Epoch: 2:   0%|          | 0/135000 [00:00<?, ?it/s]\u001b[A\n",
      "Epoch: 2 - loss: 0.062, acc: 0.933:  30%|███       | 40960/135000 [00:00<00:00, 378705.67it/s]\u001b[A"
     ]
    },
    {
     "name": "stdout",
     "output_type": "stream",
     "text": [
      "ROC_AUC_SCORE is 0, only one class present in the predictions\n"
     ]
    },
    {
     "name": "stderr",
     "output_type": "stream",
     "text": [
      "\n",
      "Epoch: 2 - loss: 0.062, acc: 0.933:  52%|█████▏    | 69632/135000 [00:00<00:00, 334070.89it/s]\u001b[A\n",
      "Epoch: 2 - loss: 0.063, acc: 0.932:  73%|███████▎  | 98304/135000 [00:00<00:00, 316446.20it/s]\u001b[A\n",
      "Epoch: 2 - loss: 0.063, acc: 0.933, val_loss: 0.060, val_acc: 0.936: 100%|██████████| 135000/135000 [00:00<00:00, 317288.98it/s]\u001b[A\n",
      "Training:  10%|█         | 3/30 [00:07<01:25,  3.16s/it]\n",
      "Epoch: 3:   0%|          | 0/135000 [00:00<?, ?it/s]\u001b[A\n",
      "Epoch: 3 - loss: 0.063, acc: 0.932:  24%|██▍       | 32768/135000 [00:00<00:00, 305051.80it/s]\u001b[A"
     ]
    },
    {
     "name": "stdout",
     "output_type": "stream",
     "text": [
      "ROC_AUC_SCORE is 0, only one class present in the predictions\n"
     ]
    },
    {
     "name": "stderr",
     "output_type": "stream",
     "text": [
      "\n",
      "Epoch: 3 - loss: 0.063, acc: 0.933:  49%|████▊     | 65536/135000 [00:00<00:00, 309375.15it/s]\u001b[A\n",
      "Epoch: 3 - loss: 0.063, acc: 0.932:  70%|██████▉   | 94208/135000 [00:00<00:00, 299610.74it/s]\u001b[A\n",
      "Epoch: 3 - loss: 0.063, acc: 0.933:  97%|█████████▋| 131072/135000 [00:00<00:00, 316725.10it/s]\u001b[A\n",
      "Epoch: 3 - loss: 0.063, acc: 0.933, val_loss: 0.060, val_acc: 0.936: 100%|██████████| 135000/135000 [00:00<00:00, 200097.72it/s]\u001b[A\n",
      "Training:  13%|█▎        | 4/30 [00:07<01:03,  2.43s/it]\n",
      "Epoch: 4:   0%|          | 0/135000 [00:00<?, ?it/s]\u001b[A\n",
      "Epoch: 4 - loss: 0.063, acc: 0.932:  21%|██        | 28672/135000 [00:00<00:00, 256272.25it/s]\u001b[A"
     ]
    },
    {
     "name": "stdout",
     "output_type": "stream",
     "text": [
      "ROC_AUC_SCORE is 0, only one class present in the predictions\n"
     ]
    },
    {
     "name": "stderr",
     "output_type": "stream",
     "text": [
      "\n",
      "Epoch: 4 - loss: 0.064, acc: 0.931:  36%|███▋      | 49152/135000 [00:00<00:00, 235528.77it/s]\u001b[A\n",
      "Epoch: 4 - loss: 0.063, acc: 0.932:  52%|█████▏    | 69632/135000 [00:00<00:00, 222633.92it/s]\u001b[A\n",
      "Epoch: 4 - loss: 0.062, acc: 0.933:  64%|██████▎   | 86016/135000 [00:00<00:00, 195470.70it/s]\u001b[A\n",
      "Epoch: 4 - loss: 0.062, acc: 0.933:  91%|█████████ | 122880/135000 [00:00<00:00, 223130.78it/s]\u001b[A\n",
      "Epoch: 4 - loss: 0.063, acc: 0.933, val_loss: 0.060, val_acc: 0.936: 100%|██████████| 135000/135000 [00:00<00:00, 226522.22it/s]\u001b[A\n",
      "Training:  17%|█▋        | 5/30 [00:08<00:49,  1.97s/it]\n",
      "Epoch: 5:   0%|          | 0/135000 [00:00<?, ?it/s]\u001b[A\n",
      "Epoch: 5 - loss: 0.060, acc: 0.936:  12%|█▏        | 16384/135000 [00:00<00:00, 151304.50it/s]\u001b[A"
     ]
    },
    {
     "name": "stdout",
     "output_type": "stream",
     "text": [
      "ROC_AUC_SCORE is 0, only one class present in the predictions\n"
     ]
    },
    {
     "name": "stderr",
     "output_type": "stream",
     "text": [
      "\n",
      "Epoch: 5 - loss: 0.061, acc: 0.935:  27%|██▋       | 36864/135000 [00:00<00:00, 153673.49it/s]\u001b[A\n",
      "Epoch: 5 - loss: 0.062, acc: 0.934:  46%|████▌     | 61440/135000 [00:00<00:00, 166910.58it/s]\u001b[A\n",
      "Epoch: 5 - loss: 0.062, acc: 0.934:  61%|██████    | 81920/135000 [00:00<00:00, 170218.94it/s]\u001b[A\n",
      "Epoch: 5 - loss: 0.062, acc: 0.933:  82%|████████▏ | 110592/135000 [00:00<00:00, 191104.59it/s]\u001b[A\n",
      "Epoch: 5 - loss: 0.062, acc: 0.933, val_loss: 0.060, val_acc: 0.936: 100%|██████████| 135000/135000 [00:00<00:00, 177598.97it/s]\u001b[A\n",
      "Training:  20%|██        | 6/30 [00:09<00:40,  1.71s/it]\n",
      "Epoch: 6:   0%|          | 0/135000 [00:00<?, ?it/s]\u001b[A\n",
      "Epoch: 6 - loss: 0.062, acc: 0.933:  21%|██        | 28672/135000 [00:00<00:00, 271368.42it/s]\u001b[A"
     ]
    },
    {
     "name": "stdout",
     "output_type": "stream",
     "text": [
      "ROC_AUC_SCORE is 0, only one class present in the predictions\n"
     ]
    },
    {
     "name": "stderr",
     "output_type": "stream",
     "text": [
      "\n",
      "Epoch: 6 - loss: 0.062, acc: 0.933:  39%|███▉      | 53248/135000 [00:00<00:00, 257520.03it/s]\u001b[A\n",
      "Epoch: 6 - loss: 0.062, acc: 0.933:  55%|█████▍    | 73728/135000 [00:00<00:00, 228312.15it/s]\u001b[A\n",
      "Epoch: 6 - loss: 0.062, acc: 0.933:  70%|██████▉   | 94208/135000 [00:00<00:00, 206177.71it/s]\u001b[A\n",
      "Epoch: 6 - loss: 0.062, acc: 0.933:  82%|████████▏ | 110592/135000 [00:00<00:00, 189284.35it/s]\u001b[A\n",
      "Epoch: 6 - loss: 0.062, acc: 0.933:  94%|█████████▍| 126976/135000 [00:00<00:00, 177770.47it/s]\u001b[A\n",
      "Epoch: 6 - loss: 0.062, acc: 0.933, val_loss: 0.059, val_acc: 0.936: 100%|██████████| 135000/135000 [00:00<00:00, 131960.85it/s]\u001b[A\n",
      "Training:  23%|██▎       | 7/30 [00:11<00:35,  1.54s/it]\n",
      "Epoch: 7:   0%|          | 0/135000 [00:00<?, ?it/s]\u001b[A\n",
      "Epoch: 7 - loss: 0.060, acc: 0.934:  36%|███▋      | 49152/135000 [00:00<00:00, 472910.94it/s]\u001b[A"
     ]
    },
    {
     "name": "stdout",
     "output_type": "stream",
     "text": [
      "ROC_AUC_SCORE is 0, only one class present in the predictions\n"
     ]
    },
    {
     "name": "stderr",
     "output_type": "stream",
     "text": [
      "\n",
      "Epoch: 7 - loss: 0.061, acc: 0.933:  73%|███████▎  | 98304/135000 [00:00<00:00, 468207.97it/s]\u001b[A\n",
      "Epoch: 7 - loss: 0.061, acc: 0.933, val_loss: 0.058, val_acc: 0.936: 100%|██████████| 135000/135000 [00:00<00:00, 441759.05it/s]\u001b[A\n",
      "Training:  27%|██▋       | 8/30 [00:11<00:29,  1.36s/it]\n",
      "Epoch: 8:   0%|          | 0/135000 [00:00<?, ?it/s]\u001b[A\n",
      "Epoch: 8 - loss: 0.059, acc: 0.934:  36%|███▋      | 49152/135000 [00:00<00:00, 471500.55it/s]\u001b[A"
     ]
    },
    {
     "name": "stdout",
     "output_type": "stream",
     "text": [
      "ROC_AUC_SCORE is 0, only one class present in the predictions\n"
     ]
    },
    {
     "name": "stderr",
     "output_type": "stream",
     "text": [
      "\n",
      "Epoch: 8 - loss: 0.060, acc: 0.933:  70%|██████▉   | 94208/135000 [00:00<00:00, 464266.39it/s]\u001b[A\n",
      "Epoch: 8 - loss: 0.059, acc: 0.933, val_loss: 0.056, val_acc: 0.936: 100%|██████████| 135000/135000 [00:00<00:00, 448445.31it/s]\u001b[A\n",
      "Training:  30%|███       | 9/30 [00:12<00:23,  1.11s/it]\n",
      "Epoch: 9:   0%|          | 0/135000 [00:00<?, ?it/s]\u001b[A\n",
      "Epoch: 9 - loss: 0.058, acc: 0.933:  15%|█▌        | 20480/135000 [00:00<00:00, 191618.57it/s]\u001b[A"
     ]
    },
    {
     "name": "stdout",
     "output_type": "stream",
     "text": [
      "ROC_AUC_SCORE is 0, only one class present in the predictions\n"
     ]
    },
    {
     "name": "stderr",
     "output_type": "stream",
     "text": [
      "\n",
      "Epoch: 9 - loss: 0.057, acc: 0.934:  30%|███       | 40960/135000 [00:00<00:00, 187668.34it/s]\u001b[A\n",
      "Epoch: 9 - loss: 0.057, acc: 0.934:  46%|████▌     | 61440/135000 [00:00<00:00, 182642.73it/s]\u001b[A\n",
      "Epoch: 9 - loss: 0.057, acc: 0.933:  61%|██████    | 81920/135000 [00:00<00:00, 185511.77it/s]\u001b[A\n",
      "Epoch: 9 - loss: 0.057, acc: 0.933:  73%|███████▎  | 98304/135000 [00:00<00:00, 174858.31it/s]\u001b[A\n",
      "Epoch: 9 - loss: 0.057, acc: 0.933:  88%|████████▊ | 118784/135000 [00:00<00:00, 179468.26it/s]\u001b[A\n",
      "Epoch: 9 - loss: 0.057, acc: 0.933, val_loss: 0.053, val_acc: 0.936: 100%|██████████| 135000/135000 [00:00<00:00, 168067.83it/s]\u001b[A\n",
      "Training:  33%|███▎      | 10/30 [00:13<00:23,  1.15s/it]\n",
      "Epoch: 10:   0%|          | 0/135000 [00:00<?, ?it/s]\u001b[A\n",
      "Epoch: 10 - loss: 0.056, acc: 0.931:  30%|███       | 40960/135000 [00:00<00:00, 404959.24it/s]\u001b[A"
     ]
    },
    {
     "name": "stdout",
     "output_type": "stream",
     "text": [
      "ROC_AUC_SCORE is 0, only one class present in the predictions\n"
     ]
    },
    {
     "name": "stderr",
     "output_type": "stream",
     "text": [
      "\n",
      "Epoch: 10 - loss: 0.056, acc: 0.932:  67%|██████▋   | 90112/135000 [00:00<00:00, 417819.81it/s]\u001b[A\n",
      "Epoch: 10 - loss: 0.055, acc: 0.933:  88%|████████▊ | 118784/135000 [00:00<00:00, 346190.99it/s]\u001b[A\n",
      "Epoch: 10 - loss: 0.055, acc: 0.933, val_loss: 0.051, val_acc: 0.936: 100%|██████████| 135000/135000 [00:00<00:00, 343127.57it/s]\u001b[A\n",
      "Training:  37%|███▋      | 11/30 [00:14<00:20,  1.09s/it]\n",
      "Epoch: 11:   0%|          | 0/135000 [00:00<?, ?it/s]\u001b[A\n",
      "Epoch: 11 - loss: 0.053, acc: 0.933:  36%|███▋      | 49152/135000 [00:00<00:00, 479059.42it/s]\u001b[A"
     ]
    },
    {
     "name": "stdout",
     "output_type": "stream",
     "text": [
      "ROC_AUC_SCORE is 0, only one class present in the predictions\n"
     ]
    },
    {
     "name": "stderr",
     "output_type": "stream",
     "text": [
      "\n",
      "Epoch: 11 - loss: 0.053, acc: 0.933:  73%|███████▎  | 98304/135000 [00:00<00:00, 477242.56it/s]\u001b[A\n",
      "Epoch: 11 - loss: 0.053, acc: 0.933, val_loss: 0.051, val_acc: 0.936: 100%|██████████| 135000/135000 [00:00<00:00, 435983.71it/s]\u001b[A\n",
      "Training:  40%|████      | 12/30 [00:15<00:16,  1.07it/s]\n",
      "Epoch: 12:   0%|          | 0/135000 [00:00<?, ?it/s]\u001b[A\n",
      "Epoch: 12 - loss: 0.053, acc: 0.931:  15%|█▌        | 20480/135000 [00:00<00:00, 200979.27it/s]\u001b[A"
     ]
    },
    {
     "name": "stdout",
     "output_type": "stream",
     "text": [
      "ROC_AUC_SCORE is 0, only one class present in the predictions\n"
     ]
    },
    {
     "name": "stderr",
     "output_type": "stream",
     "text": [
      "\n",
      "Epoch: 12 - loss: 0.052, acc: 0.933:  30%|███       | 40960/135000 [00:00<00:00, 192848.58it/s]\u001b[A\n",
      "Epoch: 12 - loss: 0.052, acc: 0.934:  55%|█████▍    | 73728/135000 [00:00<00:00, 216723.44it/s]\u001b[A\n",
      "Epoch: 12 - loss: 0.052, acc: 0.934:  82%|████████▏ | 110592/135000 [00:00<00:00, 244574.35it/s]\u001b[A\n",
      "Epoch: 12 - loss: 0.052, acc: 0.933, val_loss: 0.051, val_acc: 0.936: 100%|██████████| 135000/135000 [00:00<00:00, 272722.04it/s]\u001b[A\n",
      "Training:  43%|████▎     | 13/30 [00:16<00:15,  1.09it/s]\n",
      "Epoch: 13:   0%|          | 0/135000 [00:00<?, ?it/s]\u001b[A\n",
      "Epoch: 13 - loss: 0.054, acc: 0.932:  36%|███▋      | 49152/135000 [00:00<00:00, 450881.67it/s]\u001b[A"
     ]
    },
    {
     "name": "stdout",
     "output_type": "stream",
     "text": [
      "EPOCH 12 ROC_AUC_SCORE 0.84305814884\n"
     ]
    },
    {
     "name": "stderr",
     "output_type": "stream",
     "text": [
      "\n",
      "Epoch: 13 - loss: 0.053, acc: 0.932:  52%|█████▏    | 69632/135000 [00:00<00:00, 290818.17it/s]\u001b[A\n",
      "Epoch: 13 - loss: 0.053, acc: 0.933:  67%|██████▋   | 90112/135000 [00:00<00:00, 245005.63it/s]\u001b[A\n",
      "Epoch: 13 - loss: 0.052, acc: 0.933:  82%|████████▏ | 110592/135000 [00:00<00:00, 222997.39it/s]\u001b[A\n",
      "Epoch: 13 - loss: 0.052, acc: 0.933, val_loss: 0.050, val_acc: 0.936: 100%|██████████| 135000/135000 [00:00<00:00, 251456.41it/s]\u001b[A\n",
      "Training:  47%|████▋     | 14/30 [00:17<00:15,  1.02it/s]\n",
      "Epoch: 14:   0%|          | 0/135000 [00:00<?, ?it/s]\u001b[A\n",
      "Epoch: 14 - loss: 0.052, acc: 0.934:  30%|███       | 40960/135000 [00:00<00:00, 373992.50it/s]\u001b[A"
     ]
    },
    {
     "name": "stdout",
     "output_type": "stream",
     "text": [
      "EPOCH 13 ROC_AUC_SCORE 0.682678631092\n"
     ]
    },
    {
     "name": "stderr",
     "output_type": "stream",
     "text": [
      "\n",
      "Epoch: 14 - loss: 0.052, acc: 0.933:  52%|█████▏    | 69632/135000 [00:00<00:00, 333873.41it/s]\u001b[A\n",
      "Epoch: 14 - loss: 0.052, acc: 0.933:  67%|██████▋   | 90112/135000 [00:00<00:00, 263274.67it/s]\u001b[A\n",
      "Epoch: 14 - loss: 0.052, acc: 0.933:  82%|████████▏ | 110592/135000 [00:00<00:00, 233638.24it/s]\u001b[A\n",
      "Epoch: 14 - loss: 0.052, acc: 0.933:  97%|█████████▋| 131072/135000 [00:00<00:00, 217263.94it/s]\u001b[A\n",
      "Epoch: 14 - loss: 0.051, acc: 0.933, val_loss: 0.050, val_acc: 0.935: 100%|██████████| 135000/135000 [00:00<00:00, 138985.79it/s]\u001b[A\n",
      "Training:  50%|█████     | 15/30 [00:18<00:15,  1.03s/it]\n",
      "Epoch: 15:   0%|          | 0/135000 [00:00<?, ?it/s]\u001b[A\n",
      "Epoch: 15 - loss: 0.050, acc: 0.935:  15%|█▌        | 20480/135000 [00:00<00:00, 204091.72it/s]\u001b[A"
     ]
    },
    {
     "name": "stdout",
     "output_type": "stream",
     "text": [
      "EPOCH 14 ROC_AUC_SCORE 0.672789501897\n"
     ]
    },
    {
     "name": "stderr",
     "output_type": "stream",
     "text": [
      "\n",
      "Epoch: 15 - loss: 0.051, acc: 0.933:  30%|███       | 40960/135000 [00:00<00:00, 194328.03it/s]\u001b[A\n",
      "Epoch: 15 - loss: 0.051, acc: 0.934:  46%|████▌     | 61440/135000 [00:00<00:00, 190720.28it/s]\u001b[A\n",
      "Epoch: 15 - loss: 0.051, acc: 0.934:  61%|██████    | 81920/135000 [00:00<00:00, 186712.76it/s]\u001b[A\n",
      "Epoch: 15 - loss: 0.051, acc: 0.933:  76%|███████▌  | 102400/135000 [00:00<00:00, 178815.84it/s]\u001b[A\n",
      "Epoch: 15 - loss: 0.052, acc: 0.933:  88%|████████▊ | 118784/135000 [00:00<00:00, 173027.51it/s]\u001b[A\n",
      "Epoch: 15 - loss: 0.052, acc: 0.933, val_loss: 0.050, val_acc: 0.936: 100%|██████████| 135000/135000 [00:00<00:00, 163339.60it/s]\u001b[A\n",
      "Training:  53%|█████▎    | 16/30 [00:19<00:16,  1.17s/it]\n",
      "Epoch: 16:   0%|          | 0/135000 [00:00<?, ?it/s]\u001b[A\n",
      "Epoch: 16 - loss: 0.052, acc: 0.933:  15%|█▌        | 20480/135000 [00:00<00:00, 168565.27it/s]\u001b[A"
     ]
    },
    {
     "name": "stdout",
     "output_type": "stream",
     "text": [
      "EPOCH 15 ROC_AUC_SCORE 0.699774726011\n"
     ]
    },
    {
     "name": "stderr",
     "output_type": "stream",
     "text": [
      "\n",
      "Epoch: 16 - loss: 0.051, acc: 0.935:  30%|███       | 40960/135000 [00:00<00:00, 165112.15it/s]\u001b[A\n",
      "Epoch: 16 - loss: 0.051, acc: 0.934:  46%|████▌     | 61440/135000 [00:00<00:00, 163846.80it/s]\u001b[A\n",
      "Epoch: 16 - loss: 0.052, acc: 0.934:  61%|██████    | 81920/135000 [00:00<00:00, 168272.71it/s]\u001b[A\n",
      "Epoch: 16 - loss: 0.051, acc: 0.935:  76%|███████▌  | 102400/135000 [00:00<00:00, 170775.85it/s]\u001b[A\n",
      "Epoch: 16 - loss: 0.052, acc: 0.934:  91%|█████████ | 122880/135000 [00:00<00:00, 171648.58it/s]\u001b[A\n",
      "Epoch: 16 - loss: 0.052, acc: 0.934, val_loss: 0.050, val_acc: 0.936: 100%|██████████| 135000/135000 [00:00<00:00, 158275.99it/s]\u001b[A\n",
      "Training:  57%|█████▋    | 17/30 [00:21<00:17,  1.31s/it]\n",
      "Epoch: 17:   0%|          | 0/135000 [00:00<?, ?it/s]\u001b[A\n",
      "Epoch: 17 - loss: 0.052, acc: 0.934:  36%|███▋      | 49152/135000 [00:00<00:00, 472874.06it/s]\u001b[A"
     ]
    },
    {
     "name": "stdout",
     "output_type": "stream",
     "text": [
      "EPOCH 16 ROC_AUC_SCORE 0.719140090354\n"
     ]
    },
    {
     "name": "stderr",
     "output_type": "stream",
     "text": [
      "\n",
      "Epoch: 17 - loss: 0.051, acc: 0.934:  67%|██████▋   | 90112/135000 [00:00<00:00, 446732.62it/s]\u001b[A\n",
      "Epoch: 17 - loss: 0.051, acc: 0.934:  85%|████████▍ | 114688/135000 [00:00<00:00, 335503.69it/s]\u001b[A\n",
      "Epoch: 17 - loss: 0.051, acc: 0.935, val_loss: 0.049, val_acc: 0.936: 100%|██████████| 135000/135000 [00:00<00:00, 249547.95it/s]\u001b[A\n",
      "Training:  60%|██████    | 18/30 [00:22<00:14,  1.22s/it]\n",
      "Epoch: 18:   0%|          | 0/135000 [00:00<?, ?it/s]\u001b[A\n",
      "Epoch: 18 - loss: 0.051, acc: 0.935:  15%|█▌        | 20480/135000 [00:00<00:00, 184926.24it/s]\u001b[A"
     ]
    },
    {
     "name": "stdout",
     "output_type": "stream",
     "text": [
      "EPOCH 17 ROC_AUC_SCORE 0.713743739192\n"
     ]
    },
    {
     "name": "stderr",
     "output_type": "stream",
     "text": [
      "\n",
      "Epoch: 18 - loss: 0.051, acc: 0.935:  30%|███       | 40960/135000 [00:00<00:00, 183024.77it/s]\u001b[A\n",
      "Epoch: 18 - loss: 0.051, acc: 0.934:  49%|████▊     | 65536/135000 [00:00<00:00, 187977.95it/s]\u001b[A\n",
      "Epoch: 18 - loss: 0.051, acc: 0.935:  67%|██████▋   | 90112/135000 [00:00<00:00, 201548.45it/s]\u001b[A\n",
      "Epoch: 18 - loss: 0.051, acc: 0.934:  82%|████████▏ | 110592/135000 [00:00<00:00, 190748.36it/s]\u001b[A\n",
      "Epoch: 18 - loss: 0.051, acc: 0.935:  97%|█████████▋| 131072/135000 [00:00<00:00, 185726.76it/s]\u001b[A\n",
      "Epoch: 18 - loss: 0.051, acc: 0.935, val_loss: 0.049, val_acc: 0.936: 100%|██████████| 135000/135000 [00:00<00:00, 113267.64it/s]\u001b[A\n",
      "Training:  63%|██████▎   | 19/30 [00:24<00:14,  1.36s/it]\n",
      "Epoch: 19:   0%|          | 0/135000 [00:00<?, ?it/s]\u001b[A\n",
      "Epoch: 19 - loss: 0.049, acc: 0.936:  18%|█▊        | 24576/135000 [00:00<00:00, 206084.65it/s]\u001b[A"
     ]
    },
    {
     "name": "stdout",
     "output_type": "stream",
     "text": [
      "EPOCH 18 ROC_AUC_SCORE 0.723433729151\n"
     ]
    },
    {
     "name": "stderr",
     "output_type": "stream",
     "text": [
      "\n",
      "Epoch: 19 - loss: 0.050, acc: 0.936:  33%|███▎      | 45056/135000 [00:00<00:00, 191857.43it/s]\u001b[A\n",
      "Epoch: 19 - loss: 0.051, acc: 0.935:  49%|████▊     | 65536/135000 [00:00<00:00, 193649.60it/s]\u001b[A\n",
      "Epoch: 19 - loss: 0.051, acc: 0.935:  73%|███████▎  | 98304/135000 [00:00<00:00, 220220.44it/s]\u001b[A\n",
      "Epoch: 19 - loss: 0.051, acc: 0.935, val_loss: 0.049, val_acc: 0.936: 100%|██████████| 135000/135000 [00:00<00:00, 252489.10it/s]\u001b[A\n",
      "Training:  67%|██████▋   | 20/30 [00:25<00:13,  1.40s/it]\n",
      "Epoch: 20:   0%|          | 0/135000 [00:00<?, ?it/s]\u001b[A\n",
      "Epoch: 20 - loss: 0.051, acc: 0.933:  21%|██        | 28672/135000 [00:00<00:00, 249701.70it/s]\u001b[A"
     ]
    },
    {
     "name": "stdout",
     "output_type": "stream",
     "text": [
      "EPOCH 19 ROC_AUC_SCORE 0.729940841723\n"
     ]
    },
    {
     "name": "stderr",
     "output_type": "stream",
     "text": [
      "\n",
      "Epoch: 20 - loss: 0.051, acc: 0.935:  36%|███▋      | 49152/135000 [00:00<00:00, 229780.74it/s]\u001b[A\n",
      "Epoch: 20 - loss: 0.051, acc: 0.935:  52%|█████▏    | 69632/135000 [00:00<00:00, 199309.29it/s]\u001b[A\n",
      "Epoch: 20 - loss: 0.051, acc: 0.935:  64%|██████▎   | 86016/135000 [00:00<00:00, 176258.88it/s]\u001b[A\n",
      "Epoch: 20 - loss: 0.051, acc: 0.935:  76%|███████▌  | 102400/135000 [00:00<00:00, 166460.89it/s]\u001b[A\n",
      "Epoch: 20 - loss: 0.051, acc: 0.936:  97%|█████████▋| 131072/135000 [00:00<00:00, 180574.28it/s]\u001b[A\n",
      "Epoch: 20 - loss: 0.051, acc: 0.936, val_loss: 0.050, val_acc: 0.937: 100%|██████████| 135000/135000 [00:00<00:00, 124562.48it/s]\u001b[A\n",
      "Training:  70%|███████   | 21/30 [00:26<00:11,  1.32s/it]\n",
      "Epoch: 21:   0%|          | 0/135000 [00:00<?, ?it/s]\u001b[A\n",
      "Epoch: 21 - loss: 0.049, acc: 0.937:  18%|█▊        | 24576/135000 [00:00<00:00, 245049.21it/s]\u001b[A"
     ]
    },
    {
     "name": "stdout",
     "output_type": "stream",
     "text": [
      "EPOCH 20 ROC_AUC_SCORE 0.739671021407\n"
     ]
    },
    {
     "name": "stderr",
     "output_type": "stream",
     "text": [
      "\n",
      "Epoch: 21 - loss: 0.049, acc: 0.937:  30%|███       | 40960/135000 [00:00<00:00, 191372.12it/s]\u001b[A\n",
      "Epoch: 21 - loss: 0.050, acc: 0.936:  46%|████▌     | 61440/135000 [00:00<00:00, 188607.71it/s]\u001b[A\n",
      "Epoch: 21 - loss: 0.050, acc: 0.936:  61%|██████    | 81920/135000 [00:00<00:00, 182734.73it/s]\u001b[A\n",
      "Epoch: 21 - loss: 0.051, acc: 0.936:  76%|███████▌  | 102400/135000 [00:00<00:00, 188590.06it/s]\u001b[A\n",
      "Epoch: 21 - loss: 0.051, acc: 0.935, val_loss: 0.049, val_acc: 0.936: 100%|██████████| 135000/135000 [00:00<00:00, 203997.22it/s]\u001b[A\n",
      "Training:  73%|███████▎  | 22/30 [00:27<00:09,  1.24s/it]\n",
      "Epoch: 22:   0%|          | 0/135000 [00:00<?, ?it/s]\u001b[A\n",
      "Epoch: 22 - loss: 0.052, acc: 0.934:  18%|█▊        | 24576/135000 [00:00<00:00, 214603.51it/s]\u001b[A"
     ]
    },
    {
     "name": "stdout",
     "output_type": "stream",
     "text": [
      "EPOCH 21 ROC_AUC_SCORE 0.720157924422\n"
     ]
    },
    {
     "name": "stderr",
     "output_type": "stream",
     "text": [
      "\n",
      "Epoch: 22 - loss: 0.050, acc: 0.936:  33%|███▎      | 45056/135000 [00:00<00:00, 208804.18it/s]\u001b[A\n",
      "Epoch: 22 - loss: 0.050, acc: 0.937:  46%|████▌     | 61440/135000 [00:00<00:00, 189640.93it/s]\u001b[A\n",
      "Epoch: 22 - loss: 0.050, acc: 0.936:  61%|██████    | 81920/135000 [00:00<00:00, 192722.20it/s]\u001b[A\n",
      "Epoch: 22 - loss: 0.051, acc: 0.936:  85%|████████▍ | 114688/135000 [00:00<00:00, 219885.26it/s]\u001b[A\n",
      "Epoch: 22 - loss: 0.051, acc: 0.936, val_loss: 0.050, val_acc: 0.936: 100%|██████████| 135000/135000 [00:00<00:00, 218801.97it/s]\u001b[A\n",
      "Training:  77%|███████▋  | 23/30 [00:28<00:08,  1.19s/it]\n",
      "Epoch: 23:   0%|          | 0/135000 [00:00<?, ?it/s]\u001b[A\n",
      "Epoch: 23 - loss: 0.052, acc: 0.935:  36%|███▋      | 49152/135000 [00:00<00:00, 458751.71it/s]\u001b[A"
     ]
    },
    {
     "name": "stdout",
     "output_type": "stream",
     "text": [
      "EPOCH 22 ROC_AUC_SCORE 0.729410171179\n"
     ]
    },
    {
     "name": "stderr",
     "output_type": "stream",
     "text": [
      "\n",
      "Epoch: 23 - loss: 0.051, acc: 0.935:  73%|███████▎  | 98304/135000 [00:00<00:00, 463064.05it/s]\u001b[A\n",
      "Epoch: 23 - loss: 0.051, acc: 0.936, val_loss: 0.049, val_acc: 0.937: 100%|██████████| 135000/135000 [00:00<00:00, 443639.00it/s]\u001b[A\n",
      "Training:  80%|████████  | 24/30 [00:29<00:06,  1.05s/it]\n",
      "Epoch: 24:   0%|          | 0/135000 [00:00<?, ?it/s]\u001b[A\n",
      "Epoch: 24 - loss: 0.050, acc: 0.936:  36%|███▋      | 49152/135000 [00:00<00:00, 477927.74it/s]\u001b[A"
     ]
    },
    {
     "name": "stdout",
     "output_type": "stream",
     "text": [
      "EPOCH 23 ROC_AUC_SCORE 0.73349047536\n"
     ]
    },
    {
     "name": "stderr",
     "output_type": "stream",
     "text": [
      "\n",
      "Epoch: 24 - loss: 0.051, acc: 0.936:  73%|███████▎  | 98304/135000 [00:00<00:00, 472730.49it/s]\u001b[A\n",
      "Epoch: 24 - loss: 0.051, acc: 0.935, val_loss: 0.049, val_acc: 0.937: 100%|██████████| 135000/135000 [00:00<00:00, 430198.94it/s]\u001b[A\n",
      "Training:  83%|████████▎ | 25/30 [00:30<00:04,  1.10it/s]\n",
      "Epoch: 25:   0%|          | 0/135000 [00:00<?, ?it/s]\u001b[A\n",
      "Epoch: 25 - loss: 0.051, acc: 0.937:  36%|███▋      | 49152/135000 [00:00<00:00, 469554.63it/s]\u001b[A"
     ]
    },
    {
     "name": "stdout",
     "output_type": "stream",
     "text": [
      "EPOCH 24 ROC_AUC_SCORE 0.737652056999\n"
     ]
    },
    {
     "name": "stderr",
     "output_type": "stream",
     "text": [
      "\n",
      "Epoch: 25 - loss: 0.052, acc: 0.935:  73%|███████▎  | 98304/135000 [00:00<00:00, 469751.07it/s]\u001b[A\n",
      "Epoch: 25 - loss: 0.051, acc: 0.936, val_loss: 0.049, val_acc: 0.937: 100%|██████████| 135000/135000 [00:00<00:00, 425407.08it/s]\u001b[A\n",
      "Training:  87%|████████▋ | 26/30 [00:30<00:03,  1.24it/s]\n",
      "Epoch: 26:   0%|          | 0/135000 [00:00<?, ?it/s]\u001b[A\n",
      "Epoch: 26 - loss: 0.050, acc: 0.937:  30%|███       | 40960/135000 [00:00<00:00, 390217.44it/s]\u001b[A"
     ]
    },
    {
     "name": "stdout",
     "output_type": "stream",
     "text": [
      "EPOCH 25 ROC_AUC_SCORE 0.730792741975\n"
     ]
    },
    {
     "name": "stderr",
     "output_type": "stream",
     "text": [
      "\n",
      "Epoch: 26 - loss: 0.050, acc: 0.937:  64%|██████▎   | 86016/135000 [00:00<00:00, 403355.12it/s]\u001b[A\n",
      "Epoch: 26 - loss: 0.050, acc: 0.936:  94%|█████████▍| 126976/135000 [00:00<00:00, 399243.63it/s]\u001b[A\n",
      "Epoch: 26 - loss: 0.050, acc: 0.936, val_loss: 0.049, val_acc: 0.937: 100%|██████████| 135000/135000 [00:00<00:00, 338722.51it/s]\u001b[A\n",
      "Training:  90%|█████████ | 27/30 [00:31<00:02,  1.27it/s]\n",
      "Epoch: 27:   0%|          | 0/135000 [00:00<?, ?it/s]\u001b[A\n",
      "Epoch: 27 - loss: 0.049, acc: 0.937:  36%|███▋      | 49152/135000 [00:00<00:00, 463698.35it/s]\u001b[A"
     ]
    },
    {
     "name": "stdout",
     "output_type": "stream",
     "text": [
      "EPOCH 26 ROC_AUC_SCORE 0.735631548465\n"
     ]
    },
    {
     "name": "stderr",
     "output_type": "stream",
     "text": [
      "\n",
      "Epoch: 27 - loss: 0.050, acc: 0.936:  73%|███████▎  | 98304/135000 [00:00<00:00, 465409.26it/s]\u001b[A\n",
      "Epoch: 27 - loss: 0.050, acc: 0.936, val_loss: 0.049, val_acc: 0.937: 100%|██████████| 135000/135000 [00:00<00:00, 441360.95it/s]\u001b[A\n",
      "Training:  93%|█████████▎| 28/30 [00:32<00:01,  1.36it/s]\n",
      "Epoch: 28:   0%|          | 0/135000 [00:00<?, ?it/s]\u001b[A\n",
      "Epoch: 28 - loss: 0.050, acc: 0.936:  36%|███▋      | 49152/135000 [00:00<00:00, 465357.36it/s]\u001b[A"
     ]
    },
    {
     "name": "stdout",
     "output_type": "stream",
     "text": [
      "EPOCH 27 ROC_AUC_SCORE 0.732480526552\n"
     ]
    },
    {
     "name": "stderr",
     "output_type": "stream",
     "text": [
      "\n",
      "Epoch: 28 - loss: 0.050, acc: 0.936:  73%|███████▎  | 98304/135000 [00:00<00:00, 466204.72it/s]\u001b[A\n",
      "Epoch: 28 - loss: 0.050, acc: 0.936, val_loss: 0.049, val_acc: 0.937: 100%|██████████| 135000/135000 [00:00<00:00, 424691.67it/s]\u001b[A\n",
      "Training:  97%|█████████▋| 29/30 [00:32<00:00,  1.45it/s]\n",
      "Epoch: 29:   0%|          | 0/135000 [00:00<?, ?it/s]\u001b[A\n",
      "Epoch: 29 - loss: 0.050, acc: 0.936:  36%|███▋      | 49152/135000 [00:00<00:00, 470822.16it/s]\u001b[A"
     ]
    },
    {
     "name": "stdout",
     "output_type": "stream",
     "text": [
      "EPOCH 28 ROC_AUC_SCORE 0.735803323042\n"
     ]
    },
    {
     "name": "stderr",
     "output_type": "stream",
     "text": [
      "\n",
      "Epoch: 29 - loss: 0.050, acc: 0.937:  73%|███████▎  | 98304/135000 [00:00<00:00, 471434.57it/s]\u001b[A\n",
      "Epoch: 29 - loss: 0.050, acc: 0.936, val_loss: 0.050, val_acc: 0.937: 100%|██████████| 135000/135000 [00:00<00:00, 426625.43it/s]\u001b[A\n",
      "                                                         "
     ]
    },
    {
     "name": "stdout",
     "output_type": "stream",
     "text": [
      "EPOCH 29 ROC_AUC_SCORE 0.729985930227\n"
     ]
    },
    {
     "name": "stderr",
     "output_type": "stream",
     "text": [
      "\r"
     ]
    },
    {
     "name": "stdout",
     "output_type": "stream",
     "text": [
      "ROC_AUC_SCORE: 0.73 - [Keras MLP]\n"
     ]
    }
   ],
   "source": [
    "# try using different optimizers and different optimizer configs\n",
    "model.compile(loss='mean_squared_error',\n",
    "              optimizer='adam',\n",
    "              metrics=['accuracy'])\n",
    "\n",
    "model.fit(x_train_f, y_train_f,\n",
    "          batch_size=batch_size,\n",
    "          epochs=30, verbose=0,\n",
    "          validation_data=(x_test_f, y_test_f),\n",
    "          callbacks = [early, progress, roc_scoring])\n",
    "\n",
    "model.save('credit_scoring.h5')\n",
    "\n",
    "y_pred = model.predict_classes(x_test_f)\n",
    "\n",
    "print(\"%s: %0.2f - [%s]\" % (roc_auc_score.__name__.upper(), roc_auc_score(y_pred, y_test_f), 'Keras MLP'))"
   ]
  },
  {
   "cell_type": "code",
   "execution_count": 7,
   "metadata": {
    "collapsed": false,
    "deletable": true,
    "editable": true
   },
   "outputs": [],
   "source": [
    "import pandas as pd\n",
    "\n",
    "submission_set = build_submission_keras(model)\n",
    "\n",
    "submission_set.to_csv(utils.os.path.join(utils.DIR, 'dataset', 'submission.csv'),\n",
    "                      index=False, \n",
    "                      columns=['Id', 'Probability'])"
   ]
  },
  {
   "cell_type": "markdown",
   "metadata": {
    "deletable": true,
    "editable": true
   },
   "source": [
    "** Second submission was ok **:\n",
    "\n",
    "![](images/first_submission.png)\n",
    "\n",
    "Remember, the competition avg scores from the top 350 +- was around 0.86, so we can still improve our model.\n",
    "\n",
    "The number of the hidden layers is good, and the number of hidden units is also good.\n",
    "The improvements made were on the number of training epochs, and the optimizer to adam.\n",
    "\n",
    "We also had epochs were the ROC_AUC was bigger than 0.80, so we'll checkpoint those."
   ]
  },
  {
   "cell_type": "code",
   "execution_count": 12,
   "metadata": {
    "collapsed": false,
    "deletable": true,
    "editable": true
   },
   "outputs": [
    {
     "name": "stderr",
     "output_type": "stream",
     "text": [
      "Training:   0%|          | 0/50 [00:00<?, ?it/s]\n",
      "Epoch: 0:   0%|          | 0/135000 [00:00<?, ?it/s]\u001b[A\n",
      "Epoch: 0 - loss: 0.831, acc: 0.100:   3%|▎         | 4096/135000 [00:00<00:09, 13319.90it/s]\u001b[A\n",
      "Epoch: 0 - loss: 0.588, acc: 0.704:  15%|█▌        | 20480/135000 [00:00<00:06, 18384.28it/s]\u001b[A\n",
      "Epoch: 0 - loss: 0.476, acc: 0.805:  30%|███       | 40960/135000 [00:00<00:03, 25117.87it/s]\u001b[A\n",
      "Epoch: 0 - loss: 0.433, acc: 0.834:  42%|████▏     | 57344/135000 [00:00<00:02, 33590.93it/s]\u001b[A\n",
      "Epoch: 0 - loss: 0.406, acc: 0.850:  55%|█████▍    | 73728/135000 [00:00<00:01, 43793.21it/s]\u001b[A\n",
      "Epoch: 0 - loss: 0.388, acc: 0.860:  67%|██████▋   | 90112/135000 [00:00<00:00, 54807.79it/s]\u001b[A\n",
      "Epoch: 0 - loss: 0.376, acc: 0.867:  79%|███████▉  | 106496/135000 [00:00<00:00, 68408.94it/s]\u001b[A\n",
      "Epoch: 0 - loss: 0.366, acc: 0.872:  91%|█████████ | 122880/135000 [00:01<00:00, 81136.04it/s]\u001b[A\n",
      "Epoch: 0 - loss: 0.360, acc: 0.875, val_loss: 0.277, val_acc: 0.913: 100%|██████████| 135000/135000 [00:01<00:00, 79844.32it/s]\u001b[A\n",
      "Training:   2%|▏         | 1/50 [00:01<01:00,  1.24s/it]\n",
      "Epoch: 1:   0%|          | 0/135000 [00:00<?, ?it/s]\u001b[A\n",
      "Epoch: 1 - loss: 0.281, acc: 0.909:  18%|█▊        | 24576/135000 [00:00<00:00, 224489.82it/s]\u001b[A"
     ]
    },
    {
     "name": "stdout",
     "output_type": "stream",
     "text": [
      "EPOCH 0 ROC_AUC_SCORE 0.535307579383\n"
     ]
    },
    {
     "name": "stderr",
     "output_type": "stream",
     "text": [
      "\n",
      "Epoch: 1 - loss: 0.273, acc: 0.916:  36%|███▋      | 49152/135000 [00:00<00:00, 217369.71it/s]\u001b[A\n",
      "Epoch: 1 - loss: 0.266, acc: 0.920:  49%|████▊     | 65536/135000 [00:00<00:00, 197574.28it/s]\u001b[A\n",
      "Epoch: 1 - loss: 0.262, acc: 0.923:  61%|██████    | 81920/135000 [00:00<00:00, 185653.34it/s]\u001b[A\n",
      "Epoch: 1 - loss: 0.259, acc: 0.925:  76%|███████▌  | 102400/135000 [00:00<00:00, 182188.60it/s]\u001b[A\n",
      "Epoch: 1 - loss: 0.257, acc: 0.926:  91%|█████████ | 122880/135000 [00:00<00:00, 182205.62it/s]\u001b[A\n",
      "Epoch: 1 - loss: 0.256, acc: 0.927, val_loss: 0.238, val_acc: 0.936: 100%|██████████| 135000/135000 [00:00<00:00, 176682.22it/s]\u001b[A\n",
      "Training:   4%|▍         | 2/50 [00:02<00:58,  1.22s/it]\n",
      "Epoch: 2:   0%|          | 0/135000 [00:00<?, ?it/s]\u001b[A\n",
      "Epoch: 2 - loss: 0.243, acc: 0.934:  18%|█▊        | 24576/135000 [00:00<00:00, 220600.72it/s]\u001b[A"
     ]
    },
    {
     "name": "stdout",
     "output_type": "stream",
     "text": [
      "EPOCH 1 ROC_AUC_SCORE 0.593016275347\n"
     ]
    },
    {
     "name": "stderr",
     "output_type": "stream",
     "text": [
      "\n",
      "Epoch: 2 - loss: 0.241, acc: 0.934:  33%|███▎      | 45056/135000 [00:00<00:00, 211547.94it/s]\u001b[A\n",
      "Epoch: 2 - loss: 0.242, acc: 0.934:  52%|█████▏    | 69632/135000 [00:00<00:00, 210322.26it/s]\u001b[A\n",
      "Epoch: 2 - loss: 0.242, acc: 0.934:  64%|██████▎   | 86016/135000 [00:00<00:00, 185380.43it/s]\u001b[A\n",
      "Epoch: 2 - loss: 0.245, acc: 0.933:  79%|███████▉  | 106496/135000 [00:00<00:00, 182194.01it/s]\u001b[A\n",
      "Epoch: 2 - loss: 0.246, acc: 0.933:  91%|█████████ | 122880/135000 [00:00<00:00, 173521.97it/s]\u001b[A\n",
      "Epoch: 2 - loss: 0.247, acc: 0.932, val_loss: 0.238, val_acc: 0.936: 100%|██████████| 135000/135000 [00:00<00:00, 148404.76it/s]\u001b[A\n",
      "Training:   6%|▌         | 3/50 [00:03<00:55,  1.19s/it]\n",
      "Epoch: 3:   0%|          | 0/135000 [00:00<?, ?it/s]\u001b[A\n",
      "Epoch: 3 - loss: 0.247, acc: 0.932:  15%|█▌        | 20480/135000 [00:00<00:00, 182149.52it/s]\u001b[A"
     ]
    },
    {
     "name": "stdout",
     "output_type": "stream",
     "text": [
      "ROC_AUC_SCORE is 0, only one class present in the predictions\n"
     ]
    },
    {
     "name": "stderr",
     "output_type": "stream",
     "text": [
      "\n",
      "Epoch: 3 - loss: 0.250, acc: 0.931:  30%|███       | 40960/135000 [00:00<00:00, 180797.30it/s]\u001b[A\n",
      "Epoch: 3 - loss: 0.248, acc: 0.932:  46%|████▌     | 61440/135000 [00:00<00:00, 180293.56it/s]\u001b[A\n",
      "Epoch: 3 - loss: 0.246, acc: 0.933:  58%|█████▊    | 77824/135000 [00:00<00:00, 174832.35it/s]\u001b[A\n",
      "Epoch: 3 - loss: 0.246, acc: 0.933:  70%|██████▉   | 94208/135000 [00:00<00:00, 162747.99it/s]\u001b[A\n",
      "Epoch: 3 - loss: 0.246, acc: 0.933:  82%|████████▏ | 110592/135000 [00:00<00:00, 151561.85it/s]\u001b[A\n",
      "Epoch: 3 - loss: 0.246, acc: 0.933:  94%|█████████▍| 126976/135000 [00:00<00:00, 150041.23it/s]\u001b[A\n",
      "Epoch: 3 - loss: 0.246, acc: 0.933, val_loss: 0.237, val_acc: 0.936: 100%|██████████| 135000/135000 [00:00<00:00, 131485.94it/s]\u001b[A\n",
      "Training:   8%|▊         | 4/50 [00:05<01:03,  1.37s/it]\n",
      "Epoch: 4:   0%|          | 0/135000 [00:00<?, ?it/s]\u001b[A\n",
      "Epoch: 4 - loss: 0.250, acc: 0.931:  15%|█▌        | 20480/135000 [00:00<00:00, 191271.68it/s]\u001b[A"
     ]
    },
    {
     "name": "stdout",
     "output_type": "stream",
     "text": [
      "ROC_AUC_SCORE is 0, only one class present in the predictions\n"
     ]
    },
    {
     "name": "stderr",
     "output_type": "stream",
     "text": [
      "\n",
      "Epoch: 4 - loss: 0.245, acc: 0.933:  30%|███       | 40960/135000 [00:00<00:00, 190210.58it/s]\u001b[A\n",
      "Epoch: 4 - loss: 0.248, acc: 0.932:  42%|████▏     | 57344/135000 [00:00<00:00, 166456.71it/s]\u001b[A\n",
      "Epoch: 4 - loss: 0.248, acc: 0.932:  58%|█████▊    | 77824/135000 [00:00<00:00, 166287.17it/s]\u001b[A\n",
      "Epoch: 4 - loss: 0.247, acc: 0.932:  73%|███████▎  | 98304/135000 [00:00<00:00, 173884.29it/s]\u001b[A\n",
      "Epoch: 4 - loss: 0.246, acc: 0.932:  91%|█████████ | 122880/135000 [00:00<00:00, 182407.01it/s]\u001b[A\n",
      "Epoch: 4 - loss: 0.245, acc: 0.933, val_loss: 0.236, val_acc: 0.936: 100%|██████████| 135000/135000 [00:00<00:00, 158884.52it/s]\u001b[A\n",
      "Training:  10%|█         | 5/50 [00:06<00:59,  1.32s/it]\n",
      "Epoch: 5:   0%|          | 0/135000 [00:00<?, ?it/s]\u001b[A\n",
      "Epoch: 5 - loss: 0.242, acc: 0.934:  15%|█▌        | 20480/135000 [00:00<00:00, 179293.89it/s]\u001b[A"
     ]
    },
    {
     "name": "stdout",
     "output_type": "stream",
     "text": [
      "ROC_AUC_SCORE is 0, only one class present in the predictions\n"
     ]
    },
    {
     "name": "stderr",
     "output_type": "stream",
     "text": [
      "\n",
      "Epoch: 5 - loss: 0.244, acc: 0.933:  30%|███       | 40960/135000 [00:00<00:00, 180204.40it/s]\u001b[A\n",
      "Epoch: 5 - loss: 0.243, acc: 0.933:  46%|████▌     | 61440/135000 [00:00<00:00, 172421.75it/s]\u001b[A\n",
      "Epoch: 5 - loss: 0.245, acc: 0.932:  64%|██████▎   | 86016/135000 [00:00<00:00, 184951.52it/s]\u001b[A\n",
      "Epoch: 5 - loss: 0.244, acc: 0.933:  79%|███████▉  | 106496/135000 [00:00<00:00, 186876.79it/s]\u001b[A\n",
      "Epoch: 5 - loss: 0.246, acc: 0.932:  94%|█████████▍| 126976/135000 [00:00<00:00, 187732.96it/s]\u001b[A\n",
      "Epoch: 5 - loss: 0.245, acc: 0.933, val_loss: 0.238, val_acc: 0.936: 100%|██████████| 135000/135000 [00:00<00:00, 159317.10it/s]\u001b[A\n",
      "Training:  12%|█▏        | 6/50 [00:07<00:59,  1.35s/it]\n",
      "Epoch: 6:   0%|          | 0/135000 [00:00<?, ?it/s]\u001b[A\n",
      "Epoch: 6 - loss: 0.244, acc: 0.933:  18%|█▊        | 24576/135000 [00:00<00:00, 209782.21it/s]\u001b[A"
     ]
    },
    {
     "name": "stdout",
     "output_type": "stream",
     "text": [
      "ROC_AUC_SCORE is 0, only one class present in the predictions\n"
     ]
    },
    {
     "name": "stderr",
     "output_type": "stream",
     "text": [
      "\n",
      "Epoch: 6 - loss: 0.241, acc: 0.934:  36%|███▋      | 49152/135000 [00:00<00:00, 216866.38it/s]\u001b[A\n",
      "Epoch: 6 - loss: 0.242, acc: 0.934:  52%|█████▏    | 69632/135000 [00:00<00:00, 202249.69it/s]\u001b[A\n",
      "Epoch: 6 - loss: 0.245, acc: 0.933:  70%|██████▉   | 94208/135000 [00:00<00:00, 209060.73it/s]\u001b[A\n",
      "Epoch: 6 - loss: 0.246, acc: 0.933:  88%|████████▊ | 118784/135000 [00:00<00:00, 212086.51it/s]\u001b[A\n",
      "Epoch: 6 - loss: 0.246, acc: 0.933, val_loss: 0.237, val_acc: 0.936: 100%|██████████| 135000/135000 [00:00<00:00, 194694.74it/s]\u001b[A\n",
      "Training:  14%|█▍        | 7/50 [00:08<00:53,  1.25s/it]\n",
      "Epoch: 7:   0%|          | 0/135000 [00:00<?, ?it/s]\u001b[A\n",
      "Epoch: 7 - loss: 0.249, acc: 0.931:  18%|█▊        | 24576/135000 [00:00<00:00, 227979.74it/s]\u001b[A"
     ]
    },
    {
     "name": "stdout",
     "output_type": "stream",
     "text": [
      "ROC_AUC_SCORE is 0, only one class present in the predictions\n"
     ]
    },
    {
     "name": "stderr",
     "output_type": "stream",
     "text": [
      "\n",
      "Epoch: 7 - loss: 0.245, acc: 0.933:  36%|███▋      | 49152/135000 [00:00<00:00, 222500.42it/s]\u001b[A\n",
      "Epoch: 7 - loss: 0.244, acc: 0.933:  49%|████▊     | 65536/135000 [00:00<00:00, 193351.16it/s]\u001b[A\n",
      "Epoch: 7 - loss: 0.244, acc: 0.933:  61%|██████    | 81920/135000 [00:00<00:00, 180420.27it/s]\u001b[A\n",
      "Epoch: 7 - loss: 0.245, acc: 0.933:  76%|███████▌  | 102400/135000 [00:00<00:00, 187030.95it/s]\u001b[A\n",
      "Epoch: 7 - loss: 0.245, acc: 0.933:  94%|█████████▍| 126976/135000 [00:00<00:00, 197710.82it/s]\u001b[A\n",
      "Epoch: 7 - loss: 0.245, acc: 0.933, val_loss: 0.236, val_acc: 0.936: 100%|██████████| 135000/135000 [00:00<00:00, 166426.81it/s]\u001b[A\n",
      "Training:  16%|█▌        | 8/50 [00:10<00:50,  1.20s/it]\n",
      "Epoch: 8:   0%|          | 0/135000 [00:00<?, ?it/s]\u001b[A\n",
      "Epoch: 8 - loss: 0.238, acc: 0.935:  18%|█▊        | 24576/135000 [00:00<00:00, 224785.02it/s]\u001b[A"
     ]
    },
    {
     "name": "stdout",
     "output_type": "stream",
     "text": [
      "EPOCH 7 ROC_AUC_SCORE 0.967997866524\n"
     ]
    },
    {
     "name": "stderr",
     "output_type": "stream",
     "text": [
      "\n",
      "Epoch: 8 - loss: 0.238, acc: 0.934:  36%|███▋      | 49152/135000 [00:00<00:00, 228229.45it/s]\u001b[A\n",
      "Epoch: 8 - loss: 0.240, acc: 0.933:  55%|█████▍    | 73728/135000 [00:00<00:00, 232605.85it/s]\u001b[A\n",
      "Epoch: 8 - loss: 0.241, acc: 0.933:  73%|███████▎  | 98304/135000 [00:00<00:00, 231785.15it/s]\u001b[A\n",
      "Epoch: 8 - loss: 0.242, acc: 0.933:  91%|█████████ | 122880/135000 [00:00<00:00, 230278.31it/s]\u001b[A\n",
      "Epoch: 8 - loss: 0.242, acc: 0.933, val_loss: 0.225, val_acc: 0.935: 100%|██████████| 135000/135000 [00:00<00:00, 176246.89it/s]\u001b[A\n",
      "Training:  18%|█▊        | 9/50 [00:11<00:48,  1.18s/it]\n",
      "Epoch: 9:   0%|          | 0/135000 [00:00<?, ?it/s]\u001b[A\n",
      "Epoch: 9 - loss: 0.237, acc: 0.928:  12%|█▏        | 16384/135000 [00:00<00:00, 145365.44it/s]\u001b[A"
     ]
    },
    {
     "name": "stdout",
     "output_type": "stream",
     "text": [
      "EPOCH 8 ROC_AUC_SCORE 0.663525119708\n"
     ]
    },
    {
     "name": "stderr",
     "output_type": "stream",
     "text": [
      "\n",
      "Epoch: 9 - loss: 0.236, acc: 0.932:  24%|██▍       | 32768/135000 [00:00<00:00, 144869.54it/s]\u001b[A\n",
      "Epoch: 9 - loss: 0.236, acc: 0.933:  39%|███▉      | 53248/135000 [00:00<00:00, 148869.20it/s]\u001b[A\n",
      "Epoch: 9 - loss: 0.236, acc: 0.933:  52%|█████▏    | 69632/135000 [00:00<00:00, 149029.86it/s]\u001b[A\n",
      "Epoch: 9 - loss: 0.239, acc: 0.932:  64%|██████▎   | 86016/135000 [00:00<00:00, 147199.27it/s]\u001b[A\n",
      "Epoch: 9 - loss: 0.238, acc: 0.932:  76%|███████▌  | 102400/135000 [00:00<00:00, 151410.37it/s]\u001b[A\n",
      "Epoch: 9 - loss: 0.240, acc: 0.932:  88%|████████▊ | 118784/135000 [00:00<00:00, 150343.81it/s]\u001b[A\n",
      "Epoch: 9 - loss: 0.242, acc: 0.931, val_loss: 0.239, val_acc: 0.935: 100%|██████████| 135000/135000 [00:00<00:00, 144467.73it/s]\u001b[A\n",
      "Training:  20%|██        | 10/50 [00:12<00:48,  1.20s/it]\n",
      "Epoch: 10:   0%|          | 0/135000 [00:00<?, ?it/s]\u001b[A\n",
      "Epoch: 10 - loss: 0.246, acc: 0.932:  15%|█▌        | 20480/135000 [00:00<00:00, 198540.05it/s]\u001b[A"
     ]
    },
    {
     "name": "stdout",
     "output_type": "stream",
     "text": [
      "EPOCH 9 ROC_AUC_SCORE 0.60659854779\n"
     ]
    },
    {
     "name": "stderr",
     "output_type": "stream",
     "text": [
      "\n",
      "Epoch: 10 - loss: 0.244, acc: 0.932:  33%|███▎      | 45056/135000 [00:00<00:00, 203793.09it/s]\u001b[A\n",
      "Epoch: 10 - loss: 0.243, acc: 0.933:  52%|█████▏    | 69632/135000 [00:00<00:00, 206659.24it/s]\u001b[A\n",
      "Epoch: 10 - loss: 0.242, acc: 0.933:  70%|██████▉   | 94208/135000 [00:00<00:00, 212610.91it/s]\u001b[A\n",
      "Epoch: 10 - loss: 0.242, acc: 0.933:  91%|█████████ | 122880/135000 [00:00<00:00, 224004.21it/s]\u001b[A\n",
      "Epoch: 10 - loss: 0.242, acc: 0.933, val_loss: 0.230, val_acc: 0.936: 100%|██████████| 135000/135000 [00:00<00:00, 193915.87it/s]\u001b[A\n",
      "Training:  22%|██▏       | 11/50 [00:13<00:44,  1.14s/it]\n",
      "Epoch: 11:   0%|          | 0/135000 [00:00<?, ?it/s]\u001b[A\n",
      "Epoch: 11 - loss: 0.226, acc: 0.937:  15%|█▌        | 20480/135000 [00:00<00:00, 191675.86it/s]\u001b[A"
     ]
    },
    {
     "name": "stdout",
     "output_type": "stream",
     "text": [
      "EPOCH 10 ROC_AUC_SCORE 0.968029070543\n"
     ]
    },
    {
     "name": "stderr",
     "output_type": "stream",
     "text": [
      "\n",
      "Epoch: 11 - loss: 0.231, acc: 0.934:  33%|███▎      | 45056/135000 [00:00<00:00, 199827.94it/s]\u001b[A\n",
      "Epoch: 11 - loss: 0.231, acc: 0.933:  52%|█████▏    | 69632/135000 [00:00<00:00, 211228.33it/s]\u001b[A\n",
      "Epoch: 11 - loss: 0.230, acc: 0.933:  67%|██████▋   | 90112/135000 [00:00<00:00, 208574.41it/s]\u001b[A\n",
      "Epoch: 11 - loss: 0.232, acc: 0.933:  88%|████████▊ | 118784/135000 [00:00<00:00, 222533.14it/s]\u001b[A\n",
      "Epoch: 11 - loss: 0.232, acc: 0.933, val_loss: 0.229, val_acc: 0.936: 100%|██████████| 135000/135000 [00:00<00:00, 201018.52it/s]\u001b[A\n",
      "Training:  24%|██▍       | 12/50 [00:14<00:41,  1.10s/it]\n",
      "Epoch: 12:   0%|          | 0/135000 [00:00<?, ?it/s]\u001b[A\n",
      "Epoch: 12 - loss: 0.232, acc: 0.934:  18%|█▊        | 24576/135000 [00:00<00:00, 217490.56it/s]\u001b[A"
     ]
    },
    {
     "name": "stdout",
     "output_type": "stream",
     "text": [
      "EPOCH 11 ROC_AUC_SCORE 0.646674991897\n"
     ]
    },
    {
     "name": "stderr",
     "output_type": "stream",
     "text": [
      "\n",
      "Epoch: 12 - loss: 0.233, acc: 0.933:  33%|███▎      | 45056/135000 [00:00<00:00, 209321.46it/s]\u001b[A\n",
      "Epoch: 12 - loss: 0.234, acc: 0.933:  52%|█████▏    | 69632/135000 [00:00<00:00, 218753.15it/s]\u001b[A\n",
      "Epoch: 12 - loss: 0.233, acc: 0.933:  70%|██████▉   | 94208/135000 [00:00<00:00, 222775.70it/s]\u001b[A\n",
      "Epoch: 12 - loss: 0.235, acc: 0.932:  91%|█████████ | 122880/135000 [00:00<00:00, 232767.76it/s]\u001b[A\n",
      "Epoch: 12 - loss: 0.235, acc: 0.933, val_loss: 0.233, val_acc: 0.935: 100%|██████████| 135000/135000 [00:00<00:00, 210370.05it/s]\u001b[A\n",
      "Training:  26%|██▌       | 13/50 [00:15<00:38,  1.05s/it]\n",
      "Epoch: 13:   0%|          | 0/135000 [00:00<?, ?it/s]\u001b[A\n",
      "Epoch: 13 - loss: 0.239, acc: 0.932:  15%|█▌        | 20480/135000 [00:00<00:00, 190022.20it/s]\u001b[A"
     ]
    },
    {
     "name": "stdout",
     "output_type": "stream",
     "text": [
      "EPOCH 12 ROC_AUC_SCORE 0.616324198372\n"
     ]
    },
    {
     "name": "stderr",
     "output_type": "stream",
     "text": [
      "\n",
      "Epoch: 13 - loss: 0.239, acc: 0.932:  27%|██▋       | 36864/135000 [00:00<00:00, 168732.84it/s]\u001b[A\n",
      "Epoch: 13 - loss: 0.236, acc: 0.933:  42%|████▏     | 57344/135000 [00:00<00:00, 166363.67it/s]\u001b[A\n",
      "Epoch: 13 - loss: 0.234, acc: 0.934:  55%|█████▍    | 73728/135000 [00:00<00:00, 165155.77it/s]\u001b[A\n",
      "Epoch: 13 - loss: 0.234, acc: 0.933:  70%|██████▉   | 94208/135000 [00:00<00:00, 166947.55it/s]\u001b[A\n",
      "Epoch: 13 - loss: 0.235, acc: 0.933:  85%|████████▍ | 114688/135000 [00:00<00:00, 168329.53it/s]\u001b[A\n",
      "Epoch: 13 - loss: 0.234, acc: 0.933, val_loss: 0.225, val_acc: 0.936: 100%|██████████| 135000/135000 [00:00<00:00, 155352.21it/s]\u001b[A\n",
      "Training:  28%|██▊       | 14/50 [00:16<00:40,  1.13s/it]\n",
      "Epoch: 14:   0%|          | 0/135000 [00:00<?, ?it/s]\u001b[A\n",
      "Epoch: 14 - loss: 0.229, acc: 0.932:  15%|█▌        | 20480/135000 [00:00<00:00, 179578.39it/s]\u001b[A"
     ]
    },
    {
     "name": "stdout",
     "output_type": "stream",
     "text": [
      "EPOCH 13 ROC_AUC_SCORE 0.745891979632\n"
     ]
    },
    {
     "name": "stderr",
     "output_type": "stream",
     "text": [
      "\n",
      "Epoch: 14 - loss: 0.226, acc: 0.933:  30%|███       | 40960/135000 [00:00<00:00, 180877.74it/s]\u001b[A\n",
      "Epoch: 14 - loss: 0.228, acc: 0.933:  42%|████▏     | 57344/135000 [00:00<00:00, 169353.29it/s]\u001b[A\n",
      "Epoch: 14 - loss: 0.229, acc: 0.933:  58%|█████▊    | 77824/135000 [00:00<00:00, 174995.84it/s]\u001b[A\n",
      "Epoch: 14 - loss: 0.230, acc: 0.933:  79%|███████▉  | 106496/135000 [00:00<00:00, 193822.03it/s]\u001b[A\n",
      "Epoch: 14 - loss: 0.230, acc: 0.933, val_loss: 0.224, val_acc: 0.935: 100%|██████████| 135000/135000 [00:00<00:00, 202772.84it/s]\u001b[A\n",
      "Training:  30%|███       | 15/50 [00:17<00:40,  1.16s/it]\n",
      "Epoch: 15:   0%|          | 0/135000 [00:00<?, ?it/s]\u001b[A\n",
      "Epoch: 15 - loss: 0.232, acc: 0.931:  12%|█▏        | 16384/135000 [00:00<00:00, 156123.15it/s]\u001b[A"
     ]
    },
    {
     "name": "stdout",
     "output_type": "stream",
     "text": [
      "EPOCH 14 ROC_AUC_SCORE 0.665755000387\n"
     ]
    },
    {
     "name": "stderr",
     "output_type": "stream",
     "text": [
      "\n",
      "Epoch: 15 - loss: 0.231, acc: 0.931:  24%|██▍       | 32768/135000 [00:00<00:00, 157412.31it/s]\u001b[A\n",
      "Epoch: 15 - loss: 0.231, acc: 0.930:  39%|███▉      | 53248/135000 [00:00<00:00, 168051.60it/s]\u001b[A\n",
      "Epoch: 15 - loss: 0.230, acc: 0.931:  55%|█████▍    | 73728/135000 [00:00<00:00, 171078.88it/s]\u001b[A\n",
      "Epoch: 15 - loss: 0.228, acc: 0.931:  70%|██████▉   | 94208/135000 [00:00<00:00, 172258.23it/s]\u001b[A\n",
      "Epoch: 15 - loss: 0.225, acc: 0.932:  85%|████████▍ | 114688/135000 [00:00<00:00, 171254.04it/s]\u001b[A\n",
      "Epoch: 15 - loss: 0.224, acc: 0.932, val_loss: 0.216, val_acc: 0.936: 100%|██████████| 135000/135000 [00:00<00:00, 157080.10it/s]\u001b[A\n",
      "Training:  32%|███▏      | 16/50 [00:19<00:44,  1.32s/it]\n",
      "Epoch: 16:   0%|          | 0/135000 [00:00<?, ?it/s]\u001b[A\n",
      "Epoch: 16 - loss: 0.218, acc: 0.932:  21%|██        | 28672/135000 [00:00<00:00, 252234.46it/s]\u001b[A"
     ]
    },
    {
     "name": "stdout",
     "output_type": "stream",
     "text": [
      "EPOCH 15 ROC_AUC_SCORE 0.72082263947\n"
     ]
    },
    {
     "name": "stderr",
     "output_type": "stream",
     "text": [
      "\n",
      "Epoch: 16 - loss: 0.214, acc: 0.933:  36%|███▋      | 49152/135000 [00:00<00:00, 232002.82it/s]\u001b[A\n",
      "Epoch: 16 - loss: 0.213, acc: 0.932:  52%|█████▏    | 69632/135000 [00:00<00:00, 203115.00it/s]\u001b[A\n",
      "Epoch: 16 - loss: 0.212, acc: 0.933:  64%|██████▎   | 86016/135000 [00:00<00:00, 181035.94it/s]\u001b[A\n",
      "Epoch: 16 - loss: 0.211, acc: 0.933:  79%|███████▉  | 106496/135000 [00:00<00:00, 177770.66it/s]\u001b[A\n",
      "Epoch: 16 - loss: 0.210, acc: 0.933:  91%|█████████ | 122880/135000 [00:00<00:00, 166002.64it/s]\u001b[A\n",
      "Epoch: 16 - loss: 0.210, acc: 0.933, val_loss: 0.204, val_acc: 0.936: 100%|██████████| 135000/135000 [00:00<00:00, 137151.48it/s]\u001b[A\n",
      "Training:  34%|███▍      | 17/50 [00:20<00:43,  1.31s/it]\n",
      "Epoch: 17:   0%|          | 0/135000 [00:00<?, ?it/s]\u001b[A\n",
      "Epoch: 17 - loss: 0.209, acc: 0.932:  12%|█▏        | 16384/135000 [00:00<00:00, 162182.49it/s]\u001b[A"
     ]
    },
    {
     "name": "stdout",
     "output_type": "stream",
     "text": [
      "EPOCH 16 ROC_AUC_SCORE 0.655549626467\n"
     ]
    },
    {
     "name": "stderr",
     "output_type": "stream",
     "text": [
      "\n",
      "Epoch: 17 - loss: 0.215, acc: 0.933:  27%|██▋       | 36864/135000 [00:00<00:00, 166319.28it/s]\u001b[A\n",
      "Epoch: 17 - loss: 0.218, acc: 0.933:  39%|███▉      | 53248/135000 [00:00<00:00, 163063.72it/s]\u001b[A\n",
      "Epoch: 17 - loss: 0.217, acc: 0.934:  52%|█████▏    | 69632/135000 [00:00<00:00, 155387.69it/s]\u001b[A\n",
      "Epoch: 17 - loss: 0.216, acc: 0.934:  67%|██████▋   | 90112/135000 [00:00<00:00, 160277.61it/s]\u001b[A\n",
      "Epoch: 17 - loss: 0.216, acc: 0.934:  79%|███████▉  | 106496/135000 [00:00<00:00, 158236.92it/s]\u001b[A\n",
      "Epoch: 17 - loss: 0.215, acc: 0.933:  91%|█████████ | 122880/135000 [00:00<00:00, 150308.51it/s]\u001b[A\n",
      "Epoch: 17 - loss: 0.214, acc: 0.933, val_loss: 0.197, val_acc: 0.936: 100%|██████████| 135000/135000 [00:00<00:00, 144173.27it/s]\u001b[A\n",
      "Training:  36%|███▌      | 18/50 [00:22<00:41,  1.28s/it]\n",
      "Epoch: 18:   0%|          | 0/135000 [00:00<?, ?it/s]\u001b[A\n",
      "Epoch: 18 - loss: 0.195, acc: 0.936:  15%|█▌        | 20480/135000 [00:00<00:00, 179387.88it/s]\u001b[A"
     ]
    },
    {
     "name": "stdout",
     "output_type": "stream",
     "text": [
      "EPOCH 17 ROC_AUC_SCORE 0.671979934252\n"
     ]
    },
    {
     "name": "stderr",
     "output_type": "stream",
     "text": [
      "\n",
      "Epoch: 18 - loss: 0.196, acc: 0.934:  27%|██▋       | 36864/135000 [00:00<00:00, 170396.19it/s]\u001b[A\n",
      "Epoch: 18 - loss: 0.196, acc: 0.934:  39%|███▉      | 53248/135000 [00:00<00:00, 156962.11it/s]\u001b[A\n",
      "Epoch: 18 - loss: 0.199, acc: 0.933:  52%|█████▏    | 69632/135000 [00:00<00:00, 153392.43it/s]\u001b[A\n",
      "Epoch: 18 - loss: 0.199, acc: 0.933:  64%|██████▎   | 86016/135000 [00:00<00:00, 155377.76it/s]\u001b[A\n",
      "Epoch: 18 - loss: 0.198, acc: 0.933:  82%|████████▏ | 110592/135000 [00:00<00:00, 169780.72it/s]\u001b[A\n",
      "Epoch: 18 - loss: 0.198, acc: 0.933, val_loss: 0.192, val_acc: 0.936: 100%|██████████| 135000/135000 [00:00<00:00, 167121.09it/s]\u001b[A\n",
      "Training:  38%|███▊      | 19/50 [00:23<00:41,  1.34s/it]\n",
      "Epoch: 19:   0%|          | 0/135000 [00:00<?, ?it/s]\u001b[A\n",
      "Epoch: 19 - loss: 0.203, acc: 0.932:  18%|█▊        | 24576/135000 [00:00<00:00, 215681.19it/s]\u001b[A"
     ]
    },
    {
     "name": "stdout",
     "output_type": "stream",
     "text": [
      "EPOCH 18 ROC_AUC_SCORE 0.710854789628\n"
     ]
    },
    {
     "name": "stderr",
     "output_type": "stream",
     "text": [
      "\n",
      "Epoch: 19 - loss: 0.200, acc: 0.933:  33%|███▎      | 45056/135000 [00:00<00:00, 209493.28it/s]\u001b[A\n",
      "Epoch: 19 - loss: 0.202, acc: 0.932:  46%|████▌     | 61440/135000 [00:00<00:00, 191695.81it/s]\u001b[A\n",
      "Epoch: 19 - loss: 0.201, acc: 0.933:  58%|█████▊    | 77824/135000 [00:00<00:00, 174929.93it/s]\u001b[A\n",
      "Epoch: 19 - loss: 0.200, acc: 0.933:  70%|██████▉   | 94208/135000 [00:00<00:00, 168927.34it/s]\u001b[A\n",
      "Epoch: 19 - loss: 0.199, acc: 0.933:  85%|████████▍ | 114688/135000 [00:00<00:00, 171485.55it/s]\u001b[A\n",
      "Epoch: 19 - loss: 0.198, acc: 0.933:  97%|█████████▋| 131072/135000 [00:00<00:00, 168945.29it/s]\u001b[A\n",
      "Epoch: 19 - loss: 0.199, acc: 0.933, val_loss: 0.202, val_acc: 0.936: 100%|██████████| 135000/135000 [00:00<00:00, 123017.86it/s]\u001b[A\n",
      "Training:  40%|████      | 20/50 [00:24<00:40,  1.34s/it]\n",
      "Epoch: 20:   0%|          | 0/135000 [00:00<?, ?it/s]\u001b[A\n",
      "Epoch: 20 - loss: 0.201, acc: 0.935:  15%|█▌        | 20480/135000 [00:00<00:00, 180037.57it/s]\u001b[A"
     ]
    },
    {
     "name": "stdout",
     "output_type": "stream",
     "text": [
      "EPOCH 19 ROC_AUC_SCORE 0.655632674853\n"
     ]
    },
    {
     "name": "stderr",
     "output_type": "stream",
     "text": [
      "\n",
      "Epoch: 20 - loss: 0.197, acc: 0.935:  27%|██▋       | 36864/135000 [00:00<00:00, 174083.17it/s]\u001b[A\n",
      "Epoch: 20 - loss: 0.198, acc: 0.934:  39%|███▉      | 53248/135000 [00:00<00:00, 163061.49it/s]\u001b[A\n",
      "Epoch: 20 - loss: 0.198, acc: 0.934:  55%|█████▍    | 73728/135000 [00:00<00:00, 167824.02it/s]\u001b[A\n",
      "Epoch: 20 - loss: 0.198, acc: 0.934:  67%|██████▋   | 90112/135000 [00:00<00:00, 160210.36it/s]\u001b[A\n",
      "Epoch: 20 - loss: 0.199, acc: 0.934:  79%|███████▉  | 106496/135000 [00:00<00:00, 158335.04it/s]\u001b[A\n",
      "Epoch: 20 - loss: 0.199, acc: 0.934:  91%|█████████ | 122880/135000 [00:00<00:00, 157394.41it/s]\u001b[A\n",
      "Epoch: 20 - loss: 0.199, acc: 0.933, val_loss: 0.197, val_acc: 0.934: 100%|██████████| 135000/135000 [00:00<00:00, 142630.16it/s]\u001b[A\n",
      "Training:  42%|████▏     | 21/50 [00:26<00:40,  1.38s/it]\n",
      "Epoch: 21:   0%|          | 0/135000 [00:00<?, ?it/s]\u001b[A\n",
      "Epoch: 21 - loss: 0.200, acc: 0.931:  15%|█▌        | 20480/135000 [00:00<00:00, 194139.49it/s]\u001b[A"
     ]
    },
    {
     "name": "stdout",
     "output_type": "stream",
     "text": [
      "EPOCH 20 ROC_AUC_SCORE 0.620201131845\n"
     ]
    },
    {
     "name": "stderr",
     "output_type": "stream",
     "text": [
      "\n",
      "Epoch: 21 - loss: 0.195, acc: 0.935:  33%|███▎      | 45056/135000 [00:00<00:00, 202807.25it/s]\u001b[A\n",
      "Epoch: 21 - loss: 0.197, acc: 0.934:  49%|████▊     | 65536/135000 [00:00<00:00, 191274.04it/s]\u001b[A\n",
      "Epoch: 21 - loss: 0.197, acc: 0.933:  61%|██████    | 81920/135000 [00:00<00:00, 167197.97it/s]\u001b[A\n",
      "Epoch: 21 - loss: 0.196, acc: 0.934:  73%|███████▎  | 98304/135000 [00:00<00:00, 161661.06it/s]\u001b[A\n",
      "Epoch: 21 - loss: 0.196, acc: 0.933:  85%|████████▍ | 114688/135000 [00:00<00:00, 152877.31it/s]\u001b[A\n",
      "Epoch: 21 - loss: 0.196, acc: 0.933:  97%|█████████▋| 131072/135000 [00:00<00:00, 150966.34it/s]\u001b[A\n",
      "Epoch: 21 - loss: 0.196, acc: 0.933, val_loss: 0.190, val_acc: 0.936: 100%|██████████| 135000/135000 [00:00<00:00, 97215.18it/s]\u001b[A\n",
      "Training:  44%|████▍     | 22/50 [00:28<00:40,  1.46s/it]\n",
      "Epoch: 22:   0%|          | 0/135000 [00:00<?, ?it/s]\u001b[A\n",
      "Epoch: 22 - loss: 0.202, acc: 0.930:  18%|█▊        | 24576/135000 [00:00<00:00, 212696.29it/s]\u001b[A"
     ]
    },
    {
     "name": "stdout",
     "output_type": "stream",
     "text": [
      "EPOCH 21 ROC_AUC_SCORE 0.655715811966\n"
     ]
    },
    {
     "name": "stderr",
     "output_type": "stream",
     "text": [
      "\n",
      "Epoch: 22 - loss: 0.200, acc: 0.931:  30%|███       | 40960/135000 [00:00<00:00, 191339.88it/s]\u001b[A\n",
      "Epoch: 22 - loss: 0.197, acc: 0.932:  42%|████▏     | 57344/135000 [00:00<00:00, 177113.65it/s]\u001b[A\n",
      "Epoch: 22 - loss: 0.196, acc: 0.933:  55%|█████▍    | 73728/135000 [00:00<00:00, 172301.14it/s]\u001b[A\n",
      "Epoch: 22 - loss: 0.194, acc: 0.933:  70%|██████▉   | 94208/135000 [00:00<00:00, 170824.29it/s]\u001b[A\n",
      "Epoch: 22 - loss: 0.194, acc: 0.933:  82%|████████▏ | 110592/135000 [00:00<00:00, 163462.37it/s]\u001b[A\n",
      "Epoch: 22 - loss: 0.194, acc: 0.934:  97%|█████████▋| 131072/135000 [00:00<00:00, 161818.68it/s]\u001b[A\n",
      "Epoch: 22 - loss: 0.194, acc: 0.934, val_loss: 0.190, val_acc: 0.936: 100%|██████████| 135000/135000 [00:00<00:00, 113906.21it/s]\u001b[A\n",
      "Training:  46%|████▌     | 23/50 [00:29<00:38,  1.43s/it]\n",
      "Epoch: 23:   0%|          | 0/135000 [00:00<?, ?it/s]\u001b[A\n",
      "Epoch: 23 - loss: 0.195, acc: 0.932:  18%|█▊        | 24576/135000 [00:00<00:00, 227810.45it/s]\u001b[A"
     ]
    },
    {
     "name": "stdout",
     "output_type": "stream",
     "text": [
      "EPOCH 22 ROC_AUC_SCORE 0.712449801816\n"
     ]
    },
    {
     "name": "stderr",
     "output_type": "stream",
     "text": [
      "\n",
      "Epoch: 23 - loss: 0.195, acc: 0.932:  27%|██▋       | 36864/135000 [00:00<00:00, 179553.99it/s]\u001b[A\n",
      "Epoch: 23 - loss: 0.195, acc: 0.933:  39%|███▉      | 53248/135000 [00:00<00:00, 170025.98it/s]\u001b[A\n",
      "Epoch: 23 - loss: 0.193, acc: 0.933:  55%|█████▍    | 73728/135000 [00:00<00:00, 170569.89it/s]\u001b[A\n",
      "Epoch: 23 - loss: 0.193, acc: 0.934:  67%|██████▋   | 90112/135000 [00:00<00:00, 165512.55it/s]\u001b[A\n",
      "Epoch: 23 - loss: 0.193, acc: 0.934:  79%|███████▉  | 106496/135000 [00:00<00:00, 154887.75it/s]\u001b[A\n",
      "Epoch: 23 - loss: 0.193, acc: 0.934:  91%|█████████ | 122880/135000 [00:00<00:00, 148853.70it/s]\u001b[A\n",
      "Epoch: 23 - loss: 0.193, acc: 0.934, val_loss: 0.187, val_acc: 0.936: 100%|██████████| 135000/135000 [00:00<00:00, 131282.95it/s]\u001b[A\n",
      "Training:  48%|████▊     | 24/50 [00:30<00:37,  1.45s/it]\n",
      "Epoch: 24:   0%|          | 0/135000 [00:00<?, ?it/s]\u001b[A\n",
      "Epoch: 24 - loss: 0.194, acc: 0.934:  15%|█▌        | 20480/135000 [00:00<00:00, 191353.49it/s]\u001b[A"
     ]
    },
    {
     "name": "stdout",
     "output_type": "stream",
     "text": [
      "EPOCH 23 ROC_AUC_SCORE 0.731082887701\n"
     ]
    },
    {
     "name": "stderr",
     "output_type": "stream",
     "text": [
      "\n",
      "Epoch: 24 - loss: 0.193, acc: 0.933:  33%|███▎      | 45056/135000 [00:00<00:00, 197802.36it/s]\u001b[A\n",
      "Epoch: 24 - loss: 0.193, acc: 0.934:  46%|████▌     | 61440/135000 [00:00<00:00, 182173.53it/s]\u001b[A\n",
      "Epoch: 24 - loss: 0.194, acc: 0.933:  58%|█████▊    | 77824/135000 [00:00<00:00, 173016.33it/s]\u001b[A\n",
      "Epoch: 24 - loss: 0.194, acc: 0.933:  73%|███████▎  | 98304/135000 [00:00<00:00, 171728.59it/s]\u001b[A\n",
      "Epoch: 24 - loss: 0.193, acc: 0.934:  85%|████████▍ | 114688/135000 [00:00<00:00, 160835.65it/s]\u001b[A\n",
      "Epoch: 24 - loss: 0.194, acc: 0.934:  97%|█████████▋| 131072/135000 [00:00<00:00, 160897.70it/s]\u001b[A\n",
      "Epoch: 24 - loss: 0.194, acc: 0.934, val_loss: 0.200, val_acc: 0.935: 100%|██████████| 135000/135000 [00:00<00:00, 101981.98it/s]\u001b[A\n",
      "Training:  50%|█████     | 25/50 [00:32<00:36,  1.45s/it]\n",
      "Epoch: 25:   0%|          | 0/135000 [00:00<?, ?it/s]\u001b[A\n",
      "Epoch: 25 - loss: 0.204, acc: 0.930:  12%|█▏        | 16384/135000 [00:00<00:00, 135966.98it/s]\u001b[A"
     ]
    },
    {
     "name": "stdout",
     "output_type": "stream",
     "text": [
      "EPOCH 24 ROC_AUC_SCORE 0.703332893934\n"
     ]
    },
    {
     "name": "stderr",
     "output_type": "stream",
     "text": [
      "\n",
      "Epoch: 25 - loss: 0.202, acc: 0.932:  24%|██▍       | 32768/135000 [00:00<00:00, 140434.82it/s]\u001b[A\n",
      "Epoch: 25 - loss: 0.198, acc: 0.933:  36%|███▋      | 49152/135000 [00:00<00:00, 142501.57it/s]\u001b[A\n",
      "Epoch: 25 - loss: 0.198, acc: 0.933:  49%|████▊     | 65536/135000 [00:00<00:00, 140014.82it/s]\u001b[A\n",
      "Epoch: 25 - loss: 0.196, acc: 0.933:  61%|██████    | 81920/135000 [00:00<00:00, 142277.91it/s]\u001b[A\n",
      "Epoch: 25 - loss: 0.196, acc: 0.933:  73%|███████▎  | 98304/135000 [00:00<00:00, 147126.15it/s]\u001b[A\n",
      "Epoch: 25 - loss: 0.195, acc: 0.933:  88%|████████▊ | 118784/135000 [00:00<00:00, 154218.20it/s]\u001b[A\n",
      "Epoch: 25 - loss: 0.196, acc: 0.933, val_loss: 0.189, val_acc: 0.936: 100%|██████████| 135000/135000 [00:00<00:00, 153302.71it/s]\u001b[A\n",
      "Training:  52%|█████▏    | 26/50 [00:33<00:34,  1.43s/it]\n",
      "Epoch: 26:   0%|          | 0/135000 [00:00<?, ?it/s]\u001b[A\n",
      "Epoch: 26 - loss: 0.194, acc: 0.934:  15%|█▌        | 20480/135000 [00:00<00:00, 192909.12it/s]\u001b[A"
     ]
    },
    {
     "name": "stdout",
     "output_type": "stream",
     "text": [
      "EPOCH 25 ROC_AUC_SCORE 0.732940667087\n"
     ]
    },
    {
     "name": "stderr",
     "output_type": "stream",
     "text": [
      "\n",
      "Epoch: 26 - loss: 0.195, acc: 0.933:  33%|███▎      | 45056/135000 [00:00<00:00, 205647.66it/s]\u001b[A\n",
      "Epoch: 26 - loss: 0.192, acc: 0.934:  52%|█████▏    | 69632/135000 [00:00<00:00, 213433.97it/s]\u001b[A\n",
      "Epoch: 26 - loss: 0.192, acc: 0.934:  67%|██████▋   | 90112/135000 [00:00<00:00, 199893.42it/s]\u001b[A\n",
      "Epoch: 26 - loss: 0.192, acc: 0.934:  79%|███████▉  | 106496/135000 [00:00<00:00, 182388.19it/s]\u001b[A\n",
      "Epoch: 26 - loss: 0.192, acc: 0.934:  91%|█████████ | 122880/135000 [00:00<00:00, 165577.20it/s]\u001b[A\n",
      "Epoch: 26 - loss: 0.191, acc: 0.934, val_loss: 0.185, val_acc: 0.936: 100%|██████████| 135000/135000 [00:00<00:00, 147576.36it/s]\u001b[A\n",
      "Training:  54%|█████▍    | 27/50 [00:35<00:32,  1.43s/it]\n",
      "Epoch: 27:   0%|          | 0/135000 [00:00<?, ?it/s]\u001b[A\n",
      "Epoch: 27 - loss: 0.176, acc: 0.939:  15%|█▌        | 20480/135000 [00:00<00:00, 168850.23it/s]\u001b[A"
     ]
    },
    {
     "name": "stdout",
     "output_type": "stream",
     "text": [
      "EPOCH 26 ROC_AUC_SCORE 0.685003340013\n"
     ]
    },
    {
     "name": "stderr",
     "output_type": "stream",
     "text": [
      "\n",
      "Epoch: 27 - loss: 0.185, acc: 0.936:  27%|██▋       | 36864/135000 [00:00<00:00, 160976.50it/s]\u001b[A\n",
      "Epoch: 27 - loss: 0.186, acc: 0.935:  39%|███▉      | 53248/135000 [00:00<00:00, 158332.57it/s]\u001b[A\n",
      "Epoch: 27 - loss: 0.189, acc: 0.934:  61%|██████    | 81920/135000 [00:00<00:00, 178428.72it/s]\u001b[A\n",
      "Epoch: 27 - loss: 0.189, acc: 0.934:  76%|███████▌  | 102400/135000 [00:00<00:00, 182602.30it/s]\u001b[A\n",
      "Epoch: 27 - loss: 0.190, acc: 0.934:  88%|████████▊ | 118784/135000 [00:00<00:00, 165719.24it/s]\u001b[A\n",
      "Epoch: 27 - loss: 0.190, acc: 0.934, val_loss: 0.184, val_acc: 0.936: 100%|██████████| 135000/135000 [00:00<00:00, 151655.92it/s]\u001b[A\n",
      "Training:  56%|█████▌    | 28/50 [00:36<00:31,  1.42s/it]\n",
      "Epoch: 28:   0%|          | 0/135000 [00:00<?, ?it/s]\u001b[A\n",
      "Epoch: 28 - loss: 0.193, acc: 0.933:  12%|█▏        | 16384/135000 [00:00<00:00, 161401.22it/s]\u001b[A"
     ]
    },
    {
     "name": "stdout",
     "output_type": "stream",
     "text": [
      "EPOCH 27 ROC_AUC_SCORE 0.704419159551\n"
     ]
    },
    {
     "name": "stderr",
     "output_type": "stream",
     "text": [
      "\n",
      "Epoch: 28 - loss: 0.192, acc: 0.933:  24%|██▍       | 32768/135000 [00:00<00:00, 157579.61it/s]\u001b[A\n",
      "Epoch: 28 - loss: 0.190, acc: 0.934:  36%|███▋      | 49152/135000 [00:00<00:00, 152686.74it/s]\u001b[A\n",
      "Epoch: 28 - loss: 0.188, acc: 0.935:  52%|█████▏    | 69632/135000 [00:00<00:00, 158963.05it/s]\u001b[A\n",
      "Epoch: 28 - loss: 0.187, acc: 0.935:  64%|██████▎   | 86016/135000 [00:00<00:00, 154986.88it/s]\u001b[A\n",
      "Epoch: 28 - loss: 0.188, acc: 0.934:  76%|███████▌  | 102400/135000 [00:00<00:00, 151342.28it/s]\u001b[A\n",
      "Epoch: 28 - loss: 0.188, acc: 0.935:  88%|████████▊ | 118784/135000 [00:00<00:00, 154152.64it/s]\u001b[A\n",
      "Epoch: 28 - loss: 0.190, acc: 0.934, val_loss: 0.192, val_acc: 0.937: 100%|██████████| 135000/135000 [00:00<00:00, 146009.28it/s]\u001b[A\n",
      "Training:  58%|█████▊    | 29/50 [00:38<00:30,  1.45s/it]\n",
      "Epoch: 29:   0%|          | 0/135000 [00:00<?, ?it/s]\u001b[A\n",
      "Epoch: 29 - loss: 0.202, acc: 0.933:  12%|█▏        | 16384/135000 [00:00<00:00, 157261.80it/s]\u001b[A"
     ]
    },
    {
     "name": "stdout",
     "output_type": "stream",
     "text": [
      "EPOCH 28 ROC_AUC_SCORE 0.736908019704\n"
     ]
    },
    {
     "name": "stderr",
     "output_type": "stream",
     "text": [
      "\n",
      "Epoch: 29 - loss: 0.197, acc: 0.933:  24%|██▍       | 32768/135000 [00:00<00:00, 156311.22it/s]\u001b[A\n",
      "Epoch: 29 - loss: 0.196, acc: 0.933:  36%|███▋      | 49152/135000 [00:00<00:00, 155831.57it/s]\u001b[A\n",
      "Epoch: 29 - loss: 0.195, acc: 0.934:  52%|█████▏    | 69632/135000 [00:00<00:00, 162129.00it/s]\u001b[A\n",
      "Epoch: 29 - loss: 0.193, acc: 0.934:  64%|██████▎   | 86016/135000 [00:00<00:00, 162633.73it/s]\u001b[A\n",
      "Epoch: 29 - loss: 0.192, acc: 0.934:  79%|███████▉  | 106496/135000 [00:00<00:00, 167052.08it/s]\u001b[A\n",
      "Epoch: 29 - loss: 0.192, acc: 0.934:  94%|█████████▍| 126976/135000 [00:00<00:00, 166691.66it/s]\u001b[A\n",
      "Epoch: 29 - loss: 0.192, acc: 0.934, val_loss: 0.185, val_acc: 0.935: 100%|██████████| 135000/135000 [00:00<00:00, 139256.05it/s]\u001b[A\n",
      "Training:  60%|██████    | 30/50 [00:39<00:28,  1.44s/it]\n",
      "Epoch: 30:   0%|          | 0/135000 [00:00<?, ?it/s]\u001b[A\n",
      "Epoch: 30 - loss: 0.189, acc: 0.935:  12%|█▏        | 16384/135000 [00:00<00:00, 157086.73it/s]\u001b[A"
     ]
    },
    {
     "name": "stdout",
     "output_type": "stream",
     "text": [
      "EPOCH 29 ROC_AUC_SCORE 0.701957685427\n"
     ]
    },
    {
     "name": "stderr",
     "output_type": "stream",
     "text": [
      "\n",
      "Epoch: 30 - loss: 0.191, acc: 0.935:  27%|██▋       | 36864/135000 [00:00<00:00, 165086.05it/s]\u001b[A\n",
      "Epoch: 30 - loss: 0.191, acc: 0.935:  42%|████▏     | 57344/135000 [00:00<00:00, 171080.21it/s]\u001b[A\n",
      "Epoch: 30 - loss: 0.192, acc: 0.934:  58%|█████▊    | 77824/135000 [00:00<00:00, 173185.64it/s]\u001b[A\n",
      "Epoch: 30 - loss: 0.193, acc: 0.934:  70%|██████▉   | 94208/135000 [00:00<00:00, 165614.43it/s]\u001b[A\n",
      "Epoch: 30 - loss: 0.193, acc: 0.934:  82%|████████▏ | 110592/135000 [00:00<00:00, 156131.60it/s]\u001b[A\n",
      "Epoch: 30 - loss: 0.194, acc: 0.934:  94%|█████████▍| 126976/135000 [00:00<00:00, 156094.17it/s]\u001b[A\n",
      "Epoch: 30 - loss: 0.194, acc: 0.934, val_loss: 0.189, val_acc: 0.936: 100%|██████████| 135000/135000 [00:00<00:00, 125988.95it/s]\u001b[A\n",
      "Training:  62%|██████▏   | 31/50 [00:41<00:29,  1.54s/it]\n",
      "Epoch: 31:   0%|          | 0/135000 [00:00<?, ?it/s]\u001b[A\n",
      "Epoch: 31 - loss: 0.201, acc: 0.932:  18%|█▊        | 24576/135000 [00:00<00:00, 227764.14it/s]\u001b[A"
     ]
    },
    {
     "name": "stdout",
     "output_type": "stream",
     "text": [
      "EPOCH 30 ROC_AUC_SCORE 0.750669689912\n"
     ]
    },
    {
     "name": "stderr",
     "output_type": "stream",
     "text": [
      "\n",
      "Epoch: 31 - loss: 0.202, acc: 0.934:  36%|███▋      | 49152/135000 [00:00<00:00, 226843.42it/s]\u001b[A\n",
      "Epoch: 31 - loss: 0.203, acc: 0.933:  52%|█████▏    | 69632/135000 [00:00<00:00, 209078.37it/s]\u001b[A\n",
      "Epoch: 31 - loss: 0.201, acc: 0.933:  67%|██████▋   | 90112/135000 [00:00<00:00, 194754.56it/s]\u001b[A\n",
      "Epoch: 31 - loss: 0.199, acc: 0.933:  82%|████████▏ | 110592/135000 [00:00<00:00, 189103.96it/s]\u001b[A\n",
      "Epoch: 31 - loss: 0.198, acc: 0.934:  97%|█████████▋| 131072/135000 [00:00<00:00, 179523.28it/s]\u001b[A\n",
      "Epoch: 31 - loss: 0.197, acc: 0.934, val_loss: 0.187, val_acc: 0.935: 100%|██████████| 135000/135000 [00:00<00:00, 117904.24it/s]\u001b[A\n",
      "Training:  64%|██████▍   | 32/50 [00:42<00:27,  1.54s/it]\n",
      "Epoch: 32:   0%|          | 0/135000 [00:00<?, ?it/s]\u001b[A\n",
      "Epoch: 32 - loss: 0.188, acc: 0.935:  15%|█▌        | 20480/135000 [00:00<00:00, 164732.02it/s]\u001b[A"
     ]
    },
    {
     "name": "stdout",
     "output_type": "stream",
     "text": [
      "EPOCH 31 ROC_AUC_SCORE 0.685862576134\n"
     ]
    },
    {
     "name": "stderr",
     "output_type": "stream",
     "text": [
      "\n",
      "Epoch: 32 - loss: 0.191, acc: 0.935:  30%|███       | 40960/135000 [00:00<00:00, 167101.01it/s]\u001b[A\n",
      "Epoch: 32 - loss: 0.191, acc: 0.935:  42%|████▏     | 57344/135000 [00:00<00:00, 162917.03it/s]\u001b[A\n",
      "Epoch: 32 - loss: 0.191, acc: 0.934:  55%|█████▍    | 73728/135000 [00:00<00:00, 162828.39it/s]\u001b[A\n",
      "Epoch: 32 - loss: 0.192, acc: 0.933:  70%|██████▉   | 94208/135000 [00:00<00:00, 164207.36it/s]\u001b[A\n",
      "Epoch: 32 - loss: 0.191, acc: 0.934:  82%|████████▏ | 110592/135000 [00:00<00:00, 161059.32it/s]\u001b[A\n",
      "Epoch: 32 - loss: 0.190, acc: 0.934:  94%|█████████▍| 126976/135000 [00:00<00:00, 157522.08it/s]\u001b[A\n",
      "Epoch: 32 - loss: 0.190, acc: 0.934, val_loss: 0.185, val_acc: 0.937: 100%|██████████| 135000/135000 [00:00<00:00, 131151.25it/s]\u001b[A\n",
      "Training:  66%|██████▌   | 33/50 [00:44<00:25,  1.51s/it]\n",
      "Epoch: 33:   0%|          | 0/135000 [00:00<?, ?it/s]\u001b[A\n",
      "Epoch: 33 - loss: 0.191, acc: 0.932:  15%|█▌        | 20480/135000 [00:00<00:00, 193649.74it/s]\u001b[A"
     ]
    },
    {
     "name": "stdout",
     "output_type": "stream",
     "text": [
      "EPOCH 32 ROC_AUC_SCORE 0.779803864276\n"
     ]
    },
    {
     "name": "stderr",
     "output_type": "stream",
     "text": [
      "\n",
      "Epoch: 33 - loss: 0.189, acc: 0.934:  33%|███▎      | 45056/135000 [00:00<00:00, 206787.59it/s]\u001b[A\n",
      "Epoch: 33 - loss: 0.189, acc: 0.934:  49%|████▊     | 65536/135000 [00:00<00:00, 190199.90it/s]\u001b[A\n",
      "Epoch: 33 - loss: 0.189, acc: 0.935:  61%|██████    | 81920/135000 [00:00<00:00, 177947.75it/s]\u001b[A\n",
      "Epoch: 33 - loss: 0.187, acc: 0.935:  76%|███████▌  | 102400/135000 [00:00<00:00, 178912.13it/s]\u001b[A\n",
      "Epoch: 33 - loss: 0.188, acc: 0.935:  88%|████████▊ | 118784/135000 [00:00<00:00, 171505.13it/s]\u001b[A\n",
      "Epoch: 33 - loss: 0.188, acc: 0.935, val_loss: 0.183, val_acc: 0.936: 100%|██████████| 135000/135000 [00:00<00:00, 148044.98it/s]\u001b[A\n",
      "Training:  68%|██████▊   | 34/50 [00:45<00:23,  1.50s/it]\n",
      "Epoch: 34:   0%|          | 0/135000 [00:00<?, ?it/s]\u001b[A\n",
      "Epoch: 34 - loss: 0.189, acc: 0.935:  15%|█▌        | 20480/135000 [00:00<00:00, 186381.56it/s]\u001b[A"
     ]
    },
    {
     "name": "stdout",
     "output_type": "stream",
     "text": [
      "EPOCH 33 ROC_AUC_SCORE 0.721956834298\n"
     ]
    },
    {
     "name": "stderr",
     "output_type": "stream",
     "text": [
      "\n",
      "Epoch: 34 - loss: 0.192, acc: 0.933:  33%|███▎      | 45056/135000 [00:00<00:00, 200488.59it/s]\u001b[A\n",
      "Epoch: 34 - loss: 0.191, acc: 0.934:  52%|█████▏    | 69632/135000 [00:00<00:00, 208816.01it/s]\u001b[A\n",
      "Epoch: 34 - loss: 0.192, acc: 0.933:  70%|██████▉   | 94208/135000 [00:00<00:00, 216651.43it/s]\u001b[A\n",
      "Epoch: 34 - loss: 0.190, acc: 0.934:  88%|████████▊ | 118784/135000 [00:00<00:00, 220618.20it/s]\u001b[A\n",
      "Epoch: 34 - loss: 0.190, acc: 0.934, val_loss: 0.184, val_acc: 0.937: 100%|██████████| 135000/135000 [00:00<00:00, 197473.96it/s]\u001b[A\n",
      "Training:  70%|███████   | 35/50 [00:47<00:21,  1.46s/it]\n",
      "Epoch: 35:   0%|          | 0/135000 [00:00<?, ?it/s]\u001b[A\n",
      "Epoch: 35 - loss: 0.187, acc: 0.935:  15%|█▌        | 20480/135000 [00:00<00:00, 194721.28it/s]\u001b[A"
     ]
    },
    {
     "name": "stdout",
     "output_type": "stream",
     "text": [
      "EPOCH 34 ROC_AUC_SCORE 0.754992327655\n"
     ]
    },
    {
     "name": "stderr",
     "output_type": "stream",
     "text": [
      "\n",
      "Epoch: 35 - loss: 0.191, acc: 0.935:  36%|███▋      | 49152/135000 [00:00<00:00, 207653.44it/s]\u001b[A\n",
      "Epoch: 35 - loss: 0.190, acc: 0.934:  49%|████▊     | 65536/135000 [00:00<00:00, 190941.36it/s]\u001b[A\n",
      "Epoch: 35 - loss: 0.190, acc: 0.934:  61%|██████    | 81920/135000 [00:00<00:00, 177567.40it/s]\u001b[A\n",
      "Epoch: 35 - loss: 0.189, acc: 0.935:  73%|███████▎  | 98304/135000 [00:00<00:00, 165297.13it/s]\u001b[A\n",
      "Epoch: 35 - loss: 0.189, acc: 0.935:  85%|████████▍ | 114688/135000 [00:00<00:00, 158410.43it/s]\u001b[A\n",
      "Epoch: 35 - loss: 0.188, acc: 0.935:  97%|█████████▋| 131072/135000 [00:00<00:00, 158626.04it/s]\u001b[A\n",
      "Epoch: 35 - loss: 0.188, acc: 0.935, val_loss: 0.185, val_acc: 0.936: 100%|██████████| 135000/135000 [00:00<00:00, 115423.46it/s]\u001b[A\n",
      "Training:  72%|███████▏  | 36/50 [00:48<00:21,  1.53s/it]\n",
      "Epoch: 36:   0%|          | 0/135000 [00:00<?, ?it/s]\u001b[A\n",
      "Epoch: 36 - loss: 0.189, acc: 0.932:  15%|█▌        | 20480/135000 [00:00<00:00, 185115.13it/s]\u001b[A"
     ]
    },
    {
     "name": "stdout",
     "output_type": "stream",
     "text": [
      "EPOCH 35 ROC_AUC_SCORE 0.709083758172\n"
     ]
    },
    {
     "name": "stderr",
     "output_type": "stream",
     "text": [
      "\n",
      "Epoch: 36 - loss: 0.187, acc: 0.933:  27%|██▋       | 36864/135000 [00:00<00:00, 174780.79it/s]\u001b[A\n",
      "Epoch: 36 - loss: 0.185, acc: 0.934:  42%|████▏     | 57344/135000 [00:00<00:00, 176749.04it/s]\u001b[A\n",
      "Epoch: 36 - loss: 0.186, acc: 0.934:  55%|█████▍    | 73728/135000 [00:00<00:00, 171407.70it/s]\u001b[A\n",
      "Epoch: 36 - loss: 0.187, acc: 0.934:  67%|██████▋   | 90112/135000 [00:00<00:00, 159756.12it/s]\u001b[A\n",
      "Epoch: 36 - loss: 0.186, acc: 0.934:  79%|███████▉  | 106496/135000 [00:00<00:00, 155322.69it/s]\u001b[A\n",
      "Epoch: 36 - loss: 0.186, acc: 0.934:  91%|█████████ | 122880/135000 [00:00<00:00, 147167.47it/s]\u001b[A\n",
      "Epoch: 36 - loss: 0.187, acc: 0.934, val_loss: 0.181, val_acc: 0.936: 100%|██████████| 135000/135000 [00:00<00:00, 134034.49it/s]\u001b[A\n",
      "Training:  74%|███████▍  | 37/50 [00:50<00:19,  1.47s/it]\n",
      "Epoch: 37:   0%|          | 0/135000 [00:00<?, ?it/s]\u001b[A\n",
      "Epoch: 37 - loss: 0.194, acc: 0.930:  12%|█▏        | 16384/135000 [00:00<00:00, 156106.48it/s]\u001b[A"
     ]
    },
    {
     "name": "stdout",
     "output_type": "stream",
     "text": [
      "EPOCH 36 ROC_AUC_SCORE 0.728302220294\n"
     ]
    },
    {
     "name": "stderr",
     "output_type": "stream",
     "text": [
      "\n",
      "Epoch: 37 - loss: 0.185, acc: 0.934:  24%|██▍       | 32768/135000 [00:00<00:00, 147284.92it/s]\u001b[A\n",
      "Epoch: 37 - loss: 0.186, acc: 0.934:  36%|███▋      | 49152/135000 [00:00<00:00, 148574.79it/s]\u001b[A\n",
      "Epoch: 37 - loss: 0.186, acc: 0.934:  52%|█████▏    | 69632/135000 [00:00<00:00, 159781.34it/s]\u001b[A\n",
      "Epoch: 37 - loss: 0.187, acc: 0.934:  67%|██████▋   | 90112/135000 [00:00<00:00, 162064.47it/s]\u001b[A\n",
      "Epoch: 37 - loss: 0.187, acc: 0.934:  79%|███████▉  | 106496/135000 [00:00<00:00, 154517.81it/s]\u001b[A\n",
      "Epoch: 37 - loss: 0.187, acc: 0.934:  94%|█████████▍| 126976/135000 [00:00<00:00, 158561.27it/s]\u001b[A\n",
      "Epoch: 37 - loss: 0.187, acc: 0.934, val_loss: 0.180, val_acc: 0.937: 100%|██████████| 135000/135000 [00:00<00:00, 134070.87it/s]\u001b[A\n",
      "Training:  76%|███████▌  | 38/50 [00:51<00:17,  1.46s/it]\n",
      "Epoch: 38:   0%|          | 0/135000 [00:00<?, ?it/s]\u001b[A\n",
      "Epoch: 38 - loss: 0.189, acc: 0.933:  15%|█▌        | 20480/135000 [00:00<00:00, 178393.91it/s]\u001b[A"
     ]
    },
    {
     "name": "stdout",
     "output_type": "stream",
     "text": [
      "EPOCH 37 ROC_AUC_SCORE 0.732764432004\n"
     ]
    },
    {
     "name": "stderr",
     "output_type": "stream",
     "text": [
      "\n",
      "Epoch: 38 - loss: 0.186, acc: 0.934:  30%|███       | 40960/135000 [00:00<00:00, 184797.38it/s]\u001b[A\n",
      "Epoch: 38 - loss: 0.190, acc: 0.934:  46%|████▌     | 61440/135000 [00:00<00:00, 182253.58it/s]\u001b[A\n",
      "Epoch: 38 - loss: 0.191, acc: 0.934:  58%|█████▊    | 77824/135000 [00:00<00:00, 169956.56it/s]\u001b[A\n",
      "Epoch: 38 - loss: 0.192, acc: 0.934:  73%|███████▎  | 98304/135000 [00:00<00:00, 171832.58it/s]\u001b[A\n",
      "Epoch: 38 - loss: 0.192, acc: 0.934:  85%|████████▍ | 114688/135000 [00:00<00:00, 168853.06it/s]\u001b[A\n",
      "Epoch: 38 - loss: 0.191, acc: 0.934, val_loss: 0.182, val_acc: 0.937: 100%|██████████| 135000/135000 [00:00<00:00, 154514.84it/s]\u001b[A\n",
      "Training:  78%|███████▊  | 39/50 [00:52<00:16,  1.46s/it]\n",
      "Epoch: 39:   0%|          | 0/135000 [00:00<?, ?it/s]\u001b[A\n",
      "Epoch: 39 - loss: 0.182, acc: 0.937:  12%|█▏        | 16384/135000 [00:00<00:00, 140815.14it/s]\u001b[A"
     ]
    },
    {
     "name": "stdout",
     "output_type": "stream",
     "text": [
      "EPOCH 38 ROC_AUC_SCORE 0.736816549829\n"
     ]
    },
    {
     "name": "stderr",
     "output_type": "stream",
     "text": [
      "\n",
      "Epoch: 39 - loss: 0.185, acc: 0.934:  24%|██▍       | 32768/135000 [00:00<00:00, 141533.02it/s]\u001b[A\n",
      "Epoch: 39 - loss: 0.186, acc: 0.935:  36%|███▋      | 49152/135000 [00:00<00:00, 143984.94it/s]\u001b[A\n",
      "Epoch: 39 - loss: 0.188, acc: 0.934:  52%|█████▏    | 69632/135000 [00:00<00:00, 156260.43it/s]\u001b[A\n",
      "Epoch: 39 - loss: 0.188, acc: 0.934:  73%|███████▎  | 98304/135000 [00:00<00:00, 176637.33it/s]\u001b[A\n",
      "Epoch: 39 - loss: 0.189, acc: 0.933:  91%|█████████ | 122880/135000 [00:00<00:00, 183640.31it/s]\u001b[A\n",
      "Epoch: 39 - loss: 0.188, acc: 0.934, val_loss: 0.181, val_acc: 0.936: 100%|██████████| 135000/135000 [00:00<00:00, 154985.41it/s]\u001b[A\n",
      "Training:  80%|████████  | 40/50 [00:54<00:14,  1.44s/it]\n",
      "Epoch: 40:   0%|          | 0/135000 [00:00<?, ?it/s]\u001b[A\n",
      "Epoch: 40 - loss: 0.186, acc: 0.935:  15%|█▌        | 20480/135000 [00:00<00:00, 204309.67it/s]\u001b[A"
     ]
    },
    {
     "name": "stdout",
     "output_type": "stream",
     "text": [
      "EPOCH 39 ROC_AUC_SCORE 0.73581239531\n"
     ]
    },
    {
     "name": "stderr",
     "output_type": "stream",
     "text": [
      "\n",
      "Epoch: 40 - loss: 0.190, acc: 0.933:  33%|███▎      | 45056/135000 [00:00<00:00, 211366.68it/s]\u001b[A\n",
      "Epoch: 40 - loss: 0.189, acc: 0.933:  52%|█████▏    | 69632/135000 [00:00<00:00, 217861.33it/s]\u001b[A\n",
      "Epoch: 40 - loss: 0.188, acc: 0.934:  70%|██████▉   | 94208/135000 [00:00<00:00, 216079.06it/s]\u001b[A\n",
      "Epoch: 40 - loss: 0.187, acc: 0.935:  85%|████████▍ | 114688/135000 [00:00<00:00, 192435.19it/s]\u001b[A\n",
      "Epoch: 40 - loss: 0.187, acc: 0.934, val_loss: 0.183, val_acc: 0.937: 100%|██████████| 135000/135000 [00:00<00:00, 166208.41it/s]\u001b[A\n",
      "Training:  82%|████████▏ | 41/50 [00:55<00:12,  1.38s/it]\n",
      "Epoch: 41:   0%|          | 0/135000 [00:00<?, ?it/s]\u001b[A\n",
      "Epoch: 41 - loss: 0.183, acc: 0.937:  18%|█▊        | 24576/135000 [00:00<00:00, 218257.31it/s]\u001b[A"
     ]
    },
    {
     "name": "stdout",
     "output_type": "stream",
     "text": [
      "EPOCH 40 ROC_AUC_SCORE 0.741182432432\n"
     ]
    },
    {
     "name": "stderr",
     "output_type": "stream",
     "text": [
      "\n",
      "Epoch: 41 - loss: 0.187, acc: 0.936:  36%|███▋      | 49152/135000 [00:00<00:00, 221766.35it/s]\u001b[A\n",
      "Epoch: 41 - loss: 0.186, acc: 0.936:  55%|█████▍    | 73728/135000 [00:00<00:00, 226926.87it/s]\u001b[A\n",
      "Epoch: 41 - loss: 0.187, acc: 0.935:  73%|███████▎  | 98304/135000 [00:00<00:00, 229339.23it/s]\u001b[A\n",
      "Epoch: 41 - loss: 0.186, acc: 0.936:  88%|████████▊ | 118784/135000 [00:00<00:00, 221097.38it/s]\u001b[A\n",
      "Epoch: 41 - loss: 0.187, acc: 0.935, val_loss: 0.184, val_acc: 0.937: 100%|██████████| 135000/135000 [00:00<00:00, 172839.98it/s]\u001b[A\n",
      "Training:  84%|████████▍ | 42/50 [00:56<00:10,  1.36s/it]\n",
      "Epoch: 42:   0%|          | 0/135000 [00:00<?, ?it/s]\u001b[A\n",
      "Epoch: 42 - loss: 0.195, acc: 0.931:  18%|█▊        | 24576/135000 [00:00<00:00, 216018.37it/s]\u001b[A"
     ]
    },
    {
     "name": "stdout",
     "output_type": "stream",
     "text": [
      "EPOCH 41 ROC_AUC_SCORE 0.741666318134\n"
     ]
    },
    {
     "name": "stderr",
     "output_type": "stream",
     "text": [
      "\n",
      "Epoch: 42 - loss: 0.193, acc: 0.933:  36%|███▋      | 49152/135000 [00:00<00:00, 220529.36it/s]\u001b[A\n",
      "Epoch: 42 - loss: 0.192, acc: 0.934:  52%|█████▏    | 69632/135000 [00:00<00:00, 206586.53it/s]\u001b[A\n",
      "Epoch: 42 - loss: 0.190, acc: 0.934:  67%|██████▋   | 90112/135000 [00:00<00:00, 195201.31it/s]\u001b[A\n",
      "Epoch: 42 - loss: 0.189, acc: 0.934:  79%|███████▉  | 106496/135000 [00:00<00:00, 183257.17it/s]\u001b[A\n",
      "Epoch: 42 - loss: 0.188, acc: 0.935:  91%|█████████ | 122880/135000 [00:00<00:00, 175665.84it/s]\u001b[A\n",
      "Epoch: 42 - loss: 0.188, acc: 0.934, val_loss: 0.182, val_acc: 0.938: 100%|██████████| 135000/135000 [00:00<00:00, 147835.01it/s]\u001b[A\n",
      "Training:  86%|████████▌ | 43/50 [00:58<00:09,  1.32s/it]\n",
      "Epoch: 43:   0%|          | 0/135000 [00:00<?, ?it/s]\u001b[A\n",
      "Epoch: 43 - loss: 0.185, acc: 0.933:  18%|█▊        | 24576/135000 [00:00<00:00, 222745.87it/s]\u001b[A"
     ]
    },
    {
     "name": "stdout",
     "output_type": "stream",
     "text": [
      "EPOCH 42 ROC_AUC_SCORE 0.754939441318\n"
     ]
    },
    {
     "name": "stderr",
     "output_type": "stream",
     "text": [
      "\n",
      "Epoch: 43 - loss: 0.188, acc: 0.933:  36%|███▋      | 49152/135000 [00:00<00:00, 219540.90it/s]\u001b[A\n",
      "Epoch: 43 - loss: 0.188, acc: 0.933:  49%|████▊     | 65536/135000 [00:00<00:00, 196713.42it/s]\u001b[A\n",
      "Epoch: 43 - loss: 0.187, acc: 0.933:  61%|██████    | 81920/135000 [00:00<00:00, 182170.56it/s]\u001b[A\n",
      "Epoch: 43 - loss: 0.187, acc: 0.934:  73%|███████▎  | 98304/135000 [00:00<00:00, 175450.02it/s]\u001b[A\n",
      "Epoch: 43 - loss: 0.186, acc: 0.934:  88%|████████▊ | 118784/135000 [00:00<00:00, 173081.93it/s]\u001b[A\n",
      "Epoch: 43 - loss: 0.186, acc: 0.934, val_loss: 0.182, val_acc: 0.936: 100%|██████████| 135000/135000 [00:00<00:00, 158937.17it/s]\u001b[A\n",
      "Training:  88%|████████▊ | 44/50 [00:59<00:07,  1.31s/it]\n",
      "Epoch: 44:   0%|          | 0/135000 [00:00<?, ?it/s]\u001b[A\n",
      "Epoch: 44 - loss: 0.183, acc: 0.935:  18%|█▊        | 24576/135000 [00:00<00:00, 217029.89it/s]\u001b[A"
     ]
    },
    {
     "name": "stdout",
     "output_type": "stream",
     "text": [
      "EPOCH 43 ROC_AUC_SCORE 0.713843457263\n"
     ]
    },
    {
     "name": "stderr",
     "output_type": "stream",
     "text": [
      "\n",
      "Epoch: 44 - loss: 0.185, acc: 0.934:  36%|███▋      | 49152/135000 [00:00<00:00, 220147.90it/s]\u001b[A\n",
      "Epoch: 44 - loss: 0.185, acc: 0.935:  55%|█████▍    | 73728/135000 [00:00<00:00, 224543.38it/s]\u001b[A\n",
      "Epoch: 44 - loss: 0.186, acc: 0.935:  76%|███████▌  | 102400/135000 [00:00<00:00, 234607.24it/s]\u001b[A\n",
      "Epoch: 44 - loss: 0.186, acc: 0.934:  94%|█████████▍| 126976/135000 [00:00<00:00, 235788.02it/s]\u001b[A\n",
      "Epoch: 44 - loss: 0.186, acc: 0.934, val_loss: 0.183, val_acc: 0.935: 100%|██████████| 135000/135000 [00:00<00:00, 175602.69it/s]\u001b[A\n",
      "Training:  90%|█████████ | 45/50 [01:00<00:06,  1.22s/it]\n",
      "Epoch: 45:   0%|          | 0/135000 [00:00<?, ?it/s]\u001b[A\n",
      "Epoch: 45 - loss: 0.180, acc: 0.937:  18%|█▊        | 24576/135000 [00:00<00:00, 227969.15it/s]\u001b[A"
     ]
    },
    {
     "name": "stdout",
     "output_type": "stream",
     "text": [
      "EPOCH 44 ROC_AUC_SCORE 0.678934693794\n"
     ]
    },
    {
     "name": "stderr",
     "output_type": "stream",
     "text": [
      "\n",
      "Epoch: 45 - loss: 0.186, acc: 0.935:  39%|███▉      | 53248/135000 [00:00<00:00, 232291.23it/s]\u001b[A\n",
      "Epoch: 45 - loss: 0.187, acc: 0.935:  58%|█████▊    | 77824/135000 [00:00<00:00, 234996.15it/s]\u001b[A\n",
      "Epoch: 45 - loss: 0.188, acc: 0.935:  76%|███████▌  | 102400/135000 [00:00<00:00, 234443.63it/s]\u001b[A\n",
      "Epoch: 45 - loss: 0.187, acc: 0.936:  97%|█████████▋| 131072/135000 [00:00<00:00, 241925.76it/s]\u001b[A\n",
      "Epoch: 45 - loss: 0.187, acc: 0.935, val_loss: 0.181, val_acc: 0.937: 100%|██████████| 135000/135000 [00:00<00:00, 143589.68it/s]\u001b[A\n",
      "Training:  92%|█████████▏| 46/50 [01:01<00:04,  1.13s/it]\n",
      "Epoch: 46:   0%|          | 0/135000 [00:00<?, ?it/s]\u001b[A\n",
      "Epoch: 46 - loss: 0.192, acc: 0.933:  15%|█▌        | 20480/135000 [00:00<00:00, 204283.44it/s]\u001b[A"
     ]
    },
    {
     "name": "stdout",
     "output_type": "stream",
     "text": [
      "EPOCH 45 ROC_AUC_SCORE 0.739002379255\n"
     ]
    },
    {
     "name": "stderr",
     "output_type": "stream",
     "text": [
      "\n",
      "Epoch: 46 - loss: 0.190, acc: 0.934:  36%|███▋      | 49152/135000 [00:00<00:00, 215904.50it/s]\u001b[A\n",
      "Epoch: 46 - loss: 0.188, acc: 0.935:  52%|█████▏    | 69632/135000 [00:00<00:00, 211409.29it/s]\u001b[A\n",
      "Epoch: 46 - loss: 0.186, acc: 0.935:  73%|███████▎  | 98304/135000 [00:00<00:00, 224803.22it/s]\u001b[A\n",
      "Epoch: 46 - loss: 0.185, acc: 0.936:  94%|█████████▍| 126976/135000 [00:00<00:00, 232389.56it/s]\u001b[A\n",
      "Epoch: 46 - loss: 0.185, acc: 0.936, val_loss: 0.181, val_acc: 0.936: 100%|██████████| 135000/135000 [00:00<00:00, 164732.80it/s]\u001b[A\n",
      "Training:  94%|█████████▍| 47/50 [01:02<00:03,  1.08s/it]\n",
      "Epoch: 47:   0%|          | 0/135000 [00:00<?, ?it/s]\u001b[A\n",
      "Epoch: 47 - loss: 0.185, acc: 0.934:  12%|█▏        | 16384/135000 [00:00<00:00, 162309.66it/s]\u001b[A"
     ]
    },
    {
     "name": "stdout",
     "output_type": "stream",
     "text": [
      "EPOCH 46 ROC_AUC_SCORE 0.726539196708\n"
     ]
    },
    {
     "name": "stderr",
     "output_type": "stream",
     "text": [
      "\n",
      "Epoch: 47 - loss: 0.184, acc: 0.935:  24%|██▍       | 32768/135000 [00:00<00:00, 156645.37it/s]\u001b[A\n",
      "Epoch: 47 - loss: 0.186, acc: 0.934:  39%|███▉      | 53248/135000 [00:00<00:00, 165340.66it/s]\u001b[A\n",
      "Epoch: 47 - loss: 0.185, acc: 0.935:  52%|█████▏    | 69632/135000 [00:00<00:00, 160666.43it/s]\u001b[A\n",
      "Epoch: 47 - loss: 0.184, acc: 0.935:  64%|██████▎   | 86016/135000 [00:00<00:00, 159350.16it/s]\u001b[A\n",
      "Epoch: 47 - loss: 0.184, acc: 0.935:  76%|███████▌  | 102400/135000 [00:00<00:00, 158728.85it/s]\u001b[A\n",
      "Epoch: 47 - loss: 0.184, acc: 0.935:  91%|█████████ | 122880/135000 [00:00<00:00, 162033.78it/s]\u001b[A\n",
      "Epoch: 47 - loss: 0.185, acc: 0.935, val_loss: 0.181, val_acc: 0.935: 100%|██████████| 135000/135000 [00:00<00:00, 163350.82it/s]\u001b[A\n",
      "Training:  96%|█████████▌| 48/50 [01:03<00:02,  1.18s/it]\n",
      "Epoch: 48:   0%|          | 0/135000 [00:00<?, ?it/s]\u001b[A\n",
      "Epoch: 48 - loss: 0.183, acc: 0.935:  15%|█▌        | 20480/135000 [00:00<00:00, 197137.57it/s]\u001b[A"
     ]
    },
    {
     "name": "stdout",
     "output_type": "stream",
     "text": [
      "EPOCH 47 ROC_AUC_SCORE 0.719292132046\n"
     ]
    },
    {
     "name": "stderr",
     "output_type": "stream",
     "text": [
      "\n",
      "Epoch: 48 - loss: 0.185, acc: 0.935:  30%|███       | 40960/135000 [00:00<00:00, 186132.58it/s]\u001b[A\n",
      "Epoch: 48 - loss: 0.185, acc: 0.934:  42%|████▏     | 57344/135000 [00:00<00:00, 175791.05it/s]\u001b[A\n",
      "Epoch: 48 - loss: 0.186, acc: 0.934:  55%|█████▍    | 73728/135000 [00:00<00:00, 168219.50it/s]\u001b[A\n",
      "Epoch: 48 - loss: 0.186, acc: 0.934:  70%|██████▉   | 94208/135000 [00:00<00:00, 164420.95it/s]\u001b[A\n",
      "Epoch: 48 - loss: 0.185, acc: 0.935:  82%|████████▏ | 110592/135000 [00:00<00:00, 162332.48it/s]\u001b[A\n",
      "Epoch: 48 - loss: 0.184, acc: 0.935:  94%|█████████▍| 126976/135000 [00:00<00:00, 157827.72it/s]\u001b[A\n",
      "Epoch: 48 - loss: 0.184, acc: 0.935, val_loss: 0.180, val_acc: 0.936: 100%|██████████| 135000/135000 [00:00<00:00, 129300.19it/s]\u001b[A\n",
      "Training:  98%|█████████▊| 49/50 [01:04<00:01,  1.19s/it]\n",
      "Epoch: 49:   0%|          | 0/135000 [00:00<?, ?it/s]\u001b[A\n",
      "Epoch: 49 - loss: 0.185, acc: 0.935:  12%|█▏        | 16384/135000 [00:00<00:00, 156981.59it/s]\u001b[A"
     ]
    },
    {
     "name": "stdout",
     "output_type": "stream",
     "text": [
      "EPOCH 48 ROC_AUC_SCORE 0.721822147694\n"
     ]
    },
    {
     "name": "stderr",
     "output_type": "stream",
     "text": [
      "\n",
      "Epoch: 49 - loss: 0.189, acc: 0.934:  24%|██▍       | 32768/135000 [00:00<00:00, 154763.52it/s]\u001b[A\n",
      "Epoch: 49 - loss: 0.189, acc: 0.935:  39%|███▉      | 53248/135000 [00:00<00:00, 162023.83it/s]\u001b[A\n",
      "Epoch: 49 - loss: 0.187, acc: 0.935:  52%|█████▏    | 69632/135000 [00:00<00:00, 158113.08it/s]\u001b[A\n",
      "Epoch: 49 - loss: 0.188, acc: 0.935:  64%|██████▎   | 86016/135000 [00:00<00:00, 158171.20it/s]\u001b[A\n",
      "Epoch: 49 - loss: 0.188, acc: 0.934:  82%|████████▏ | 110592/135000 [00:00<00:00, 173030.04it/s]\u001b[A\n",
      "Epoch: 49 - loss: 0.188, acc: 0.935:  94%|█████████▍| 126976/135000 [00:00<00:00, 161813.65it/s]\u001b[A\n",
      "Epoch: 49 - loss: 0.187, acc: 0.935, val_loss: 0.186, val_acc: 0.936: 100%|██████████| 135000/135000 [00:00<00:00, 135067.71it/s]\u001b[A\n",
      "                                                         "
     ]
    },
    {
     "name": "stdout",
     "output_type": "stream",
     "text": [
      "EPOCH 49 ROC_AUC_SCORE 0.748504987315\n"
     ]
    },
    {
     "name": "stderr",
     "output_type": "stream",
     "text": [
      "\r"
     ]
    },
    {
     "name": "stdout",
     "output_type": "stream",
     "text": [
      "ROC_AUC_SCORE: 0.75 - [Keras MLP]\n"
     ]
    }
   ],
   "source": [
    "from keras.models import Sequential\n",
    "from keras.layers import Dense, Dropout\n",
    "from sklearn.metrics import roc_auc_score\n",
    "from keras_tqdm import TQDMCallback\n",
    "from keras.callbacks import EarlyStopping, LambdaCallback\n",
    "\n",
    "def roc_callback(epochs, logs):\n",
    "    try:\n",
    "        score = roc_auc_score(model.predict_classes(x_test_f), y_test_f)\n",
    "        \n",
    "        if score > 0.80:\n",
    "            model.save('credit_scoring_3_spc.h5')\n",
    "        \n",
    "        print 'EPOCH %s ROC_AUC_SCORE %s' % (epochs, score)\n",
    "    except ValueError:\n",
    "        print 'ROC_AUC_SCORE is 0, only one class present in the predictions'\n",
    "\n",
    "batch_size = 4096\n",
    "early = EarlyStopping(monitor='loss', min_delta=0, patience=10, verbose=1, mode='auto')\n",
    "roc_scoring = LambdaCallback(on_epoch_end=lambda epochs, logs: roc_callback(epochs, logs))\n",
    "progress = TQDMCallback(leave_outer=False)\n",
    "\n",
    "model = Sequential()\n",
    "model.add(Dense(80, activation='tanh', input_shape=(80,)))\n",
    "model.add(Dense(70, activation='tanh'))\n",
    "model.add(Dense(60, activation='tanh'))\n",
    "model.add(Dense(50, activation='tanh'))\n",
    "model.add(Dense(40, activation='tanh'))\n",
    "model.add(Dense(20, activation='tanh'))\n",
    "model.add(Dense(10, activation='tanh'))\n",
    "model.add(Dense(1, activation='sigmoid'))\n",
    "\n",
    "# try using different optimizers and different optimizer configs\n",
    "model.compile(loss='binary_crossentropy',\n",
    "              optimizer='adam',\n",
    "              metrics=['accuracy'])\n",
    "\n",
    "model.fit(x_train_f, y_train_f,\n",
    "          batch_size=batch_size,\n",
    "          epochs=50, verbose=0,\n",
    "          validation_data=(x_test_f, y_test_f),\n",
    "          callbacks = [early, progress, roc_scoring])\n",
    "\n",
    "model.save('credit_scoring_3.h5')\n",
    "\n",
    "y_pred = model.predict_classes(x_test_f)\n",
    "\n",
    "print(\"%s: %0.2f - [%s]\" % (roc_auc_score.__name__.upper(), roc_auc_score(y_pred, y_test_f), 'Keras MLP'))"
   ]
  },
  {
   "cell_type": "code",
   "execution_count": 11,
   "metadata": {
    "collapsed": false,
    "deletable": true,
    "editable": true
   },
   "outputs": [
    {
     "data": {
      "image/svg+xml": [
       "<svg height=\"719pt\" viewBox=\"0.00 0.00 316.00 719.00\" width=\"316pt\" xmlns=\"http://www.w3.org/2000/svg\" xmlns:xlink=\"http://www.w3.org/1999/xlink\">\n",
       "<g class=\"graph\" id=\"graph0\" transform=\"scale(1 1) rotate(0) translate(4 715)\">\n",
       "<title>G</title>\n",
       "<polygon fill=\"white\" points=\"-4,4 -4,-715 312,-715 312,4 -4,4\" stroke=\"none\"/>\n",
       "<!-- 140474828482960 -->\n",
       "<g class=\"node\" id=\"node1\"><title>140474828482960</title>\n",
       "<polygon fill=\"none\" points=\"7,-664.5 7,-710.5 301,-710.5 301,-664.5 7,-664.5\" stroke=\"black\"/>\n",
       "<text font-family=\"Times,serif\" font-size=\"14.00\" text-anchor=\"middle\" x=\"88.5\" y=\"-683.8\">sigmoid_input: InputLayer</text>\n",
       "<polyline fill=\"none\" points=\"170,-664.5 170,-710.5 \" stroke=\"black\"/>\n",
       "<text font-family=\"Times,serif\" font-size=\"14.00\" text-anchor=\"middle\" x=\"197.5\" y=\"-695.3\">input:</text>\n",
       "<polyline fill=\"none\" points=\"170,-687.5 225,-687.5 \" stroke=\"black\"/>\n",
       "<text font-family=\"Times,serif\" font-size=\"14.00\" text-anchor=\"middle\" x=\"197.5\" y=\"-672.3\">output:</text>\n",
       "<polyline fill=\"none\" points=\"225,-664.5 225,-710.5 \" stroke=\"black\"/>\n",
       "<text font-family=\"Times,serif\" font-size=\"14.00\" text-anchor=\"middle\" x=\"263\" y=\"-695.3\">(None, 80)</text>\n",
       "<polyline fill=\"none\" points=\"225,-687.5 301,-687.5 \" stroke=\"black\"/>\n",
       "<text font-family=\"Times,serif\" font-size=\"14.00\" text-anchor=\"middle\" x=\"263\" y=\"-672.3\">(None, 80)</text>\n",
       "</g>\n",
       "<!-- 140474828482896 -->\n",
       "<g class=\"node\" id=\"node2\"><title>140474828482896</title>\n",
       "<polygon fill=\"none\" points=\"37.5,-581.5 37.5,-627.5 270.5,-627.5 270.5,-581.5 37.5,-581.5\" stroke=\"black\"/>\n",
       "<text font-family=\"Times,serif\" font-size=\"14.00\" text-anchor=\"middle\" x=\"88.5\" y=\"-600.8\">sigmoid: Dense</text>\n",
       "<polyline fill=\"none\" points=\"139.5,-581.5 139.5,-627.5 \" stroke=\"black\"/>\n",
       "<text font-family=\"Times,serif\" font-size=\"14.00\" text-anchor=\"middle\" x=\"167\" y=\"-612.3\">input:</text>\n",
       "<polyline fill=\"none\" points=\"139.5,-604.5 194.5,-604.5 \" stroke=\"black\"/>\n",
       "<text font-family=\"Times,serif\" font-size=\"14.00\" text-anchor=\"middle\" x=\"167\" y=\"-589.3\">output:</text>\n",
       "<polyline fill=\"none\" points=\"194.5,-581.5 194.5,-627.5 \" stroke=\"black\"/>\n",
       "<text font-family=\"Times,serif\" font-size=\"14.00\" text-anchor=\"middle\" x=\"232.5\" y=\"-612.3\">(None, 80)</text>\n",
       "<polyline fill=\"none\" points=\"194.5,-604.5 270.5,-604.5 \" stroke=\"black\"/>\n",
       "<text font-family=\"Times,serif\" font-size=\"14.00\" text-anchor=\"middle\" x=\"232.5\" y=\"-589.3\">(None, 80)</text>\n",
       "</g>\n",
       "<!-- 140474828482960&#45;&gt;140474828482896 -->\n",
       "<g class=\"edge\" id=\"edge1\"><title>140474828482960-&gt;140474828482896</title>\n",
       "<path d=\"M154,-664.366C154,-656.152 154,-646.658 154,-637.725\" fill=\"none\" stroke=\"black\"/>\n",
       "<polygon fill=\"black\" points=\"157.5,-637.607 154,-627.607 150.5,-637.607 157.5,-637.607\" stroke=\"black\"/>\n",
       "</g>\n",
       "<!-- 140474828481360 -->\n",
       "<g class=\"node\" id=\"node3\"><title>140474828481360</title>\n",
       "<polygon fill=\"none\" points=\"19.5,-498.5 19.5,-544.5 288.5,-544.5 288.5,-498.5 19.5,-498.5\" stroke=\"black\"/>\n",
       "<text font-family=\"Times,serif\" font-size=\"14.00\" text-anchor=\"middle\" x=\"88.5\" y=\"-517.8\">tanh_hidden_1: Dense</text>\n",
       "<polyline fill=\"none\" points=\"157.5,-498.5 157.5,-544.5 \" stroke=\"black\"/>\n",
       "<text font-family=\"Times,serif\" font-size=\"14.00\" text-anchor=\"middle\" x=\"185\" y=\"-529.3\">input:</text>\n",
       "<polyline fill=\"none\" points=\"157.5,-521.5 212.5,-521.5 \" stroke=\"black\"/>\n",
       "<text font-family=\"Times,serif\" font-size=\"14.00\" text-anchor=\"middle\" x=\"185\" y=\"-506.3\">output:</text>\n",
       "<polyline fill=\"none\" points=\"212.5,-498.5 212.5,-544.5 \" stroke=\"black\"/>\n",
       "<text font-family=\"Times,serif\" font-size=\"14.00\" text-anchor=\"middle\" x=\"250.5\" y=\"-529.3\">(None, 80)</text>\n",
       "<polyline fill=\"none\" points=\"212.5,-521.5 288.5,-521.5 \" stroke=\"black\"/>\n",
       "<text font-family=\"Times,serif\" font-size=\"14.00\" text-anchor=\"middle\" x=\"250.5\" y=\"-506.3\">(None, 70)</text>\n",
       "</g>\n",
       "<!-- 140474828482896&#45;&gt;140474828481360 -->\n",
       "<g class=\"edge\" id=\"edge2\"><title>140474828482896-&gt;140474828481360</title>\n",
       "<path d=\"M154,-581.366C154,-573.152 154,-563.658 154,-554.725\" fill=\"none\" stroke=\"black\"/>\n",
       "<polygon fill=\"black\" points=\"157.5,-554.607 154,-544.607 150.5,-554.607 157.5,-554.607\" stroke=\"black\"/>\n",
       "</g>\n",
       "<!-- 140473192725648 -->\n",
       "<g class=\"node\" id=\"node4\"><title>140473192725648</title>\n",
       "<polygon fill=\"none\" points=\"19.5,-415.5 19.5,-461.5 288.5,-461.5 288.5,-415.5 19.5,-415.5\" stroke=\"black\"/>\n",
       "<text font-family=\"Times,serif\" font-size=\"14.00\" text-anchor=\"middle\" x=\"88.5\" y=\"-434.8\">tanh_hidden_2: Dense</text>\n",
       "<polyline fill=\"none\" points=\"157.5,-415.5 157.5,-461.5 \" stroke=\"black\"/>\n",
       "<text font-family=\"Times,serif\" font-size=\"14.00\" text-anchor=\"middle\" x=\"185\" y=\"-446.3\">input:</text>\n",
       "<polyline fill=\"none\" points=\"157.5,-438.5 212.5,-438.5 \" stroke=\"black\"/>\n",
       "<text font-family=\"Times,serif\" font-size=\"14.00\" text-anchor=\"middle\" x=\"185\" y=\"-423.3\">output:</text>\n",
       "<polyline fill=\"none\" points=\"212.5,-415.5 212.5,-461.5 \" stroke=\"black\"/>\n",
       "<text font-family=\"Times,serif\" font-size=\"14.00\" text-anchor=\"middle\" x=\"250.5\" y=\"-446.3\">(None, 70)</text>\n",
       "<polyline fill=\"none\" points=\"212.5,-438.5 288.5,-438.5 \" stroke=\"black\"/>\n",
       "<text font-family=\"Times,serif\" font-size=\"14.00\" text-anchor=\"middle\" x=\"250.5\" y=\"-423.3\">(None, 60)</text>\n",
       "</g>\n",
       "<!-- 140474828481360&#45;&gt;140473192725648 -->\n",
       "<g class=\"edge\" id=\"edge3\"><title>140474828481360-&gt;140473192725648</title>\n",
       "<path d=\"M154,-498.366C154,-490.152 154,-480.658 154,-471.725\" fill=\"none\" stroke=\"black\"/>\n",
       "<polygon fill=\"black\" points=\"157.5,-471.607 154,-461.607 150.5,-471.607 157.5,-471.607\" stroke=\"black\"/>\n",
       "</g>\n",
       "<!-- 140473193065040 -->\n",
       "<g class=\"node\" id=\"node5\"><title>140473193065040</title>\n",
       "<polygon fill=\"none\" points=\"19.5,-332.5 19.5,-378.5 288.5,-378.5 288.5,-332.5 19.5,-332.5\" stroke=\"black\"/>\n",
       "<text font-family=\"Times,serif\" font-size=\"14.00\" text-anchor=\"middle\" x=\"88.5\" y=\"-351.8\">tanh_hidden_3: Dense</text>\n",
       "<polyline fill=\"none\" points=\"157.5,-332.5 157.5,-378.5 \" stroke=\"black\"/>\n",
       "<text font-family=\"Times,serif\" font-size=\"14.00\" text-anchor=\"middle\" x=\"185\" y=\"-363.3\">input:</text>\n",
       "<polyline fill=\"none\" points=\"157.5,-355.5 212.5,-355.5 \" stroke=\"black\"/>\n",
       "<text font-family=\"Times,serif\" font-size=\"14.00\" text-anchor=\"middle\" x=\"185\" y=\"-340.3\">output:</text>\n",
       "<polyline fill=\"none\" points=\"212.5,-332.5 212.5,-378.5 \" stroke=\"black\"/>\n",
       "<text font-family=\"Times,serif\" font-size=\"14.00\" text-anchor=\"middle\" x=\"250.5\" y=\"-363.3\">(None, 60)</text>\n",
       "<polyline fill=\"none\" points=\"212.5,-355.5 288.5,-355.5 \" stroke=\"black\"/>\n",
       "<text font-family=\"Times,serif\" font-size=\"14.00\" text-anchor=\"middle\" x=\"250.5\" y=\"-340.3\">(None, 50)</text>\n",
       "</g>\n",
       "<!-- 140473192725648&#45;&gt;140473193065040 -->\n",
       "<g class=\"edge\" id=\"edge4\"><title>140473192725648-&gt;140473193065040</title>\n",
       "<path d=\"M154,-415.366C154,-407.152 154,-397.658 154,-388.725\" fill=\"none\" stroke=\"black\"/>\n",
       "<polygon fill=\"black\" points=\"157.5,-388.607 154,-378.607 150.5,-388.607 157.5,-388.607\" stroke=\"black\"/>\n",
       "</g>\n",
       "<!-- 140473190979408 -->\n",
       "<g class=\"node\" id=\"node6\"><title>140473190979408</title>\n",
       "<polygon fill=\"none\" points=\"19.5,-249.5 19.5,-295.5 288.5,-295.5 288.5,-249.5 19.5,-249.5\" stroke=\"black\"/>\n",
       "<text font-family=\"Times,serif\" font-size=\"14.00\" text-anchor=\"middle\" x=\"88.5\" y=\"-268.8\">tanh_hidden_4: Dense</text>\n",
       "<polyline fill=\"none\" points=\"157.5,-249.5 157.5,-295.5 \" stroke=\"black\"/>\n",
       "<text font-family=\"Times,serif\" font-size=\"14.00\" text-anchor=\"middle\" x=\"185\" y=\"-280.3\">input:</text>\n",
       "<polyline fill=\"none\" points=\"157.5,-272.5 212.5,-272.5 \" stroke=\"black\"/>\n",
       "<text font-family=\"Times,serif\" font-size=\"14.00\" text-anchor=\"middle\" x=\"185\" y=\"-257.3\">output:</text>\n",
       "<polyline fill=\"none\" points=\"212.5,-249.5 212.5,-295.5 \" stroke=\"black\"/>\n",
       "<text font-family=\"Times,serif\" font-size=\"14.00\" text-anchor=\"middle\" x=\"250.5\" y=\"-280.3\">(None, 50)</text>\n",
       "<polyline fill=\"none\" points=\"212.5,-272.5 288.5,-272.5 \" stroke=\"black\"/>\n",
       "<text font-family=\"Times,serif\" font-size=\"14.00\" text-anchor=\"middle\" x=\"250.5\" y=\"-257.3\">(None, 40)</text>\n",
       "</g>\n",
       "<!-- 140473193065040&#45;&gt;140473190979408 -->\n",
       "<g class=\"edge\" id=\"edge5\"><title>140473193065040-&gt;140473190979408</title>\n",
       "<path d=\"M154,-332.366C154,-324.152 154,-314.658 154,-305.725\" fill=\"none\" stroke=\"black\"/>\n",
       "<polygon fill=\"black\" points=\"157.5,-305.607 154,-295.607 150.5,-305.607 157.5,-305.607\" stroke=\"black\"/>\n",
       "</g>\n",
       "<!-- 140473185476112 -->\n",
       "<g class=\"node\" id=\"node7\"><title>140473185476112</title>\n",
       "<polygon fill=\"none\" points=\"19.5,-166.5 19.5,-212.5 288.5,-212.5 288.5,-166.5 19.5,-166.5\" stroke=\"black\"/>\n",
       "<text font-family=\"Times,serif\" font-size=\"14.00\" text-anchor=\"middle\" x=\"88.5\" y=\"-185.8\">tanh_hidden_5: Dense</text>\n",
       "<polyline fill=\"none\" points=\"157.5,-166.5 157.5,-212.5 \" stroke=\"black\"/>\n",
       "<text font-family=\"Times,serif\" font-size=\"14.00\" text-anchor=\"middle\" x=\"185\" y=\"-197.3\">input:</text>\n",
       "<polyline fill=\"none\" points=\"157.5,-189.5 212.5,-189.5 \" stroke=\"black\"/>\n",
       "<text font-family=\"Times,serif\" font-size=\"14.00\" text-anchor=\"middle\" x=\"185\" y=\"-174.3\">output:</text>\n",
       "<polyline fill=\"none\" points=\"212.5,-166.5 212.5,-212.5 \" stroke=\"black\"/>\n",
       "<text font-family=\"Times,serif\" font-size=\"14.00\" text-anchor=\"middle\" x=\"250.5\" y=\"-197.3\">(None, 40)</text>\n",
       "<polyline fill=\"none\" points=\"212.5,-189.5 288.5,-189.5 \" stroke=\"black\"/>\n",
       "<text font-family=\"Times,serif\" font-size=\"14.00\" text-anchor=\"middle\" x=\"250.5\" y=\"-174.3\">(None, 20)</text>\n",
       "</g>\n",
       "<!-- 140473190979408&#45;&gt;140473185476112 -->\n",
       "<g class=\"edge\" id=\"edge6\"><title>140473190979408-&gt;140473185476112</title>\n",
       "<path d=\"M154,-249.366C154,-241.152 154,-231.658 154,-222.725\" fill=\"none\" stroke=\"black\"/>\n",
       "<polygon fill=\"black\" points=\"157.5,-222.607 154,-212.607 150.5,-222.607 157.5,-222.607\" stroke=\"black\"/>\n",
       "</g>\n",
       "<!-- 140473185618320 -->\n",
       "<g class=\"node\" id=\"node8\"><title>140473185618320</title>\n",
       "<polygon fill=\"none\" points=\"19.5,-83.5 19.5,-129.5 288.5,-129.5 288.5,-83.5 19.5,-83.5\" stroke=\"black\"/>\n",
       "<text font-family=\"Times,serif\" font-size=\"14.00\" text-anchor=\"middle\" x=\"88.5\" y=\"-102.8\">tanh_hidden_6: Dense</text>\n",
       "<polyline fill=\"none\" points=\"157.5,-83.5 157.5,-129.5 \" stroke=\"black\"/>\n",
       "<text font-family=\"Times,serif\" font-size=\"14.00\" text-anchor=\"middle\" x=\"185\" y=\"-114.3\">input:</text>\n",
       "<polyline fill=\"none\" points=\"157.5,-106.5 212.5,-106.5 \" stroke=\"black\"/>\n",
       "<text font-family=\"Times,serif\" font-size=\"14.00\" text-anchor=\"middle\" x=\"185\" y=\"-91.3\">output:</text>\n",
       "<polyline fill=\"none\" points=\"212.5,-83.5 212.5,-129.5 \" stroke=\"black\"/>\n",
       "<text font-family=\"Times,serif\" font-size=\"14.00\" text-anchor=\"middle\" x=\"250.5\" y=\"-114.3\">(None, 20)</text>\n",
       "<polyline fill=\"none\" points=\"212.5,-106.5 288.5,-106.5 \" stroke=\"black\"/>\n",
       "<text font-family=\"Times,serif\" font-size=\"14.00\" text-anchor=\"middle\" x=\"250.5\" y=\"-91.3\">(None, 10)</text>\n",
       "</g>\n",
       "<!-- 140473185476112&#45;&gt;140473185618320 -->\n",
       "<g class=\"edge\" id=\"edge7\"><title>140473185476112-&gt;140473185618320</title>\n",
       "<path d=\"M154,-166.366C154,-158.152 154,-148.658 154,-139.725\" fill=\"none\" stroke=\"black\"/>\n",
       "<polygon fill=\"black\" points=\"157.5,-139.607 154,-129.607 150.5,-139.607 157.5,-139.607\" stroke=\"black\"/>\n",
       "</g>\n",
       "<!-- 140473190343568 -->\n",
       "<g class=\"node\" id=\"node9\"><title>140473190343568</title>\n",
       "<polygon fill=\"none\" points=\"0,-0.5 0,-46.5 308,-46.5 308,-0.5 0,-0.5\" stroke=\"black\"/>\n",
       "<text font-family=\"Times,serif\" font-size=\"14.00\" text-anchor=\"middle\" x=\"88.5\" y=\"-19.8\">sigmoid_output_layer: Dense</text>\n",
       "<polyline fill=\"none\" points=\"177,-0.5 177,-46.5 \" stroke=\"black\"/>\n",
       "<text font-family=\"Times,serif\" font-size=\"14.00\" text-anchor=\"middle\" x=\"204.5\" y=\"-31.3\">input:</text>\n",
       "<polyline fill=\"none\" points=\"177,-23.5 232,-23.5 \" stroke=\"black\"/>\n",
       "<text font-family=\"Times,serif\" font-size=\"14.00\" text-anchor=\"middle\" x=\"204.5\" y=\"-8.3\">output:</text>\n",
       "<polyline fill=\"none\" points=\"232,-0.5 232,-46.5 \" stroke=\"black\"/>\n",
       "<text font-family=\"Times,serif\" font-size=\"14.00\" text-anchor=\"middle\" x=\"270\" y=\"-31.3\">(None, 10)</text>\n",
       "<polyline fill=\"none\" points=\"232,-23.5 308,-23.5 \" stroke=\"black\"/>\n",
       "<text font-family=\"Times,serif\" font-size=\"14.00\" text-anchor=\"middle\" x=\"270\" y=\"-8.3\">(None, 1)</text>\n",
       "</g>\n",
       "<!-- 140473185618320&#45;&gt;140473190343568 -->\n",
       "<g class=\"edge\" id=\"edge8\"><title>140473185618320-&gt;140473190343568</title>\n",
       "<path d=\"M154,-83.3664C154,-75.1516 154,-65.6579 154,-56.7252\" fill=\"none\" stroke=\"black\"/>\n",
       "<polygon fill=\"black\" points=\"157.5,-56.6068 154,-46.6068 150.5,-56.6069 157.5,-56.6068\" stroke=\"black\"/>\n",
       "</g>\n",
       "</g>\n",
       "</svg>"
      ],
      "text/plain": [
       "<IPython.core.display.SVG object>"
      ]
     },
     "execution_count": 11,
     "metadata": {},
     "output_type": "execute_result"
    }
   ],
   "source": [
    "from keras.models import Sequential\n",
    "from keras.layers import Dense, Dropout\n",
    "from IPython.display import SVG\n",
    "from keras.utils import plot_model\n",
    "from keras.utils.vis_utils import model_to_dot\n",
    "\n",
    "# Just drawing the final model\n",
    "model = Sequential()\n",
    "model.add(Dense(80, activation='sigmoid', input_shape=(80,), name='sigmoid'))\n",
    "model.add(Dense(70, activation='tanh', name='tanh_hidden_1'))\n",
    "model.add(Dense(60, activation='tanh', name='tanh_hidden_2'))\n",
    "model.add(Dense(50, activation='tanh', name='tanh_hidden_3'))\n",
    "model.add(Dense(40, activation='tanh', name='tanh_hidden_4'))\n",
    "model.add(Dense(20, activation='tanh', name='tanh_hidden_5'))\n",
    "model.add(Dense(10, activation='tanh', name='tanh_hidden_6'))\n",
    "model.add(Dense(1, activation='sigmoid', name='sigmoid_output_layer'))\n",
    "\n",
    "plot_model(model, show_shapes=True, to_file='model.png')\n",
    "SVG(model_to_dot(model, show_shapes=True).create(prog='dot', format='svg'))"
   ]
  },
  {
   "cell_type": "code",
   "execution_count": 13,
   "metadata": {
    "collapsed": true,
    "deletable": true,
    "editable": true
   },
   "outputs": [],
   "source": [
    "# We have both models saved, so we'll load and submit both.\n",
    "from keras.models import load_model\n",
    "import pandas as pd\n",
    "\n",
    "fully_trained = load_model('credit_scoring_3.h5')\n",
    "\n",
    "submission_set = build_submission_keras(fully_trained)\n",
    "submission_set.to_csv(utils.os.path.join(utils.DIR, 'dataset', 'submission_last.csv'),\n",
    "                      index=False, \n",
    "                      columns=['Id', 'Probability'])\n",
    "\n",
    "special_model = load_model('credit_scoring_3_spc.h5')\n",
    "\n",
    "submission_set = build_submission_keras(special_model)\n",
    "submission_set.to_csv(utils.os.path.join(utils.DIR, 'dataset', 'submission_last_spc.csv'),\n",
    "                      index=False, \n",
    "                      columns=['Id', 'Probability'])"
   ]
  },
  {
   "cell_type": "markdown",
   "metadata": {
    "deletable": true,
    "editable": true
   },
   "source": [
    "Both results:\n",
    "\n",
    "** The fully trained model submission result **:\n",
    "\n",
    "![](images/best_score_ann.png)\n",
    "\n",
    "** The trained model with roc_auc > 0.80 in the test set submission result **:\n",
    "\n",
    "![](images/special_submission.png)\n",
    "\n",
    "It's hard to evaluate the network perfomance since the loss functions are calculated in a way that it's not optimized for this kind of problem.\n",
    "\n",
    "And it's also hard to evaluate the accuracy without the roc_auc, and without a proper validation and test set.\n",
    "\n",
    "The BOOSTING models were a lot better.\n",
    "\n",
    "But I've decided to check a NN based approach, since deep neural networks are now a trend."
   ]
  },
  {
   "cell_type": "markdown",
   "metadata": {
    "deletable": true,
    "editable": true
   },
   "source": [
    "## Checkpoint\n",
    "\n",
    "Let's try the boosting classifier"
   ]
  },
  {
   "cell_type": "code",
   "execution_count": 8,
   "metadata": {
    "collapsed": false,
    "deletable": true,
    "editable": true
   },
   "outputs": [
    {
     "name": "stdout",
     "output_type": "stream",
     "text": [
      "Dataset splitted from: \n",
      "\tx=(150000, 80), y=(150000,)\n",
      "To: \n",
      "Train Set\n",
      "\tx=(120000, 80), y=(120000,)\n",
      "Test Set\n",
      "\tx=(30000, 80), y=(30000,)\n"
     ]
    }
   ],
   "source": [
    "import utils\n",
    "features_set = utils.load_features_set()\n",
    "y = features_set['SeriousDlqin2yrs'].as_matrix()\n",
    "x = features_set.drop(['SeriousDlqin2yrs'], axis=1).as_matrix()\n",
    "x_train_f, x_test_f, y_train_f, y_test_f = utils.split_dataset(x, y, portion=0.20)"
   ]
  },
  {
   "cell_type": "code",
   "execution_count": 9,
   "metadata": {
    "collapsed": true,
    "deletable": true,
    "editable": true
   },
   "outputs": [],
   "source": [
    "def build_submission_skl(classifier):\n",
    "    submission_feature_set = utils.load_test_feature_set()\n",
    "    submission_feature_set = submission_feature_set.drop(['SeriousDlqin2yrs'], axis=1)\n",
    "    x = submission_feature_set.as_matrix()\n",
    "\n",
    "    y_predicts = classifier.predict(x)\n",
    "    y_probs = classifier.predict_proba(x)\n",
    "    \n",
    "    submission_set = utils.load_test_set()\n",
    "    submission_set .SeriousDlqin2yrs = y_predicts\n",
    "    submission_set ['Probability'] = y_probs[:,:1]\n",
    "    \n",
    "    return submission_set"
   ]
  },
  {
   "cell_type": "code",
   "execution_count": 6,
   "metadata": {
    "collapsed": false,
    "deletable": true,
    "editable": true
   },
   "outputs": [],
   "source": [
    "from sklearn.ensemble import GradientBoostingClassifier\n",
    "from sklearn.metrics import roc_auc_score\n",
    "\n",
    "gb_clf = GradientBoostingClassifier()\n",
    "\n",
    "gb_clf.fit(x_train_f, y_train_f)\n",
    "\n",
    "#y_predicts = gb_clf.predict(x[:10])\n",
    "#y_probs = gb_clf.predict_proba(x[:10])\n",
    "\n",
    "submission_set = build_submission_skl(gb_clf)\n",
    "submission_set.to_csv(utils.os.path.join(utils.DIR, 'dataset', 'submission_gb.csv'),\n",
    "                      index=False, \n",
    "                      columns=['Id', 'Probability'])"
   ]
  },
  {
   "cell_type": "markdown",
   "metadata": {
    "collapsed": true,
    "deletable": true,
    "editable": true
   },
   "source": [
    "** The simple GradientBoostingClassifier without optimization got .86 **:\n",
    "\n",
    "![](images/gb_submission.png)"
   ]
  },
  {
   "cell_type": "code",
   "execution_count": 15,
   "metadata": {
    "collapsed": false,
    "deletable": true,
    "editable": true
   },
   "outputs": [
    {
     "name": "stdout",
     "output_type": "stream",
     "text": [
      "Fitting 10 folds for each of 12 candidates, totalling 120 fits\n",
      "[CV] max_features=log2, min_samples_split=2, n_estimators=200 ........\n",
      "[CV] max_features=log2, min_samples_split=2, n_estimators=200 ........\n",
      "[CV]  max_features=log2, min_samples_split=2, n_estimators=200, score=0.599307 -  14.9s\n",
      "[CV] max_features=log2, min_samples_split=2, n_estimators=200 ........\n",
      "[CV]  max_features=log2, min_samples_split=2, n_estimators=200, score=0.593204 -  15.0s\n",
      "[CV] max_features=log2, min_samples_split=2, n_estimators=200 ........\n",
      "[CV]  max_features=log2, min_samples_split=2, n_estimators=200, score=0.583706 -  15.2s\n",
      "[CV] max_features=log2, min_samples_split=2, n_estimators=200 ........\n",
      "[CV]  max_features=log2, min_samples_split=2, n_estimators=200, score=0.601291 -  15.2s\n",
      "[CV] max_features=log2, min_samples_split=2, n_estimators=200 ........\n",
      "[CV]  max_features=log2, min_samples_split=2, n_estimators=200, score=0.593238 -  14.6s\n",
      "[CV] max_features=log2, min_samples_split=2, n_estimators=200 ........\n",
      "[CV]  max_features=log2, min_samples_split=2, n_estimators=200, score=0.599549 -  14.5s\n",
      "[CV] max_features=log2, min_samples_split=2, n_estimators=200 ........\n",
      "[CV]  max_features=log2, min_samples_split=2, n_estimators=200, score=0.596346 -  14.4s\n",
      "[CV] max_features=log2, min_samples_split=2, n_estimators=200 ........\n",
      "[CV]  max_features=log2, min_samples_split=2, n_estimators=200, score=0.595042 -  14.5s\n",
      "[CV] max_features=log2, min_samples_split=2, n_estimators=200 ........\n",
      "[CV]  max_features=log2, min_samples_split=2, n_estimators=200, score=0.593795 -  14.9s\n",
      "[CV] max_features=log2, min_samples_split=2, n_estimators=300 ........\n"
     ]
    },
    {
     "name": "stderr",
     "output_type": "stream",
     "text": [
      "[Parallel(n_jobs=2)]: Done   9 tasks      | elapsed:  1.2min\n"
     ]
    },
    {
     "name": "stdout",
     "output_type": "stream",
     "text": [
      "[CV]  max_features=log2, min_samples_split=2, n_estimators=200, score=0.588104 -  15.0s\n",
      "[CV] max_features=log2, min_samples_split=2, n_estimators=300 ........\n",
      "[CV]  max_features=log2, min_samples_split=2, n_estimators=300, score=0.592137 -  20.9s\n",
      "[CV] max_features=log2, min_samples_split=2, n_estimators=300 ........\n",
      "[CV]  max_features=log2, min_samples_split=2, n_estimators=300, score=0.596203 -  21.1s\n",
      "[CV] max_features=log2, min_samples_split=2, n_estimators=300 ........\n",
      "[CV]  max_features=log2, min_samples_split=2, n_estimators=300, score=0.588605 -  21.2s\n",
      "[CV] max_features=log2, min_samples_split=2, n_estimators=300 ........\n",
      "[CV]  max_features=log2, min_samples_split=2, n_estimators=300, score=0.591959 -  21.4s\n",
      "[CV] max_features=log2, min_samples_split=2, n_estimators=300 ........\n",
      "[CV]  max_features=log2, min_samples_split=2, n_estimators=300, score=0.594312 -  21.2s\n",
      "[CV] max_features=log2, min_samples_split=2, n_estimators=300 ........\n",
      "[CV]  max_features=log2, min_samples_split=2, n_estimators=300, score=0.598681 -  21.0s\n",
      "[CV] max_features=log2, min_samples_split=2, n_estimators=300 ........\n",
      "[CV]  max_features=log2, min_samples_split=2, n_estimators=300, score=0.596079 -  20.8s\n",
      "[CV] max_features=log2, min_samples_split=2, n_estimators=300 ........\n",
      "[CV]  max_features=log2, min_samples_split=2, n_estimators=300, score=0.594587 -  21.2s\n",
      "[CV] max_features=log2, min_samples_split=2, n_estimators=300 ........\n",
      "[CV]  max_features=log2, min_samples_split=2, n_estimators=300, score=0.597345 -  21.4s\n",
      "[CV] max_features=log2, min_samples_split=2, n_estimators=400 ........\n",
      "[CV]  max_features=log2, min_samples_split=2, n_estimators=300, score=0.591179 -  21.1s\n",
      "[CV] max_features=log2, min_samples_split=2, n_estimators=400 ........\n",
      "[CV]  max_features=log2, min_samples_split=2, n_estimators=400, score=0.596451 -  27.9s\n",
      "[CV] max_features=log2, min_samples_split=2, n_estimators=400 ........\n",
      "[CV]  max_features=log2, min_samples_split=2, n_estimators=400, score=0.598591 -  27.5s\n",
      "[CV] max_features=log2, min_samples_split=2, n_estimators=400 ........\n",
      "[CV]  max_features=log2, min_samples_split=2, n_estimators=400, score=0.587402 -  28.1s\n",
      "[CV] max_features=log2, min_samples_split=2, n_estimators=400 ........\n",
      "[CV]  max_features=log2, min_samples_split=2, n_estimators=400, score=0.595189 -  28.4s\n",
      "[CV] max_features=log2, min_samples_split=2, n_estimators=400 ........\n",
      "[CV]  max_features=log2, min_samples_split=2, n_estimators=400, score=0.590778 -  28.1s\n",
      "[CV] max_features=log2, min_samples_split=2, n_estimators=400 ........\n",
      "[CV]  max_features=log2, min_samples_split=2, n_estimators=400, score=0.597442 -  27.7s\n",
      "[CV] max_features=log2, min_samples_split=2, n_estimators=400 ........\n",
      "[CV]  max_features=log2, min_samples_split=2, n_estimators=400, score=0.596791 -  28.2s\n",
      "[CV] max_features=log2, min_samples_split=2, n_estimators=400 ........\n",
      "[CV]  max_features=log2, min_samples_split=2, n_estimators=400, score=0.594463 -  28.5s\n",
      "[CV] max_features=log2, min_samples_split=2, n_estimators=400 ........\n",
      "[CV]  max_features=log2, min_samples_split=2, n_estimators=400, score=0.590361 -  27.8s\n",
      "[CV] max_features=log2, min_samples_split=3, n_estimators=200 ........\n",
      "[CV]  max_features=log2, min_samples_split=2, n_estimators=400, score=0.592749 -  27.8s\n",
      "[CV] max_features=log2, min_samples_split=3, n_estimators=200 ........\n",
      "[CV]  max_features=log2, min_samples_split=3, n_estimators=200, score=0.597473 -  14.4s\n",
      "[CV] max_features=log2, min_samples_split=3, n_estimators=200 ........\n",
      "[CV]  max_features=log2, min_samples_split=3, n_estimators=200, score=0.601987 -  14.3s\n",
      "[CV] max_features=log2, min_samples_split=3, n_estimators=200 ........\n",
      "[CV]  max_features=log2, min_samples_split=3, n_estimators=200, score=0.585487 -  14.5s\n",
      "[CV] max_features=log2, min_samples_split=3, n_estimators=200 ........\n",
      "[CV]  max_features=log2, min_samples_split=3, n_estimators=200, score=0.604209 -  14.6s\n",
      "[CV] max_features=log2, min_samples_split=3, n_estimators=200 ........\n",
      "[CV]  max_features=log2, min_samples_split=3, n_estimators=200, score=0.598338 -  14.3s\n",
      "[CV] max_features=log2, min_samples_split=3, n_estimators=200 ........\n",
      "[CV]  max_features=log2, min_samples_split=3, n_estimators=200, score=0.598936 -  14.5s\n",
      "[CV] max_features=log2, min_samples_split=3, n_estimators=200 ........\n",
      "[CV]  max_features=log2, min_samples_split=3, n_estimators=200, score=0.594875 -  15.0s\n",
      "[CV] max_features=log2, min_samples_split=3, n_estimators=200 ........\n",
      "[CV]  max_features=log2, min_samples_split=3, n_estimators=200, score=0.589740 -  14.6s\n",
      "[CV] max_features=log2, min_samples_split=3, n_estimators=200 ........\n",
      "[CV]  max_features=log2, min_samples_split=3, n_estimators=200, score=0.591146 -  14.8s\n",
      "[CV] max_features=log2, min_samples_split=3, n_estimators=300 ........\n",
      "[CV]  max_features=log2, min_samples_split=3, n_estimators=200, score=0.594941 -  14.9s\n",
      "[CV] max_features=log2, min_samples_split=3, n_estimators=300 ........\n",
      "[CV]  max_features=log2, min_samples_split=3, n_estimators=300, score=0.596004 -  21.4s\n",
      "[CV] max_features=log2, min_samples_split=3, n_estimators=300 ........\n",
      "[CV]  max_features=log2, min_samples_split=3, n_estimators=300, score=0.597364 -  21.3s\n",
      "[CV] max_features=log2, min_samples_split=3, n_estimators=300 ........\n",
      "[CV]  max_features=log2, min_samples_split=3, n_estimators=300, score=0.584062 -  21.1s\n",
      "[CV] max_features=log2, min_samples_split=3, n_estimators=300 ........\n",
      "[CV]  max_features=log2, min_samples_split=3, n_estimators=300, score=0.596311 -  21.4s\n",
      "[CV] max_features=log2, min_samples_split=3, n_estimators=300 ........\n",
      "[CV]  max_features=log2, min_samples_split=3, n_estimators=300, score=0.590622 -  20.9s\n",
      "[CV] max_features=log2, min_samples_split=3, n_estimators=300 ........\n",
      "[CV]  max_features=log2, min_samples_split=3, n_estimators=300, score=0.592643 -  20.8s\n",
      "[CV] max_features=log2, min_samples_split=3, n_estimators=300 ........\n"
     ]
    },
    {
     "name": "stderr",
     "output_type": "stream",
     "text": [
      "[Parallel(n_jobs=2)]: Done  46 tasks      | elapsed:  7.6min\n"
     ]
    },
    {
     "name": "stdout",
     "output_type": "stream",
     "text": [
      "[CV]  max_features=log2, min_samples_split=3, n_estimators=300, score=0.595231 -  21.0s\n",
      "[CV] max_features=log2, min_samples_split=3, n_estimators=300 ........\n",
      "[CV]  max_features=log2, min_samples_split=3, n_estimators=300, score=0.595542 -  21.7s\n",
      "[CV] max_features=log2, min_samples_split=3, n_estimators=300 ........\n",
      "[CV]  max_features=log2, min_samples_split=3, n_estimators=300, score=0.595926 -  21.3s\n",
      "[CV] max_features=log2, min_samples_split=3, n_estimators=400 ........\n",
      "[CV]  max_features=log2, min_samples_split=3, n_estimators=300, score=0.590119 -  21.7s\n",
      "[CV] max_features=log2, min_samples_split=3, n_estimators=400 ........\n",
      "[CV]  max_features=log2, min_samples_split=3, n_estimators=400, score=0.598542 -  28.2s\n",
      "[CV] max_features=log2, min_samples_split=3, n_estimators=400 ........\n",
      "[CV]  max_features=log2, min_samples_split=3, n_estimators=400, score=0.596850 -  28.1s\n",
      "[CV] max_features=log2, min_samples_split=3, n_estimators=400 ........\n",
      "[CV]  max_features=log2, min_samples_split=3, n_estimators=400, score=0.583662 -  27.9s\n",
      "[CV] max_features=log2, min_samples_split=3, n_estimators=400 ........\n",
      "[CV]  max_features=log2, min_samples_split=3, n_estimators=400, score=0.600396 -  27.5s\n",
      "[CV] max_features=log2, min_samples_split=3, n_estimators=400 ........\n",
      "[CV]  max_features=log2, min_samples_split=3, n_estimators=400, score=0.593238 -  27.8s\n",
      "[CV] max_features=log2, min_samples_split=3, n_estimators=400 ........\n",
      "[CV]  max_features=log2, min_samples_split=3, n_estimators=400, score=0.603436 -  27.8s\n",
      "[CV] max_features=log2, min_samples_split=3, n_estimators=400 ........\n",
      "[CV]  max_features=log2, min_samples_split=3, n_estimators=400, score=0.600002 -  28.0s\n",
      "[CV] max_features=log2, min_samples_split=3, n_estimators=400 ........\n",
      "[CV]  max_features=log2, min_samples_split=3, n_estimators=400, score=0.599122 -  28.1s\n",
      "[CV] max_features=log2, min_samples_split=3, n_estimators=400 ........\n",
      "[CV]  max_features=log2, min_samples_split=3, n_estimators=400, score=0.592537 -  28.1s\n",
      "[CV] max_features=sqrt, min_samples_split=2, n_estimators=200 ........\n",
      "[CV]  max_features=log2, min_samples_split=3, n_estimators=400, score=0.595182 -  27.9s\n",
      "[CV] max_features=sqrt, min_samples_split=2, n_estimators=200 ........\n",
      "[CV]  max_features=sqrt, min_samples_split=2, n_estimators=200, score=0.595072 -  17.4s\n",
      "[CV] max_features=sqrt, min_samples_split=2, n_estimators=200 ........\n",
      "[CV]  max_features=sqrt, min_samples_split=2, n_estimators=200, score=0.596336 -  17.4s\n",
      "[CV] max_features=sqrt, min_samples_split=2, n_estimators=200 ........\n",
      "[CV]  max_features=sqrt, min_samples_split=2, n_estimators=200, score=0.587358 -  17.3s\n",
      "[CV] max_features=sqrt, min_samples_split=2, n_estimators=200 ........\n",
      "[CV]  max_features=sqrt, min_samples_split=2, n_estimators=200, score=0.599678 -  17.6s\n",
      "[CV] max_features=sqrt, min_samples_split=2, n_estimators=200 ........\n",
      "[CV]  max_features=sqrt, min_samples_split=2, n_estimators=200, score=0.597913 -  17.9s\n",
      "[CV] max_features=sqrt, min_samples_split=2, n_estimators=200 ........\n",
      "[CV]  max_features=sqrt, min_samples_split=2, n_estimators=200, score=0.595975 -  17.9s\n",
      "[CV] max_features=sqrt, min_samples_split=2, n_estimators=200 ........\n",
      "[CV]  max_features=sqrt, min_samples_split=2, n_estimators=200, score=0.595097 -  17.5s\n",
      "[CV] max_features=sqrt, min_samples_split=2, n_estimators=200 ........\n",
      "[CV]  max_features=sqrt, min_samples_split=2, n_estimators=200, score=0.593097 -  17.4s\n",
      "[CV] max_features=sqrt, min_samples_split=2, n_estimators=200 ........\n",
      "[CV]  max_features=sqrt, min_samples_split=2, n_estimators=200, score=0.584635 -  17.6s\n",
      "[CV] max_features=sqrt, min_samples_split=2, n_estimators=300 ........\n",
      "[CV]  max_features=sqrt, min_samples_split=2, n_estimators=200, score=0.594540 -  17.7s\n",
      "[CV] max_features=sqrt, min_samples_split=2, n_estimators=300 ........\n",
      "[CV]  max_features=sqrt, min_samples_split=2, n_estimators=300, score=0.595250 -  26.0s\n",
      "[CV] max_features=sqrt, min_samples_split=2, n_estimators=300 ........\n",
      "[CV]  max_features=sqrt, min_samples_split=2, n_estimators=300, score=0.598279 -  26.0s\n",
      "[CV] max_features=sqrt, min_samples_split=2, n_estimators=300 ........\n",
      "[CV]  max_features=sqrt, min_samples_split=2, n_estimators=300, score=0.583796 -  25.6s\n",
      "[CV] max_features=sqrt, min_samples_split=2, n_estimators=300 ........\n",
      "[CV]  max_features=sqrt, min_samples_split=2, n_estimators=300, score=0.602548 -  26.1s\n",
      "[CV] max_features=sqrt, min_samples_split=2, n_estimators=300 ........\n",
      "[CV]  max_features=sqrt, min_samples_split=2, n_estimators=300, score=0.598472 -  25.6s\n",
      "[CV] max_features=sqrt, min_samples_split=2, n_estimators=300 ........\n",
      "[CV]  max_features=sqrt, min_samples_split=2, n_estimators=300, score=0.598534 -  25.9s\n",
      "[CV] max_features=sqrt, min_samples_split=2, n_estimators=300 ........\n",
      "[CV]  max_features=sqrt, min_samples_split=2, n_estimators=300, score=0.591575 -  30.2s\n",
      "[CV] max_features=sqrt, min_samples_split=2, n_estimators=300 ........\n",
      "[CV]  max_features=sqrt, min_samples_split=2, n_estimators=300, score=0.590740 -  31.2s\n",
      "[CV] max_features=sqrt, min_samples_split=2, n_estimators=300 ........\n",
      "[CV]  max_features=sqrt, min_samples_split=2, n_estimators=300, score=0.589015 -  27.1s\n",
      "[CV] max_features=sqrt, min_samples_split=2, n_estimators=400 ........\n",
      "[CV]  max_features=sqrt, min_samples_split=2, n_estimators=300, score=0.592240 -  26.5s\n",
      "[CV] max_features=sqrt, min_samples_split=2, n_estimators=400 ........\n",
      "[CV]  max_features=sqrt, min_samples_split=2, n_estimators=400, score=0.589334 -  34.3s\n",
      "[CV] max_features=sqrt, min_samples_split=2, n_estimators=400 ........\n",
      "[CV]  max_features=sqrt, min_samples_split=2, n_estimators=400, score=0.601740 -  33.4s\n",
      "[CV] max_features=sqrt, min_samples_split=2, n_estimators=400 ........\n",
      "[CV]  max_features=sqrt, min_samples_split=2, n_estimators=400, score=0.578496 -  33.9s\n",
      "[CV] max_features=sqrt, min_samples_split=2, n_estimators=400 ........\n",
      "[CV]  max_features=sqrt, min_samples_split=2, n_estimators=400, score=0.597749 -  34.1s\n",
      "[CV] max_features=sqrt, min_samples_split=2, n_estimators=400 ........\n",
      "[CV]  max_features=sqrt, min_samples_split=2, n_estimators=400, score=0.595229 -  34.5s\n",
      "[CV] max_features=sqrt, min_samples_split=2, n_estimators=400 ........\n",
      "[CV]  max_features=sqrt, min_samples_split=2, n_estimators=400, score=0.596785 -  34.2s\n",
      "[CV] max_features=sqrt, min_samples_split=2, n_estimators=400 ........\n",
      "[CV]  max_features=sqrt, min_samples_split=2, n_estimators=400, score=0.594785 -  34.2s\n",
      "[CV] max_features=sqrt, min_samples_split=2, n_estimators=400 ........\n",
      "[CV]  max_features=sqrt, min_samples_split=2, n_estimators=400, score=0.596944 -  34.1s\n",
      "[CV] max_features=sqrt, min_samples_split=2, n_estimators=400 ........\n",
      "[CV]  max_features=sqrt, min_samples_split=2, n_estimators=400, score=0.591958 -  34.1s\n",
      "[CV] max_features=sqrt, min_samples_split=3, n_estimators=200 ........\n",
      "[CV]  max_features=sqrt, min_samples_split=2, n_estimators=400, score=0.589495 -  34.0s\n",
      "[CV] max_features=sqrt, min_samples_split=3, n_estimators=200 ........\n",
      "[CV]  max_features=sqrt, min_samples_split=3, n_estimators=200, score=0.600455 -  17.7s\n",
      "[CV] max_features=sqrt, min_samples_split=3, n_estimators=200 ........\n",
      "[CV]  max_features=sqrt, min_samples_split=3, n_estimators=200, score=0.601429 -  17.2s\n",
      "[CV] max_features=sqrt, min_samples_split=3, n_estimators=200 ........\n",
      "[CV]  max_features=sqrt, min_samples_split=3, n_estimators=200, score=0.587492 -  17.8s\n",
      "[CV] max_features=sqrt, min_samples_split=3, n_estimators=200 ........\n",
      "[CV]  max_features=sqrt, min_samples_split=3, n_estimators=200, score=0.599812 -  18.3s\n",
      "[CV] max_features=sqrt, min_samples_split=3, n_estimators=200 ........\n",
      "[CV]  max_features=sqrt, min_samples_split=3, n_estimators=200, score=0.587468 -  17.4s\n",
      "[CV] max_features=sqrt, min_samples_split=3, n_estimators=200 ........\n",
      "[CV]  max_features=sqrt, min_samples_split=3, n_estimators=200, score=0.601042 -  17.5s\n",
      "[CV] max_features=sqrt, min_samples_split=3, n_estimators=200 ........\n",
      "[CV]  max_features=sqrt, min_samples_split=3, n_estimators=200, score=0.600314 -  17.4s\n",
      "[CV] max_features=sqrt, min_samples_split=3, n_estimators=200 ........\n",
      "[CV]  max_features=sqrt, min_samples_split=3, n_estimators=200, score=0.597310 -  17.6s\n",
      "[CV] max_features=sqrt, min_samples_split=3, n_estimators=200 ........\n",
      "[CV]  max_features=sqrt, min_samples_split=3, n_estimators=200, score=0.599314 -  17.7s\n",
      "[CV] max_features=sqrt, min_samples_split=3, n_estimators=300 ........\n",
      "[CV]  max_features=sqrt, min_samples_split=3, n_estimators=200, score=0.594496 -  17.7s\n",
      "[CV] max_features=sqrt, min_samples_split=3, n_estimators=300 ........\n",
      "[CV]  max_features=sqrt, min_samples_split=3, n_estimators=300, score=0.597830 -  25.7s\n",
      "[CV] max_features=sqrt, min_samples_split=3, n_estimators=300 ........\n",
      "[CV]  max_features=sqrt, min_samples_split=3, n_estimators=300, score=0.598882 -  25.4s\n",
      "[CV] max_features=sqrt, min_samples_split=3, n_estimators=300 ........\n",
      "[CV]  max_features=sqrt, min_samples_split=3, n_estimators=300, score=0.584464 -  26.1s\n",
      "[CV] max_features=sqrt, min_samples_split=3, n_estimators=300 ........\n",
      "[CV]  max_features=sqrt, min_samples_split=3, n_estimators=300, score=0.598690 -  25.4s\n",
      "[CV] max_features=sqrt, min_samples_split=3, n_estimators=300 ........\n",
      "[CV]  max_features=sqrt, min_samples_split=3, n_estimators=300, score=0.594200 -  26.1s\n",
      "[CV] max_features=sqrt, min_samples_split=3, n_estimators=300 ........\n",
      "[CV]  max_features=sqrt, min_samples_split=3, n_estimators=300, score=0.592853 -  25.7s\n",
      "[CV] max_features=sqrt, min_samples_split=3, n_estimators=300 ........\n",
      "[CV]  max_features=sqrt, min_samples_split=3, n_estimators=300, score=0.593091 -  26.0s\n",
      "[CV] max_features=sqrt, min_samples_split=3, n_estimators=300 ........\n",
      "[CV]  max_features=sqrt, min_samples_split=3, n_estimators=300, score=0.598622 -  25.5s\n",
      "[CV] max_features=sqrt, min_samples_split=3, n_estimators=300 ........\n",
      "[CV]  max_features=sqrt, min_samples_split=3, n_estimators=300, score=0.596488 -  25.8s\n",
      "[CV] max_features=sqrt, min_samples_split=3, n_estimators=400 ........\n"
     ]
    },
    {
     "name": "stderr",
     "output_type": "stream",
     "text": [
      "[Parallel(n_jobs=2)]: Done 109 tasks      | elapsed: 20.8min\n"
     ]
    },
    {
     "name": "stdout",
     "output_type": "stream",
     "text": [
      "[CV]  max_features=sqrt, min_samples_split=3, n_estimators=300, score=0.599943 -  25.8s\n",
      "[CV] max_features=sqrt, min_samples_split=3, n_estimators=400 ........\n",
      "[CV]  max_features=sqrt, min_samples_split=3, n_estimators=400, score=0.595130 -  34.0s\n",
      "[CV] max_features=sqrt, min_samples_split=3, n_estimators=400 ........\n",
      "[CV]  max_features=sqrt, min_samples_split=3, n_estimators=400, score=0.594360 -  34.3s\n",
      "[CV] max_features=sqrt, min_samples_split=3, n_estimators=400 ........\n",
      "[CV]  max_features=sqrt, min_samples_split=3, n_estimators=400, score=0.584196 -  34.2s\n",
      "[CV] max_features=sqrt, min_samples_split=3, n_estimators=400 ........\n",
      "[CV]  max_features=sqrt, min_samples_split=3, n_estimators=400, score=0.601652 -  34.2s\n",
      "[CV] max_features=sqrt, min_samples_split=3, n_estimators=400 ........\n",
      "[CV]  max_features=sqrt, min_samples_split=3, n_estimators=400, score=0.596396 -  33.3s\n",
      "[CV] max_features=sqrt, min_samples_split=3, n_estimators=400 ........\n",
      "[CV]  max_features=sqrt, min_samples_split=3, n_estimators=400, score=0.590622 -  34.3s\n",
      "[CV] max_features=sqrt, min_samples_split=3, n_estimators=400 ........\n",
      "[CV]  max_features=sqrt, min_samples_split=3, n_estimators=400, score=0.595766 -  33.9s\n",
      "[CV] max_features=sqrt, min_samples_split=3, n_estimators=400 ........\n",
      "[CV]  max_features=sqrt, min_samples_split=3, n_estimators=400, score=0.595721 -  34.3s\n",
      "[CV] max_features=sqrt, min_samples_split=3, n_estimators=400 ........\n",
      "[CV]  max_features=sqrt, min_samples_split=3, n_estimators=400, score=0.586883 -  34.1s\n",
      "[CV]  max_features=sqrt, min_samples_split=3, n_estimators=400, score=0.598062 -  33.9s\n"
     ]
    },
    {
     "name": "stderr",
     "output_type": "stream",
     "text": [
      "[Parallel(n_jobs=2)]: Done 120 out of 120 | elapsed: 23.7min finished\n"
     ]
    },
    {
     "name": "stdout",
     "output_type": "stream",
     "text": [
      "ROC_AUC_SCORE: 0.76844380 - [GradientBoostingClassifier]\n"
     ]
    }
   ],
   "source": [
    "from sklearn.ensemble import GradientBoostingClassifier\n",
    "from sklearn.grid_search import GridSearchCV\n",
    "from sklearn.cross_validation import ShuffleSplit\n",
    "from sklearn.metrics import make_scorer, roc_auc_score\n",
    "\n",
    "clf = GradientBoostingClassifier()\n",
    "\n",
    "cv_sets = ShuffleSplit(x_train_f.shape[0], n_iter = 10, \n",
    "                       test_size = 0.1, train_size=None, \n",
    "                       random_state = 0)\n",
    "\n",
    "parameters = {\n",
    "    'min_samples_split': [2, 3 ],\n",
    "    'n_estimators' : [200, 300, 400],\n",
    "    'max_features': ['log2', 'sqrt']\n",
    "}\n",
    "\n",
    "scorer = make_scorer(roc_auc_score)\n",
    "             \n",
    "grid_obj = GridSearchCV(clf, param_grid=parameters, scoring=scorer, cv=cv_sets, n_jobs=2, verbose=6)\n",
    "\n",
    "grid_obj = grid_obj.fit(x_train_f, y_train_f)\n",
    "\n",
    "clf = grid_obj.best_estimator_\n",
    "\n",
    "y_targets = clf.predict(x_test_f)\n",
    "\n",
    "score = roc_auc_score(y_targets, y_test_f)\n",
    "\n",
    "print(\"%s: %0.8f - [%s]\" % ('ROC_AUC_SCORE', score, gb_clf.__class__.__name__))\n",
    "\n",
    "submission_set = build_submission_skl(clf)\n",
    "submission_set.to_csv(utils.os.path.join(utils.DIR, 'dataset', 'optimized_gb_pc.csv'),\n",
    "                      index=False, \n",
    "                      columns=['Id', 'Probability'])"
   ]
  },
  {
   "cell_type": "markdown",
   "metadata": {
    "deletable": true,
    "editable": true
   },
   "source": [
    "> The tryin to tune the model gave:\n",
    "\n",
    "![](images/bad_optimized_gb.png)"
   ]
  },
  {
   "cell_type": "code",
   "execution_count": 2,
   "metadata": {
    "collapsed": false,
    "deletable": true,
    "editable": true
   },
   "outputs": [
    {
     "name": "stderr",
     "output_type": "stream",
     "text": [
      "/media/rodsnjr/Files/miniconda3/envs/udacity-ml/lib/python2.7/site-packages/sklearn/cross_validation.py:41: DeprecationWarning: This module was deprecated in version 0.18 in favor of the model_selection module into which all the refactored classes and functions are moved. Also note that the interface of the new CV iterators are different from that of this module. This module will be removed in 0.20.\n",
      "  \"This module will be removed in 0.20.\", DeprecationWarning)\n"
     ]
    },
    {
     "name": "stdout",
     "output_type": "stream",
     "text": [
      "Dataset splitted from: \n",
      "\tx=(150000, 80), y=(150000,)\n",
      "To: \n",
      "Train Set\n",
      "\tx=(120000, 80), y=(120000,)\n",
      "Test Set\n",
      "\tx=(30000, 80), y=(30000,)\n"
     ]
    }
   ],
   "source": [
    "from sklearn.feature_selection import VarianceThreshold\n",
    "from sklearn.metrics import roc_auc_score\n",
    "\n",
    "import utils\n",
    "\n",
    "def test_clf(clf, x_train, y_train, x_test, y_test):\n",
    "    clf.fit(x_train, y_train)\n",
    "    y_pred = clf.predict(x_test)\n",
    "    print(\"%s: %0.8f - [%s]\" % (roc_auc_score.__name__.upper(), roc_auc_score(y_pred, y_test), clf.__class__.__name__))\n",
    "    \n",
    "    return clf\n",
    "\n",
    "def build_submission_skl(classifier):\n",
    "    submission_feature_set = utils.load_test_feature_set()\n",
    "    submission_feature_set = submission_feature_set.drop(['SeriousDlqin2yrs'], axis=1)\n",
    "    x = submission_feature_set.as_matrix()\n",
    "\n",
    "    y_predicts = classifier.predict(x)\n",
    "    y_probs = classifier.predict_proba(x)\n",
    "    \n",
    "    submission_set = utils.load_test_set()\n",
    "    submission_set .SeriousDlqin2yrs = y_predicts\n",
    "    submission_set ['Probability'] = y_probs[:,:1]\n",
    "    \n",
    "    return submission_set\n",
    "\n",
    "features_set = utils.load_features_set()\n",
    "y = features_set['SeriousDlqin2yrs'].as_matrix()\n",
    "x = features_set.drop(['SeriousDlqin2yrs'], axis=1).as_matrix()\n",
    "\n",
    "x_train_f, x_test_f, y_train_f, y_test_f = utils.split_dataset(x, y, portion=0.20)"
   ]
  },
  {
   "cell_type": "code",
   "execution_count": 3,
   "metadata": {
    "collapsed": false,
    "deletable": true,
    "editable": true
   },
   "outputs": [
    {
     "name": "stdout",
     "output_type": "stream",
     "text": [
      "      Iter       Train Loss      OOB Improve   Remaining Time \n",
      "         1           0.4715           0.0198            2.45m\n",
      "         2           0.4586           0.0143            2.46m\n",
      "         3           0.4473           0.0105            2.44m\n",
      "         4           0.4383           0.0082            2.42m\n",
      "         5           0.4351           0.0062            2.41m\n",
      "         6           0.4285           0.0052            2.41m\n",
      "         7           0.4227           0.0050            2.40m\n",
      "         8           0.4226           0.0038            2.39m\n",
      "         9           0.4155           0.0032            2.38m\n",
      "        10           0.4132           0.0036            2.37m\n",
      "        20           0.3949           0.0010            2.24m\n",
      "        30           0.3874           0.0006            2.19m\n",
      "        40           0.3830           0.0003            2.17m\n",
      "        50           0.3798           0.0002            2.17m\n",
      "        60           0.3766           0.0001            2.11m\n",
      "        70           0.3756           0.0001            2.00m\n",
      "        80           0.3751           0.0000            1.92m\n",
      "        90           0.3740           0.0000            1.85m\n",
      "       100           0.3724           0.0000            1.78m\n",
      "       200           0.3667          -0.0000            1.14m\n",
      "       300           0.3664          -0.0000           31.86s\n",
      "ROC_AUC_SCORE: 0.76714962 - [GradientBoostingClassifier]\n"
     ]
    }
   ],
   "source": [
    "from sklearn.ensemble import GradientBoostingClassifier\n",
    "\n",
    "clf = GradientBoostingClassifier(n_estimators=391, \n",
    "                                 max_depth=4, \n",
    "                                 subsample=0.8,\n",
    "                                 min_samples_split=3,\n",
    "                                 min_weight_fraction_leaf=0.2,\n",
    "                                 min_samples_leaf=2, verbose=1)\n",
    "\n",
    "gb_clf = test_clf(clf, x_train_f, y_train_f, x_test_f, y_test_f)\n",
    "\n",
    "submission_set = build_submission_skl(gb_clf)\n",
    "submission_set.to_csv(utils.os.path.join(utils.DIR, 'dataset', 'fs_submission_gb.csv'),\n",
    "                      index=False, \n",
    "                      columns=['Id', 'Probability'])"
   ]
  },
  {
   "cell_type": "markdown",
   "metadata": {
    "collapsed": true,
    "deletable": true,
    "editable": true
   },
   "source": [
    "By changing a few parameters manually and submitting I've managed this\n",
    "\n",
    "![](images/better_n_estimators.png)"
   ]
  }
 ],
 "metadata": {
  "kernelspec": {
   "display_name": "Python [conda env:udacity-ml]",
   "language": "python",
   "name": "conda-env-udacity-ml-py"
  },
  "language_info": {
   "codemirror_mode": {
    "name": "ipython",
    "version": 2
   },
   "file_extension": ".py",
   "mimetype": "text/x-python",
   "name": "python",
   "nbconvert_exporter": "python",
   "pygments_lexer": "ipython2",
   "version": "2.7.13"
  }
 },
 "nbformat": 4,
 "nbformat_minor": 2
}
