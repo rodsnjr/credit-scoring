{
 "cells": [
  {
   "cell_type": "markdown",
   "metadata": {
    "deletable": true,
    "editable": true
   },
   "source": [
    "# Capstone Study"
   ]
  },
  {
   "cell_type": "code",
   "execution_count": 29,
   "metadata": {
    "collapsed": false,
    "deletable": true,
    "editable": true
   },
   "outputs": [],
   "source": [
    "import utils\n",
    "import plots\n",
    "%matplotlib inline"
   ]
  },
  {
   "cell_type": "markdown",
   "metadata": {},
   "source": [
    "## Unormalized Data\n",
    "\n",
    "We'll test the same classifiers on the raw data."
   ]
  },
  {
   "cell_type": "code",
   "execution_count": 30,
   "metadata": {
    "collapsed": false
   },
   "outputs": [],
   "source": [
    "training_set = utils.load_training_set()"
   ]
  },
  {
   "cell_type": "code",
   "execution_count": 31,
   "metadata": {
    "collapsed": false
   },
   "outputs": [
    {
     "data": {
      "text/html": [
       "<div>\n",
       "<style>\n",
       "    .dataframe thead tr:only-child th {\n",
       "        text-align: right;\n",
       "    }\n",
       "\n",
       "    .dataframe thead th {\n",
       "        text-align: left;\n",
       "    }\n",
       "\n",
       "    .dataframe tbody tr th {\n",
       "        vertical-align: top;\n",
       "    }\n",
       "</style>\n",
       "<table border=\"1\" class=\"dataframe\">\n",
       "  <thead>\n",
       "    <tr style=\"text-align: right;\">\n",
       "      <th></th>\n",
       "      <th>NumberOfOpenCreditLinesAndLoans</th>\n",
       "      <th>NumberRealEstateLoansOrLines</th>\n",
       "      <th>age</th>\n",
       "      <th>NumberOfTime6089DaysPastDueNotWorse</th>\n",
       "      <th>DebtRatio</th>\n",
       "      <th>NumberOfDependents</th>\n",
       "      <th>MonthlyIncome</th>\n",
       "      <th>SeriousDlqin2yrs</th>\n",
       "      <th>RevolvingUtilizationOfUnsecuredLines</th>\n",
       "      <th>NumberOfTime3059DaysPastDueNotWorse</th>\n",
       "      <th>NumberOfTimes90DaysLate</th>\n",
       "    </tr>\n",
       "  </thead>\n",
       "  <tbody>\n",
       "    <tr>\n",
       "      <th>% of missing</th>\n",
       "      <td>0</td>\n",
       "      <td>0</td>\n",
       "      <td>0</td>\n",
       "      <td>0</td>\n",
       "      <td>0</td>\n",
       "      <td>2</td>\n",
       "      <td>19</td>\n",
       "      <td>0</td>\n",
       "      <td>0</td>\n",
       "      <td>0</td>\n",
       "      <td>0</td>\n",
       "    </tr>\n",
       "  </tbody>\n",
       "</table>\n",
       "</div>"
      ],
      "text/plain": [
       "              NumberOfOpenCreditLinesAndLoans  NumberRealEstateLoansOrLines  \\\n",
       "% of missing                                0                             0   \n",
       "\n",
       "              age  NumberOfTime6089DaysPastDueNotWorse  DebtRatio  \\\n",
       "% of missing    0                                    0          0   \n",
       "\n",
       "              NumberOfDependents  MonthlyIncome  SeriousDlqin2yrs  \\\n",
       "% of missing                   2             19                 0   \n",
       "\n",
       "              RevolvingUtilizationOfUnsecuredLines  \\\n",
       "% of missing                                     0   \n",
       "\n",
       "              NumberOfTime3059DaysPastDueNotWorse  NumberOfTimes90DaysLate  \n",
       "% of missing                                    0                        0  "
      ]
     },
     "execution_count": 31,
     "metadata": {},
     "output_type": "execute_result"
    }
   ],
   "source": [
    "utils.percentage_missin(training_set)"
   ]
  },
  {
   "cell_type": "code",
   "execution_count": 32,
   "metadata": {
    "collapsed": false
   },
   "outputs": [
    {
     "data": {
      "text/html": [
       "<div>\n",
       "<style>\n",
       "    .dataframe thead tr:only-child th {\n",
       "        text-align: right;\n",
       "    }\n",
       "\n",
       "    .dataframe thead th {\n",
       "        text-align: left;\n",
       "    }\n",
       "\n",
       "    .dataframe tbody tr th {\n",
       "        vertical-align: top;\n",
       "    }\n",
       "</style>\n",
       "<table border=\"1\" class=\"dataframe\">\n",
       "  <thead>\n",
       "    <tr style=\"text-align: right;\">\n",
       "      <th></th>\n",
       "      <th>SeriousDlqin2yrs</th>\n",
       "      <th>RevolvingUtilizationOfUnsecuredLines</th>\n",
       "      <th>age</th>\n",
       "      <th>NumberOfTime3059DaysPastDueNotWorse</th>\n",
       "      <th>DebtRatio</th>\n",
       "      <th>MonthlyIncome</th>\n",
       "      <th>NumberOfOpenCreditLinesAndLoans</th>\n",
       "      <th>NumberOfTimes90DaysLate</th>\n",
       "      <th>NumberRealEstateLoansOrLines</th>\n",
       "      <th>NumberOfTime6089DaysPastDueNotWorse</th>\n",
       "      <th>NumberOfDependents</th>\n",
       "    </tr>\n",
       "  </thead>\n",
       "  <tbody>\n",
       "    <tr>\n",
       "      <th>0</th>\n",
       "      <td>1</td>\n",
       "      <td>0.766127</td>\n",
       "      <td>45</td>\n",
       "      <td>2</td>\n",
       "      <td>0.802982</td>\n",
       "      <td>9120.0</td>\n",
       "      <td>13</td>\n",
       "      <td>0</td>\n",
       "      <td>6</td>\n",
       "      <td>0</td>\n",
       "      <td>2.0</td>\n",
       "    </tr>\n",
       "    <tr>\n",
       "      <th>1</th>\n",
       "      <td>0</td>\n",
       "      <td>0.957151</td>\n",
       "      <td>40</td>\n",
       "      <td>0</td>\n",
       "      <td>0.121876</td>\n",
       "      <td>2600.0</td>\n",
       "      <td>4</td>\n",
       "      <td>0</td>\n",
       "      <td>0</td>\n",
       "      <td>0</td>\n",
       "      <td>1.0</td>\n",
       "    </tr>\n",
       "    <tr>\n",
       "      <th>2</th>\n",
       "      <td>0</td>\n",
       "      <td>0.658180</td>\n",
       "      <td>38</td>\n",
       "      <td>1</td>\n",
       "      <td>0.085113</td>\n",
       "      <td>3042.0</td>\n",
       "      <td>2</td>\n",
       "      <td>1</td>\n",
       "      <td>0</td>\n",
       "      <td>0</td>\n",
       "      <td>0.0</td>\n",
       "    </tr>\n",
       "    <tr>\n",
       "      <th>3</th>\n",
       "      <td>0</td>\n",
       "      <td>0.233810</td>\n",
       "      <td>30</td>\n",
       "      <td>0</td>\n",
       "      <td>0.036050</td>\n",
       "      <td>3300.0</td>\n",
       "      <td>5</td>\n",
       "      <td>0</td>\n",
       "      <td>0</td>\n",
       "      <td>0</td>\n",
       "      <td>0.0</td>\n",
       "    </tr>\n",
       "    <tr>\n",
       "      <th>4</th>\n",
       "      <td>0</td>\n",
       "      <td>0.907239</td>\n",
       "      <td>49</td>\n",
       "      <td>1</td>\n",
       "      <td>0.024926</td>\n",
       "      <td>63588.0</td>\n",
       "      <td>7</td>\n",
       "      <td>0</td>\n",
       "      <td>1</td>\n",
       "      <td>0</td>\n",
       "      <td>0.0</td>\n",
       "    </tr>\n",
       "  </tbody>\n",
       "</table>\n",
       "</div>"
      ],
      "text/plain": [
       "   SeriousDlqin2yrs  RevolvingUtilizationOfUnsecuredLines  age  \\\n",
       "0                 1                              0.766127   45   \n",
       "1                 0                              0.957151   40   \n",
       "2                 0                              0.658180   38   \n",
       "3                 0                              0.233810   30   \n",
       "4                 0                              0.907239   49   \n",
       "\n",
       "   NumberOfTime3059DaysPastDueNotWorse  DebtRatio  MonthlyIncome  \\\n",
       "0                                    2   0.802982         9120.0   \n",
       "1                                    0   0.121876         2600.0   \n",
       "2                                    1   0.085113         3042.0   \n",
       "3                                    0   0.036050         3300.0   \n",
       "4                                    1   0.024926        63588.0   \n",
       "\n",
       "   NumberOfOpenCreditLinesAndLoans  NumberOfTimes90DaysLate  \\\n",
       "0                               13                        0   \n",
       "1                                4                        0   \n",
       "2                                2                        1   \n",
       "3                                5                        0   \n",
       "4                                7                        0   \n",
       "\n",
       "   NumberRealEstateLoansOrLines  NumberOfTime6089DaysPastDueNotWorse  \\\n",
       "0                             6                                    0   \n",
       "1                             0                                    0   \n",
       "2                             0                                    0   \n",
       "3                             0                                    0   \n",
       "4                             1                                    0   \n",
       "\n",
       "   NumberOfDependents  \n",
       "0                 2.0  \n",
       "1                 1.0  \n",
       "2                 0.0  \n",
       "3                 0.0  \n",
       "4                 0.0  "
      ]
     },
     "execution_count": 32,
     "metadata": {},
     "output_type": "execute_result"
    }
   ],
   "source": [
    "# There are a percentage of missing values we'll fill with 0's\n",
    "training_set = training_set.fillna(0)\n",
    "training_set.head()"
   ]
  },
  {
   "cell_type": "code",
   "execution_count": 33,
   "metadata": {
    "collapsed": false
   },
   "outputs": [
    {
     "data": {
      "text/html": [
       "<div>\n",
       "<style>\n",
       "    .dataframe thead tr:only-child th {\n",
       "        text-align: right;\n",
       "    }\n",
       "\n",
       "    .dataframe thead th {\n",
       "        text-align: left;\n",
       "    }\n",
       "\n",
       "    .dataframe tbody tr th {\n",
       "        vertical-align: top;\n",
       "    }\n",
       "</style>\n",
       "<table border=\"1\" class=\"dataframe\">\n",
       "  <thead>\n",
       "    <tr style=\"text-align: right;\">\n",
       "      <th></th>\n",
       "      <th>NumberOfOpenCreditLinesAndLoans</th>\n",
       "      <th>NumberRealEstateLoansOrLines</th>\n",
       "      <th>age</th>\n",
       "      <th>NumberOfTime6089DaysPastDueNotWorse</th>\n",
       "      <th>DebtRatio</th>\n",
       "      <th>NumberOfDependents</th>\n",
       "      <th>MonthlyIncome</th>\n",
       "      <th>SeriousDlqin2yrs</th>\n",
       "      <th>RevolvingUtilizationOfUnsecuredLines</th>\n",
       "      <th>NumberOfTime3059DaysPastDueNotWorse</th>\n",
       "      <th>NumberOfTimes90DaysLate</th>\n",
       "    </tr>\n",
       "  </thead>\n",
       "  <tbody>\n",
       "    <tr>\n",
       "      <th>% of missing</th>\n",
       "      <td>0</td>\n",
       "      <td>0</td>\n",
       "      <td>0</td>\n",
       "      <td>0</td>\n",
       "      <td>0</td>\n",
       "      <td>0</td>\n",
       "      <td>0</td>\n",
       "      <td>0</td>\n",
       "      <td>0</td>\n",
       "      <td>0</td>\n",
       "      <td>0</td>\n",
       "    </tr>\n",
       "  </tbody>\n",
       "</table>\n",
       "</div>"
      ],
      "text/plain": [
       "              NumberOfOpenCreditLinesAndLoans  NumberRealEstateLoansOrLines  \\\n",
       "% of missing                                0                             0   \n",
       "\n",
       "              age  NumberOfTime6089DaysPastDueNotWorse  DebtRatio  \\\n",
       "% of missing    0                                    0          0   \n",
       "\n",
       "              NumberOfDependents  MonthlyIncome  SeriousDlqin2yrs  \\\n",
       "% of missing                   0              0                 0   \n",
       "\n",
       "              RevolvingUtilizationOfUnsecuredLines  \\\n",
       "% of missing                                     0   \n",
       "\n",
       "              NumberOfTime3059DaysPastDueNotWorse  NumberOfTimes90DaysLate  \n",
       "% of missing                                    0                        0  "
      ]
     },
     "execution_count": 33,
     "metadata": {},
     "output_type": "execute_result"
    }
   ],
   "source": [
    "utils.percentage_missin(training)"
   ]
  },
  {
   "cell_type": "code",
   "execution_count": 34,
   "metadata": {
    "collapsed": false
   },
   "outputs": [],
   "source": [
    "from sklearn import preprocessing\n",
    "\n",
    "y = training_set['SeriousDlqin2yrs'].as_matrix()\n",
    "x = training_set.drop(['SeriousDlqin2yrs'], axis=1).as_matrix()\n",
    "# Basic scaling\n",
    "x = preprocessing.scale(x)"
   ]
  },
  {
   "cell_type": "code",
   "execution_count": 35,
   "metadata": {
    "collapsed": false
   },
   "outputs": [
    {
     "name": "stdout",
     "output_type": "stream",
     "text": [
      "Dataset splitted from: \n",
      "\tx=(150000, 10), y=(150000,)\n",
      "To: \n",
      "Train Set\n",
      "\tx=(100500, 10), y=(100500,)\n",
      "Test Set\n",
      "\tx=(49500, 10), y=(49500,)\n"
     ]
    }
   ],
   "source": [
    "x_train, x_test, y_train, y_test = utils.split_dataset(x, y)"
   ]
  },
  {
   "cell_type": "code",
   "execution_count": 36,
   "metadata": {
    "collapsed": false
   },
   "outputs": [
    {
     "name": "stdout",
     "output_type": "stream",
     "text": [
      "First\n",
      "Training a GaussianNB using a training set size of 100500. . .\n",
      "Trained model in 0.0758 seconds\n",
      "Made predictions in 0.0374 seconds.\n",
      "Made predictions in 0.0058 seconds.\n",
      "F1 score for training set: 0.0442, and AUC 0.5105\n",
      "F1 score for test set: 0.0398 and AUC 0.5094.\n",
      "Second\n",
      "Training a LogisticRegression using a training set size of 100500. . .\n",
      "Trained model in 0.3074 seconds\n",
      "Made predictions in 0.0019 seconds.\n",
      "Made predictions in 0.0008 seconds.\n",
      "F1 score for training set: 0.0837, and AUC 0.5214\n",
      "F1 score for test set: 0.0696 and AUC 0.5175.\n"
     ]
    }
   ],
   "source": [
    "from sklearn.naive_bayes import GaussianNB\n",
    "from sklearn.linear_model import LogisticRegression\n",
    "\n",
    "# TODO: Initialize the three models\n",
    "clf_A = GaussianNB()\n",
    "clf_C = LogisticRegression()\n",
    "\n",
    "print(\"First\")\n",
    "trained_clf_a = utils.train_predict(clf_A, x_train, y_train, x_test, y_test)\n",
    "\n",
    "print(\"Second\")\n",
    "trained_clf_b = utils.train_predict(clf_C, x_train, y_train, x_test, y_test)"
   ]
  },
  {
   "cell_type": "code",
   "execution_count": 37,
   "metadata": {
    "collapsed": false
   },
   "outputs": [
    {
     "data": {
      "image/png": "[encoded data removed]",
      "text/plain": [
       "<matplotlib.figure.Figure at 0x7fbad7e1b2d0>"
      ]
     },
     "metadata": {},
     "output_type": "display_data"
    }
   ],
   "source": [
    "predicts = trained_clf_a.predict(x_test)\n",
    "plots.plot_roc_curve(predicts, y_test)"
   ]
  },
  {
   "cell_type": "markdown",
   "metadata": {},
   "source": [
    "> We have very low values compared to the AUCs from the Competition on this simple test.\n",
    "\n",
    "We'll need to find better feature sets before messing with the classifiers"
   ]
  },
  {
   "cell_type": "markdown",
   "metadata": {},
   "source": [
    "## Features\n",
    "\n",
    "These features are based on the [Winners Features](https://www.kaggle.com/c/GiveMeSomeCredit/discussion/1166#7269).\n",
    "\n",
    "There are results around .8 > with these set of features, it's a good start.\n",
    "\n",
    "Compared to the dataset feature set (10 features), there are 80 features, a lot more to work on."
   ]
  },
  {
   "cell_type": "code",
   "execution_count": 38,
   "metadata": {
    "collapsed": false
   },
   "outputs": [
    {
     "data": {
      "text/html": [
       "<div>\n",
       "<style>\n",
       "    .dataframe thead tr:only-child th {\n",
       "        text-align: right;\n",
       "    }\n",
       "\n",
       "    .dataframe thead th {\n",
       "        text-align: left;\n",
       "    }\n",
       "\n",
       "    .dataframe tbody tr th {\n",
       "        vertical-align: top;\n",
       "    }\n",
       "</style>\n",
       "<table border=\"1\" class=\"dataframe\">\n",
       "  <thead>\n",
       "    <tr style=\"text-align: right;\">\n",
       "      <th></th>\n",
       "      <th>SeriousDlqin2yrs</th>\n",
       "      <th>UnknownNumberOfDependents</th>\n",
       "      <th>UnknownMonthlyIncome</th>\n",
       "      <th>NoDependents</th>\n",
       "      <th>NoIncome</th>\n",
       "      <th>ZeroDebtRatio</th>\n",
       "      <th>UnknownIncomeDebtRatio</th>\n",
       "      <th>WeirdRevolvingUtilization</th>\n",
       "      <th>ZeroRevolvingUtilization</th>\n",
       "      <th>LogDebt</th>\n",
       "      <th>...</th>\n",
       "      <th>LogDebtPer90DaysLate</th>\n",
       "      <th>LogUnknownIncomeDebtRatio</th>\n",
       "      <th>LogUnknownIncomeDebtRatioPerPerson</th>\n",
       "      <th>LogUnknownIncomeDebtRatioPerLine</th>\n",
       "      <th>LogUnknownIncomeDebtRatioPerRealEstateLine</th>\n",
       "      <th>LogUnknownIncomeDebtRatioPerDelinquency</th>\n",
       "      <th>LogUnknownIncomeDebtRatioPer90DaysLate</th>\n",
       "      <th>LogNumberRealEstateLoansOrLines</th>\n",
       "      <th>LowAge</th>\n",
       "      <th>Logage</th>\n",
       "    </tr>\n",
       "  </thead>\n",
       "  <tbody>\n",
       "    <tr>\n",
       "      <th>0</th>\n",
       "      <td>1</td>\n",
       "      <td>0</td>\n",
       "      <td>0</td>\n",
       "      <td>0</td>\n",
       "      <td>0</td>\n",
       "      <td>0</td>\n",
       "      <td>0</td>\n",
       "      <td>0.0</td>\n",
       "      <td>0</td>\n",
       "      <td>8.898802</td>\n",
       "      <td>...</td>\n",
       "      <td>8.898802</td>\n",
       "      <td>0.0</td>\n",
       "      <td>-1.098612</td>\n",
       "      <td>-2.639057</td>\n",
       "      <td>-1.945910</td>\n",
       "      <td>-1.098612</td>\n",
       "      <td>0.000000</td>\n",
       "      <td>1.791759</td>\n",
       "      <td>0</td>\n",
       "      <td>3.332205</td>\n",
       "    </tr>\n",
       "    <tr>\n",
       "      <th>1</th>\n",
       "      <td>0</td>\n",
       "      <td>0</td>\n",
       "      <td>0</td>\n",
       "      <td>0</td>\n",
       "      <td>0</td>\n",
       "      <td>0</td>\n",
       "      <td>0</td>\n",
       "      <td>0.0</td>\n",
       "      <td>0</td>\n",
       "      <td>5.758517</td>\n",
       "      <td>...</td>\n",
       "      <td>5.758517</td>\n",
       "      <td>0.0</td>\n",
       "      <td>-0.693147</td>\n",
       "      <td>-1.609438</td>\n",
       "      <td>0.000000</td>\n",
       "      <td>0.000000</td>\n",
       "      <td>0.000000</td>\n",
       "      <td>0.000000</td>\n",
       "      <td>0</td>\n",
       "      <td>3.135494</td>\n",
       "    </tr>\n",
       "    <tr>\n",
       "      <th>2</th>\n",
       "      <td>0</td>\n",
       "      <td>0</td>\n",
       "      <td>0</td>\n",
       "      <td>1</td>\n",
       "      <td>0</td>\n",
       "      <td>0</td>\n",
       "      <td>0</td>\n",
       "      <td>0.0</td>\n",
       "      <td>0</td>\n",
       "      <td>5.556499</td>\n",
       "      <td>...</td>\n",
       "      <td>4.863352</td>\n",
       "      <td>0.0</td>\n",
       "      <td>0.000000</td>\n",
       "      <td>-1.098612</td>\n",
       "      <td>0.000000</td>\n",
       "      <td>-1.098612</td>\n",
       "      <td>-0.693147</td>\n",
       "      <td>0.000000</td>\n",
       "      <td>0</td>\n",
       "      <td>3.044522</td>\n",
       "    </tr>\n",
       "    <tr>\n",
       "      <th>3</th>\n",
       "      <td>0</td>\n",
       "      <td>0</td>\n",
       "      <td>0</td>\n",
       "      <td>1</td>\n",
       "      <td>0</td>\n",
       "      <td>0</td>\n",
       "      <td>0</td>\n",
       "      <td>0.0</td>\n",
       "      <td>0</td>\n",
       "      <td>4.778821</td>\n",
       "      <td>...</td>\n",
       "      <td>4.778821</td>\n",
       "      <td>0.0</td>\n",
       "      <td>0.000000</td>\n",
       "      <td>-1.791759</td>\n",
       "      <td>0.000000</td>\n",
       "      <td>0.000000</td>\n",
       "      <td>0.000000</td>\n",
       "      <td>0.000000</td>\n",
       "      <td>0</td>\n",
       "      <td>2.564949</td>\n",
       "    </tr>\n",
       "    <tr>\n",
       "      <th>4</th>\n",
       "      <td>0</td>\n",
       "      <td>0</td>\n",
       "      <td>0</td>\n",
       "      <td>1</td>\n",
       "      <td>0</td>\n",
       "      <td>0</td>\n",
       "      <td>0</td>\n",
       "      <td>0.0</td>\n",
       "      <td>0</td>\n",
       "      <td>7.368324</td>\n",
       "      <td>...</td>\n",
       "      <td>7.368324</td>\n",
       "      <td>0.0</td>\n",
       "      <td>0.000000</td>\n",
       "      <td>-2.079442</td>\n",
       "      <td>-0.693147</td>\n",
       "      <td>-0.693147</td>\n",
       "      <td>0.000000</td>\n",
       "      <td>0.000000</td>\n",
       "      <td>0</td>\n",
       "      <td>3.465736</td>\n",
       "    </tr>\n",
       "  </tbody>\n",
       "</table>\n",
       "<p>5 rows × 81 columns</p>\n",
       "</div>"
      ],
      "text/plain": [
       "   SeriousDlqin2yrs  UnknownNumberOfDependents  UnknownMonthlyIncome  \\\n",
       "0                 1                          0                     0   \n",
       "1                 0                          0                     0   \n",
       "2                 0                          0                     0   \n",
       "3                 0                          0                     0   \n",
       "4                 0                          0                     0   \n",
       "\n",
       "   NoDependents  NoIncome  ZeroDebtRatio  UnknownIncomeDebtRatio  \\\n",
       "0             0         0              0                       0   \n",
       "1             0         0              0                       0   \n",
       "2             1         0              0                       0   \n",
       "3             1         0              0                       0   \n",
       "4             1         0              0                       0   \n",
       "\n",
       "   WeirdRevolvingUtilization  ZeroRevolvingUtilization   LogDebt    ...     \\\n",
       "0                        0.0                         0  8.898802    ...      \n",
       "1                        0.0                         0  5.758517    ...      \n",
       "2                        0.0                         0  5.556499    ...      \n",
       "3                        0.0                         0  4.778821    ...      \n",
       "4                        0.0                         0  7.368324    ...      \n",
       "\n",
       "   LogDebtPer90DaysLate  LogUnknownIncomeDebtRatio  \\\n",
       "0              8.898802                        0.0   \n",
       "1              5.758517                        0.0   \n",
       "2              4.863352                        0.0   \n",
       "3              4.778821                        0.0   \n",
       "4              7.368324                        0.0   \n",
       "\n",
       "   LogUnknownIncomeDebtRatioPerPerson  LogUnknownIncomeDebtRatioPerLine  \\\n",
       "0                           -1.098612                         -2.639057   \n",
       "1                           -0.693147                         -1.609438   \n",
       "2                            0.000000                         -1.098612   \n",
       "3                            0.000000                         -1.791759   \n",
       "4                            0.000000                         -2.079442   \n",
       "\n",
       "   LogUnknownIncomeDebtRatioPerRealEstateLine  \\\n",
       "0                                   -1.945910   \n",
       "1                                    0.000000   \n",
       "2                                    0.000000   \n",
       "3                                    0.000000   \n",
       "4                                   -0.693147   \n",
       "\n",
       "   LogUnknownIncomeDebtRatioPerDelinquency  \\\n",
       "0                                -1.098612   \n",
       "1                                 0.000000   \n",
       "2                                -1.098612   \n",
       "3                                 0.000000   \n",
       "4                                -0.693147   \n",
       "\n",
       "   LogUnknownIncomeDebtRatioPer90DaysLate  LogNumberRealEstateLoansOrLines  \\\n",
       "0                                0.000000                         1.791759   \n",
       "1                                0.000000                         0.000000   \n",
       "2                               -0.693147                         0.000000   \n",
       "3                                0.000000                         0.000000   \n",
       "4                                0.000000                         0.000000   \n",
       "\n",
       "   LowAge    Logage  \n",
       "0       0  3.332205  \n",
       "1       0  3.135494  \n",
       "2       0  3.044522  \n",
       "3       0  2.564949  \n",
       "4       0  3.465736  \n",
       "\n",
       "[5 rows x 81 columns]"
      ]
     },
     "execution_count": 38,
     "metadata": {},
     "output_type": "execute_result"
    }
   ],
   "source": [
    "features_set = utils.load_features_set()\n",
    "features_set.head()"
   ]
  },
  {
   "cell_type": "code",
   "execution_count": 39,
   "metadata": {
    "collapsed": false,
    "deletable": true,
    "editable": true
   },
   "outputs": [],
   "source": [
    "y = features_set['SeriousDlqin2yrs'].as_matrix()\n",
    "x = features_set.drop(['SeriousDlqin2yrs'], axis=1).as_matrix()"
   ]
  },
  {
   "cell_type": "code",
   "execution_count": 40,
   "metadata": {
    "collapsed": false,
    "deletable": true,
    "editable": true
   },
   "outputs": [
    {
     "name": "stdout",
     "output_type": "stream",
     "text": [
      "Dataset splitted from: \n",
      "\tx=(150000, 80), y=(150000,)\n",
      "To: \n",
      "Train Set\n",
      "\tx=(100500, 80), y=(100500,)\n",
      "Test Set\n",
      "\tx=(49500, 80), y=(49500,)\n"
     ]
    }
   ],
   "source": [
    "x_train, x_test, y_train, y_test = utils.split_dataset(x, y)"
   ]
  },
  {
   "cell_type": "code",
   "execution_count": 41,
   "metadata": {
    "collapsed": false,
    "deletable": true,
    "editable": true
   },
   "outputs": [
    {
     "name": "stdout",
     "output_type": "stream",
     "text": [
      "First\n",
      "Training a GaussianNB using a training set size of 100500. . .\n",
      "Trained model in 0.1484 seconds\n",
      "Made predictions in 0.1507 seconds.\n",
      "Made predictions in 0.0344 seconds.\n",
      "F1 score for training set: 0.4086, and AUC 0.6997\n",
      "F1 score for test set: 0.4113 and AUC 0.7013.\n",
      "Second\n",
      "Training a LogisticRegression using a training set size of 100500. . .\n",
      "Trained model in 6.8313 seconds\n",
      "Made predictions in 0.0068 seconds.\n",
      "Made predictions in 0.0038 seconds.\n",
      "F1 score for training set: 0.2175, and AUC 0.5635\n",
      "F1 score for test set: 0.2372 and AUC 0.5705.\n"
     ]
    }
   ],
   "source": [
    "from sklearn.naive_bayes import GaussianNB\n",
    "from sklearn.linear_model import LogisticRegression\n",
    "\n",
    "# TODO: Initialize the three models\n",
    "clf_A = GaussianNB()\n",
    "clf_C = LogisticRegression()\n",
    "\n",
    "print(\"First\")\n",
    "trained_clf_a = utils.train_predict(clf_A, x_train, y_train, x_test, y_test)\n",
    "\n",
    "print(\"Second\")\n",
    "trained_clf_b = utils.train_predict(clf_C, x_train, y_train, x_test, y_test)"
   ]
  },
  {
   "cell_type": "markdown",
   "metadata": {},
   "source": [
    "> Seems like a good start, yet there were results with .8 AUC in the Test Set on the Competition."
   ]
  },
  {
   "cell_type": "code",
   "execution_count": 42,
   "metadata": {
    "collapsed": false
   },
   "outputs": [
    {
     "data": {
      "image/png": "[encoded data removed]",
      "text/plain": [
       "<matplotlib.figure.Figure at 0x7fbad801a5d0>"
      ]
     },
     "metadata": {},
     "output_type": "display_data"
    }
   ],
   "source": [
    "predicts = trained_clf_a.predict(x_test)\n",
    "plots.plot_roc_curve(predicts, y_test)"
   ]
  },
  {
   "cell_type": "markdown",
   "metadata": {},
   "source": [
    "## Algorithm Selection and Validation Selection\n",
    "\n",
    "According to the Survey on the Competition Forum the Algorithms used were:\n",
    "\n",
    "* [XGBooost](https://www.kaggle.com/c/GiveMeSomeCredit/discussion/31514)\n",
    "* [AdaBoost, GradBoost, KNN, Logistic, and RandomForest](https://www.kaggle.com/c/GiveMeSomeCredit/discussion/23179)\n",
    "\n",
    "As for I'm a Neural Network Fanboy I would like to try using a 1d RNN\n",
    "\n",
    "The validation would be a simple Strat-K-FoldCV"
   ]
  },
  {
   "cell_type": "code",
   "execution_count": null,
   "metadata": {
    "collapsed": true
   },
   "outputs": [],
   "source": []
  }
 ],
 "metadata": {
  "kernelspec": {
   "display_name": "Python [conda env:udacity-ml]",
   "language": "python",
   "name": "conda-env-udacity-ml-py"
  },
  "language_info": {
   "codemirror_mode": {
    "name": "ipython",
    "version": 2
   },
   "file_extension": ".py",
   "mimetype": "text/x-python",
   "name": "python",
   "nbconvert_exporter": "python",
   "pygments_lexer": "ipython2",
   "version": "2.7.13"
  }
 },
 "nbformat": 4,
 "nbformat_minor": 2
}
